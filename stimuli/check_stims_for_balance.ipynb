{
 "cells": [
  {
   "cell_type": "markdown",
   "id": "proprietary-recruitment",
   "metadata": {},
   "source": [
    "# Checking stimuli for balance\n",
    "This notebook helps to ensure that the generated stimuli are roughly balanced between positive and negative trials."
   ]
  },
  {
   "cell_type": "code",
   "execution_count": null,
   "id": "funded-enemy",
   "metadata": {},
   "outputs": [],
   "source": [
    "import os\n",
    "import numpy as np\n",
    "from PIL import Image\n",
    "import pandas as pd\n",
    "import json\n",
    "import pymongo as pm\n",
    "from glob import glob\n",
    "from IPython.display import clear_output\n",
    "import ast\n",
    "import itertools\n",
    "import random\n",
    "import h5py\n",
    "from tqdm import tqdm"
   ]
  },
  {
   "cell_type": "code",
   "execution_count": null,
   "id": "respiratory-equation",
   "metadata": {},
   "outputs": [],
   "source": [
    "import matplotlib.pyplot as plt"
   ]
  },
  {
   "cell_type": "code",
   "execution_count": null,
   "id": "colored-advancement",
   "metadata": {},
   "outputs": [],
   "source": [
    "#display all columns\n",
    "pd.set_option('display.max_columns', None)"
   ]
  },
  {
   "cell_type": "code",
   "execution_count": null,
   "id": "fabulous-national",
   "metadata": {},
   "outputs": [],
   "source": [
    "def list_files(paths, ext='mp4'):\n",
    "    \"\"\"Pass list of folders if there are stimuli in multiple folders. \n",
    "    Make sure that the containing folder is informative, as the rest of the path is ignored in naming. \n",
    "    Also returns filenames as uploaded to S3\"\"\"\n",
    "    if type(paths) is not list:\n",
    "        paths = [paths]\n",
    "    results = []\n",
    "    names = []\n",
    "    for path in paths:\n",
    "        results += [y for x in os.walk(path) for y in glob(os.path.join(x[0], '*.%s' % ext))]\n",
    "        names += [os.path.basename(os.path.dirname(y))+'_'+os.path.split(y)[1].split('.')[0] for x in os.walk(path) for y in glob(os.path.join(x[0], '*.%s' % ext))]\n",
    "#     hdf5s = [r.split(\"_img.\")[0]+\".hdf5\" for r in results]\n",
    "    hdf5s = [r.split(\"_img.\")[0] for r in results]\n",
    "    return results,names,hdf5s"
   ]
  },
  {
   "cell_type": "code",
   "execution_count": null,
   "id": "actual-witness",
   "metadata": {},
   "outputs": [],
   "source": [
    "local_stem = 'XXX' #CHANGE THIS ⚡️\n",
    "dirnames = [d.split('/')[-1] for d in glob(local_stem+'/*')]\n",
    "data_dirs = [local_stem + d for d in dirnames]\n",
    "\n",
    "stimulus_extension = \"hdf5\" #what's the file extension for the stims? Provide without dot\n",
    "\n",
    "## get a list of paths to each one\n",
    "full_stim_paths,filenames, full_hdf5_paths = list_files(data_dirs,stimulus_extension)\n",
    "full_map_paths, mapnames, _ = list_files(data_dirs, ext = 'png') #generate filenames and stimpaths for target/zone map\n",
    "print('We have {} stimuli to evaluate.'.format(len(full_stim_paths)))"
   ]
  },
  {
   "cell_type": "code",
   "execution_count": null,
   "id": "short-proof",
   "metadata": {},
   "outputs": [],
   "source": [
    "stim_IDs = [name.split('.')[0] for name in filenames]\n",
    "set_names= ['_'.join(s.split('_')[:-2]) for s in stim_IDs]"
   ]
  },
  {
   "cell_type": "code",
   "execution_count": null,
   "id": "aging-masters",
   "metadata": {},
   "outputs": [],
   "source": [
    "## convert to pandas dataframe\n",
    "M = pd.DataFrame([stim_IDs,set_names]).transpose()\n",
    "M.columns = ['stim_ID','set_name']"
   ]
  },
  {
   "cell_type": "code",
   "execution_count": null,
   "id": "recorded-grounds",
   "metadata": {},
   "outputs": [],
   "source": [
    "# if needed, add code to add additional columns\n",
    "# Add trial labels to the metadata using the stimulus metadata.json\n",
    "target_hit_zone_labels = dict()\n",
    "for _dir in data_dirs:\n",
    "    with open(_dir + '/metadata.json', 'rb') as f:\n",
    "        trial_metas = json.load(f)\n",
    "        \n",
    "    for i,meta in enumerate(trial_metas):\n",
    "        stim_name = meta['stimulus_name']\n",
    "        if stim_name == 'None': #recreate stimname from order in metadata\n",
    "            stim_name = str(i).zfill(4)\n",
    "            stim_name = _dir.split('/')[-1] + '_' + stim_name\n",
    "#         if stim_name[-4:] != \"_img\": stim_name+='_img' #stimnames need to end in \"_img\"\n",
    "        label = meta['does_target_contact_zone']\n",
    "        target_hit_zone_labels[stim_name] = label\n",
    "        \n",
    "print(\"num positive labels: %d\" % sum(list(target_hit_zone_labels.values())))\n",
    "print(\"num negative labels: %d\" % (len(target_hit_zone_labels) - sum(list(target_hit_zone_labels.values()))))\n",
    "print(\"ratio\",sum(list(target_hit_zone_labels.values())) / (len(target_hit_zone_labels) - sum(list(target_hit_zone_labels.values()))))"
   ]
  },
  {
   "cell_type": "code",
   "execution_count": null,
   "id": "geographic-brighton",
   "metadata": {},
   "outputs": [],
   "source": [
    "# make new df with all metadata\n",
    "GT = pd.DataFrame([list(target_hit_zone_labels.keys()), list(target_hit_zone_labels.values())]).transpose()\n",
    "GT.columns = ['stim_ID', 'target_hit_zone_label']"
   ]
  },
  {
   "cell_type": "code",
   "execution_count": null,
   "id": "editorial-alcohol",
   "metadata": {},
   "outputs": [],
   "source": [
    "# merge with M\n",
    "M = M.merge(GT, on='stim_ID')\n",
    "print(\"added labels %s\" % list(GT.columns[1:]))"
   ]
  },
  {
   "cell_type": "code",
   "execution_count": null,
   "id": "missing-chain",
   "metadata": {},
   "outputs": [],
   "source": [
    "metadata = {} #holds all the metadata for all stimuli\n",
    "\n",
    "for name,hdf5_path in tqdm(list(zip([f.split('.')[0] for f in filenames],full_hdf5_paths))):\n",
    "    #load hdf5\n",
    "#     print(\"loading\",hdf5_path)\n",
    "    try:\n",
    "        hdf5 = h5py.File(hdf5_path,'r') #get the static part of the HDF5\n",
    "        stim_name = str(np.array(hdf5['static']['stimulus_name']))\n",
    "        metadatum = {} #metadata for the current stimulus\n",
    "        for key in hdf5['static'].keys():\n",
    "            datum = np.array(hdf5['static'][key])\n",
    "            if datum.shape == (): datum = datum.item() #unwrap non-arrays\n",
    "            metadatum[key] = datum\n",
    "        #close file\n",
    "        hdf5.close()\n",
    "        metadata[name] = metadatum\n",
    "    except Exception as e:\n",
    "        print(\"Error with\",hdf5_path,\":\",e)\n",
    "        continue"
   ]
  },
  {
   "cell_type": "markdown",
   "id": "successful-malta",
   "metadata": {},
   "source": [
    "Insert those metadatas into M:"
   ]
  },
  {
   "cell_type": "code",
   "execution_count": null,
   "id": "sixth-religious",
   "metadata": {},
   "outputs": [],
   "source": [
    "for index in M.index:\n",
    "    stim_name = M.at[index,'stim_ID']\n",
    "    for key,value in metadata[stim_name].items():\n",
    "        M.at[index,key] = str(value) #insert every item as string"
   ]
  },
  {
   "cell_type": "code",
   "execution_count": null,
   "id": "athletic-desert",
   "metadata": {},
   "outputs": [],
   "source": [
    "M"
   ]
  },
  {
   "cell_type": "code",
   "execution_count": null,
   "id": "killing-briefs",
   "metadata": {},
   "outputs": [],
   "source": [
    "M['label'] = M['target_hit_zone_label'].astype(int)"
   ]
  },
  {
   "cell_type": "markdown",
   "id": "animated-warrant",
   "metadata": {},
   "source": [
    "## Analysis"
   ]
  },
  {
   "cell_type": "markdown",
   "id": "wrong-butler",
   "metadata": {},
   "source": [
    "How many stimuli?"
   ]
  },
  {
   "cell_type": "code",
   "execution_count": null,
   "id": "invisible-clause",
   "metadata": {},
   "outputs": [],
   "source": [
    "len(M)"
   ]
  },
  {
   "cell_type": "markdown",
   "id": "decent-boutique",
   "metadata": {},
   "source": [
    "How many of trials are positive (1) rather than negative (0)?"
   ]
  },
  {
   "cell_type": "code",
   "execution_count": null,
   "id": "simplified-feeling",
   "metadata": {},
   "outputs": [],
   "source": [
    "np.mean(M['label'])"
   ]
  },
  {
   "cell_type": "markdown",
   "id": "illegal-waste",
   "metadata": {},
   "source": [
    "How many of trials *per set name* are positive (1) rather than negative (0)?"
   ]
  },
  {
   "cell_type": "code",
   "execution_count": null,
   "id": "tested-richmond",
   "metadata": {},
   "outputs": [],
   "source": [
    "M.groupby('set_name').agg({'stim_ID':['count'],'label':['mean']})"
   ]
  },
  {
   "cell_type": "code",
   "execution_count": null,
   "id": "expired-james",
   "metadata": {},
   "outputs": [],
   "source": []
  }
 ],
 "metadata": {
  "kernelspec": {
   "display_name": "Python [conda env:tdw]",
   "language": "python",
   "name": "conda-env-tdw-py"
  },
  "language_info": {
   "codemirror_mode": {
    "name": "ipython",
    "version": 3
   },
   "file_extension": ".py",
   "mimetype": "text/x-python",
   "name": "python",
   "nbconvert_exporter": "python",
   "pygments_lexer": "ipython3",
   "version": "3.9.2"
  }
 },
 "nbformat": 4,
 "nbformat_minor": 5
}
