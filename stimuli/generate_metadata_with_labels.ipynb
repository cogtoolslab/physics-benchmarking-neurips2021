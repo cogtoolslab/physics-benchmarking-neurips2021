{
 "cells": [
  {
   "cell_type": "markdown",
   "metadata": {},
   "source": [
    "# Generating metadata\n",
    "\n",
    "### What this notebook does\n",
    "**Step 1:** Create metadata file, containing a bunch of JSON-formatted trial metadata objects\n",
    "\n",
    "**Step 2:**  Insert each trial as a record into a mongo database\n",
    "\n",
    "This assumes that the stimuli have been uploaded to the S3 bucket using `upload_stims_to_s3.ipynb`."
   ]
  },
  {
   "cell_type": "code",
   "execution_count": 171,
   "metadata": {},
   "outputs": [],
   "source": [
    "import os\n",
    "import numpy as np\n",
    "from PIL import Image\n",
    "import pandas as pd\n",
    "import json\n",
    "import pymongo as pm\n",
    "from glob import glob\n",
    "from IPython.display import clear_output\n",
    "import ast\n",
    "import itertools\n",
    "import random"
   ]
  },
  {
   "cell_type": "code",
   "execution_count": 172,
   "metadata": {},
   "outputs": [],
   "source": [
    "def list_files(paths, ext='mp4'):\n",
    "    \"\"\"Pass list of folders if there are stimuli in multiple folders. \n",
    "    Make sure that the containing folder is informative, as the rest of the path is ignored in naming. \n",
    "    Also returns filenames as uploaded to S3\"\"\"\n",
    "    if type(paths) is not list:\n",
    "        paths = [paths]\n",
    "    results = []\n",
    "    names = []\n",
    "    for path in sorted(paths):\n",
    "        results += [y for x in os.walk(path) for y in sorted(glob(os.path.join(x[0], '*.%s' % ext)))]\n",
    "        names += [os.path.basename(os.path.dirname(y))+'_'+os.path.split(y)[1] for x in os.walk(path)\\\n",
    "                  for y in sorted(glob(os.path.join(x[0], '*.%s' % ext)))]\n",
    "    return results,names"
   ]
  },
  {
   "cell_type": "code",
   "execution_count": 181,
   "metadata": {},
   "outputs": [
    {
     "name": "stdout",
     "output_type": "stream",
     "text": [
      "We have 0 stimuli to evaluate.\n"
     ]
    }
   ],
   "source": [
    "## where are your stimulus images stored?\n",
    "# data_dirs = ['./example'] #Where on disk are the stimuli stored?\n",
    "# bucket_name = 'human-physics-benchmarking-pilot'\n",
    "data_dirs = [\n",
    "#     '/Users/dbear/neuroailab/physics_benchmarking/stimuli/pilot_dominoes_SJ025_boxroom/',\n",
    "#     '/Users/dbear/neuroailab/physics_benchmarking/stimuli/pilot_dominoes_SJ025_tdwroom/'\n",
    "]\n",
    "bucket_name = 'human-physics-benchmarking-dominoes-pilot'\n",
    "stim_version = 'example'\n",
    "dataset_name = '{}_{}'.format(bucket_name, stim_version)\n",
    "stimulus_extension = \"mp4\" #what's the file extension for the stims? Provide without dot\n",
    "\n",
    "## get a list of paths to each one\n",
    "full_stim_paths,filenames = list_files(data_dirs,stimulus_extension)\n",
    "print('We have {} stimuli to evaluate.'.format(len(full_stim_paths)))"
   ]
  },
  {
   "cell_type": "code",
   "execution_count": 174,
   "metadata": {},
   "outputs": [],
   "source": [
    "# filenames"
   ]
  },
  {
   "cell_type": "code",
   "execution_count": 175,
   "metadata": {},
   "outputs": [],
   "source": [
    "## helper to build stim urls\n",
    "def build_s3_url(filename, bucket_name):    \n",
    "    return 'https://{}.s3.amazonaws.com/{}'.format(bucket_name, filename)"
   ]
  },
  {
   "cell_type": "code",
   "execution_count": 176,
   "metadata": {},
   "outputs": [],
   "source": [
    "## basic metadata lists\n",
    "stim_urls = [build_s3_url(p,bucket_name) for p in filenames]\n",
    "stim_IDs = [name.split('.')[0] for name in filenames]"
   ]
  },
  {
   "cell_type": "code",
   "execution_count": 177,
   "metadata": {},
   "outputs": [],
   "source": [
    "## convert to pandas dataframe\n",
    "M = pd.DataFrame([stim_IDs,stim_urls]).transpose()\n",
    "M.columns = ['stim_ID', 'stim_url']"
   ]
  },
  {
   "cell_type": "code",
   "execution_count": 178,
   "metadata": {},
   "outputs": [
    {
     "data": {
      "text/html": [
       "<div>\n",
       "<style scoped>\n",
       "    .dataframe tbody tr th:only-of-type {\n",
       "        vertical-align: middle;\n",
       "    }\n",
       "\n",
       "    .dataframe tbody tr th {\n",
       "        vertical-align: top;\n",
       "    }\n",
       "\n",
       "    .dataframe thead th {\n",
       "        text-align: right;\n",
       "    }\n",
       "</style>\n",
       "<table border=\"1\" class=\"dataframe\">\n",
       "  <thead>\n",
       "    <tr style=\"text-align: right;\">\n",
       "      <th></th>\n",
       "      <th>stim_ID</th>\n",
       "      <th>stim_url</th>\n",
       "    </tr>\n",
       "  </thead>\n",
       "  <tbody>\n",
       "    <tr>\n",
       "      <th>0</th>\n",
       "      <td>pilot_dominoes_SJ025_boxroom_0000_img</td>\n",
       "      <td>https://human-physics-benchmarking-dominoes-pi...</td>\n",
       "    </tr>\n",
       "    <tr>\n",
       "      <th>1</th>\n",
       "      <td>pilot_dominoes_SJ025_boxroom_0001_img</td>\n",
       "      <td>https://human-physics-benchmarking-dominoes-pi...</td>\n",
       "    </tr>\n",
       "    <tr>\n",
       "      <th>2</th>\n",
       "      <td>pilot_dominoes_SJ025_boxroom_0002_img</td>\n",
       "      <td>https://human-physics-benchmarking-dominoes-pi...</td>\n",
       "    </tr>\n",
       "    <tr>\n",
       "      <th>3</th>\n",
       "      <td>pilot_dominoes_SJ025_boxroom_0003_img</td>\n",
       "      <td>https://human-physics-benchmarking-dominoes-pi...</td>\n",
       "    </tr>\n",
       "    <tr>\n",
       "      <th>4</th>\n",
       "      <td>pilot_dominoes_SJ025_boxroom_0004_img</td>\n",
       "      <td>https://human-physics-benchmarking-dominoes-pi...</td>\n",
       "    </tr>\n",
       "  </tbody>\n",
       "</table>\n",
       "</div>"
      ],
      "text/plain": [
       "                                 stim_ID  \\\n",
       "0  pilot_dominoes_SJ025_boxroom_0000_img   \n",
       "1  pilot_dominoes_SJ025_boxroom_0001_img   \n",
       "2  pilot_dominoes_SJ025_boxroom_0002_img   \n",
       "3  pilot_dominoes_SJ025_boxroom_0003_img   \n",
       "4  pilot_dominoes_SJ025_boxroom_0004_img   \n",
       "\n",
       "                                            stim_url  \n",
       "0  https://human-physics-benchmarking-dominoes-pi...  \n",
       "1  https://human-physics-benchmarking-dominoes-pi...  \n",
       "2  https://human-physics-benchmarking-dominoes-pi...  \n",
       "3  https://human-physics-benchmarking-dominoes-pi...  \n",
       "4  https://human-physics-benchmarking-dominoes-pi...  "
      ]
     },
     "execution_count": 178,
     "metadata": {},
     "output_type": "execute_result"
    }
   ],
   "source": [
    "M[0:5]"
   ]
  },
  {
   "cell_type": "code",
   "execution_count": 179,
   "metadata": {},
   "outputs": [
    {
     "name": "stdout",
     "output_type": "stream",
     "text": [
      "num positive labels: 20\n",
      "num negative labels: 20\n",
      "added labels Index(['target_hit_zone_label'], dtype='object')\n"
     ]
    }
   ],
   "source": [
    "# Add trial labels to the metadata using the stimulus metadata.json\n",
    "\n",
    "target_hit_zone_labels = dict()\n",
    "for _dir in data_dirs:\n",
    "    with open(_dir + '/metadata.json', 'rb') as f:\n",
    "        trial_metas = json.load(f)\n",
    "        \n",
    "    for i,meta in enumerate(trial_metas):\n",
    "        stim_name = meta['stimulus_name']\n",
    "        if stim_name[:2] == \"b\\'\":\n",
    "            stim_name = stim_name[2:-1]\n",
    "        if '/' in stim_name:\n",
    "            stim_name = '_'.join(stim_name.split('/'))\n",
    "        stim_name = '_'.join([stim_name, 'img'])\n",
    "        label = meta['does_target_contact_zone']\n",
    "        target_hit_zone_labels[stim_name] = label\n",
    "        \n",
    "print(\"num positive labels: %d\" % sum(list(target_hit_zone_labels.values())))\n",
    "print(\"num negative labels: %d\" % (len(target_hit_zone_labels) - sum(list(target_hit_zone_labels.values()))))\n",
    "\n",
    "GT = pd.DataFrame([list(target_hit_zone_labels.keys()), list(target_hit_zone_labels.values())]).transpose()\n",
    "GT.columns = ['stim_ID', 'target_hit_zone_label']\n",
    "if all([col not in M.columns for col in GT.columns[1:]]):\n",
    "    M = M.merge(GT, on='stim_ID')\n",
    "    print(\"added labels %s\" % list(GT.columns[1:]))"
   ]
  },
  {
   "cell_type": "code",
   "execution_count": 180,
   "metadata": {},
   "outputs": [
    {
     "data": {
      "text/html": [
       "<div>\n",
       "<style scoped>\n",
       "    .dataframe tbody tr th:only-of-type {\n",
       "        vertical-align: middle;\n",
       "    }\n",
       "\n",
       "    .dataframe tbody tr th {\n",
       "        vertical-align: top;\n",
       "    }\n",
       "\n",
       "    .dataframe thead th {\n",
       "        text-align: right;\n",
       "    }\n",
       "</style>\n",
       "<table border=\"1\" class=\"dataframe\">\n",
       "  <thead>\n",
       "    <tr style=\"text-align: right;\">\n",
       "      <th></th>\n",
       "      <th>stim_ID</th>\n",
       "      <th>stim_url</th>\n",
       "      <th>target_hit_zone_label</th>\n",
       "    </tr>\n",
       "  </thead>\n",
       "  <tbody>\n",
       "    <tr>\n",
       "      <th>0</th>\n",
       "      <td>pilot_dominoes_SJ025_boxroom_0000_img</td>\n",
       "      <td>https://human-physics-benchmarking-dominoes-pi...</td>\n",
       "      <td>True</td>\n",
       "    </tr>\n",
       "    <tr>\n",
       "      <th>1</th>\n",
       "      <td>pilot_dominoes_SJ025_boxroom_0001_img</td>\n",
       "      <td>https://human-physics-benchmarking-dominoes-pi...</td>\n",
       "      <td>True</td>\n",
       "    </tr>\n",
       "    <tr>\n",
       "      <th>2</th>\n",
       "      <td>pilot_dominoes_SJ025_boxroom_0002_img</td>\n",
       "      <td>https://human-physics-benchmarking-dominoes-pi...</td>\n",
       "      <td>True</td>\n",
       "    </tr>\n",
       "    <tr>\n",
       "      <th>3</th>\n",
       "      <td>pilot_dominoes_SJ025_boxroom_0003_img</td>\n",
       "      <td>https://human-physics-benchmarking-dominoes-pi...</td>\n",
       "      <td>True</td>\n",
       "    </tr>\n",
       "    <tr>\n",
       "      <th>4</th>\n",
       "      <td>pilot_dominoes_SJ025_boxroom_0004_img</td>\n",
       "      <td>https://human-physics-benchmarking-dominoes-pi...</td>\n",
       "      <td>True</td>\n",
       "    </tr>\n",
       "    <tr>\n",
       "      <th>5</th>\n",
       "      <td>pilot_dominoes_SJ025_boxroom_0005_img</td>\n",
       "      <td>https://human-physics-benchmarking-dominoes-pi...</td>\n",
       "      <td>False</td>\n",
       "    </tr>\n",
       "    <tr>\n",
       "      <th>6</th>\n",
       "      <td>pilot_dominoes_SJ025_boxroom_0006_img</td>\n",
       "      <td>https://human-physics-benchmarking-dominoes-pi...</td>\n",
       "      <td>True</td>\n",
       "    </tr>\n",
       "    <tr>\n",
       "      <th>7</th>\n",
       "      <td>pilot_dominoes_SJ025_boxroom_0007_img</td>\n",
       "      <td>https://human-physics-benchmarking-dominoes-pi...</td>\n",
       "      <td>False</td>\n",
       "    </tr>\n",
       "    <tr>\n",
       "      <th>8</th>\n",
       "      <td>pilot_dominoes_SJ025_boxroom_0008_img</td>\n",
       "      <td>https://human-physics-benchmarking-dominoes-pi...</td>\n",
       "      <td>False</td>\n",
       "    </tr>\n",
       "    <tr>\n",
       "      <th>9</th>\n",
       "      <td>pilot_dominoes_SJ025_boxroom_0009_img</td>\n",
       "      <td>https://human-physics-benchmarking-dominoes-pi...</td>\n",
       "      <td>False</td>\n",
       "    </tr>\n",
       "  </tbody>\n",
       "</table>\n",
       "</div>"
      ],
      "text/plain": [
       "                                 stim_ID  \\\n",
       "0  pilot_dominoes_SJ025_boxroom_0000_img   \n",
       "1  pilot_dominoes_SJ025_boxroom_0001_img   \n",
       "2  pilot_dominoes_SJ025_boxroom_0002_img   \n",
       "3  pilot_dominoes_SJ025_boxroom_0003_img   \n",
       "4  pilot_dominoes_SJ025_boxroom_0004_img   \n",
       "5  pilot_dominoes_SJ025_boxroom_0005_img   \n",
       "6  pilot_dominoes_SJ025_boxroom_0006_img   \n",
       "7  pilot_dominoes_SJ025_boxroom_0007_img   \n",
       "8  pilot_dominoes_SJ025_boxroom_0008_img   \n",
       "9  pilot_dominoes_SJ025_boxroom_0009_img   \n",
       "\n",
       "                                            stim_url target_hit_zone_label  \n",
       "0  https://human-physics-benchmarking-dominoes-pi...                  True  \n",
       "1  https://human-physics-benchmarking-dominoes-pi...                  True  \n",
       "2  https://human-physics-benchmarking-dominoes-pi...                  True  \n",
       "3  https://human-physics-benchmarking-dominoes-pi...                  True  \n",
       "4  https://human-physics-benchmarking-dominoes-pi...                  True  \n",
       "5  https://human-physics-benchmarking-dominoes-pi...                 False  \n",
       "6  https://human-physics-benchmarking-dominoes-pi...                  True  \n",
       "7  https://human-physics-benchmarking-dominoes-pi...                 False  \n",
       "8  https://human-physics-benchmarking-dominoes-pi...                 False  \n",
       "9  https://human-physics-benchmarking-dominoes-pi...                 False  "
      ]
     },
     "execution_count": 180,
     "metadata": {},
     "output_type": "execute_result"
    }
   ],
   "source": [
    "M[0:10]"
   ]
  },
  {
   "cell_type": "markdown",
   "metadata": {},
   "source": [
    "Ok, so we now have a list of all the stimuli to evaluate. Let's create random orders of them and submit them to the database. Set the number of stimuli shown to one participant and the number of different orders to generate (`num_of_permutations`). Each of these sets can be shown to a participant, with the least often shown set being shown (so we can get away with fewer sets than subjects). "
   ]
  },
  {
   "cell_type": "code",
   "execution_count": 154,
   "metadata": {},
   "outputs": [],
   "source": [
    "stims_per_run = len(M) #len(M) to show all stimuli\n",
    "num_of_sets = 10"
   ]
  },
  {
   "cell_type": "code",
   "execution_count": 155,
   "metadata": {},
   "outputs": [],
   "source": [
    "#generate list of stimuli as dicts\n",
    "L = M.to_dict(orient='records')"
   ]
  },
  {
   "cell_type": "code",
   "execution_count": 131,
   "metadata": {},
   "outputs": [],
   "source": [
    "#generate list of lists of shuffled, sampled w/o replacement stimuli\n",
    "stim_sets = []\n",
    "for i in range(num_of_sets):\n",
    "    stim_set = random.sample(L, stims_per_run)\n",
    "    stim_sets += [{str(num):stim for num,stim in enumerate(stim_set)}]"
   ]
  },
  {
   "cell_type": "code",
   "execution_count": 132,
   "metadata": {},
   "outputs": [
    {
     "data": {
      "text/plain": [
       "10"
      ]
     },
     "execution_count": 132,
     "metadata": {},
     "output_type": "execute_result"
    }
   ],
   "source": [
    "len(stim_sets)"
   ]
  },
  {
   "cell_type": "code",
   "execution_count": 108,
   "metadata": {},
   "outputs": [],
   "source": [
    "# stim_sets"
   ]
  },
  {
   "cell_type": "markdown",
   "metadata": {},
   "source": [
    "Now we have a list of sequences of stimuli."
   ]
  },
  {
   "cell_type": "markdown",
   "metadata": {},
   "source": [
    "Set up ssh bridge to write to mongodb. Insert your username. If you don't have an SSH secret set yet, run `ssh -fNL 27017:127.0.0.1:27017 USERNAME@cogtoolslab.org` in your shell."
   ]
  },
  {
   "cell_type": "code",
   "execution_count": 110,
   "metadata": {},
   "outputs": [],
   "source": [
    "!ssh -fNL 27017:127.0.0.1:27017 dbear@cogtoolslab.org"
   ]
  },
  {
   "cell_type": "code",
   "execution_count": 133,
   "metadata": {},
   "outputs": [],
   "source": [
    "# set vars \n",
    "auth = pd.read_csv('../auth.txt', header = None) # this auth.txt file contains the password for the sketchloop user. Place it in the toplevel of the repo\n",
    "pswd = auth.values[0][0]\n",
    "user = 'sketchloop'\n",
    "host = 'cogtoolslab.org' ## cogtoolslab ip address\n",
    "\n",
    "conn = pm.MongoClient('mongodb://sketchloop:' + pswd + '@127.0.0.1')\n",
    "db = conn['stimuli']\n",
    "coll = db[dataset_name]"
   ]
  },
  {
   "cell_type": "code",
   "execution_count": null,
   "metadata": {},
   "outputs": [],
   "source": [
    "#⚠️drop collection if necessary. \n",
    "# db.drop_collection(dataset_name) "
   ]
  },
  {
   "cell_type": "code",
   "execution_count": 138,
   "metadata": {},
   "outputs": [
    {
     "data": {
      "text/plain": [
       "['block-construction-silhouette-exp01',\n",
       " 'block-construction-silhouette-exp02',\n",
       " 'causaldraw',\n",
       " 'causaldraw_annotations',\n",
       " 'causaldraw_annotations_patching',\n",
       " 'causaldraw_identification',\n",
       " 'causaldraw_intervention',\n",
       " 'causaldraw_intervention_patching',\n",
       " 'collabdraw_collab8_recog',\n",
       " 'curiotower-tdw',\n",
       " 'curiotower-tdw-height3Jitter3',\n",
       " 'curiotower_curiodrop',\n",
       " 'dominoes-pilot_example',\n",
       " 'graphical_conventions_object_annotation',\n",
       " 'graphical_conventions_semantic_mapping',\n",
       " 'graphical_conventions_semantic_mapping_patching',\n",
       " 'graphical_conventions_semantic_mapping_spline_version_old',\n",
       " 'human-physics-benchmarking-dominoes-pilot_example',\n",
       " 'human-physics-benchmarking-pilot_example',\n",
       " 'iternum_classification',\n",
       " 'photodraw2',\n",
       " 'semantic_parts_graphical_conventions',\n",
       " 'svg_annotation_sketchpad_basic_allcats',\n",
       " 'tools_for_block_construction_given_subgoals']"
      ]
     },
     "execution_count": 138,
     "metadata": {},
     "output_type": "execute_result"
    }
   ],
   "source": [
    "#get list of current collections\n",
    "sorted(db.list_collection_names())"
   ]
  },
  {
   "cell_type": "code",
   "execution_count": 135,
   "metadata": {},
   "outputs": [
    {
     "name": "stdout",
     "output_type": "stream",
     "text": [
      "Done inserting records into mongo! The collection name is human-physics-benchmarking-dominoes-pilot_example\n"
     ]
    }
   ],
   "source": [
    "## actually add data now to the database\n",
    "for (i,m) in enumerate(stim_sets):\n",
    "    coll.insert_one({'stims':m})\n",
    "    print('{}_of_{}'.format(i+1, len(stim_sets)))\n",
    "    clear_output(wait=True)\n",
    "\n",
    "print('Done inserting records into mongo! The collection name is',dataset_name)"
   ]
  },
  {
   "cell_type": "code",
   "execution_count": 136,
   "metadata": {},
   "outputs": [
    {
     "data": {
      "text/plain": [
       "10"
      ]
     },
     "execution_count": 136,
     "metadata": {},
     "output_type": "execute_result"
    }
   ],
   "source": [
    "coll.estimated_document_count()"
   ]
  },
  {
   "cell_type": "code",
   "execution_count": 137,
   "metadata": {
    "scrolled": false
   },
   "outputs": [
    {
     "data": {
      "text/plain": [
       "{'_id': ObjectId('603d50dab42167a41b6723b0'),\n",
       " 'stims': {'0': {'stim_ID': 'pilot_dominoes_SJ025_boxroom_0002_img',\n",
       "   'stim_url': 'https://human-physics-benchmarking-dominoes-pilot.s3.amazonaws.com/pilot_dominoes_SJ025_boxroom_0002_img.mp4',\n",
       "   'target_hit_zone_label': True},\n",
       "  '1': {'stim_ID': 'pilot_dominoes_SJ025_tdwroom_0006_img',\n",
       "   'stim_url': 'https://human-physics-benchmarking-dominoes-pilot.s3.amazonaws.com/pilot_dominoes_SJ025_tdwroom_0006_img.mp4',\n",
       "   'target_hit_zone_label': True},\n",
       "  '2': {'stim_ID': 'pilot_dominoes_SJ025_tdwroom_0011_img',\n",
       "   'stim_url': 'https://human-physics-benchmarking-dominoes-pilot.s3.amazonaws.com/pilot_dominoes_SJ025_tdwroom_0011_img.mp4',\n",
       "   'target_hit_zone_label': False},\n",
       "  '3': {'stim_ID': 'pilot_dominoes_SJ025_tdwroom_0005_img',\n",
       "   'stim_url': 'https://human-physics-benchmarking-dominoes-pilot.s3.amazonaws.com/pilot_dominoes_SJ025_tdwroom_0005_img.mp4',\n",
       "   'target_hit_zone_label': False},\n",
       "  '4': {'stim_ID': 'pilot_dominoes_SJ025_boxroom_0004_img',\n",
       "   'stim_url': 'https://human-physics-benchmarking-dominoes-pilot.s3.amazonaws.com/pilot_dominoes_SJ025_boxroom_0004_img.mp4',\n",
       "   'target_hit_zone_label': True},\n",
       "  '5': {'stim_ID': 'pilot_dominoes_SJ025_boxroom_0007_img',\n",
       "   'stim_url': 'https://human-physics-benchmarking-dominoes-pilot.s3.amazonaws.com/pilot_dominoes_SJ025_boxroom_0007_img.mp4',\n",
       "   'target_hit_zone_label': False},\n",
       "  '6': {'stim_ID': 'pilot_dominoes_SJ025_boxroom_0017_img',\n",
       "   'stim_url': 'https://human-physics-benchmarking-dominoes-pilot.s3.amazonaws.com/pilot_dominoes_SJ025_boxroom_0017_img.mp4',\n",
       "   'target_hit_zone_label': False},\n",
       "  '7': {'stim_ID': 'pilot_dominoes_SJ025_boxroom_0008_img',\n",
       "   'stim_url': 'https://human-physics-benchmarking-dominoes-pilot.s3.amazonaws.com/pilot_dominoes_SJ025_boxroom_0008_img.mp4',\n",
       "   'target_hit_zone_label': False},\n",
       "  '8': {'stim_ID': 'pilot_dominoes_SJ025_tdwroom_0004_img',\n",
       "   'stim_url': 'https://human-physics-benchmarking-dominoes-pilot.s3.amazonaws.com/pilot_dominoes_SJ025_tdwroom_0004_img.mp4',\n",
       "   'target_hit_zone_label': True},\n",
       "  '9': {'stim_ID': 'pilot_dominoes_SJ025_tdwroom_0015_img',\n",
       "   'stim_url': 'https://human-physics-benchmarking-dominoes-pilot.s3.amazonaws.com/pilot_dominoes_SJ025_tdwroom_0015_img.mp4',\n",
       "   'target_hit_zone_label': True},\n",
       "  '10': {'stim_ID': 'pilot_dominoes_SJ025_tdwroom_0009_img',\n",
       "   'stim_url': 'https://human-physics-benchmarking-dominoes-pilot.s3.amazonaws.com/pilot_dominoes_SJ025_tdwroom_0009_img.mp4',\n",
       "   'target_hit_zone_label': True},\n",
       "  '11': {'stim_ID': 'pilot_dominoes_SJ025_boxroom_0009_img',\n",
       "   'stim_url': 'https://human-physics-benchmarking-dominoes-pilot.s3.amazonaws.com/pilot_dominoes_SJ025_boxroom_0009_img.mp4',\n",
       "   'target_hit_zone_label': False},\n",
       "  '12': {'stim_ID': 'pilot_dominoes_SJ025_boxroom_0011_img',\n",
       "   'stim_url': 'https://human-physics-benchmarking-dominoes-pilot.s3.amazonaws.com/pilot_dominoes_SJ025_boxroom_0011_img.mp4',\n",
       "   'target_hit_zone_label': True},\n",
       "  '13': {'stim_ID': 'pilot_dominoes_SJ025_boxroom_0000_img',\n",
       "   'stim_url': 'https://human-physics-benchmarking-dominoes-pilot.s3.amazonaws.com/pilot_dominoes_SJ025_boxroom_0000_img.mp4',\n",
       "   'target_hit_zone_label': True},\n",
       "  '14': {'stim_ID': 'pilot_dominoes_SJ025_tdwroom_0014_img',\n",
       "   'stim_url': 'https://human-physics-benchmarking-dominoes-pilot.s3.amazonaws.com/pilot_dominoes_SJ025_tdwroom_0014_img.mp4',\n",
       "   'target_hit_zone_label': True},\n",
       "  '15': {'stim_ID': 'pilot_dominoes_SJ025_boxroom_0012_img',\n",
       "   'stim_url': 'https://human-physics-benchmarking-dominoes-pilot.s3.amazonaws.com/pilot_dominoes_SJ025_boxroom_0012_img.mp4',\n",
       "   'target_hit_zone_label': True},\n",
       "  '16': {'stim_ID': 'pilot_dominoes_SJ025_boxroom_0016_img',\n",
       "   'stim_url': 'https://human-physics-benchmarking-dominoes-pilot.s3.amazonaws.com/pilot_dominoes_SJ025_boxroom_0016_img.mp4',\n",
       "   'target_hit_zone_label': False},\n",
       "  '17': {'stim_ID': 'pilot_dominoes_SJ025_tdwroom_0010_img',\n",
       "   'stim_url': 'https://human-physics-benchmarking-dominoes-pilot.s3.amazonaws.com/pilot_dominoes_SJ025_tdwroom_0010_img.mp4',\n",
       "   'target_hit_zone_label': True},\n",
       "  '18': {'stim_ID': 'pilot_dominoes_SJ025_tdwroom_0002_img',\n",
       "   'stim_url': 'https://human-physics-benchmarking-dominoes-pilot.s3.amazonaws.com/pilot_dominoes_SJ025_tdwroom_0002_img.mp4',\n",
       "   'target_hit_zone_label': False},\n",
       "  '19': {'stim_ID': 'pilot_dominoes_SJ025_tdwroom_0017_img',\n",
       "   'stim_url': 'https://human-physics-benchmarking-dominoes-pilot.s3.amazonaws.com/pilot_dominoes_SJ025_tdwroom_0017_img.mp4',\n",
       "   'target_hit_zone_label': False},\n",
       "  '20': {'stim_ID': 'pilot_dominoes_SJ025_tdwroom_0007_img',\n",
       "   'stim_url': 'https://human-physics-benchmarking-dominoes-pilot.s3.amazonaws.com/pilot_dominoes_SJ025_tdwroom_0007_img.mp4',\n",
       "   'target_hit_zone_label': True},\n",
       "  '21': {'stim_ID': 'pilot_dominoes_SJ025_tdwroom_0008_img',\n",
       "   'stim_url': 'https://human-physics-benchmarking-dominoes-pilot.s3.amazonaws.com/pilot_dominoes_SJ025_tdwroom_0008_img.mp4',\n",
       "   'target_hit_zone_label': False},\n",
       "  '22': {'stim_ID': 'pilot_dominoes_SJ025_boxroom_0003_img',\n",
       "   'stim_url': 'https://human-physics-benchmarking-dominoes-pilot.s3.amazonaws.com/pilot_dominoes_SJ025_boxroom_0003_img.mp4',\n",
       "   'target_hit_zone_label': True},\n",
       "  '23': {'stim_ID': 'pilot_dominoes_SJ025_boxroom_0019_img',\n",
       "   'stim_url': 'https://human-physics-benchmarking-dominoes-pilot.s3.amazonaws.com/pilot_dominoes_SJ025_boxroom_0019_img.mp4',\n",
       "   'target_hit_zone_label': True},\n",
       "  '24': {'stim_ID': 'pilot_dominoes_SJ025_tdwroom_0013_img',\n",
       "   'stim_url': 'https://human-physics-benchmarking-dominoes-pilot.s3.amazonaws.com/pilot_dominoes_SJ025_tdwroom_0013_img.mp4',\n",
       "   'target_hit_zone_label': False},\n",
       "  '25': {'stim_ID': 'pilot_dominoes_SJ025_tdwroom_0016_img',\n",
       "   'stim_url': 'https://human-physics-benchmarking-dominoes-pilot.s3.amazonaws.com/pilot_dominoes_SJ025_tdwroom_0016_img.mp4',\n",
       "   'target_hit_zone_label': True},\n",
       "  '26': {'stim_ID': 'pilot_dominoes_SJ025_boxroom_0010_img',\n",
       "   'stim_url': 'https://human-physics-benchmarking-dominoes-pilot.s3.amazonaws.com/pilot_dominoes_SJ025_boxroom_0010_img.mp4',\n",
       "   'target_hit_zone_label': True},\n",
       "  '27': {'stim_ID': 'pilot_dominoes_SJ025_tdwroom_0019_img',\n",
       "   'stim_url': 'https://human-physics-benchmarking-dominoes-pilot.s3.amazonaws.com/pilot_dominoes_SJ025_tdwroom_0019_img.mp4',\n",
       "   'target_hit_zone_label': False},\n",
       "  '28': {'stim_ID': 'pilot_dominoes_SJ025_boxroom_0005_img',\n",
       "   'stim_url': 'https://human-physics-benchmarking-dominoes-pilot.s3.amazonaws.com/pilot_dominoes_SJ025_boxroom_0005_img.mp4',\n",
       "   'target_hit_zone_label': False},\n",
       "  '29': {'stim_ID': 'pilot_dominoes_SJ025_tdwroom_0018_img',\n",
       "   'stim_url': 'https://human-physics-benchmarking-dominoes-pilot.s3.amazonaws.com/pilot_dominoes_SJ025_tdwroom_0018_img.mp4',\n",
       "   'target_hit_zone_label': True},\n",
       "  '30': {'stim_ID': 'pilot_dominoes_SJ025_boxroom_0006_img',\n",
       "   'stim_url': 'https://human-physics-benchmarking-dominoes-pilot.s3.amazonaws.com/pilot_dominoes_SJ025_boxroom_0006_img.mp4',\n",
       "   'target_hit_zone_label': True},\n",
       "  '31': {'stim_ID': 'pilot_dominoes_SJ025_tdwroom_0001_img',\n",
       "   'stim_url': 'https://human-physics-benchmarking-dominoes-pilot.s3.amazonaws.com/pilot_dominoes_SJ025_tdwroom_0001_img.mp4',\n",
       "   'target_hit_zone_label': False},\n",
       "  '32': {'stim_ID': 'pilot_dominoes_SJ025_boxroom_0013_img',\n",
       "   'stim_url': 'https://human-physics-benchmarking-dominoes-pilot.s3.amazonaws.com/pilot_dominoes_SJ025_boxroom_0013_img.mp4',\n",
       "   'target_hit_zone_label': False},\n",
       "  '33': {'stim_ID': 'pilot_dominoes_SJ025_tdwroom_0003_img',\n",
       "   'stim_url': 'https://human-physics-benchmarking-dominoes-pilot.s3.amazonaws.com/pilot_dominoes_SJ025_tdwroom_0003_img.mp4',\n",
       "   'target_hit_zone_label': True},\n",
       "  '34': {'stim_ID': 'pilot_dominoes_SJ025_boxroom_0018_img',\n",
       "   'stim_url': 'https://human-physics-benchmarking-dominoes-pilot.s3.amazonaws.com/pilot_dominoes_SJ025_boxroom_0018_img.mp4',\n",
       "   'target_hit_zone_label': False},\n",
       "  '35': {'stim_ID': 'pilot_dominoes_SJ025_boxroom_0015_img',\n",
       "   'stim_url': 'https://human-physics-benchmarking-dominoes-pilot.s3.amazonaws.com/pilot_dominoes_SJ025_boxroom_0015_img.mp4',\n",
       "   'target_hit_zone_label': False},\n",
       "  '36': {'stim_ID': 'pilot_dominoes_SJ025_boxroom_0014_img',\n",
       "   'stim_url': 'https://human-physics-benchmarking-dominoes-pilot.s3.amazonaws.com/pilot_dominoes_SJ025_boxroom_0014_img.mp4',\n",
       "   'target_hit_zone_label': False},\n",
       "  '37': {'stim_ID': 'pilot_dominoes_SJ025_boxroom_0001_img',\n",
       "   'stim_url': 'https://human-physics-benchmarking-dominoes-pilot.s3.amazonaws.com/pilot_dominoes_SJ025_boxroom_0001_img.mp4',\n",
       "   'target_hit_zone_label': True},\n",
       "  '38': {'stim_ID': 'pilot_dominoes_SJ025_tdwroom_0012_img',\n",
       "   'stim_url': 'https://human-physics-benchmarking-dominoes-pilot.s3.amazonaws.com/pilot_dominoes_SJ025_tdwroom_0012_img.mp4',\n",
       "   'target_hit_zone_label': False},\n",
       "  '39': {'stim_ID': 'pilot_dominoes_SJ025_tdwroom_0000_img',\n",
       "   'stim_url': 'https://human-physics-benchmarking-dominoes-pilot.s3.amazonaws.com/pilot_dominoes_SJ025_tdwroom_0000_img.mp4',\n",
       "   'target_hit_zone_label': False}}}"
      ]
     },
     "execution_count": 137,
     "metadata": {},
     "output_type": "execute_result"
    }
   ],
   "source": [
    "coll.find_one()"
   ]
  },
  {
   "cell_type": "code",
   "execution_count": 120,
   "metadata": {},
   "outputs": [],
   "source": [
    "# list(coll.find())"
   ]
  },
  {
   "cell_type": "code",
   "execution_count": null,
   "metadata": {},
   "outputs": [],
   "source": []
  }
 ],
 "metadata": {
  "kernelspec": {
   "display_name": "Python 3",
   "language": "python",
   "name": "python3"
  },
  "language_info": {
   "codemirror_mode": {
    "name": "ipython",
    "version": 3
   },
   "file_extension": ".py",
   "mimetype": "text/x-python",
   "name": "python",
   "nbconvert_exporter": "python",
   "pygments_lexer": "ipython3",
   "version": "3.7.10"
  }
 },
 "nbformat": 4,
 "nbformat_minor": 4
}
