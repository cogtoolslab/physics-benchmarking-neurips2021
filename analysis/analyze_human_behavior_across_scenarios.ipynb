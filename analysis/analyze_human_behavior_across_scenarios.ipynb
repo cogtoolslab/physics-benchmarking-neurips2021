{
 "cells": [
  {
   "cell_type": "markdown",
   "metadata": {},
   "source": [
    "# Analysis of human behavior across scenarios"
   ]
  },
  {
   "cell_type": "markdown",
   "metadata": {},
   "source": [
    "**The purpose of this notebook is to:** \n",
    "* Apply preprocessing to human behavioral data\n",
    "* Visualize distribution and compute summary statistics over **human** physical judgments\n",
    "* Output CSV that can be re-loaded into R notebook for statistical modeling & fancy visualizations\n",
    "\n",
    "**This notebook depends on:**\n",
    "* Running `./generate_dataframes.py` (INTERNAL USE ONLY)\n",
    "* Running `./upload_results.py` (INTERNAL USE ONLY)\n",
    "* Running `./download_results.py` (PUBLIC USE)"
   ]
  },
  {
   "cell_type": "markdown",
   "metadata": {},
   "source": [
    "## setup"
   ]
  },
  {
   "cell_type": "markdown",
   "metadata": {},
   "source": [
    "#### Load packages"
   ]
  },
  {
   "cell_type": "code",
   "execution_count": 9,
   "metadata": {
    "execution": {
     "iopub.execute_input": "2021-05-30T22:13:10.109036Z",
     "iopub.status.busy": "2021-05-30T22:13:10.108794Z",
     "iopub.status.idle": "2021-05-30T22:13:10.122573Z",
     "shell.execute_reply": "2021-05-30T22:13:10.121599Z",
     "shell.execute_reply.started": "2021-05-30T22:13:10.109010Z"
    },
    "tags": []
   },
   "outputs": [],
   "source": [
    "import os\n",
    "import sys\n",
    "import urllib, io\n",
    "\n",
    "sys.path.append('./analysis_helpers')\n",
    "from importlib import reload\n",
    "from analysis_helpers import *\n",
    "\n",
    "import numpy as np\n",
    "import scipy.stats as stats\n",
    "import pandas as pd\n",
    "\n",
    "import pymongo as pm\n",
    "from collections import Counter\n",
    "import json\n",
    "import re\n",
    "import ast\n",
    "\n",
    "from PIL import Image, ImageOps, ImageDraw, ImageFont \n",
    "\n",
    "from io import BytesIO\n",
    "import base64\n",
    "\n",
    "from tqdm.notebook import tqdm\n",
    "\n",
    "import  matplotlib\n",
    "from matplotlib import pylab, mlab, pyplot\n",
    "import matplotlib.pyplot as plt\n",
    "%matplotlib inline\n",
    "from IPython.core.pylabtools import figsize, getfigs\n",
    "plt = pyplot\n",
    "import matplotlib as mpl\n",
    "mpl.rcParams['pdf.fonttype'] = 42\n",
    "plt.style.use('seaborn-white')\n",
    "\n",
    "import seaborn as sns\n",
    "\n",
    "%matplotlib inline\n",
    "import scipy.stats\n",
    "import random\n",
    "\n",
    "from IPython.display import clear_output\n",
    "\n",
    "import warnings\n",
    "warnings.filterwarnings(\"ignore\", category=DeprecationWarning)\n",
    "warnings.filterwarnings(\"ignore\", message=\"numpy.dtype size changed\")\n",
    "warnings.filterwarnings(\"ignore\", message=\"numpy.ufunc size changed\")"
   ]
  },
  {
   "cell_type": "markdown",
   "metadata": {},
   "source": [
    "#### options"
   ]
  },
  {
   "cell_type": "code",
   "execution_count": 10,
   "metadata": {
    "execution": {
     "iopub.execute_input": "2021-05-30T22:13:10.432848Z",
     "iopub.status.busy": "2021-05-30T22:13:10.432585Z",
     "iopub.status.idle": "2021-05-30T22:13:10.436976Z",
     "shell.execute_reply": "2021-05-30T22:13:10.435934Z",
     "shell.execute_reply.started": "2021-05-30T22:13:10.432820Z"
    },
    "tags": []
   },
   "outputs": [],
   "source": [
    "# display all columns\n",
    "pd.set_option('display.max_columns', None)\n",
    "\n",
    "# seaborn plotting themes\n",
    "sns.set_context('talk')\n",
    "sns.set_style(\"whitegrid\")"
   ]
  },
  {
   "cell_type": "markdown",
   "metadata": {},
   "source": [
    "#### set up paths and directories"
   ]
  },
  {
   "cell_type": "code",
   "execution_count": 11,
   "metadata": {
    "execution": {
     "iopub.execute_input": "2021-05-30T22:13:10.783045Z",
     "iopub.status.busy": "2021-05-30T22:13:10.782770Z",
     "iopub.status.idle": "2021-05-30T22:13:10.792227Z",
     "shell.execute_reply": "2021-05-30T22:13:10.791260Z",
     "shell.execute_reply.started": "2021-05-30T22:13:10.783015Z"
    },
    "tags": []
   },
   "outputs": [],
   "source": [
    "## directory & file hierarchy\n",
    "proj_dir = os.path.abspath('..')\n",
    "datavol_dir = os.path.join(proj_dir,'data')\n",
    "analysis_dir =  os.path.abspath('.')\n",
    "results_dir = os.path.join(proj_dir,'results')\n",
    "plot_dir = os.path.join(results_dir,'plots')\n",
    "csv_dir = os.path.join(results_dir,'csv')\n",
    "json_dir = os.path.join(results_dir,'json')\n",
    "exp_dir = os.path.abspath(os.path.join(proj_dir,'behavioral_experiments'))\n",
    "png_dir = os.path.abspath(os.path.join(datavol_dir,'png'))\n",
    "\n",
    "## add helpers to python path\n",
    "if os.path.join(proj_dir,'stimuli') not in sys.path:\n",
    "    sys.path.append(os.path.join(proj_dir,'stimuli'))\n",
    "    \n",
    "if not os.path.exists(results_dir):\n",
    "    os.makedirs(results_dir)\n",
    "    \n",
    "if not os.path.exists(plot_dir):\n",
    "    os.makedirs(plot_dir)   \n",
    "    \n",
    "if not os.path.exists(csv_dir):\n",
    "    os.makedirs(csv_dir)       \n",
    "    \n",
    "## add helpers to python path\n",
    "if os.path.join(analysis_dir,'utils') not in sys.path:\n",
    "    sys.path.append(os.path.join(analysis_dir,'utils'))   \n",
    "\n",
    "def make_dir_if_not_exists(dir_name):   \n",
    "    if not os.path.exists(dir_name):\n",
    "        os.makedirs(dir_name)\n",
    "    return dir_name\n",
    "\n",
    "## create directories that don't already exist        \n",
    "result = [make_dir_if_not_exists(x) for x in [results_dir,plot_dir,csv_dir]]"
   ]
  },
  {
   "cell_type": "markdown",
   "metadata": {},
   "source": [
    "### load in data"
   ]
  },
  {
   "cell_type": "code",
   "execution_count": 12,
   "metadata": {
    "execution": {
     "iopub.execute_input": "2021-05-30T22:13:11.131455Z",
     "iopub.status.busy": "2021-05-30T22:13:11.131209Z",
     "iopub.status.idle": "2021-05-30T22:13:11.142559Z",
     "shell.execute_reply": "2021-05-30T22:13:11.141520Z",
     "shell.execute_reply.started": "2021-05-30T22:13:11.131431Z"
    },
    "tags": []
   },
   "outputs": [
    {
     "data": {
      "text/html": [
       "<div>\n",
       "<style scoped>\n",
       "    .dataframe tbody tr th:only-of-type {\n",
       "        vertical-align: middle;\n",
       "    }\n",
       "\n",
       "    .dataframe tbody tr th {\n",
       "        vertical-align: top;\n",
       "    }\n",
       "\n",
       "    .dataframe thead th {\n",
       "        text-align: right;\n",
       "    }\n",
       "</style>\n",
       "<table border=\"1\" class=\"dataframe\">\n",
       "  <thead>\n",
       "    <tr style=\"text-align: right;\">\n",
       "      <th></th>\n",
       "      <th>study</th>\n",
       "      <th>bucket_name</th>\n",
       "      <th>stim_version</th>\n",
       "      <th>iterationName</th>\n",
       "    </tr>\n",
       "  </thead>\n",
       "  <tbody>\n",
       "    <tr>\n",
       "      <th>0</th>\n",
       "      <td>dominoes_pilot</td>\n",
       "      <td>human-physics-benchmarking-dominoes-pilot</td>\n",
       "      <td>production_1</td>\n",
       "      <td>production_1_testing</td>\n",
       "    </tr>\n",
       "    <tr>\n",
       "      <th>1</th>\n",
       "      <td>collision_pilot</td>\n",
       "      <td>human-physics-benchmarking-collision-pilot</td>\n",
       "      <td>production_2</td>\n",
       "      <td>production_2_testing</td>\n",
       "    </tr>\n",
       "    <tr>\n",
       "      <th>2</th>\n",
       "      <td>towers_pilot</td>\n",
       "      <td>human-physics-benchmarking-towers-pilot</td>\n",
       "      <td>production_2</td>\n",
       "      <td>production_2_testing</td>\n",
       "    </tr>\n",
       "    <tr>\n",
       "      <th>3</th>\n",
       "      <td>linking_pilot</td>\n",
       "      <td>human-physics-benchmarking-linking-pilot</td>\n",
       "      <td>production_2</td>\n",
       "      <td>production_2_testing</td>\n",
       "    </tr>\n",
       "    <tr>\n",
       "      <th>4</th>\n",
       "      <td>containment_pilot</td>\n",
       "      <td>human-physics-benchmarking-containment-pilot</td>\n",
       "      <td>production_2</td>\n",
       "      <td>production_2_testing</td>\n",
       "    </tr>\n",
       "    <tr>\n",
       "      <th>5</th>\n",
       "      <td>rollingsliding_pilot</td>\n",
       "      <td>human-physics-benchmarking-rollingsliding-pilot</td>\n",
       "      <td>production_2</td>\n",
       "      <td>production_2_testing</td>\n",
       "    </tr>\n",
       "    <tr>\n",
       "      <th>6</th>\n",
       "      <td>drop_pilot</td>\n",
       "      <td>human-physics-benchmarking-drop-pilot</td>\n",
       "      <td>production_2</td>\n",
       "      <td>production_2_testing</td>\n",
       "    </tr>\n",
       "    <tr>\n",
       "      <th>7</th>\n",
       "      <td>clothiness_pilot</td>\n",
       "      <td>human-physics-benchmarking-clothiness-pilot</td>\n",
       "      <td>production_2</td>\n",
       "      <td>production_2_testing</td>\n",
       "    </tr>\n",
       "  </tbody>\n",
       "</table>\n",
       "</div>"
      ],
      "text/plain": [
       "                  study                                      bucket_name  \\\n",
       "0        dominoes_pilot        human-physics-benchmarking-dominoes-pilot   \n",
       "1       collision_pilot       human-physics-benchmarking-collision-pilot   \n",
       "2          towers_pilot          human-physics-benchmarking-towers-pilot   \n",
       "3         linking_pilot         human-physics-benchmarking-linking-pilot   \n",
       "4     containment_pilot     human-physics-benchmarking-containment-pilot   \n",
       "5  rollingsliding_pilot  human-physics-benchmarking-rollingsliding-pilot   \n",
       "6            drop_pilot            human-physics-benchmarking-drop-pilot   \n",
       "7      clothiness_pilot      human-physics-benchmarking-clothiness-pilot   \n",
       "\n",
       "   stim_version         iterationName  \n",
       "0  production_1  production_1_testing  \n",
       "1  production_2  production_2_testing  \n",
       "2  production_2  production_2_testing  \n",
       "3  production_2  production_2_testing  \n",
       "4  production_2  production_2_testing  \n",
       "5  production_2  production_2_testing  \n",
       "6  production_2  production_2_testing  \n",
       "7  production_2  production_2_testing  "
      ]
     },
     "execution_count": 12,
     "metadata": {},
     "output_type": "execute_result"
    }
   ],
   "source": [
    "from experiment_meta import *\n",
    "HEM = pd.DataFrame(NEURIPS2021_EXPS) # HEM = \"human experiment metadata\"\n",
    "HEM"
   ]
  },
  {
   "cell_type": "code",
   "execution_count": 13,
   "metadata": {
    "execution": {
     "iopub.execute_input": "2021-05-30T22:13:11.276561Z",
     "iopub.status.busy": "2021-05-30T22:13:11.276331Z",
     "iopub.status.idle": "2021-05-30T22:13:11.281444Z",
     "shell.execute_reply": "2021-05-30T22:13:11.280261Z",
     "shell.execute_reply.started": "2021-05-30T22:13:11.276538Z"
    },
    "tags": []
   },
   "outputs": [],
   "source": [
    "## get paths to all human response data\n",
    "data_paths = [os.path.join(csv_dir,'humans',i) for i in os.listdir(os.path.join(csv_dir,'humans'))]\n",
    "resp_paths = [i for i in data_paths if i.split('/')[-1].split('-')[0]=='human_responses']\n",
    "assert len(resp_paths)==8"
   ]
  },
  {
   "cell_type": "code",
   "execution_count": 14,
   "metadata": {
    "execution": {
     "iopub.execute_input": "2021-05-30T22:13:11.444434Z",
     "iopub.status.busy": "2021-05-30T22:13:11.444210Z",
     "iopub.status.idle": "2021-05-30T22:13:17.071255Z",
     "shell.execute_reply": "2021-05-30T22:13:17.070586Z",
     "shell.execute_reply.started": "2021-05-30T22:13:11.444411Z"
    },
    "tags": []
   },
   "outputs": [],
   "source": [
    "## load in example dataframe\n",
    "exp_ind = 0\n",
    "d = pd.concat([pd.read_csv(p) for p in resp_paths])\n",
    "\n",
    "## some utility vars\n",
    "d['scenarioName'] = d['study'].apply(lambda x:x.split('_')[0])\n",
    "# colnames_with_variable_entries = [col for col in sorted(d.columns) if len(np.unique(d[col]))>1]\n",
    "colnames = ['scenarioName','study','gameID','trialNum','prolificIDAnon','stim_ID','response','target_hit_zone_label','correct','choices','rt']\n",
    "# colnames = ['gameID','trialNum','stim_ID','response','target_hit_zone_label','correct','choices','rt']\n",
    "\n",
    "## subset dataframe by colnames of interest\n",
    "_D = d[colnames]\n",
    "\n",
    "## preprocess RTs (subtract 2500ms presentation time, log transform)\n",
    "_D = _D.assign(RT = _D['rt'] - 2500) \n",
    "_D = _D.assign(logRT = np.log(_D['RT']))\n",
    "_D = _D.drop(columns=['rt'],axis=1)\n",
    "\n",
    "## convert responses to boolean\n",
    "binary_mapper = {'YES':True, 'NO':False}\n",
    "_D = _D.assign(responseBool = _D['response'].apply(lambda x: binary_mapper[x]), axis=0)\n",
    "\n",
    "# print('Currently analyzing the {} experiment.'.format(scenarioName))"
   ]
  },
  {
   "cell_type": "markdown",
   "metadata": {},
   "source": [
    "### Data exclusion criteria (from `preregistration_neurips2021.md`)\n",
    "\n",
    " Data from an entire experimental session will be excluded if the responses:\n",
    " * contain a sequence with unusually long streak, defined as occurring less than 2.5% of the time under random responding\n",
    " * contain a sequence of at least 24 trials alternating \"yes\" and \"no\" responses\n",
    " * are correct for fewer than 4 out of 10 familiarization trials (i.e., 30% correct or lower)\n",
    " * the mean accuracy for that participant is below 3 standard deviations below the median accuracy across all participants \\for that scenario\n",
    " * the mean log-transformed response time for that participant is 3 standard deviations above the median log-transformed response time across all participants for that scenario\n",
    " \n",
    "Excluded sessions will be flagged. Flagged sessions will not be included in the main analyses. We will also conduct our planned analyses with the flagged sessions included to investigate the extent to which the outcomes of the main analyses change when these sessions are included. Specifically, we will fit a statistical model to all sessions and estimate the effect of a session being flagged on accuracy. "
   ]
  },
  {
   "cell_type": "code",
   "execution_count": 15,
   "metadata": {
    "execution": {
     "iopub.execute_input": "2021-05-30T22:13:17.073204Z",
     "iopub.status.busy": "2021-05-30T22:13:17.072821Z",
     "iopub.status.idle": "2021-05-30T22:13:17.844004Z",
     "shell.execute_reply": "2021-05-30T22:13:17.843277Z",
     "shell.execute_reply.started": "2021-05-30T22:13:17.073160Z"
    },
    "tags": []
   },
   "outputs": [],
   "source": [
    "from analysis_helpers import *\n",
    "D = apply_exclusion_criteria(_D)"
   ]
  },
  {
   "cell_type": "markdown",
   "metadata": {},
   "source": [
    "## Visualize distribution and compute summary statistics over human physical judgments\n"
   ]
  },
  {
   "cell_type": "markdown",
   "metadata": {},
   "source": [
    "\n",
    "### Human accuracy across participants for each stimulus\n",
    "We will analyze accuracy for each stimulus by computing the proportion of correct responses across all participants who viewed that stimulus. \n",
    "\n"
   ]
  },
  {
   "cell_type": "code",
   "execution_count": 16,
   "metadata": {
    "execution": {
     "iopub.execute_input": "2021-05-30T22:13:17.846374Z",
     "iopub.status.busy": "2021-05-30T22:13:17.845940Z",
     "iopub.status.idle": "2021-05-30T22:13:18.133719Z",
     "shell.execute_reply": "2021-05-30T22:13:18.133091Z",
     "shell.execute_reply.started": "2021-05-30T22:13:17.846345Z"
    },
    "tags": []
   },
   "outputs": [
    {
     "data": {
      "image/png": "[encoded data removed]",
      "text/plain": [
       "<Figure size 432x288 with 1 Axes>"
      ]
     },
     "metadata": {},
     "output_type": "display_data"
    }
   ],
   "source": [
    "Dacc = D.groupby('prolificIDAnon').agg({'correct':np.mean})\n",
    "h = sns.histplot(data=Dacc, x='correct', bins=30, stat='probability')\n",
    "t = plt.title('Accuracy distribution across participants')"
   ]
  },
  {
   "cell_type": "code",
   "execution_count": 17,
   "metadata": {
    "execution": {
     "iopub.execute_input": "2021-05-30T22:13:18.135985Z",
     "iopub.status.busy": "2021-05-30T22:13:18.135486Z",
     "iopub.status.idle": "2021-05-30T22:13:18.142393Z",
     "shell.execute_reply": "2021-05-30T22:13:18.141334Z",
     "shell.execute_reply.started": "2021-05-30T22:13:18.135918Z"
    },
    "tags": []
   },
   "outputs": [],
   "source": [
    "def bootstrap_mean(D, col = 'correct', nIter=1000):\n",
    "    bootmean = []\n",
    "    for currIter in np.arange(nIter):\n",
    "        bootD = D.sample(n=len(D),random_state=currIter, replace=True)            \n",
    "        bootmean.append(np.mean(bootD[col].values))\n",
    "    return bootmean"
   ]
  },
  {
   "cell_type": "code",
   "execution_count": 19,
   "metadata": {
    "execution": {
     "iopub.execute_input": "2021-05-30T22:14:04.035248Z",
     "iopub.status.busy": "2021-05-30T22:14:04.035013Z",
     "iopub.status.idle": "2021-05-30T22:14:04.543831Z",
     "shell.execute_reply": "2021-05-30T22:14:04.542554Z",
     "shell.execute_reply.started": "2021-05-30T22:14:04.035221Z"
    },
    "tags": []
   },
   "outputs": [
    {
     "name": "stdout",
     "output_type": "stream",
     "text": [
      "The observed mean accuracy is 0.75.\n",
      "95% CI: [0.744,0.757].\n"
     ]
    }
   ],
   "source": [
    "bootmeans = bootstrap_mean(Dacc, col='correct', nIter=1000)\n",
    "lb = np.percentile(bootmeans,2.5)\n",
    "ub = np.percentile(bootmeans,97.5)\n",
    "print('The observed mean accuracy is {}.'.format(np.round(Dacc['correct'].mean(),3)))\n",
    "print('95% CI: [{},{}].'.format(lb.round(3),ub.round(3)))"
   ]
  },
  {
   "cell_type": "markdown",
   "metadata": {},
   "source": [
    "### Human accuracy across stimuli for each participant\n",
    "We will analyze accuracy for each participant by computing the proportion of correct responses across all stimuli. \n",
    "\n"
   ]
  },
  {
   "cell_type": "code",
   "execution_count": 20,
   "metadata": {
    "execution": {
     "iopub.execute_input": "2021-05-30T22:14:07.070114Z",
     "iopub.status.busy": "2021-05-30T22:14:07.069882Z",
     "iopub.status.idle": "2021-05-30T22:14:07.294664Z",
     "shell.execute_reply": "2021-05-30T22:14:07.293911Z",
     "shell.execute_reply.started": "2021-05-30T22:14:07.070089Z"
    },
    "tags": []
   },
   "outputs": [
    {
     "data": {
      "image/png": "[encoded data removed]",
      "text/plain": [
       "<Figure size 432x288 with 1 Axes>"
      ]
     },
     "metadata": {},
     "output_type": "display_data"
    }
   ],
   "source": [
    "Dacc = D.groupby('stim_ID').agg({'correct':np.mean})\n",
    "h = sns.histplot(data=Dacc, x='correct', bins=30, stat='probability')\n",
    "t = plt.title('Accuracy distribution across stimuli')"
   ]
  },
  {
   "cell_type": "markdown",
   "metadata": {},
   "source": [
    "### Human accuracy by scenario\n",
    "We will fit human responses across all scenarios with a mixed-effects logistic regression model, including scenario as a fixed effect and participants and individual stimuli as random effects."
   ]
  },
  {
   "cell_type": "code",
   "execution_count": 21,
   "metadata": {
    "execution": {
     "iopub.execute_input": "2021-05-30T22:14:08.494474Z",
     "iopub.status.busy": "2021-05-30T22:14:08.494178Z",
     "iopub.status.idle": "2021-05-30T22:14:08.520535Z",
     "shell.execute_reply": "2021-05-30T22:14:08.519684Z",
     "shell.execute_reply.started": "2021-05-30T22:14:08.494444Z"
    },
    "tags": []
   },
   "outputs": [
    {
     "data": {
      "text/html": [
       "<div>\n",
       "<style scoped>\n",
       "    .dataframe tbody tr th:only-of-type {\n",
       "        vertical-align: middle;\n",
       "    }\n",
       "\n",
       "    .dataframe tbody tr th {\n",
       "        vertical-align: top;\n",
       "    }\n",
       "\n",
       "    .dataframe thead th {\n",
       "        text-align: right;\n",
       "    }\n",
       "</style>\n",
       "<table border=\"1\" class=\"dataframe\">\n",
       "  <thead>\n",
       "    <tr style=\"text-align: right;\">\n",
       "      <th></th>\n",
       "      <th>scenarioName</th>\n",
       "      <th>study</th>\n",
       "      <th>gameID</th>\n",
       "      <th>trialNum</th>\n",
       "      <th>prolificIDAnon</th>\n",
       "      <th>stim_ID</th>\n",
       "      <th>response</th>\n",
       "      <th>target_hit_zone_label</th>\n",
       "      <th>correct</th>\n",
       "      <th>choices</th>\n",
       "      <th>RT</th>\n",
       "      <th>logRT</th>\n",
       "      <th>responseBool</th>\n",
       "      <th>axis</th>\n",
       "    </tr>\n",
       "  </thead>\n",
       "  <tbody>\n",
       "    <tr>\n",
       "      <th>0</th>\n",
       "      <td>collision</td>\n",
       "      <td>collision_pilot</td>\n",
       "      <td>0237-0c7e8936-6614-4533-96e5-bbb7721c2b1f</td>\n",
       "      <td>0</td>\n",
       "      <td>954nmkfmwh4y94iiipid4559</td>\n",
       "      <td>pilot_it2_collision_assorted_targets_box_1_dis...</td>\n",
       "      <td>NO</td>\n",
       "      <td>False</td>\n",
       "      <td>True</td>\n",
       "      <td>['NO', 'YES']</td>\n",
       "      <td>1711.510</td>\n",
       "      <td>7.445131</td>\n",
       "      <td>False</td>\n",
       "      <td>0</td>\n",
       "    </tr>\n",
       "    <tr>\n",
       "      <th>1</th>\n",
       "      <td>collision</td>\n",
       "      <td>collision_pilot</td>\n",
       "      <td>0237-0c7e8936-6614-4533-96e5-bbb7721c2b1f</td>\n",
       "      <td>1</td>\n",
       "      <td>954nmkfmwh4y94iiipid4559</td>\n",
       "      <td>pilot_it2_collision_simple_box_1_dis_1_occ_000...</td>\n",
       "      <td>YES</td>\n",
       "      <td>True</td>\n",
       "      <td>True</td>\n",
       "      <td>['NO', 'YES']</td>\n",
       "      <td>1398.110</td>\n",
       "      <td>7.242877</td>\n",
       "      <td>True</td>\n",
       "      <td>0</td>\n",
       "    </tr>\n",
       "    <tr>\n",
       "      <th>2</th>\n",
       "      <td>collision</td>\n",
       "      <td>collision_pilot</td>\n",
       "      <td>0237-0c7e8936-6614-4533-96e5-bbb7721c2b1f</td>\n",
       "      <td>2</td>\n",
       "      <td>954nmkfmwh4y94iiipid4559</td>\n",
       "      <td>pilot_it2_collision_non-sphere_box_0001_img</td>\n",
       "      <td>YES</td>\n",
       "      <td>True</td>\n",
       "      <td>True</td>\n",
       "      <td>['NO', 'YES']</td>\n",
       "      <td>1378.480</td>\n",
       "      <td>7.228737</td>\n",
       "      <td>True</td>\n",
       "      <td>0</td>\n",
       "    </tr>\n",
       "    <tr>\n",
       "      <th>3</th>\n",
       "      <td>collision</td>\n",
       "      <td>collision_pilot</td>\n",
       "      <td>0237-0c7e8936-6614-4533-96e5-bbb7721c2b1f</td>\n",
       "      <td>3</td>\n",
       "      <td>954nmkfmwh4y94iiipid4559</td>\n",
       "      <td>pilot_it2_collision_non-sphere_tdw_1_dis_1_occ...</td>\n",
       "      <td>NO</td>\n",
       "      <td>False</td>\n",
       "      <td>True</td>\n",
       "      <td>['NO', 'YES']</td>\n",
       "      <td>1731.105</td>\n",
       "      <td>7.456515</td>\n",
       "      <td>False</td>\n",
       "      <td>0</td>\n",
       "    </tr>\n",
       "    <tr>\n",
       "      <th>4</th>\n",
       "      <td>collision</td>\n",
       "      <td>collision_pilot</td>\n",
       "      <td>0237-0c7e8936-6614-4533-96e5-bbb7721c2b1f</td>\n",
       "      <td>4</td>\n",
       "      <td>954nmkfmwh4y94iiipid4559</td>\n",
       "      <td>pilot_it2_collision_assorted_targets_box_1_dis...</td>\n",
       "      <td>YES</td>\n",
       "      <td>True</td>\n",
       "      <td>True</td>\n",
       "      <td>['NO', 'YES']</td>\n",
       "      <td>1821.545</td>\n",
       "      <td>7.507440</td>\n",
       "      <td>True</td>\n",
       "      <td>0</td>\n",
       "    </tr>\n",
       "    <tr>\n",
       "      <th>...</th>\n",
       "      <td>...</td>\n",
       "      <td>...</td>\n",
       "      <td>...</td>\n",
       "      <td>...</td>\n",
       "      <td>...</td>\n",
       "      <td>...</td>\n",
       "      <td>...</td>\n",
       "      <td>...</td>\n",
       "      <td>...</td>\n",
       "      <td>...</td>\n",
       "      <td>...</td>\n",
       "      <td>...</td>\n",
       "      <td>...</td>\n",
       "      <td>...</td>\n",
       "    </tr>\n",
       "    <tr>\n",
       "      <th>15295</th>\n",
       "      <td>towers</td>\n",
       "      <td>towers_pilot</td>\n",
       "      <td>1976-7e6661d3-4c2c-4cce-8db4-95349e6088da</td>\n",
       "      <td>145</td>\n",
       "      <td>95cndn9kpphpdkinhpcnprcp</td>\n",
       "      <td>pilot_towers_nb4_fr015_SJ000_gr01_mono0_dis1_o...</td>\n",
       "      <td>NO</td>\n",
       "      <td>False</td>\n",
       "      <td>True</td>\n",
       "      <td>['YES', 'NO']</td>\n",
       "      <td>3711.570</td>\n",
       "      <td>8.219210</td>\n",
       "      <td>False</td>\n",
       "      <td>0</td>\n",
       "    </tr>\n",
       "    <tr>\n",
       "      <th>15296</th>\n",
       "      <td>towers</td>\n",
       "      <td>towers_pilot</td>\n",
       "      <td>1976-7e6661d3-4c2c-4cce-8db4-95349e6088da</td>\n",
       "      <td>146</td>\n",
       "      <td>95cndn9kpphpdkinhpcnprcp</td>\n",
       "      <td>pilot_towers_nb2_fr015_SJ010_mono0_dis0_occ0_t...</td>\n",
       "      <td>YES</td>\n",
       "      <td>True</td>\n",
       "      <td>True</td>\n",
       "      <td>['YES', 'NO']</td>\n",
       "      <td>1433.085</td>\n",
       "      <td>7.267585</td>\n",
       "      <td>True</td>\n",
       "      <td>0</td>\n",
       "    </tr>\n",
       "    <tr>\n",
       "      <th>15297</th>\n",
       "      <td>towers</td>\n",
       "      <td>towers_pilot</td>\n",
       "      <td>1976-7e6661d3-4c2c-4cce-8db4-95349e6088da</td>\n",
       "      <td>147</td>\n",
       "      <td>95cndn9kpphpdkinhpcnprcp</td>\n",
       "      <td>pilot_towers_nb4_fr015_SJ000_gr-01_mono1_dis1_...</td>\n",
       "      <td>YES</td>\n",
       "      <td>True</td>\n",
       "      <td>True</td>\n",
       "      <td>['YES', 'NO']</td>\n",
       "      <td>1567.540</td>\n",
       "      <td>7.357263</td>\n",
       "      <td>True</td>\n",
       "      <td>0</td>\n",
       "    </tr>\n",
       "    <tr>\n",
       "      <th>15298</th>\n",
       "      <td>towers</td>\n",
       "      <td>towers_pilot</td>\n",
       "      <td>1976-7e6661d3-4c2c-4cce-8db4-95349e6088da</td>\n",
       "      <td>148</td>\n",
       "      <td>95cndn9kpphpdkinhpcnprcp</td>\n",
       "      <td>pilot_towers_nb2_fr015_SJ010_mono0_dis0_occ0_t...</td>\n",
       "      <td>YES</td>\n",
       "      <td>True</td>\n",
       "      <td>True</td>\n",
       "      <td>['YES', 'NO']</td>\n",
       "      <td>1473.855</td>\n",
       "      <td>7.295637</td>\n",
       "      <td>True</td>\n",
       "      <td>0</td>\n",
       "    </tr>\n",
       "    <tr>\n",
       "      <th>15299</th>\n",
       "      <td>towers</td>\n",
       "      <td>towers_pilot</td>\n",
       "      <td>1976-7e6661d3-4c2c-4cce-8db4-95349e6088da</td>\n",
       "      <td>149</td>\n",
       "      <td>95cndn9kpphpdkinhpcnprcp</td>\n",
       "      <td>pilot_towers_nb4_fr015_SJ000_gr-01_mono1_dis1_...</td>\n",
       "      <td>YES</td>\n",
       "      <td>True</td>\n",
       "      <td>True</td>\n",
       "      <td>['YES', 'NO']</td>\n",
       "      <td>1648.790</td>\n",
       "      <td>7.407797</td>\n",
       "      <td>True</td>\n",
       "      <td>0</td>\n",
       "    </tr>\n",
       "  </tbody>\n",
       "</table>\n",
       "<p>103350 rows × 14 columns</p>\n",
       "</div>"
      ],
      "text/plain": [
       "      scenarioName            study  \\\n",
       "0        collision  collision_pilot   \n",
       "1        collision  collision_pilot   \n",
       "2        collision  collision_pilot   \n",
       "3        collision  collision_pilot   \n",
       "4        collision  collision_pilot   \n",
       "...            ...              ...   \n",
       "15295       towers     towers_pilot   \n",
       "15296       towers     towers_pilot   \n",
       "15297       towers     towers_pilot   \n",
       "15298       towers     towers_pilot   \n",
       "15299       towers     towers_pilot   \n",
       "\n",
       "                                          gameID  trialNum  \\\n",
       "0      0237-0c7e8936-6614-4533-96e5-bbb7721c2b1f         0   \n",
       "1      0237-0c7e8936-6614-4533-96e5-bbb7721c2b1f         1   \n",
       "2      0237-0c7e8936-6614-4533-96e5-bbb7721c2b1f         2   \n",
       "3      0237-0c7e8936-6614-4533-96e5-bbb7721c2b1f         3   \n",
       "4      0237-0c7e8936-6614-4533-96e5-bbb7721c2b1f         4   \n",
       "...                                          ...       ...   \n",
       "15295  1976-7e6661d3-4c2c-4cce-8db4-95349e6088da       145   \n",
       "15296  1976-7e6661d3-4c2c-4cce-8db4-95349e6088da       146   \n",
       "15297  1976-7e6661d3-4c2c-4cce-8db4-95349e6088da       147   \n",
       "15298  1976-7e6661d3-4c2c-4cce-8db4-95349e6088da       148   \n",
       "15299  1976-7e6661d3-4c2c-4cce-8db4-95349e6088da       149   \n",
       "\n",
       "                 prolificIDAnon  \\\n",
       "0      954nmkfmwh4y94iiipid4559   \n",
       "1      954nmkfmwh4y94iiipid4559   \n",
       "2      954nmkfmwh4y94iiipid4559   \n",
       "3      954nmkfmwh4y94iiipid4559   \n",
       "4      954nmkfmwh4y94iiipid4559   \n",
       "...                         ...   \n",
       "15295  95cndn9kpphpdkinhpcnprcp   \n",
       "15296  95cndn9kpphpdkinhpcnprcp   \n",
       "15297  95cndn9kpphpdkinhpcnprcp   \n",
       "15298  95cndn9kpphpdkinhpcnprcp   \n",
       "15299  95cndn9kpphpdkinhpcnprcp   \n",
       "\n",
       "                                                 stim_ID response  \\\n",
       "0      pilot_it2_collision_assorted_targets_box_1_dis...       NO   \n",
       "1      pilot_it2_collision_simple_box_1_dis_1_occ_000...      YES   \n",
       "2            pilot_it2_collision_non-sphere_box_0001_img      YES   \n",
       "3      pilot_it2_collision_non-sphere_tdw_1_dis_1_occ...       NO   \n",
       "4      pilot_it2_collision_assorted_targets_box_1_dis...      YES   \n",
       "...                                                  ...      ...   \n",
       "15295  pilot_towers_nb4_fr015_SJ000_gr01_mono0_dis1_o...       NO   \n",
       "15296  pilot_towers_nb2_fr015_SJ010_mono0_dis0_occ0_t...      YES   \n",
       "15297  pilot_towers_nb4_fr015_SJ000_gr-01_mono1_dis1_...      YES   \n",
       "15298  pilot_towers_nb2_fr015_SJ010_mono0_dis0_occ0_t...      YES   \n",
       "15299  pilot_towers_nb4_fr015_SJ000_gr-01_mono1_dis1_...      YES   \n",
       "\n",
       "       target_hit_zone_label  correct        choices        RT     logRT  \\\n",
       "0                      False     True  ['NO', 'YES']  1711.510  7.445131   \n",
       "1                       True     True  ['NO', 'YES']  1398.110  7.242877   \n",
       "2                       True     True  ['NO', 'YES']  1378.480  7.228737   \n",
       "3                      False     True  ['NO', 'YES']  1731.105  7.456515   \n",
       "4                       True     True  ['NO', 'YES']  1821.545  7.507440   \n",
       "...                      ...      ...            ...       ...       ...   \n",
       "15295                  False     True  ['YES', 'NO']  3711.570  8.219210   \n",
       "15296                   True     True  ['YES', 'NO']  1433.085  7.267585   \n",
       "15297                   True     True  ['YES', 'NO']  1567.540  7.357263   \n",
       "15298                   True     True  ['YES', 'NO']  1473.855  7.295637   \n",
       "15299                   True     True  ['YES', 'NO']  1648.790  7.407797   \n",
       "\n",
       "       responseBool  axis  \n",
       "0             False     0  \n",
       "1              True     0  \n",
       "2              True     0  \n",
       "3             False     0  \n",
       "4              True     0  \n",
       "...             ...   ...  \n",
       "15295         False     0  \n",
       "15296          True     0  \n",
       "15297          True     0  \n",
       "15298          True     0  \n",
       "15299          True     0  \n",
       "\n",
       "[103350 rows x 14 columns]"
      ]
     },
     "execution_count": 21,
     "metadata": {},
     "output_type": "execute_result"
    }
   ],
   "source": [
    "D"
   ]
  },
  {
   "cell_type": "markdown",
   "metadata": {},
   "source": [
    "@Felix: I'm not certain whether the following models are what we want"
   ]
  },
  {
   "cell_type": "code",
   "execution_count": 22,
   "metadata": {
    "execution": {
     "iopub.execute_input": "2021-05-30T22:14:08.956798Z",
     "iopub.status.busy": "2021-05-30T22:14:08.956576Z",
     "iopub.status.idle": "2021-05-30T22:14:13.857133Z",
     "shell.execute_reply": "2021-05-30T22:14:13.855006Z",
     "shell.execute_reply.started": "2021-05-30T22:14:08.956776Z"
    },
    "tags": []
   },
   "outputs": [],
   "source": [
    "from pymer4.models import Lmer"
   ]
  },
  {
   "cell_type": "code",
   "execution_count": 64,
   "metadata": {
    "execution": {
     "iopub.execute_input": "2021-05-30T22:20:24.404623Z",
     "iopub.status.busy": "2021-05-30T22:20:24.404250Z",
     "iopub.status.idle": "2021-05-30T22:20:24.415332Z",
     "shell.execute_reply": "2021-05-30T22:20:24.414672Z",
     "shell.execute_reply.started": "2021-05-30T22:20:24.404556Z"
    },
    "tags": []
   },
   "outputs": [],
   "source": [
    "model = Lmer('correct ~ scenarioName + (1|prolificIDAnon) + (1|stim_ID)',data = D, family='binomial')"
   ]
  },
  {
   "cell_type": "code",
   "execution_count": 65,
   "metadata": {
    "execution": {
     "iopub.execute_input": "2021-05-30T22:20:24.552681Z",
     "iopub.status.busy": "2021-05-30T22:20:24.552454Z",
     "iopub.status.idle": "2021-05-30T22:31:42.983353Z",
     "shell.execute_reply": "2021-05-30T22:31:42.982008Z",
     "shell.execute_reply.started": "2021-05-30T22:20:24.552659Z"
    },
    "tags": []
   },
   "outputs": [
    {
     "name": "stdout",
     "output_type": "stream",
     "text": [
      "Model failed to converge with max|grad| = 0.0034171 (tol = 0.001, component 1) \n",
      "\n",
      "Formula: correct~scenarioName+(1|prolificIDAnon)+(1|stim_ID)\n",
      "\n",
      "Family: binomial\t Inference: parametric\n",
      "\n",
      "Number of observations: 103350\t Groups: {'stim_ID': 1200.0, 'prolificIDAnon': 662.0}\n",
      "\n",
      "Log-likelihood: -42017.055 \t AIC: 84054.109\n",
      "\n",
      "Random effects:\n",
      "\n",
      "                       Name    Var    Std\n",
      "stim_ID         (Intercept)  2.810  1.676\n",
      "prolificIDAnon  (Intercept)  0.094  0.306\n",
      "\n",
      "No random effect correlations specified\n",
      "\n",
      "Fixed effects:\n",
      "\n"
     ]
    },
    {
     "data": {
      "text/html": [
       "<div>\n",
       "<style scoped>\n",
       "    .dataframe tbody tr th:only-of-type {\n",
       "        vertical-align: middle;\n",
       "    }\n",
       "\n",
       "    .dataframe tbody tr th {\n",
       "        vertical-align: top;\n",
       "    }\n",
       "\n",
       "    .dataframe thead th {\n",
       "        text-align: right;\n",
       "    }\n",
       "</style>\n",
       "<table border=\"1\" class=\"dataframe\">\n",
       "  <thead>\n",
       "    <tr style=\"text-align: right;\">\n",
       "      <th></th>\n",
       "      <th>Estimate</th>\n",
       "      <th>2.5_ci</th>\n",
       "      <th>97.5_ci</th>\n",
       "      <th>SE</th>\n",
       "      <th>OR</th>\n",
       "      <th>OR_2.5_ci</th>\n",
       "      <th>OR_97.5_ci</th>\n",
       "      <th>Prob</th>\n",
       "      <th>Prob_2.5_ci</th>\n",
       "      <th>Prob_97.5_ci</th>\n",
       "      <th>Z-stat</th>\n",
       "      <th>P-val</th>\n",
       "      <th>Sig</th>\n",
       "    </tr>\n",
       "  </thead>\n",
       "  <tbody>\n",
       "    <tr>\n",
       "      <th>(Intercept)</th>\n",
       "      <td>1.079</td>\n",
       "      <td>0.788</td>\n",
       "      <td>1.370</td>\n",
       "      <td>0.148</td>\n",
       "      <td>2.941</td>\n",
       "      <td>2.198</td>\n",
       "      <td>3.934</td>\n",
       "      <td>0.746</td>\n",
       "      <td>0.687</td>\n",
       "      <td>0.797</td>\n",
       "      <td>7.266</td>\n",
       "      <td>0.000</td>\n",
       "      <td>***</td>\n",
       "    </tr>\n",
       "    <tr>\n",
       "      <th>scenarioNamecollision</th>\n",
       "      <td>1.116</td>\n",
       "      <td>0.707</td>\n",
       "      <td>1.525</td>\n",
       "      <td>0.209</td>\n",
       "      <td>3.053</td>\n",
       "      <td>2.028</td>\n",
       "      <td>4.595</td>\n",
       "      <td>0.753</td>\n",
       "      <td>0.670</td>\n",
       "      <td>0.821</td>\n",
       "      <td>5.348</td>\n",
       "      <td>0.000</td>\n",
       "      <td>***</td>\n",
       "    </tr>\n",
       "    <tr>\n",
       "      <th>scenarioNamecontainment</th>\n",
       "      <td>0.698</td>\n",
       "      <td>0.288</td>\n",
       "      <td>1.108</td>\n",
       "      <td>0.209</td>\n",
       "      <td>2.010</td>\n",
       "      <td>1.334</td>\n",
       "      <td>3.029</td>\n",
       "      <td>0.668</td>\n",
       "      <td>0.571</td>\n",
       "      <td>0.752</td>\n",
       "      <td>3.335</td>\n",
       "      <td>0.001</td>\n",
       "      <td>***</td>\n",
       "    </tr>\n",
       "    <tr>\n",
       "      <th>scenarioNamedominoes</th>\n",
       "      <td>0.150</td>\n",
       "      <td>-0.256</td>\n",
       "      <td>0.556</td>\n",
       "      <td>0.207</td>\n",
       "      <td>1.162</td>\n",
       "      <td>0.774</td>\n",
       "      <td>1.744</td>\n",
       "      <td>0.537</td>\n",
       "      <td>0.436</td>\n",
       "      <td>0.636</td>\n",
       "      <td>0.725</td>\n",
       "      <td>0.469</td>\n",
       "      <td></td>\n",
       "    </tr>\n",
       "    <tr>\n",
       "      <th>scenarioNamedrop</th>\n",
       "      <td>0.472</td>\n",
       "      <td>0.066</td>\n",
       "      <td>0.879</td>\n",
       "      <td>0.207</td>\n",
       "      <td>1.604</td>\n",
       "      <td>1.069</td>\n",
       "      <td>2.407</td>\n",
       "      <td>0.616</td>\n",
       "      <td>0.517</td>\n",
       "      <td>0.707</td>\n",
       "      <td>2.280</td>\n",
       "      <td>0.023</td>\n",
       "      <td>*</td>\n",
       "    </tr>\n",
       "    <tr>\n",
       "      <th>scenarioNamelinking</th>\n",
       "      <td>-0.188</td>\n",
       "      <td>-0.593</td>\n",
       "      <td>0.217</td>\n",
       "      <td>0.206</td>\n",
       "      <td>0.829</td>\n",
       "      <td>0.553</td>\n",
       "      <td>1.242</td>\n",
       "      <td>0.453</td>\n",
       "      <td>0.356</td>\n",
       "      <td>0.554</td>\n",
       "      <td>-0.910</td>\n",
       "      <td>0.363</td>\n",
       "      <td></td>\n",
       "    </tr>\n",
       "    <tr>\n",
       "      <th>scenarioNamerollingsliding</th>\n",
       "      <td>1.800</td>\n",
       "      <td>1.388</td>\n",
       "      <td>2.212</td>\n",
       "      <td>0.210</td>\n",
       "      <td>6.050</td>\n",
       "      <td>4.008</td>\n",
       "      <td>9.132</td>\n",
       "      <td>0.858</td>\n",
       "      <td>0.800</td>\n",
       "      <td>0.901</td>\n",
       "      <td>8.568</td>\n",
       "      <td>0.000</td>\n",
       "      <td>***</td>\n",
       "    </tr>\n",
       "    <tr>\n",
       "      <th>scenarioNametowers</th>\n",
       "      <td>0.847</td>\n",
       "      <td>0.438</td>\n",
       "      <td>1.257</td>\n",
       "      <td>0.209</td>\n",
       "      <td>2.333</td>\n",
       "      <td>1.549</td>\n",
       "      <td>3.514</td>\n",
       "      <td>0.700</td>\n",
       "      <td>0.608</td>\n",
       "      <td>0.778</td>\n",
       "      <td>4.055</td>\n",
       "      <td>0.000</td>\n",
       "      <td>***</td>\n",
       "    </tr>\n",
       "  </tbody>\n",
       "</table>\n",
       "</div>"
      ],
      "text/plain": [
       "                            Estimate  2.5_ci  97.5_ci     SE     OR  \\\n",
       "(Intercept)                    1.079   0.788    1.370  0.148  2.941   \n",
       "scenarioNamecollision          1.116   0.707    1.525  0.209  3.053   \n",
       "scenarioNamecontainment        0.698   0.288    1.108  0.209  2.010   \n",
       "scenarioNamedominoes           0.150  -0.256    0.556  0.207  1.162   \n",
       "scenarioNamedrop               0.472   0.066    0.879  0.207  1.604   \n",
       "scenarioNamelinking           -0.188  -0.593    0.217  0.206  0.829   \n",
       "scenarioNamerollingsliding     1.800   1.388    2.212  0.210  6.050   \n",
       "scenarioNametowers             0.847   0.438    1.257  0.209  2.333   \n",
       "\n",
       "                            OR_2.5_ci  OR_97.5_ci   Prob  Prob_2.5_ci  \\\n",
       "(Intercept)                     2.198       3.934  0.746        0.687   \n",
       "scenarioNamecollision           2.028       4.595  0.753        0.670   \n",
       "scenarioNamecontainment         1.334       3.029  0.668        0.571   \n",
       "scenarioNamedominoes            0.774       1.744  0.537        0.436   \n",
       "scenarioNamedrop                1.069       2.407  0.616        0.517   \n",
       "scenarioNamelinking             0.553       1.242  0.453        0.356   \n",
       "scenarioNamerollingsliding      4.008       9.132  0.858        0.800   \n",
       "scenarioNametowers              1.549       3.514  0.700        0.608   \n",
       "\n",
       "                            Prob_97.5_ci  Z-stat  P-val  Sig  \n",
       "(Intercept)                        0.797   7.266  0.000  ***  \n",
       "scenarioNamecollision              0.821   5.348  0.000  ***  \n",
       "scenarioNamecontainment            0.752   3.335  0.001  ***  \n",
       "scenarioNamedominoes               0.636   0.725  0.469       \n",
       "scenarioNamedrop                   0.707   2.280  0.023    *  \n",
       "scenarioNamelinking                0.554  -0.910  0.363       \n",
       "scenarioNamerollingsliding         0.901   8.568  0.000  ***  \n",
       "scenarioNametowers                 0.778   4.055  0.000  ***  "
      ]
     },
     "execution_count": 65,
     "metadata": {},
     "output_type": "execute_result"
    }
   ],
   "source": [
    "model.fit()"
   ]
  },
  {
   "cell_type": "markdown",
   "metadata": {},
   "source": [
    "# Other exploratory human behavioral analyses\n",
    "* We will explore the relation of demographic variables on the performance of participants: how does age, gender, and educational status relate to the overall accuracy of a subject?\n",
    "* We will additionally explore any potential left/right or yes/no response biases. \n"
   ]
  },
  {
   "cell_type": "code",
   "execution_count": 56,
   "metadata": {
    "execution": {
     "iopub.execute_input": "2021-05-30T22:19:47.509417Z",
     "iopub.status.busy": "2021-05-30T22:19:47.509102Z",
     "iopub.status.idle": "2021-05-30T22:19:47.525905Z",
     "shell.execute_reply": "2021-05-30T22:19:47.525201Z",
     "shell.execute_reply.started": "2021-05-30T22:19:47.509382Z"
    },
    "tags": []
   },
   "outputs": [],
   "source": [
    "# load in demographics dataframe\n",
    "demo_df = pd.read_csv(os.path.join(csv_dir, \"humans/demographics.csv\"))"
   ]
  },
  {
   "cell_type": "code",
   "execution_count": 57,
   "metadata": {
    "execution": {
     "iopub.execute_input": "2021-05-30T22:19:47.944113Z",
     "iopub.status.busy": "2021-05-30T22:19:47.943852Z",
     "iopub.status.idle": "2021-05-30T22:19:47.951940Z",
     "shell.execute_reply": "2021-05-30T22:19:47.951186Z",
     "shell.execute_reply.started": "2021-05-30T22:19:47.944085Z"
    },
    "tags": []
   },
   "outputs": [],
   "source": [
    "columns = ['prolificIDAnon','age','Sex','Student Status'] #also 'Nationality'\n",
    "demo_df = demo_df[columns]\n",
    "demo_df.rename(columns = {'Student Status':'StudentStatus'}, inplace = True)\n",
    "demo_df = demo_df.dropna()"
   ]
  },
  {
   "cell_type": "code",
   "execution_count": 58,
   "metadata": {
    "execution": {
     "iopub.execute_input": "2021-05-30T22:19:48.695655Z",
     "iopub.status.busy": "2021-05-30T22:19:48.695402Z",
     "iopub.status.idle": "2021-05-30T22:19:48.712739Z",
     "shell.execute_reply": "2021-05-30T22:19:48.712069Z",
     "shell.execute_reply.started": "2021-05-30T22:19:48.695627Z"
    },
    "tags": []
   },
   "outputs": [],
   "source": [
    "#aggregate D over subjects\n",
    "Sub_agg_df = D.groupby('prolificIDAnon').agg({\n",
    "    'correct': 'mean'\n",
    "})"
   ]
  },
  {
   "cell_type": "code",
   "execution_count": 59,
   "metadata": {
    "execution": {
     "iopub.execute_input": "2021-05-30T22:19:49.092963Z",
     "iopub.status.busy": "2021-05-30T22:19:49.092701Z",
     "iopub.status.idle": "2021-05-30T22:19:49.101409Z",
     "shell.execute_reply": "2021-05-30T22:19:49.100674Z",
     "shell.execute_reply.started": "2021-05-30T22:19:49.092933Z"
    },
    "tags": []
   },
   "outputs": [],
   "source": [
    "#join demo_df with D\n",
    "Sub_agg_df = Sub_agg_df.merge(demo_df,on='prolificIDAnon')"
   ]
  },
  {
   "cell_type": "code",
   "execution_count": 60,
   "metadata": {
    "execution": {
     "iopub.execute_input": "2021-05-30T22:19:49.460534Z",
     "iopub.status.busy": "2021-05-30T22:19:49.460305Z",
     "iopub.status.idle": "2021-05-30T22:19:49.463675Z",
     "shell.execute_reply": "2021-05-30T22:19:49.462813Z",
     "shell.execute_reply.started": "2021-05-30T22:19:49.460510Z"
    },
    "tags": []
   },
   "outputs": [],
   "source": [
    "from pymer4.models import Lm"
   ]
  },
  {
   "cell_type": "code",
   "execution_count": 61,
   "metadata": {
    "execution": {
     "iopub.execute_input": "2021-05-30T22:19:49.855553Z",
     "iopub.status.busy": "2021-05-30T22:19:49.855191Z",
     "iopub.status.idle": "2021-05-30T22:19:49.895374Z",
     "shell.execute_reply": "2021-05-30T22:19:49.893449Z",
     "shell.execute_reply.started": "2021-05-30T22:19:49.855506Z"
    },
    "tags": []
   },
   "outputs": [
    {
     "name": "stdout",
     "output_type": "stream",
     "text": [
      "Formula: correct~age\n",
      "\n",
      "Family: gaussian\t Estimator: OLS\n",
      "\n",
      "Std-errors: non-robust\tCIs: standard 95%\tInference: parametric \n",
      "\n",
      "Number of observations: 672\t R^2: 0.000\t R^2_adj: -0.001\n",
      "\n",
      "Log-likelihood: 701.817 \t AIC: -1399.634\t BIC: -1390.614\n",
      "\n",
      "Fixed effects:\n",
      "\n"
     ]
    },
    {
     "data": {
      "text/html": [
       "<div>\n",
       "<style scoped>\n",
       "    .dataframe tbody tr th:only-of-type {\n",
       "        vertical-align: middle;\n",
       "    }\n",
       "\n",
       "    .dataframe tbody tr th {\n",
       "        vertical-align: top;\n",
       "    }\n",
       "\n",
       "    .dataframe thead th {\n",
       "        text-align: right;\n",
       "    }\n",
       "</style>\n",
       "<table border=\"1\" class=\"dataframe\">\n",
       "  <thead>\n",
       "    <tr style=\"text-align: right;\">\n",
       "      <th></th>\n",
       "      <th>Estimate</th>\n",
       "      <th>2.5_ci</th>\n",
       "      <th>97.5_ci</th>\n",
       "      <th>SE</th>\n",
       "      <th>DF</th>\n",
       "      <th>T-stat</th>\n",
       "      <th>P-val</th>\n",
       "      <th>Sig</th>\n",
       "    </tr>\n",
       "  </thead>\n",
       "  <tbody>\n",
       "    <tr>\n",
       "      <th>Intercept</th>\n",
       "      <td>0.747</td>\n",
       "      <td>0.73</td>\n",
       "      <td>0.765</td>\n",
       "      <td>0.009</td>\n",
       "      <td>670</td>\n",
       "      <td>83.706</td>\n",
       "      <td>0.000</td>\n",
       "      <td>***</td>\n",
       "    </tr>\n",
       "    <tr>\n",
       "      <th>age</th>\n",
       "      <td>0.000</td>\n",
       "      <td>-0.00</td>\n",
       "      <td>0.001</td>\n",
       "      <td>0.000</td>\n",
       "      <td>670</td>\n",
       "      <td>0.390</td>\n",
       "      <td>0.697</td>\n",
       "      <td></td>\n",
       "    </tr>\n",
       "  </tbody>\n",
       "</table>\n",
       "</div>"
      ],
      "text/plain": [
       "           Estimate  2.5_ci  97.5_ci     SE   DF  T-stat  P-val  Sig\n",
       "Intercept     0.747    0.73    0.765  0.009  670  83.706  0.000  ***\n",
       "age           0.000   -0.00    0.001  0.000  670   0.390  0.697     "
      ]
     },
     "execution_count": 61,
     "metadata": {},
     "output_type": "execute_result"
    }
   ],
   "source": [
    "model = Lm('correct ~ age',data = Sub_agg_df)\n",
    "\n",
    "model.fit()"
   ]
  },
  {
   "cell_type": "code",
   "execution_count": 62,
   "metadata": {
    "execution": {
     "iopub.execute_input": "2021-05-30T22:19:51.719820Z",
     "iopub.status.busy": "2021-05-30T22:19:51.719574Z",
     "iopub.status.idle": "2021-05-30T22:19:51.762282Z",
     "shell.execute_reply": "2021-05-30T22:19:51.760513Z",
     "shell.execute_reply.started": "2021-05-30T22:19:51.719791Z"
    },
    "tags": []
   },
   "outputs": [
    {
     "name": "stdout",
     "output_type": "stream",
     "text": [
      "Formula: correct~Sex\n",
      "\n",
      "Family: gaussian\t Estimator: OLS\n",
      "\n",
      "Std-errors: non-robust\tCIs: standard 95%\tInference: parametric \n",
      "\n",
      "Number of observations: 672\t R^2: 0.028\t R^2_adj: 0.022\n",
      "\n",
      "Log-likelihood: 711.254 \t AIC: -1412.507\t BIC: -1389.956\n",
      "\n",
      "Fixed effects:\n",
      "\n"
     ]
    },
    {
     "data": {
      "text/html": [
       "<div>\n",
       "<style scoped>\n",
       "    .dataframe tbody tr th:only-of-type {\n",
       "        vertical-align: middle;\n",
       "    }\n",
       "\n",
       "    .dataframe tbody tr th {\n",
       "        vertical-align: top;\n",
       "    }\n",
       "\n",
       "    .dataframe thead th {\n",
       "        text-align: right;\n",
       "    }\n",
       "</style>\n",
       "<table border=\"1\" class=\"dataframe\">\n",
       "  <thead>\n",
       "    <tr style=\"text-align: right;\">\n",
       "      <th></th>\n",
       "      <th>Estimate</th>\n",
       "      <th>2.5_ci</th>\n",
       "      <th>97.5_ci</th>\n",
       "      <th>SE</th>\n",
       "      <th>DF</th>\n",
       "      <th>T-stat</th>\n",
       "      <th>P-val</th>\n",
       "      <th>Sig</th>\n",
       "    </tr>\n",
       "  </thead>\n",
       "  <tbody>\n",
       "    <tr>\n",
       "      <th>Intercept</th>\n",
       "      <td>0.633</td>\n",
       "      <td>0.468</td>\n",
       "      <td>0.799</td>\n",
       "      <td>0.084</td>\n",
       "      <td>667</td>\n",
       "      <td>7.515</td>\n",
       "      <td>0.000</td>\n",
       "      <td>***</td>\n",
       "    </tr>\n",
       "    <tr>\n",
       "      <th>Sex[T.DATA EXPIRED]</th>\n",
       "      <td>0.120</td>\n",
       "      <td>-0.114</td>\n",
       "      <td>0.354</td>\n",
       "      <td>0.119</td>\n",
       "      <td>667</td>\n",
       "      <td>1.007</td>\n",
       "      <td>0.314</td>\n",
       "      <td></td>\n",
       "    </tr>\n",
       "    <tr>\n",
       "      <th>Sex[T.Female]</th>\n",
       "      <td>0.106</td>\n",
       "      <td>-0.059</td>\n",
       "      <td>0.272</td>\n",
       "      <td>0.084</td>\n",
       "      <td>667</td>\n",
       "      <td>1.259</td>\n",
       "      <td>0.208</td>\n",
       "      <td></td>\n",
       "    </tr>\n",
       "    <tr>\n",
       "      <th>Sex[T.Male]</th>\n",
       "      <td>0.132</td>\n",
       "      <td>-0.033</td>\n",
       "      <td>0.298</td>\n",
       "      <td>0.084</td>\n",
       "      <td>667</td>\n",
       "      <td>1.567</td>\n",
       "      <td>0.118</td>\n",
       "      <td></td>\n",
       "    </tr>\n",
       "    <tr>\n",
       "      <th>Sex[T.Prefer not to say]</th>\n",
       "      <td>0.043</td>\n",
       "      <td>-0.159</td>\n",
       "      <td>0.246</td>\n",
       "      <td>0.103</td>\n",
       "      <td>667</td>\n",
       "      <td>0.420</td>\n",
       "      <td>0.675</td>\n",
       "      <td></td>\n",
       "    </tr>\n",
       "  </tbody>\n",
       "</table>\n",
       "</div>"
      ],
      "text/plain": [
       "                          Estimate  2.5_ci  97.5_ci     SE   DF  T-stat  \\\n",
       "Intercept                    0.633   0.468    0.799  0.084  667   7.515   \n",
       "Sex[T.DATA EXPIRED]          0.120  -0.114    0.354  0.119  667   1.007   \n",
       "Sex[T.Female]                0.106  -0.059    0.272  0.084  667   1.259   \n",
       "Sex[T.Male]                  0.132  -0.033    0.298  0.084  667   1.567   \n",
       "Sex[T.Prefer not to say]     0.043  -0.159    0.246  0.103  667   0.420   \n",
       "\n",
       "                          P-val  Sig  \n",
       "Intercept                 0.000  ***  \n",
       "Sex[T.DATA EXPIRED]       0.314       \n",
       "Sex[T.Female]             0.208       \n",
       "Sex[T.Male]               0.118       \n",
       "Sex[T.Prefer not to say]  0.675       "
      ]
     },
     "execution_count": 62,
     "metadata": {},
     "output_type": "execute_result"
    }
   ],
   "source": [
    "model = Lm('correct ~ Sex',data = Sub_agg_df)\n",
    "\n",
    "model.fit()"
   ]
  },
  {
   "cell_type": "code",
   "execution_count": 63,
   "metadata": {
    "execution": {
     "iopub.execute_input": "2021-05-30T22:19:54.878372Z",
     "iopub.status.busy": "2021-05-30T22:19:54.877470Z",
     "iopub.status.idle": "2021-05-30T22:19:54.923435Z",
     "shell.execute_reply": "2021-05-30T22:19:54.922430Z",
     "shell.execute_reply.started": "2021-05-30T22:19:54.878326Z"
    },
    "tags": []
   },
   "outputs": [
    {
     "name": "stdout",
     "output_type": "stream",
     "text": [
      "Formula: correct~StudentStatus\n",
      "\n",
      "Family: gaussian\t Estimator: OLS\n",
      "\n",
      "Std-errors: non-robust\tCIs: standard 95%\tInference: parametric \n",
      "\n",
      "Number of observations: 672\t R^2: 0.006\t R^2_adj: 0.001\n",
      "\n",
      "Log-likelihood: 703.718 \t AIC: -1399.437\t BIC: -1381.396\n",
      "\n",
      "Fixed effects:\n",
      "\n"
     ]
    },
    {
     "data": {
      "text/html": [
       "<div>\n",
       "<style scoped>\n",
       "    .dataframe tbody tr th:only-of-type {\n",
       "        vertical-align: middle;\n",
       "    }\n",
       "\n",
       "    .dataframe tbody tr th {\n",
       "        vertical-align: top;\n",
       "    }\n",
       "\n",
       "    .dataframe thead th {\n",
       "        text-align: right;\n",
       "    }\n",
       "</style>\n",
       "<table border=\"1\" class=\"dataframe\">\n",
       "  <thead>\n",
       "    <tr style=\"text-align: right;\">\n",
       "      <th></th>\n",
       "      <th>Estimate</th>\n",
       "      <th>2.5_ci</th>\n",
       "      <th>97.5_ci</th>\n",
       "      <th>SE</th>\n",
       "      <th>DF</th>\n",
       "      <th>T-stat</th>\n",
       "      <th>P-val</th>\n",
       "      <th>Sig</th>\n",
       "    </tr>\n",
       "  </thead>\n",
       "  <tbody>\n",
       "    <tr>\n",
       "      <th>Intercept</th>\n",
       "      <td>0.633</td>\n",
       "      <td>0.466</td>\n",
       "      <td>0.801</td>\n",
       "      <td>0.085</td>\n",
       "      <td>668</td>\n",
       "      <td>7.436</td>\n",
       "      <td>0.000</td>\n",
       "      <td>***</td>\n",
       "    </tr>\n",
       "    <tr>\n",
       "      <th>StudentStatus[T.DATA EXPIRED]</th>\n",
       "      <td>0.146</td>\n",
       "      <td>-0.033</td>\n",
       "      <td>0.324</td>\n",
       "      <td>0.091</td>\n",
       "      <td>668</td>\n",
       "      <td>1.600</td>\n",
       "      <td>0.110</td>\n",
       "      <td></td>\n",
       "    </tr>\n",
       "    <tr>\n",
       "      <th>StudentStatus[T.No]</th>\n",
       "      <td>0.115</td>\n",
       "      <td>-0.053</td>\n",
       "      <td>0.282</td>\n",
       "      <td>0.085</td>\n",
       "      <td>668</td>\n",
       "      <td>1.344</td>\n",
       "      <td>0.179</td>\n",
       "      <td></td>\n",
       "    </tr>\n",
       "    <tr>\n",
       "      <th>StudentStatus[T.Yes]</th>\n",
       "      <td>0.123</td>\n",
       "      <td>-0.045</td>\n",
       "      <td>0.290</td>\n",
       "      <td>0.085</td>\n",
       "      <td>668</td>\n",
       "      <td>1.438</td>\n",
       "      <td>0.151</td>\n",
       "      <td></td>\n",
       "    </tr>\n",
       "  </tbody>\n",
       "</table>\n",
       "</div>"
      ],
      "text/plain": [
       "                               Estimate  2.5_ci  97.5_ci     SE   DF  T-stat  \\\n",
       "Intercept                         0.633   0.466    0.801  0.085  668   7.436   \n",
       "StudentStatus[T.DATA EXPIRED]     0.146  -0.033    0.324  0.091  668   1.600   \n",
       "StudentStatus[T.No]               0.115  -0.053    0.282  0.085  668   1.344   \n",
       "StudentStatus[T.Yes]              0.123  -0.045    0.290  0.085  668   1.438   \n",
       "\n",
       "                               P-val  Sig  \n",
       "Intercept                      0.000  ***  \n",
       "StudentStatus[T.DATA EXPIRED]  0.110       \n",
       "StudentStatus[T.No]            0.179       \n",
       "StudentStatus[T.Yes]           0.151       "
      ]
     },
     "execution_count": 63,
     "metadata": {},
     "output_type": "execute_result"
    }
   ],
   "source": [
    "model = Lm('correct ~ StudentStatus',data = Sub_agg_df)\n",
    "\n",
    "model.fit()"
   ]
  },
  {
   "cell_type": "code",
   "execution_count": null,
   "metadata": {},
   "outputs": [],
   "source": []
  }
 ],
 "metadata": {
  "kernelspec": {
   "display_name": "Python 3",
   "language": "python",
   "name": "python3"
  },
  "language_info": {
   "codemirror_mode": {
    "name": "ipython",
    "version": 3
   },
   "file_extension": ".py",
   "mimetype": "text/x-python",
   "name": "python",
   "nbconvert_exporter": "python",
   "pygments_lexer": "ipython3",
   "version": "3.8.6"
  },
  "widgets": {
   "application/vnd.jupyter.widget-state+json": {
    "state": {},
    "version_major": 2,
    "version_minor": 0
   }
  }
 },
 "nbformat": 4,
 "nbformat_minor": 4
}
