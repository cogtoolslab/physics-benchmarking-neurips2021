{
 "cells": [
  {
   "cell_type": "markdown",
   "id": "9fc3f342-a18c-43bc-baba-55643b6a0073",
   "metadata": {},
   "source": [
    "# Analysis of model-model similarity\n",
    "Which models’ behavior were most similar to which other models’?\n",
    "\n",
    "**The purpose of this notebook is to:** \n",
    "* analyse the similarity of predictions made by different models\n",
    "\n",
    "**This notebook depends on:**\n",
    "* Running `./generate_dataframes.py` (INTERNAL USE ONLY)\n",
    "* Running `./upload_results.py` (INTERNAL USE ONLY)\n",
    "* Running `./download_results.py` (PUBLIC USE)"
   ]
  },
  {
   "cell_type": "markdown",
   "id": "3961a570-4c18-42e7-b7c7-7983f54a777c",
   "metadata": {},
   "source": [
    "## setup"
   ]
  },
  {
   "cell_type": "markdown",
   "id": "be776ac2-62fa-4663-b959-c00982282e3a",
   "metadata": {},
   "source": [
    "#### Load packages"
   ]
  },
  {
   "cell_type": "code",
   "execution_count": 1,
   "id": "76feded7-31c9-489a-90c9-a53f721c30f5",
   "metadata": {
    "tags": []
   },
   "outputs": [],
   "source": [
    "import os\n",
    "import sys\n",
    "import urllib, io\n",
    "\n",
    "sys.path.append('./analysis_helpers')\n",
    "from importlib import reload\n",
    "\n",
    "import numpy as np\n",
    "import scipy.stats as stats\n",
    "import pandas as pd\n",
    "\n",
    "import analysis_helpers as h\n",
    "\n",
    "import pymongo as pm\n",
    "from collections import Counter\n",
    "import json\n",
    "import re\n",
    "import ast\n",
    "\n",
    "from PIL import Image, ImageOps, ImageDraw, ImageFont \n",
    "\n",
    "from io import BytesIO\n",
    "import base64\n",
    "\n",
    "from tqdm.notebook import tqdm\n",
    "\n",
    "import  matplotlib\n",
    "import seaborn as sns\n",
    "from matplotlib import pylab, mlab, pyplot\n",
    "import matplotlib.pyplot as plt\n",
    "%matplotlib inline\n",
    "from IPython.core.pylabtools import figsize, getfigs\n",
    "plt = pyplot\n",
    "import matplotlib as mpl\n",
    "mpl.rcParams['pdf.fonttype'] = 42\n",
    "plt.style.use('seaborn-white')\n",
    "\n",
    "import seaborn as sns\n",
    "\n",
    "%matplotlib inline\n",
    "import scipy.stats\n",
    "import sklearn.metrics\n",
    "import random\n",
    "\n",
    "from IPython.display import clear_output\n",
    "\n",
    "import warnings\n",
    "warnings.filterwarnings(\"ignore\", category=DeprecationWarning)\n",
    "warnings.filterwarnings(\"ignore\", message=\"numpy.dtype size changed\")\n",
    "warnings.filterwarnings(\"ignore\", message=\"numpy.ufunc size changed\")"
   ]
  },
  {
   "cell_type": "markdown",
   "id": "cc0dcb84-5c87-43f5-b483-175f5bb70096",
   "metadata": {},
   "source": [
    "#### options"
   ]
  },
  {
   "cell_type": "code",
   "execution_count": 2,
   "id": "25523b98-59e7-4724-8dc0-3c2b5418af85",
   "metadata": {
    "tags": []
   },
   "outputs": [],
   "source": [
    "# display all columns\n",
    "pd.set_option('display.max_columns', None)\n",
    "\n",
    "# seaborn plotting themes\n",
    "sns.set_context('talk')\n",
    "sns.set_style(\"whitegrid\")"
   ]
  },
  {
   "cell_type": "markdown",
   "id": "33c05cca-bcf2-4353-b9ce-f023be93696e",
   "metadata": {},
   "source": [
    "#### set up paths and directories"
   ]
  },
  {
   "cell_type": "code",
   "execution_count": 3,
   "id": "8fd3810b-9398-4448-9cf4-07d551ba6437",
   "metadata": {
    "tags": []
   },
   "outputs": [],
   "source": [
    "## directory & file hierarchy\n",
    "proj_dir = os.path.abspath('..')\n",
    "datavol_dir = os.path.join(proj_dir,'data')\n",
    "analysis_dir =  os.path.abspath('.')\n",
    "results_dir = os.path.join(proj_dir,'results')\n",
    "plot_dir = os.path.join(results_dir,'plots')\n",
    "csv_dir = os.path.join(results_dir,'csv')\n",
    "json_dir = os.path.join(results_dir,'json')\n",
    "exp_dir = os.path.abspath(os.path.join(proj_dir,'behavioral_experiments'))\n",
    "png_dir = os.path.abspath(os.path.join(datavol_dir,'png'))\n",
    "\n",
    "## add helpers to python path\n",
    "if os.path.join(proj_dir,'stimuli') not in sys.path:\n",
    "    sys.path.append(os.path.join(proj_dir,'stimuli'))\n",
    "    \n",
    "if not os.path.exists(results_dir):\n",
    "    os.makedirs(results_dir)\n",
    "    \n",
    "if not os.path.exists(plot_dir):\n",
    "    os.makedirs(plot_dir)   \n",
    "    \n",
    "if not os.path.exists(csv_dir):\n",
    "    os.makedirs(csv_dir)       \n",
    "    \n",
    "## add helpers to python path\n",
    "if os.path.join(analysis_dir,'utils') not in sys.path:\n",
    "    sys.path.append(os.path.join(analysis_dir,'utils'))   \n",
    "\n",
    "def make_dir_if_not_exists(dir_name):   \n",
    "    if not os.path.exists(dir_name):\n",
    "        os.makedirs(dir_name)\n",
    "    return dir_name\n",
    "\n",
    "## create directories that don't already exist        \n",
    "result = [make_dir_if_not_exists(x) for x in [results_dir,plot_dir,csv_dir]]"
   ]
  },
  {
   "cell_type": "markdown",
   "id": "23ea0e9c-3705-4c63-bfec-c1fe9755186b",
   "metadata": {},
   "source": [
    "### load human data"
   ]
  },
  {
   "cell_type": "code",
   "execution_count": 4,
   "id": "28aa2e49-5277-4d0f-b6c1-b4909a4a0562",
   "metadata": {
    "tags": []
   },
   "outputs": [
    {
     "data": {
      "text/html": [
       "<div>\n",
       "<style scoped>\n",
       "    .dataframe tbody tr th:only-of-type {\n",
       "        vertical-align: middle;\n",
       "    }\n",
       "\n",
       "    .dataframe tbody tr th {\n",
       "        vertical-align: top;\n",
       "    }\n",
       "\n",
       "    .dataframe thead th {\n",
       "        text-align: right;\n",
       "    }\n",
       "</style>\n",
       "<table border=\"1\" class=\"dataframe\">\n",
       "  <thead>\n",
       "    <tr style=\"text-align: right;\">\n",
       "      <th></th>\n",
       "      <th>study</th>\n",
       "      <th>bucket_name</th>\n",
       "      <th>stim_version</th>\n",
       "      <th>iterationName</th>\n",
       "    </tr>\n",
       "  </thead>\n",
       "  <tbody>\n",
       "    <tr>\n",
       "      <th>0</th>\n",
       "      <td>dominoes_pilot</td>\n",
       "      <td>human-physics-benchmarking-dominoes-pilot</td>\n",
       "      <td>production_1</td>\n",
       "      <td>production_1_testing</td>\n",
       "    </tr>\n",
       "    <tr>\n",
       "      <th>1</th>\n",
       "      <td>collision_pilot</td>\n",
       "      <td>human-physics-benchmarking-collision-pilot</td>\n",
       "      <td>production_2</td>\n",
       "      <td>production_2_testing</td>\n",
       "    </tr>\n",
       "    <tr>\n",
       "      <th>2</th>\n",
       "      <td>towers_pilot</td>\n",
       "      <td>human-physics-benchmarking-towers-pilot</td>\n",
       "      <td>production_2</td>\n",
       "      <td>production_2_testing</td>\n",
       "    </tr>\n",
       "    <tr>\n",
       "      <th>3</th>\n",
       "      <td>linking_pilot</td>\n",
       "      <td>human-physics-benchmarking-linking-pilot</td>\n",
       "      <td>production_2</td>\n",
       "      <td>production_2_testing</td>\n",
       "    </tr>\n",
       "    <tr>\n",
       "      <th>4</th>\n",
       "      <td>containment_pilot</td>\n",
       "      <td>human-physics-benchmarking-containment-pilot</td>\n",
       "      <td>production_2</td>\n",
       "      <td>production_2_testing</td>\n",
       "    </tr>\n",
       "    <tr>\n",
       "      <th>5</th>\n",
       "      <td>rollingsliding_pilot</td>\n",
       "      <td>human-physics-benchmarking-rollingsliding-pilot</td>\n",
       "      <td>production_2</td>\n",
       "      <td>production_2_testing</td>\n",
       "    </tr>\n",
       "    <tr>\n",
       "      <th>6</th>\n",
       "      <td>drop_pilot</td>\n",
       "      <td>human-physics-benchmarking-drop-pilot</td>\n",
       "      <td>production_2</td>\n",
       "      <td>production_2_testing</td>\n",
       "    </tr>\n",
       "    <tr>\n",
       "      <th>7</th>\n",
       "      <td>clothiness_pilot</td>\n",
       "      <td>human-physics-benchmarking-clothiness-pilot</td>\n",
       "      <td>production_2</td>\n",
       "      <td>production_2_testing</td>\n",
       "    </tr>\n",
       "  </tbody>\n",
       "</table>\n",
       "</div>"
      ],
      "text/plain": [
       "                  study                                      bucket_name  \\\n",
       "0        dominoes_pilot        human-physics-benchmarking-dominoes-pilot   \n",
       "1       collision_pilot       human-physics-benchmarking-collision-pilot   \n",
       "2          towers_pilot          human-physics-benchmarking-towers-pilot   \n",
       "3         linking_pilot         human-physics-benchmarking-linking-pilot   \n",
       "4     containment_pilot     human-physics-benchmarking-containment-pilot   \n",
       "5  rollingsliding_pilot  human-physics-benchmarking-rollingsliding-pilot   \n",
       "6            drop_pilot            human-physics-benchmarking-drop-pilot   \n",
       "7      clothiness_pilot      human-physics-benchmarking-clothiness-pilot   \n",
       "\n",
       "   stim_version         iterationName  \n",
       "0  production_1  production_1_testing  \n",
       "1  production_2  production_2_testing  \n",
       "2  production_2  production_2_testing  \n",
       "3  production_2  production_2_testing  \n",
       "4  production_2  production_2_testing  \n",
       "5  production_2  production_2_testing  \n",
       "6  production_2  production_2_testing  \n",
       "7  production_2  production_2_testing  "
      ]
     },
     "execution_count": 4,
     "metadata": {},
     "output_type": "execute_result"
    }
   ],
   "source": [
    "from experiment_meta import *\n",
    "HEM = pd.DataFrame(NEURIPS2021_EXPS) # HEM = \"human experiment metadata\"\n",
    "HEM"
   ]
  },
  {
   "cell_type": "code",
   "execution_count": 5,
   "id": "d2961df5-e0fe-4640-b042-1b1034c45278",
   "metadata": {
    "tags": []
   },
   "outputs": [],
   "source": [
    "SCENARIOS = sorted([n.split(\"_\")[0] for n in HEM['study'].unique()])"
   ]
  },
  {
   "cell_type": "code",
   "execution_count": 6,
   "id": "77dd7202-210f-41e8-b155-594da1e99880",
   "metadata": {
    "tags": []
   },
   "outputs": [],
   "source": [
    "## get paths to all human response data\n",
    "data_paths = [os.path.join(csv_dir,'humans',i) for i in os.listdir(os.path.join(csv_dir,'humans'))]\n",
    "resp_paths = [i for i in data_paths if i.split('/')[-1].split('-')[0]=='human_responses']\n",
    "assert len(resp_paths)==8"
   ]
  },
  {
   "cell_type": "code",
   "execution_count": 7,
   "id": "0e723aa2-802d-425b-9ad6-41be4ec185b5",
   "metadata": {},
   "outputs": [],
   "source": [
    "## tally up all flagged sessions\n"
   ]
  },
  {
   "cell_type": "code",
   "execution_count": 8,
   "id": "94d5f5c5-e2c3-40d3-9b62-0d72a8cf225e",
   "metadata": {
    "scrolled": true,
    "tags": []
   },
   "outputs": [
    {
     "name": "stdout",
     "output_type": "stream",
     "text": [
      "97.5th percentile for streak length is 12.0.\n",
      "There are 3 flagged IDs so far due to long streaks.\n",
      "There are 0 flagged IDs so far due to alternating sequences.\n",
      "TODO: Still need to flag familiarization trial failures!!!!\n",
      "There are 2 flagged IDs so far due to low accuracy.\n",
      "There are 1 flagged IDs so far due to high RTs.\n",
      "There are a total of 6 flagged IDs.\n",
      "There are a total of 94 valid and complete sessions for collision.\n",
      "97.5th percentile for streak length is 12.0.\n",
      "There are 4 flagged IDs so far due to long streaks.\n",
      "There are 0 flagged IDs so far due to alternating sequences.\n",
      "TODO: Still need to flag familiarization trial failures!!!!\n",
      "There are 3 flagged IDs so far due to low accuracy.\n",
      "There are 0 flagged IDs so far due to high RTs.\n",
      "There are a total of 4 flagged IDs.\n",
      "There are a total of 96 valid and complete sessions for rollingsliding.\n",
      "97.5th percentile for streak length is 12.0.\n",
      "There are 12 flagged IDs so far due to long streaks.\n",
      "There are 0 flagged IDs so far due to alternating sequences.\n",
      "TODO: Still need to flag familiarization trial failures!!!!\n",
      "There are 2 flagged IDs so far due to low accuracy.\n",
      "There are 1 flagged IDs so far due to high RTs.\n",
      "There are a total of 14 flagged IDs.\n",
      "There are a total of 86 valid and complete sessions for dominoes.\n",
      "97.5th percentile for streak length is 12.0.\n",
      "There are 7 flagged IDs so far due to long streaks.\n",
      "There are 0 flagged IDs so far due to alternating sequences.\n",
      "TODO: Still need to flag familiarization trial failures!!!!\n",
      "There are 1 flagged IDs so far due to low accuracy.\n",
      "There are 0 flagged IDs so far due to high RTs.\n",
      "There are a total of 7 flagged IDs.\n",
      "There are a total of 93 valid and complete sessions for drop.\n",
      "97.5th percentile for streak length is 12.0.\n",
      "There are 24 flagged IDs so far due to long streaks.\n",
      "There are 0 flagged IDs so far due to alternating sequences.\n",
      "TODO: Still need to flag familiarization trial failures!!!!\n",
      "There are 0 flagged IDs so far due to low accuracy.\n",
      "There are 1 flagged IDs so far due to high RTs.\n",
      "There are a total of 25 flagged IDs.\n",
      "There are a total of 75 valid and complete sessions for clothiness.\n",
      "97.5th percentile for streak length is 12.0.\n",
      "There are 11 flagged IDs so far due to long streaks.\n",
      "There are 0 flagged IDs so far due to alternating sequences.\n",
      "TODO: Still need to flag familiarization trial failures!!!!\n",
      "There are 0 flagged IDs so far due to low accuracy.\n",
      "There are 1 flagged IDs so far due to high RTs.\n",
      "There are a total of 12 flagged IDs.\n",
      "There are a total of 88 valid and complete sessions for linking.\n",
      "97.5th percentile for streak length is 12.0.\n",
      "There are 16 flagged IDs so far due to long streaks.\n",
      "There are 0 flagged IDs so far due to alternating sequences.\n",
      "TODO: Still need to flag familiarization trial failures!!!!\n",
      "There are 3 flagged IDs so far due to low accuracy.\n",
      "There are 1 flagged IDs so far due to high RTs.\n",
      "There are a total of 18 flagged IDs.\n",
      "There are a total of 83 valid and complete sessions for containment.\n",
      "97.5th percentile for streak length is 12.0.\n",
      "There are 16 flagged IDs so far due to long streaks.\n",
      "There are 0 flagged IDs so far due to alternating sequences.\n",
      "TODO: Still need to flag familiarization trial failures!!!!\n",
      "There are 2 flagged IDs so far due to low accuracy.\n",
      "There are 2 flagged IDs so far due to high RTs.\n",
      "There are a total of 17 flagged IDs.\n",
      "There are a total of 85 valid and complete sessions for towers.\n",
      "Loaded 105000 lines\n"
     ]
    }
   ],
   "source": [
    "## also load all human data into a big dataframe\n",
    "HD = pd.concat([h.apply_exclusion_criteria(h.load_and_preprocess_data(p), verbose=True) for p in resp_paths])\n",
    "print(\"Loaded {} lines\".format(len(HD)))"
   ]
  },
  {
   "cell_type": "markdown",
   "id": "17543b03-fe8e-4428-9128-759a1cd9784b",
   "metadata": {
    "tags": []
   },
   "source": [
    "#### exclude subjects from familiarization\n",
    "Run `familiariarization_exclusion.ipynb` to generate `excluded_games.csv`"
   ]
  },
  {
   "cell_type": "code",
   "execution_count": 9,
   "id": "4127b85a-34eb-4b7d-b98f-a98a80dc724a",
   "metadata": {
    "tags": []
   },
   "outputs": [],
   "source": [
    "bad_games = pd.read_csv(os.path.join(csv_dir,\"humans/excluded_games.csv\")).values[:,1]"
   ]
  },
  {
   "cell_type": "code",
   "execution_count": 10,
   "id": "a2f5d9fe-8cc3-41ac-9384-2e0f52e05352",
   "metadata": {
    "tags": []
   },
   "outputs": [
    {
     "data": {
      "text/plain": [
       "array(['0720-d5f527dc-d86a-4d88-af8f-b70ac9264fef',\n",
       "       '1685-8963fea0-0d21-454b-8bbe-e9cbc792aa11',\n",
       "       '4917-538725a5-383f-462b-9ab7-43b9473c9dcc',\n",
       "       '7411-987b0a97-8a67-41a3-a3d8-d8f792c35ab5',\n",
       "       '8383-e0582a4e-6498-4d91-bb29-2b6a363cc2e9',\n",
       "       '8731-67e86658-28ff-4cc6-b722-9620e3b3ce43',\n",
       "       '9784-7a67e88b-0416-4b55-8a72-9a0d99038c49',\n",
       "       '9808-e983d3b8-75c3-428a-8182-f57fd645abb1',\n",
       "       '9930-aa52e4be-e5e3-441a-9cb4-f1144d9e233f'], dtype=object)"
      ]
     },
     "execution_count": 10,
     "metadata": {},
     "output_type": "execute_result"
    }
   ],
   "source": [
    "bad_games"
   ]
  },
  {
   "cell_type": "code",
   "execution_count": 11,
   "id": "147936a8-ad83-4fc6-9414-389f74619c10",
   "metadata": {
    "tags": []
   },
   "outputs": [
    {
     "name": "stdout",
     "output_type": "stream",
     "text": [
      "Excluding 900 rows for 9 games\n"
     ]
    }
   ],
   "source": [
    "print(\"Excluding {} rows for {} games\".format(sum(HD['gameID'].isin(bad_games)), len(bad_games)))\n",
    "HD = HD[~HD['gameID'].isin(bad_games)]"
   ]
  },
  {
   "cell_type": "markdown",
   "id": "4f291459-7ddc-4443-ac4f-625fc90e9f24",
   "metadata": {},
   "source": [
    "### load model data"
   ]
  },
  {
   "cell_type": "code",
   "execution_count": 12,
   "id": "d738006a-02e2-41e8-8acd-9df72fa83ee3",
   "metadata": {
    "tags": []
   },
   "outputs": [],
   "source": [
    "## get paths to all model data\n",
    "model_data_paths = [os.path.join(csv_dir,'models',i) for i in os.listdir(os.path.join(csv_dir,'models'))]\n",
    "model_res_paths = [i for i in model_data_paths if i.split('.')[-1] == \"csv\"]"
   ]
  },
  {
   "cell_type": "code",
   "execution_count": 13,
   "id": "5c2db6ba-7fa1-434e-8467-eac8ecacf281",
   "metadata": {},
   "outputs": [],
   "source": [
    "## clear out allModels_results.csv\n",
    "model_res_paths = [p for p in model_res_paths if not \"allModels_results.csv\" in p]"
   ]
  },
  {
   "cell_type": "code",
   "execution_count": 14,
   "id": "886d2c01-b1a0-47d1-a7f9-71cbf4c9e99b",
   "metadata": {
    "tags": []
   },
   "outputs": [
    {
     "name": "stdout",
     "output_type": "stream",
     "text": [
      "Loaded 248011 rows\n"
     ]
    }
   ],
   "source": [
    "## load all model results into a single dataframe\n",
    "MD = pd.concat([pd.read_csv(p).assign(filename=p.split('/')[-1]) for p in model_res_paths])\n",
    "print(\"Loaded {} rows\".format(len(MD)))"
   ]
  },
  {
   "cell_type": "code",
   "execution_count": 15,
   "id": "f3b3c5fd-d5b4-49dc-8103-e0236267836e",
   "metadata": {
    "tags": []
   },
   "outputs": [],
   "source": [
    "# a couple of import steps (restore original scenario names, add single prediction value, add correctness column)\n",
    "MD = h.process_model_dataframe(MD)"
   ]
  },
  {
   "cell_type": "code",
   "execution_count": 16,
   "id": "606a3052-4dc1-46b5-aa8c-27525d0337d3",
   "metadata": {
    "tags": []
   },
   "outputs": [
    {
     "name": "stdout",
     "output_type": "stream",
     "text": [
      "⚠️There are 0 duplicated rows!\n",
      "Removed duplicates, 248011 rows left\n"
     ]
    }
   ],
   "source": [
    "#check for duplicated rows\n",
    "if len(MD.duplicated()) > 0:\n",
    "    print(\"⚠️There are {} duplicated rows!\".format(np.sum(MD.duplicated())))\n",
    "    MD = MD[~MD.duplicated(h.MODEL_COLS+[\"Stimulus Name\"],keep=\"first\")]\n",
    "    print(\"Removed duplicates, {} rows left\".format(len(MD)))"
   ]
  },
  {
   "cell_type": "code",
   "execution_count": 17,
   "id": "c3e4255b-71bd-41c7-98c6-3967d830af1a",
   "metadata": {
    "tags": []
   },
   "outputs": [],
   "source": [
    "# save model kinds to variable\n",
    "# we will overwrite this further down\n",
    "MODELS = list(MD[\"Model Kind\"].unique())"
   ]
  },
  {
   "cell_type": "code",
   "execution_count": 18,
   "id": "ae520fa2-9796-4b91-a3fc-d0c8c8138a35",
   "metadata": {
    "tags": []
   },
   "outputs": [
    {
     "name": "stdout",
     "output_type": "stream",
     "text": [
      "We get the following kinds of models:\n"
     ]
    },
    {
     "data": {
      "text/plain": [
       "['VGGFrozenMLP_VGG_nan_nan_nan_L2 on latent_0_same',\n",
       " 'RPIN_R-CNN_0.0_L2 on 2D position_all_but_this_L2 on 2D position_0_same',\n",
       " 'RPIN_R-CNN_0.0_L2 on 2D position_all_L2 on 2D position_0_same',\n",
       " 'RPIN_R-CNN_0.0_L2 on 2D position_same_L2 on 2D position_0_same',\n",
       " 'RPIN_R-CNN_1.0_L2 on 2D position_all_but_this_L2 on 2D position_1_same',\n",
       " 'RPIN_R-CNN_2.0_L2 on 2D position_all_but_this_L2 on 2D position_2_same',\n",
       " 'RPIN_R-CNN_1.0_L2 on 2D position_all_L2 on 2D position_1_same',\n",
       " 'RPIN_R-CNN_2.0_L2 on 2D position_all_L2 on 2D position_2_same',\n",
       " 'RPIN_R-CNN_1.0_L2 on 2D position_same_L2 on 2D position_1_same',\n",
       " 'RPIN_R-CNN_2.0_L2 on 2D position_same_L2 on 2D position_2_same',\n",
       " 'SVG_VGG_1.0_VAE_all_but_this_VAE_1_same',\n",
       " 'SVG_VGG_1.0_VAE_all_VAE_1_same',\n",
       " 'SVG_VGG_1.0_VAE_same_VAE_1_same',\n",
       " 'VGGFrozenLSTM_VGG_nan_nan_nan_L2 on latent_0_same',\n",
       " 'SVG_VGG_2.0_VAE_all_but_this_VAE_2_same',\n",
       " 'SVG_VGG_0.0_VAE_all_but_this_VAE_0_same',\n",
       " 'SVG_VGG_2.0_VAE_all_VAE_2_same',\n",
       " 'SVG_VGG_0.0_VAE_all_VAE_0_same',\n",
       " 'SVG_VGG_2.0_VAE_same_VAE_2_same',\n",
       " 'SVG_VGG_0.0_VAE_same_VAE_0_same',\n",
       " 'CSWM_CSWM encoder_0.0_Contrastive_all_but_this_Contrastive_0_same',\n",
       " 'CSWM_CSWM encoder_0.0_Contrastive_all_Contrastive_0_same',\n",
       " 'CSWM_CSWM encoder_0.0_Contrastive_same_Contrastive_0_same',\n",
       " 'DEITFrozenLSTM_DEIT_nan_nan_nan_L2 on latent_0_same',\n",
       " 'DEITFrozenMLP_DEIT_nan_nan_nan_L2 on latent_0_same',\n",
       " 'OP3_OP3 encoder_0.0_Image Reconstruction_all_but_this_Image Reconstruction_0_same',\n",
       " 'OP3_OP3 encoder_0.0_Image Reconstruction_all_Image Reconstruction_0_same',\n",
       " 'OP3_OP3 encoder_0.0_Image Reconstruction_same_Image Reconstruction_0_same',\n",
       " 'GNS-ransac_nan_nan_nan_nan_L2 on particle 3D positions_1_same',\n",
       " 'GNS_nan_nan_nan_nan_L2 on particle 3D positions_1_same',\n",
       " 'DPI_nan_nan_nan_nan_L2 on particle 3D positions_1_same']"
      ]
     },
     "metadata": {},
     "output_type": "display_data"
    }
   ],
   "source": [
    "print(\"We get the following kinds of models:\")\n",
    "display(MODELS)"
   ]
  },
  {
   "cell_type": "markdown",
   "id": "9728b789-32ac-425f-9546-acd8704dffd3",
   "metadata": {},
   "source": [
    "#### exclude bad stims (where model/human stims mismatched)"
   ]
  },
  {
   "cell_type": "code",
   "execution_count": 19,
   "id": "74689a9a-3a06-4407-94e8-bf0e0e6e1431",
   "metadata": {
    "tags": []
   },
   "outputs": [
    {
     "name": "stdout",
     "output_type": "stream",
     "text": [
      "There are 37 bad stims\n"
     ]
    }
   ],
   "source": [
    "stim_comparision = pd.merge(pd.DataFrame(MD.groupby('Canon Stimulus Name')['Actual Outcome'].first()).reset_index(),pd.DataFrame(HD.groupby('stim_ID')['target_hit_zone_label'].first()).reset_index(),left_on='Canon Stimulus Name',right_on='stim_ID')\n",
    "\n",
    "bad_stims = stim_comparision[stim_comparision['Actual Outcome'] != stim_comparision['target_hit_zone_label']]['Canon Stimulus Name']\n",
    "print(\"There are {} bad stims\".format(len(bad_stims)))"
   ]
  },
  {
   "cell_type": "code",
   "execution_count": 20,
   "id": "a66245a2-fbe5-4423-9144-0f1e542f478a",
   "metadata": {
    "tags": []
   },
   "outputs": [],
   "source": [
    "#Exclude bad stims\n",
    "HD = HD[~HD['stim_ID'].isin(bad_stims)]\n",
    "MD = MD[~MD['Canon Stimulus Name'].isin(bad_stims)]"
   ]
  },
  {
   "cell_type": "code",
   "execution_count": 21,
   "id": "f2d32856-6a0a-4a70-a3a7-5c4f9d44a67c",
   "metadata": {
    "tags": []
   },
   "outputs": [],
   "source": [
    "#Also exclude stims from the rollingsliding ledge subset\n",
    "HD = HD[~HD['stim_ID'].str.contains(\"rollingSliding_simple_ledge\")]\n",
    "MD = MD[~MD['Canon Stimulus Name'].str.contains(\"rollingSliding_simple_ledge\")]"
   ]
  },
  {
   "cell_type": "markdown",
   "id": "922b06b8-1f8f-4a57-9ed6-c1d3f020bf99",
   "metadata": {},
   "source": [
    "### generate labels for regression analysis\n",
    "* Comparison 1: Visual encoder architecture (ConvNet [SVG/VGGFrozenLSTM] vs. transformer [DEITFrozenLSTM] … DEITFrozenMLP vs. SVG/VGGFrozenMLP)\n",
    "* Comparison 2: Dynamics model RNN vs. MLP (LSTM vs. MLP for above)\n",
    "* Comparison 3: Among unsupervised models, object-centric vs. non-object-centric\n",
    "        * {CSWM, OP3} vs. {SVG}\n",
    "* Comparison 4: Latent vs. pixel reconstruction loss\n",
    "        * CSWM vs. OP3\n",
    "* Comparison 5: RPIN vs. CSWM/OP3 (“supervised explicit object-centric” vs. “unsupervised implicit object-centric”)\n",
    "\n",
    "Dimensions: \n",
    "* “Visual encoder architecture” : [“ConvNet” “Transformer” “Neither”]\n",
    "* “Dynamics model architecture” : [“LSTM”, “MLP”, “Neither”]\n",
    "* “ObjectCentric”: [TRUE, FALSE, NA]\n",
    "* “Supervised”: [TRUE, FALSE]\n",
    "* “SelfSupervisedLoss”: [“latent”, “pixel”, “NA”]\n"
   ]
  },
  {
   "cell_type": "code",
   "execution_count": 22,
   "id": "08726e66-cf07-4964-8841-6264e3095dea",
   "metadata": {
    "tags": []
   },
   "outputs": [],
   "source": [
    "#“Visual encoder architecture” : [“ConvNet” “Transformer” “Neither”]\n",
    "MD['Visual encoder architecture'] = \"Neither\"\n",
    "MD.loc[(MD['Model'].str.contains(\"SVG\")) | (MD['Model'].str.contains(\"VGG\")),'Visual encoder architecture'] = \"ConvNet\"\n",
    "MD.loc[(MD['Model'].str.contains(\"DEIT\")) | (MD['Model'].str.contains(\"VGG\")),'Visual encoder architecture'] = \"Transformer\""
   ]
  },
  {
   "cell_type": "code",
   "execution_count": 23,
   "id": "e534323f-1c9f-4f67-a639-85aafd7bae07",
   "metadata": {
    "tags": []
   },
   "outputs": [],
   "source": [
    "# “Dynamics model architecture” : [“LSTM”, “MLP”, “Neither”]\n",
    "MD['Dynamics model architecture'] = \"Neither\"\n",
    "MD.loc[(MD['Model'].str.contains(\"LSTM\")),'Dynamics model architecture'] = \"LSTM\"\n",
    "MD.loc[(MD['Model'].str.contains(\"MLP\")),'Dynamics model architecture'] = \"MLP\""
   ]
  },
  {
   "cell_type": "code",
   "execution_count": 24,
   "id": "d8dee152-6d68-4380-b63a-b7f45c1d70ab",
   "metadata": {
    "tags": []
   },
   "outputs": [],
   "source": [
    "# ObjectCentric”: [TRUE, FALSE, NA]\n",
    "MD['ObjectCentric'] = np.nan\n",
    "MD.loc[(MD['Model'].str.contains(\"CSWM\")) | (MD['Model'].str.contains(\"OP3\")) | (MD['Model'].str.contains(\"DPI\")),'ObjectCentric'] = True\n",
    "MD.loc[(MD['Model'].str.contains(\"SVG\")),'ObjectCentric'] = False\n",
    "# MD['ObjectCentric'] = MD['ObjectCentric'].astype(bool)"
   ]
  },
  {
   "cell_type": "code",
   "execution_count": 25,
   "id": "0968bb4b-6948-45ae-a468-166a04099213",
   "metadata": {
    "tags": []
   },
   "outputs": [],
   "source": [
    "# Supervised”: [TRUE, FALSE]\n",
    "MD['Supervised'] = np.nan\n",
    "MD.loc[(MD['Model'].str.contains(\"RPIN\")) | (MD['Model'].str.contains(\"DPI\")),'Supervised'] = True\n",
    "MD.loc[(MD['Model'].str.contains(\"CSWM\")) | (MD['Model'].str.contains(\"OP3\")) | (MD['Model'].str.contains(\"SVG\") | (MD['Model'].str.contains(\"VGG\"))),'Supervised'] = False\n",
    "# MD['Supervised'] = MD['Supervised'].astype(bool)"
   ]
  },
  {
   "cell_type": "code",
   "execution_count": 26,
   "id": "e36a1b54-0128-497b-b3ea-2215673d8357",
   "metadata": {
    "tags": []
   },
   "outputs": [],
   "source": [
    "# SelfSupervisedLoss”: [“latent”, “pixel”, “NA”]\n",
    "MD['SelfSupervisedLossSelfSupervisedLoss'] = \"NA\"\n",
    "MD.loc[(MD['Model'].str.contains(\"CSWM\")),'SelfSupervisedLoss'] = \"latent\"\n",
    "MD.loc[(MD['Model'].str.contains(\"OP3\")) | (MD['Model'].str.contains(\"VGG\")) | (MD['Model'].str.contains(\"SVG\") | (MD['Model'].str.contains(\"VGG\"))),'SelfSupervisedLoss'] = \"pixel\""
   ]
  },
  {
   "cell_type": "code",
   "execution_count": 27,
   "id": "edb62ecf-e028-44c6-871e-76afa32f11b6",
   "metadata": {
    "tags": []
   },
   "outputs": [],
   "source": [
    "#save as model identifying column\n",
    "MODEL_COLS = h.MODEL_COLS + ['Visual encoder architecture','Dynamics model architecture','ObjectCentric','Supervised','SelfSupervisedLossSelfSupervisedLoss']"
   ]
  },
  {
   "cell_type": "markdown",
   "id": "0a4f9b58-fff2-4068-9aa2-7935f66f0992",
   "metadata": {},
   "source": [
    "Restrict ourselves only to the models used in the NEURIPS 2021 plots"
   ]
  },
  {
   "cell_type": "code",
   "execution_count": 28,
   "id": "03e76fc6-afab-4b79-9ede-5fe7c6373a6b",
   "metadata": {},
   "outputs": [],
   "source": [
    "MD = MD[~(((MD['Model'] == 'SVG') | (MD['Model'] == 'RPIN')) & (MD['Encoder Training Seed'] != 0.0))]"
   ]
  },
  {
   "cell_type": "code",
   "execution_count": 29,
   "id": "fcc57687-2ebf-416d-9fab-3a4de38d512c",
   "metadata": {
    "tags": []
   },
   "outputs": [],
   "source": [
    "#choose readout and training type\n",
    "MD_both = MD[(MD['Readout Type'] == \"B\") & (MD['Dynamics Training Dataset Type'] == \"all\")]"
   ]
  },
  {
   "cell_type": "code",
   "execution_count": 30,
   "id": "8c0b98b5-3002-4f7c-81f2-6e7616e49ec3",
   "metadata": {
    "tags": []
   },
   "outputs": [],
   "source": [
    "MD_readouts = MD[(MD['Dynamics Training Dataset Type'] == \"all\")]"
   ]
  },
  {
   "cell_type": "code",
   "execution_count": 31,
   "id": "ac441e43-db96-4a38-88df-5725a449eb57",
   "metadata": {
    "tags": []
   },
   "outputs": [],
   "source": [
    "MD_trainings = MD[(MD['Readout Type'] == \"B\")].copy()"
   ]
  },
  {
   "cell_type": "code",
   "execution_count": 32,
   "id": "6b3b8354-9a3a-41bf-8b14-2a44722c35e8",
   "metadata": {
    "tags": []
   },
   "outputs": [],
   "source": [
    "#collapse model names HACK\n",
    "MD_trainings['Model Kind'] = MD_trainings['Model Kind'].apply(lambda x: x.replace(\"same_\",\"all_\"))\n",
    "MD_trainings['Model Kind'] = MD_trainings['Model Kind'].apply(lambda x: x.replace(\"all_but_this\",\"all\"))"
   ]
  },
  {
   "cell_type": "code",
   "execution_count": 33,
   "id": "11d46aa9-edab-4fd5-a366-3bea7f53f333",
   "metadata": {
    "tags": []
   },
   "outputs": [],
   "source": [
    "#rename these by hand if necessary\n",
    "MODEL_NAMES = {\n",
    " 'SVG_VGG_0.0_VAE_all_VAE_0_same': 'SVG',\n",
    " 'OP3_OP3 encoder_0.0_Image Reconstruction_all_Image Reconstruction_0_same': 'OP3',\n",
    " 'CSWM_CSWM encoder_0.0_Contrastive_all_Contrastive_0_same': 'CSWM',\n",
    " 'RPIN_R-CNN_0.0_L2 on 2D position_all_L2 on 2D position_0_same': 'RPIN',\n",
    " 'VGGFrozenMLP_VGG_nan_nan_nan_L2 on latent_0_same': 'pVGG-mlp',\n",
    " 'VGGFrozenLSTM_VGG_nan_nan_nan_L2 on latent_0_same': 'pVGG-lstm',\n",
    " 'DEITFrozenMLP_DEIT_nan_nan_nan_L2 on latent_0_same': 'pDEIT-mlp',\n",
    " 'DEITFrozenLSTM_DEIT_nan_nan_nan_L2 on latent_0_same': 'pDEIT-lstm',\n",
    " 'GNS_nan_nan_nan_nan_L2 on particle 3D positions_1_same': 'GNS',\n",
    " 'GNS-ransac_nan_nan_nan_nan_L2 on particle 3D positions_1_same': 'GNS-R',\n",
    " 'DPI_nan_nan_nan_nan_L2 on particle 3D positions_1_same': 'DPI',\n",
    "}"
   ]
  },
  {
   "cell_type": "markdown",
   "id": "f1cf62b3-eb91-4888-8503-62769cfc7020",
   "metadata": {},
   "source": [
    "## Analysis pairwise model-model similarity"
   ]
  },
  {
   "cell_type": "markdown",
   "id": "d52debce-9538-465b-ba8f-a8c84c4df3dd",
   "metadata": {},
   "source": [
    "Which dataframe do we want to use?"
   ]
  },
  {
   "cell_type": "code",
   "execution_count": 34,
   "id": "c5e75c54-26cb-4182-9eb2-593a1a91641f",
   "metadata": {},
   "outputs": [],
   "source": [
    "df = MD_both"
   ]
  },
  {
   "cell_type": "code",
   "execution_count": 35,
   "id": "dcf66852-52f6-4033-9e05-4769c9537ede",
   "metadata": {},
   "outputs": [],
   "source": [
    "MODELS = list(df['Model Kind'].unique())"
   ]
  },
  {
   "cell_type": "code",
   "execution_count": 36,
   "id": "2a2c0d7b-35a5-4239-9291-d067428f53e4",
   "metadata": {},
   "outputs": [
    {
     "data": {
      "text/plain": [
       "11"
      ]
     },
     "execution_count": 36,
     "metadata": {},
     "output_type": "execute_result"
    }
   ],
   "source": [
    "len(MODELS)"
   ]
  },
  {
   "cell_type": "code",
   "execution_count": 37,
   "id": "950dda7c-7718-4aa8-9cdb-1d1e4db4d8a1",
   "metadata": {},
   "outputs": [],
   "source": [
    "def get_response_vectors(df,model1,model2):\n",
    "    \"\"\"Get the matching response vectors for two models\"\"\"\n",
    "    df = df.sort_values('Canon Stimulus Name', inplace=False) #sort to ensure same order\n",
    "    df1 = df[df['Model Kind'] == model1]\n",
    "    df2 = df[df['Model Kind'] == model2]\n",
    "    #get the set of joint stim names\n",
    "    joint_stim_names = set(df1['Canon Stimulus Name'].unique()).intersection(set(df2['Canon Stimulus Name'].unique()))\n",
    "    df1 = df1[df1['Canon Stimulus Name'].isin(joint_stim_names)]\n",
    "    df2 = df2[df2['Canon Stimulus Name'].isin(joint_stim_names)]\n",
    "    if len(joint_stim_names) == 0: return np.array([]), np.array([])\n",
    "    assert np.all(np.array(df1['Canon Stimulus Name']) == np.array(df2['Canon Stimulus Name'])), \"Different stims between models\"\n",
    "    assert len(df1['Canon Stimulus Name']) == df1['Canon Stimulus Name'].nunique(), \"Duplicate stimuli\"\n",
    "    return np.array(df1['Predicted Outcome']), np.array(df2['Predicted Outcome'])"
   ]
  },
  {
   "cell_type": "markdown",
   "id": "748df90a-5d93-4c29-a5a5-ae783c549be9",
   "metadata": {},
   "source": [
    "### Cohen's $\\kappa$"
   ]
  },
  {
   "cell_type": "code",
   "execution_count": 38,
   "id": "29e6328d-6716-4889-84ed-9d50b3d79899",
   "metadata": {},
   "outputs": [
    {
     "data": {
      "application/vnd.jupyter.widget-view+json": {
       "model_id": "d7695a4a95874210a09c397c8fe8d70e",
       "version_major": 2,
       "version_minor": 0
      },
      "text/plain": [
       "  0%|          | 0/121 [00:00<?, ?it/s]"
      ]
     },
     "metadata": {},
     "output_type": "display_data"
    },
    {
     "data": {
      "application/vnd.jupyter.widget-view+json": {
       "model_id": "6ee4393b6f3f4cd9999a67a9d3f352ec",
       "version_major": 2,
       "version_minor": 0
      },
      "text/plain": [
       "  0%|          | 0/121 [00:00<?, ?it/s]"
      ]
     },
     "metadata": {},
     "output_type": "display_data"
    },
    {
     "data": {
      "application/vnd.jupyter.widget-view+json": {
       "model_id": "b533ee26c0a842c294233d3ac9e84e78",
       "version_major": 2,
       "version_minor": 0
      },
      "text/plain": [
       "  0%|          | 0/121 [00:00<?, ?it/s]"
      ]
     },
     "metadata": {},
     "output_type": "display_data"
    },
    {
     "data": {
      "application/vnd.jupyter.widget-view+json": {
       "model_id": "4b8fba7d50ba4448bb2bf080ea4dc533",
       "version_major": 2,
       "version_minor": 0
      },
      "text/plain": [
       "  0%|          | 0/121 [00:00<?, ?it/s]"
      ]
     },
     "metadata": {},
     "output_type": "display_data"
    },
    {
     "name": "stderr",
     "output_type": "stream",
     "text": [
      "/usr/local/anaconda3/envs/tdw/lib/python3.9/site-packages/sklearn/metrics/_classification.py:641: RuntimeWarning: invalid value encountered in true_divide\n",
      "  k = np.sum(w_mat * confusion) / np.sum(w_mat * expected)\n",
      "/usr/local/anaconda3/envs/tdw/lib/python3.9/site-packages/sklearn/metrics/_classification.py:641: RuntimeWarning: invalid value encountered in true_divide\n",
      "  k = np.sum(w_mat * confusion) / np.sum(w_mat * expected)\n",
      "/usr/local/anaconda3/envs/tdw/lib/python3.9/site-packages/sklearn/metrics/_classification.py:641: RuntimeWarning: invalid value encountered in true_divide\n",
      "  k = np.sum(w_mat * confusion) / np.sum(w_mat * expected)\n",
      "/usr/local/anaconda3/envs/tdw/lib/python3.9/site-packages/sklearn/metrics/_classification.py:641: RuntimeWarning: invalid value encountered in true_divide\n",
      "  k = np.sum(w_mat * confusion) / np.sum(w_mat * expected)\n"
     ]
    },
    {
     "data": {
      "application/vnd.jupyter.widget-view+json": {
       "model_id": "7db038556e9c4f8b9678e8a1bc2a4dda",
       "version_major": 2,
       "version_minor": 0
      },
      "text/plain": [
       "  0%|          | 0/121 [00:00<?, ?it/s]"
      ]
     },
     "metadata": {},
     "output_type": "display_data"
    },
    {
     "data": {
      "application/vnd.jupyter.widget-view+json": {
       "model_id": "81db9e27b64b4c52aa075a036603ef64",
       "version_major": 2,
       "version_minor": 0
      },
      "text/plain": [
       "  0%|          | 0/121 [00:00<?, ?it/s]"
      ]
     },
     "metadata": {},
     "output_type": "display_data"
    },
    {
     "data": {
      "application/vnd.jupyter.widget-view+json": {
       "model_id": "9b2afa18ae3044b39ec6b65ceecab0e5",
       "version_major": 2,
       "version_minor": 0
      },
      "text/plain": [
       "  0%|          | 0/121 [00:00<?, ?it/s]"
      ]
     },
     "metadata": {},
     "output_type": "display_data"
    },
    {
     "data": {
      "application/vnd.jupyter.widget-view+json": {
       "model_id": "f5fea7936c2c41d18d53acac472ddedd",
       "version_major": 2,
       "version_minor": 0
      },
      "text/plain": [
       "  0%|          | 0/121 [00:00<?, ?it/s]"
      ]
     },
     "metadata": {},
     "output_type": "display_data"
    }
   ],
   "source": [
    "Cohens_k_dfs = {}\n",
    "for scenario in SCENARIOS:\n",
    "    Cohens_k_df = pd.DataFrame(index = MODELS,columns = MODELS)\n",
    "    _df = df[df['Readout Test Data'] == scenario] #get scenario\n",
    "    for model1,model2 in tqdm([(m1,m2) for m1 in MODELS for m2 in MODELS]):\n",
    "        resp1,resp2 = get_response_vectors(_df,model1,model2) \n",
    "        if len(resp1)>0:\n",
    "            measure = sklearn.metrics.cohen_kappa_score(resp1,resp2)\n",
    "            Cohens_k_df.loc[model1,model2] = measure\n",
    "    Cohens_k_dfs[scenario] = Cohens_k_df #save scenario results"
   ]
  },
  {
   "cell_type": "code",
   "execution_count": 39,
   "id": "2a59e183-d73b-4fdb-85d5-0140bc6120bc",
   "metadata": {},
   "outputs": [
    {
     "data": {
      "image/png": "[encoded data removed]",
      "text/plain": [
       "<Figure size 1440x540 with 16 Axes>"
      ]
     },
     "metadata": {},
     "output_type": "display_data"
    }
   ],
   "source": [
    "figure, axes = plt.subplots(2, 4, sharex=True, figsize=(20,7.5)) \n",
    "for i,(scenario, Cohens_k_df) in enumerate(Cohens_k_dfs.items()):\n",
    "    ax = axes.flatten()[i]\n",
    "    # sort rows & columns to ensure model order\n",
    "    Cohens_k_df = Cohens_k_df[list(MODEL_NAMES.keys())]\n",
    "    Cohens_k_df = Cohens_k_df.reindex(labels=list(MODEL_NAMES.keys()))\n",
    "    sns.heatmap(\n",
    "        Cohens_k_df.fillna(0,inplace=False), #crashes if na\n",
    "        ax = ax,\n",
    "        mask=np.array(Cohens_k_df.isnull()), #hide na\n",
    "        xticklabels=[MODEL_NAMES[n] for n in Cohens_k_df.columns],\n",
    "        yticklabels=[MODEL_NAMES[n] for n in Cohens_k_df.index],\n",
    "    )\n",
    "    ax.set_title(\"Cohen's $\\kappa$ on {}\".format(scenario))\n",
    "plt.tight_layout()\n",
    "plt.show()"
   ]
  },
  {
   "cell_type": "markdown",
   "id": "87d55537-1d38-43f1-b3e0-d3d0c7226f0f",
   "metadata": {},
   "source": [
    "### Correlation"
   ]
  },
  {
   "cell_type": "code",
   "execution_count": 42,
   "id": "a58f7efe-3a85-445b-b370-76627791302a",
   "metadata": {},
   "outputs": [
    {
     "data": {
      "application/vnd.jupyter.widget-view+json": {
       "model_id": "11a2f7a0b550452d85ed330b40020a6b",
       "version_major": 2,
       "version_minor": 0
      },
      "text/plain": [
       "  0%|          | 0/121 [00:00<?, ?it/s]"
      ]
     },
     "metadata": {},
     "output_type": "display_data"
    },
    {
     "data": {
      "application/vnd.jupyter.widget-view+json": {
       "model_id": "937962a3d9724edda8327efb6204202e",
       "version_major": 2,
       "version_minor": 0
      },
      "text/plain": [
       "  0%|          | 0/121 [00:00<?, ?it/s]"
      ]
     },
     "metadata": {},
     "output_type": "display_data"
    },
    {
     "data": {
      "application/vnd.jupyter.widget-view+json": {
       "model_id": "04d26a38016749eab9c86b6c18a32e34",
       "version_major": 2,
       "version_minor": 0
      },
      "text/plain": [
       "  0%|          | 0/121 [00:00<?, ?it/s]"
      ]
     },
     "metadata": {},
     "output_type": "display_data"
    },
    {
     "data": {
      "application/vnd.jupyter.widget-view+json": {
       "model_id": "6d158c58a8cb40038280b81848dc3cf0",
       "version_major": 2,
       "version_minor": 0
      },
      "text/plain": [
       "  0%|          | 0/121 [00:00<?, ?it/s]"
      ]
     },
     "metadata": {},
     "output_type": "display_data"
    },
    {
     "name": "stderr",
     "output_type": "stream",
     "text": [
      "/usr/local/anaconda3/envs/tdw/lib/python3.9/site-packages/scipy/stats/stats.py:4023: PearsonRConstantInputWarning: An input array is constant; the correlation coefficient is not defined.\n",
      "  warnings.warn(PearsonRConstantInputWarning())\n"
     ]
    },
    {
     "data": {
      "application/vnd.jupyter.widget-view+json": {
       "model_id": "6c467aba0bcc4dfa964826a4c082774b",
       "version_major": 2,
       "version_minor": 0
      },
      "text/plain": [
       "  0%|          | 0/121 [00:00<?, ?it/s]"
      ]
     },
     "metadata": {},
     "output_type": "display_data"
    },
    {
     "data": {
      "application/vnd.jupyter.widget-view+json": {
       "model_id": "9a5dd8c876444628ac7cde8f11663149",
       "version_major": 2,
       "version_minor": 0
      },
      "text/plain": [
       "  0%|          | 0/121 [00:00<?, ?it/s]"
      ]
     },
     "metadata": {},
     "output_type": "display_data"
    },
    {
     "data": {
      "application/vnd.jupyter.widget-view+json": {
       "model_id": "c6f30c602b294be4b14e926d73a2ba49",
       "version_major": 2,
       "version_minor": 0
      },
      "text/plain": [
       "  0%|          | 0/121 [00:00<?, ?it/s]"
      ]
     },
     "metadata": {},
     "output_type": "display_data"
    },
    {
     "data": {
      "application/vnd.jupyter.widget-view+json": {
       "model_id": "198a2a78e30c41c6b85fc1422c33c4ae",
       "version_major": 2,
       "version_minor": 0
      },
      "text/plain": [
       "  0%|          | 0/121 [00:00<?, ?it/s]"
      ]
     },
     "metadata": {},
     "output_type": "display_data"
    }
   ],
   "source": [
    "Corr_dfs = {}\n",
    "for scenario in SCENARIOS:\n",
    "    Corr_df = pd.DataFrame(index = MODELS,columns = MODELS)\n",
    "    _df = df[df['Readout Test Data'] == scenario] #get scenario\n",
    "    for model1,model2 in tqdm([(m1,m2) for m1 in MODELS for m2 in MODELS]):\n",
    "        resp1,resp2 = get_response_vectors(_df,model1,model2) \n",
    "        if len(resp1)>0:\n",
    "            measure,p = scipy.stats.pearsonr(resp1,resp2)\n",
    "            Corr_df.loc[model1,model2] = measure\n",
    "    Corr_dfs[scenario] = Corr_df #save scenario results"
   ]
  },
  {
   "cell_type": "code",
   "execution_count": 43,
   "id": "390c9d9e-d026-403b-bfae-711920654b8d",
   "metadata": {},
   "outputs": [
    {
     "data": {
      "image/png": "[encoded data removed]",
      "text/plain": [
       "<Figure size 1440x540 with 16 Axes>"
      ]
     },
     "metadata": {},
     "output_type": "display_data"
    }
   ],
   "source": [
    "figure, axes = plt.subplots(2, 4, sharex=True, figsize=(20,7.5)) \n",
    "for i,(scenario, Corr_df) in enumerate(Corr_dfs.items()):\n",
    "    ax = axes.flatten()[i]\n",
    "    # sort rows & columns to ensure model order\n",
    "    Corr_df = Corr_df[list(MODEL_NAMES.keys())]\n",
    "    Corr_df = Corr_df.reindex(labels=list(MODEL_NAMES.keys()))\n",
    "    sns.heatmap(\n",
    "        Corr_df.fillna(0,inplace=False), #crashes if na\n",
    "        ax = ax,\n",
    "        mask=np.array(Corr_df.isnull()), #hide na\n",
    "        xticklabels=[MODEL_NAMES[n] for n in Corr_df.columns],\n",
    "        yticklabels=[MODEL_NAMES[n] for n in Corr_df.index],\n",
    "    )\n",
    "    ax.set_title(\"Pearson's r on {}\".format(scenario))\n",
    "plt.tight_layout()\n",
    "plt.show()"
   ]
  }
 ],
 "metadata": {
  "kernelspec": {
   "display_name": "Python [conda env:tdw]",
   "language": "python",
   "name": "conda-env-tdw-py"
  },
  "language_info": {
   "codemirror_mode": {
    "name": "ipython",
    "version": 3
   },
   "file_extension": ".py",
   "mimetype": "text/x-python",
   "name": "python",
   "nbconvert_exporter": "python",
   "pygments_lexer": "ipython3",
   "version": "3.9.5"
  }
 },
 "nbformat": 4,
 "nbformat_minor": 5
}
