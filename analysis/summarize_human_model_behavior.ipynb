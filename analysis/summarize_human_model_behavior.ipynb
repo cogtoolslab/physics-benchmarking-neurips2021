{
 "cells": [
  {
   "cell_type": "markdown",
   "metadata": {},
   "source": [
    "# Analysis of human and model behavior across physical domains"
   ]
  },
  {
   "cell_type": "markdown",
   "metadata": {},
   "source": [
    "**The purpose of this notebook is to:** \n",
    "* Apply preprocessing to human behavioral data\n",
    "* Visualize distribution and compute summary statistics over **human** physical judgments\n",
    "* Visualize distribution and compute summary statistics over **model** physical judgments\n",
    "* Conduct human-model comparisons\n",
    "* Output CSV that can be re-loaded into R notebook for statistical modeling & fancy visualizations\n",
    "\n",
    "**This notebook depends on:**\n",
    "* Running `./generate_dataframes.py` (INTERNAL USE ONLY)\n",
    "* Running `./upload_results.py` (INTERNAL USE ONLY)\n",
    "* Running `./download_results.py` (PUBLIC USE)"
   ]
  },
  {
   "cell_type": "markdown",
   "metadata": {},
   "source": [
    "## setup"
   ]
  },
  {
   "cell_type": "markdown",
   "metadata": {},
   "source": [
    "#### Load packages"
   ]
  },
  {
   "cell_type": "code",
   "execution_count": 1,
   "metadata": {
    "execution": {
     "iopub.execute_input": "2021-06-04T17:54:34.476295Z",
     "iopub.status.busy": "2021-06-04T17:54:34.476020Z",
     "iopub.status.idle": "2021-06-04T17:54:36.380540Z",
     "shell.execute_reply": "2021-06-04T17:54:36.379658Z",
     "shell.execute_reply.started": "2021-06-04T17:54:34.476233Z"
    },
    "tags": []
   },
   "outputs": [],
   "source": [
    "import os\n",
    "import sys\n",
    "import urllib, io\n",
    "\n",
    "sys.path.append('./analysis_helpers')\n",
    "from importlib import reload\n",
    "\n",
    "import numpy as np\n",
    "import scipy.stats as stats\n",
    "import pandas as pd\n",
    "\n",
    "import analysis_helpers as h\n",
    "\n",
    "import pymongo as pm\n",
    "from collections import Counter\n",
    "import json\n",
    "import re\n",
    "import ast\n",
    "\n",
    "from PIL import Image, ImageOps, ImageDraw, ImageFont \n",
    "\n",
    "from io import BytesIO\n",
    "import base64\n",
    "\n",
    "from tqdm.notebook import tqdm\n",
    "\n",
    "import  matplotlib\n",
    "from matplotlib import pylab, mlab, pyplot\n",
    "import matplotlib.pyplot as plt\n",
    "%matplotlib inline\n",
    "from IPython.core.pylabtools import figsize, getfigs\n",
    "plt = pyplot\n",
    "import matplotlib as mpl\n",
    "mpl.rcParams['pdf.fonttype'] = 42\n",
    "plt.style.use('seaborn-white')\n",
    "\n",
    "import seaborn as sns\n",
    "\n",
    "%matplotlib inline\n",
    "import scipy.stats\n",
    "import sklearn.metrics\n",
    "import random\n",
    "\n",
    "from IPython.display import clear_output\n",
    "\n",
    "import warnings\n",
    "warnings.filterwarnings(\"ignore\", category=DeprecationWarning)\n",
    "warnings.filterwarnings(\"ignore\", message=\"numpy.dtype size changed\")\n",
    "warnings.filterwarnings(\"ignore\", message=\"numpy.ufunc size changed\")"
   ]
  },
  {
   "cell_type": "markdown",
   "metadata": {},
   "source": [
    "#### options"
   ]
  },
  {
   "cell_type": "code",
   "execution_count": 2,
   "metadata": {
    "execution": {
     "iopub.execute_input": "2021-06-04T17:54:36.669659Z",
     "iopub.status.busy": "2021-06-04T17:54:36.669147Z",
     "iopub.status.idle": "2021-06-04T17:54:36.679100Z",
     "shell.execute_reply": "2021-06-04T17:54:36.677478Z",
     "shell.execute_reply.started": "2021-06-04T17:54:36.669614Z"
    },
    "tags": []
   },
   "outputs": [],
   "source": [
    "# display all columns\n",
    "pd.set_option('display.max_columns', None)\n",
    "\n",
    "# seaborn plotting themes\n",
    "sns.set_context('talk')\n",
    "sns.set_style(\"whitegrid\")"
   ]
  },
  {
   "cell_type": "markdown",
   "metadata": {},
   "source": [
    "#### set up paths and directories"
   ]
  },
  {
   "cell_type": "code",
   "execution_count": 3,
   "metadata": {
    "execution": {
     "iopub.execute_input": "2021-06-04T17:54:37.850293Z",
     "iopub.status.busy": "2021-06-04T17:54:37.850024Z",
     "iopub.status.idle": "2021-06-04T17:54:37.859869Z",
     "shell.execute_reply": "2021-06-04T17:54:37.859039Z",
     "shell.execute_reply.started": "2021-06-04T17:54:37.850237Z"
    },
    "tags": []
   },
   "outputs": [],
   "source": [
    "## directory & file hierarchy\n",
    "proj_dir = os.path.abspath('..')\n",
    "datavol_dir = os.path.join(proj_dir,'data')\n",
    "analysis_dir =  os.path.abspath('.')\n",
    "results_dir = os.path.join(proj_dir,'results')\n",
    "plot_dir = os.path.join(results_dir,'plots')\n",
    "csv_dir = os.path.join(results_dir,'csv')\n",
    "json_dir = os.path.join(results_dir,'json')\n",
    "exp_dir = os.path.abspath(os.path.join(proj_dir,'behavioral_experiments'))\n",
    "png_dir = os.path.abspath(os.path.join(datavol_dir,'png'))\n",
    "\n",
    "## add helpers to python path\n",
    "if os.path.join(proj_dir,'stimuli') not in sys.path:\n",
    "    sys.path.append(os.path.join(proj_dir,'stimuli'))\n",
    "    \n",
    "if not os.path.exists(results_dir):\n",
    "    os.makedirs(results_dir)\n",
    "    \n",
    "if not os.path.exists(plot_dir):\n",
    "    os.makedirs(plot_dir)   \n",
    "    \n",
    "if not os.path.exists(csv_dir):\n",
    "    os.makedirs(csv_dir)       \n",
    "    \n",
    "## add helpers to python path\n",
    "if os.path.join(analysis_dir,'utils') not in sys.path:\n",
    "    sys.path.append(os.path.join(analysis_dir,'utils'))   \n",
    "\n",
    "def make_dir_if_not_exists(dir_name):   \n",
    "    if not os.path.exists(dir_name):\n",
    "        os.makedirs(dir_name)\n",
    "    return dir_name\n",
    "\n",
    "## create directories that don't already exist        \n",
    "result = [make_dir_if_not_exists(x) for x in [results_dir,plot_dir,csv_dir]]"
   ]
  },
  {
   "cell_type": "markdown",
   "metadata": {},
   "source": [
    "### load human data"
   ]
  },
  {
   "cell_type": "code",
   "execution_count": 4,
   "metadata": {
    "execution": {
     "iopub.execute_input": "2021-06-04T17:54:39.141797Z",
     "iopub.status.busy": "2021-06-04T17:54:39.141529Z",
     "iopub.status.idle": "2021-06-04T17:54:39.159168Z",
     "shell.execute_reply": "2021-06-04T17:54:39.158345Z",
     "shell.execute_reply.started": "2021-06-04T17:54:39.141770Z"
    },
    "tags": []
   },
   "outputs": [
    {
     "data": {
      "text/html": [
       "<div>\n",
       "<style scoped>\n",
       "    .dataframe tbody tr th:only-of-type {\n",
       "        vertical-align: middle;\n",
       "    }\n",
       "\n",
       "    .dataframe tbody tr th {\n",
       "        vertical-align: top;\n",
       "    }\n",
       "\n",
       "    .dataframe thead th {\n",
       "        text-align: right;\n",
       "    }\n",
       "</style>\n",
       "<table border=\"1\" class=\"dataframe\">\n",
       "  <thead>\n",
       "    <tr style=\"text-align: right;\">\n",
       "      <th></th>\n",
       "      <th>study</th>\n",
       "      <th>bucket_name</th>\n",
       "      <th>stim_version</th>\n",
       "      <th>iterationName</th>\n",
       "    </tr>\n",
       "  </thead>\n",
       "  <tbody>\n",
       "    <tr>\n",
       "      <th>0</th>\n",
       "      <td>dominoes_pilot</td>\n",
       "      <td>human-physics-benchmarking-dominoes-pilot</td>\n",
       "      <td>production_1</td>\n",
       "      <td>production_1_testing</td>\n",
       "    </tr>\n",
       "    <tr>\n",
       "      <th>1</th>\n",
       "      <td>collision_pilot</td>\n",
       "      <td>human-physics-benchmarking-collision-pilot</td>\n",
       "      <td>production_2</td>\n",
       "      <td>production_2_testing</td>\n",
       "    </tr>\n",
       "    <tr>\n",
       "      <th>2</th>\n",
       "      <td>towers_pilot</td>\n",
       "      <td>human-physics-benchmarking-towers-pilot</td>\n",
       "      <td>production_2</td>\n",
       "      <td>production_2_testing</td>\n",
       "    </tr>\n",
       "    <tr>\n",
       "      <th>3</th>\n",
       "      <td>linking_pilot</td>\n",
       "      <td>human-physics-benchmarking-linking-pilot</td>\n",
       "      <td>production_2</td>\n",
       "      <td>production_2_testing</td>\n",
       "    </tr>\n",
       "    <tr>\n",
       "      <th>4</th>\n",
       "      <td>containment_pilot</td>\n",
       "      <td>human-physics-benchmarking-containment-pilot</td>\n",
       "      <td>production_2</td>\n",
       "      <td>production_2_testing</td>\n",
       "    </tr>\n",
       "    <tr>\n",
       "      <th>5</th>\n",
       "      <td>rollingsliding_pilot</td>\n",
       "      <td>human-physics-benchmarking-rollingsliding-pilot</td>\n",
       "      <td>production_2</td>\n",
       "      <td>production_2_testing</td>\n",
       "    </tr>\n",
       "    <tr>\n",
       "      <th>6</th>\n",
       "      <td>drop_pilot</td>\n",
       "      <td>human-physics-benchmarking-drop-pilot</td>\n",
       "      <td>production_2</td>\n",
       "      <td>production_2_testing</td>\n",
       "    </tr>\n",
       "    <tr>\n",
       "      <th>7</th>\n",
       "      <td>clothiness_pilot</td>\n",
       "      <td>human-physics-benchmarking-clothiness-pilot</td>\n",
       "      <td>production_2</td>\n",
       "      <td>production_2_testing</td>\n",
       "    </tr>\n",
       "  </tbody>\n",
       "</table>\n",
       "</div>"
      ],
      "text/plain": [
       "                  study                                      bucket_name  \\\n",
       "0        dominoes_pilot        human-physics-benchmarking-dominoes-pilot   \n",
       "1       collision_pilot       human-physics-benchmarking-collision-pilot   \n",
       "2          towers_pilot          human-physics-benchmarking-towers-pilot   \n",
       "3         linking_pilot         human-physics-benchmarking-linking-pilot   \n",
       "4     containment_pilot     human-physics-benchmarking-containment-pilot   \n",
       "5  rollingsliding_pilot  human-physics-benchmarking-rollingsliding-pilot   \n",
       "6            drop_pilot            human-physics-benchmarking-drop-pilot   \n",
       "7      clothiness_pilot      human-physics-benchmarking-clothiness-pilot   \n",
       "\n",
       "   stim_version         iterationName  \n",
       "0  production_1  production_1_testing  \n",
       "1  production_2  production_2_testing  \n",
       "2  production_2  production_2_testing  \n",
       "3  production_2  production_2_testing  \n",
       "4  production_2  production_2_testing  \n",
       "5  production_2  production_2_testing  \n",
       "6  production_2  production_2_testing  \n",
       "7  production_2  production_2_testing  "
      ]
     },
     "execution_count": 4,
     "metadata": {},
     "output_type": "execute_result"
    }
   ],
   "source": [
    "from experiment_meta import *\n",
    "HEM = pd.DataFrame(NEURIPS2021_EXPS) # HEM = \"human experiment metadata\"\n",
    "HEM"
   ]
  },
  {
   "cell_type": "code",
   "execution_count": 5,
   "metadata": {
    "execution": {
     "iopub.execute_input": "2021-06-04T17:54:39.906635Z",
     "iopub.status.busy": "2021-06-04T17:54:39.906080Z",
     "iopub.status.idle": "2021-06-04T17:54:39.920860Z",
     "shell.execute_reply": "2021-06-04T17:54:39.919449Z",
     "shell.execute_reply.started": "2021-06-04T17:54:39.906589Z"
    },
    "tags": []
   },
   "outputs": [],
   "source": [
    "SCENARIOS = sorted([n.split(\"_\")[0] for n in HEM['study'].unique()])"
   ]
  },
  {
   "cell_type": "code",
   "execution_count": 6,
   "metadata": {
    "execution": {
     "iopub.execute_input": "2021-06-04T17:54:40.446979Z",
     "iopub.status.busy": "2021-06-04T17:54:40.446630Z",
     "iopub.status.idle": "2021-06-04T17:54:40.453256Z",
     "shell.execute_reply": "2021-06-04T17:54:40.451977Z",
     "shell.execute_reply.started": "2021-06-04T17:54:40.446897Z"
    },
    "tags": []
   },
   "outputs": [],
   "source": [
    "## get paths to all human response data\n",
    "data_paths = [os.path.join(csv_dir,'humans',i) for i in os.listdir(os.path.join(csv_dir,'humans'))]\n",
    "resp_paths = [i for i in data_paths if i.split('/')[-1].split('-')[0]=='human_responses']\n",
    "assert len(resp_paths)==8"
   ]
  },
  {
   "cell_type": "code",
   "execution_count": 7,
   "metadata": {
    "execution": {
     "iopub.execute_input": "2021-06-04T17:54:40.661278Z",
     "iopub.status.busy": "2021-06-04T17:54:40.660849Z",
     "iopub.status.idle": "2021-06-04T17:54:52.555609Z",
     "shell.execute_reply": "2021-06-04T17:54:52.552005Z",
     "shell.execute_reply.started": "2021-06-04T17:54:40.661244Z"
    },
    "tags": []
   },
   "outputs": [
    {
     "name": "stdout",
     "output_type": "stream",
     "text": [
      "Loaded 102600 lines\n"
     ]
    }
   ],
   "source": [
    "## also load all human data into a big dataframe\n",
    "HD = pd.concat([h.apply_exclusion_criteria(h.load_and_preprocess_data(p)) for p in resp_paths])\n",
    "print(\"Loaded {} lines\".format(len(HD)))"
   ]
  },
  {
   "cell_type": "markdown",
   "metadata": {},
   "source": [
    "### exclude bad stims"
   ]
  },
  {
   "cell_type": "code",
   "execution_count": 14,
   "metadata": {
    "execution": {
     "iopub.execute_input": "2021-06-04T10:33:33.063291Z",
     "iopub.status.busy": "2021-06-04T10:33:33.062757Z",
     "iopub.status.idle": "2021-06-04T10:33:33.107860Z",
     "shell.execute_reply": "2021-06-04T10:33:33.107119Z",
     "shell.execute_reply.started": "2021-06-04T10:33:33.063238Z"
    },
    "tags": []
   },
   "outputs": [
    {
     "name": "stdout",
     "output_type": "stream",
     "text": [
      "There are 37 bad stims\n"
     ]
    }
   ],
   "source": [
    "stim_comparision = pd.merge(pd.DataFrame(MD.groupby('Canon Stimulus Name')['Actual Outcome'].first()).reset_index(),pd.DataFrame(HD.groupby('stim_ID')['target_hit_zone_label'].first()).reset_index(),left_on='Canon Stimulus Name',right_on='stim_ID')\n",
    "\n",
    "bad_stims = stim_comparision[stim_comparision['Actual Outcome'] != stim_comparision['target_hit_zone_label']]['Canon Stimulus Name']\n",
    "print(\"There are {} bad stims\".format(len(bad_stims)))"
   ]
  },
  {
   "cell_type": "code",
   "execution_count": 15,
   "metadata": {
    "execution": {
     "iopub.execute_input": "2021-06-04T10:33:33.109801Z",
     "iopub.status.busy": "2021-06-04T10:33:33.109535Z",
     "iopub.status.idle": "2021-06-04T10:33:33.212100Z",
     "shell.execute_reply": "2021-06-04T10:33:33.211388Z",
     "shell.execute_reply.started": "2021-06-04T10:33:33.109761Z"
    },
    "tags": []
   },
   "outputs": [],
   "source": [
    "#Exclude bad stims\n",
    "HD = HD[~HD['stim_ID'].isin(bad_stims)]\n",
    "MD = MD[~MD['Canon Stimulus Name'].isin(bad_stims)]"
   ]
  },
  {
   "cell_type": "code",
   "execution_count": 16,
   "metadata": {
    "execution": {
     "iopub.execute_input": "2021-06-04T10:33:33.213354Z",
     "iopub.status.busy": "2021-06-04T10:33:33.213105Z",
     "iopub.status.idle": "2021-06-04T10:33:33.380936Z",
     "shell.execute_reply": "2021-06-04T10:33:33.380188Z",
     "shell.execute_reply.started": "2021-06-04T10:33:33.213328Z"
    },
    "tags": []
   },
   "outputs": [],
   "source": [
    "#Also exclude stims from the rollingsliding ledge subset\n",
    "HD = HD[~HD['stim_ID'].str.contains(\"rollingSliding_simple_ledge\")]\n",
    "MD = MD[~MD['Canon Stimulus Name'].str.contains(\"rollingSliding_simple_ledge\")]"
   ]
  },
  {
   "cell_type": "markdown",
   "metadata": {
    "tags": []
   },
   "source": [
    "### exclude subjects from familiarization\n",
    "Run `familiariarization_exclusion.ipynb` to generate `excluded_games.csv`"
   ]
  },
  {
   "cell_type": "code",
   "execution_count": 30,
   "metadata": {
    "execution": {
     "iopub.execute_input": "2021-06-04T17:59:38.199671Z",
     "iopub.status.busy": "2021-06-04T17:59:38.199203Z",
     "iopub.status.idle": "2021-06-04T17:59:38.208357Z",
     "shell.execute_reply": "2021-06-04T17:59:38.206772Z",
     "shell.execute_reply.started": "2021-06-04T17:59:38.199622Z"
    },
    "tags": []
   },
   "outputs": [],
   "source": [
    "bad_games = pd.read_csv(os.path.join(csv_dir,\"humans/excluded_games.csv\")).values[:,1]"
   ]
  },
  {
   "cell_type": "code",
   "execution_count": 31,
   "metadata": {
    "execution": {
     "iopub.execute_input": "2021-06-04T17:59:40.889711Z",
     "iopub.status.busy": "2021-06-04T17:59:40.889402Z",
     "iopub.status.idle": "2021-06-04T17:59:40.898902Z",
     "shell.execute_reply": "2021-06-04T17:59:40.897568Z",
     "shell.execute_reply.started": "2021-06-04T17:59:40.889679Z"
    },
    "tags": []
   },
   "outputs": [
    {
     "data": {
      "text/plain": [
       "array(['0720-d5f527dc-d86a-4d88-af8f-b70ac9264fef',\n",
       "       '1685-8963fea0-0d21-454b-8bbe-e9cbc792aa11',\n",
       "       '4917-538725a5-383f-462b-9ab7-43b9473c9dcc',\n",
       "       '7411-987b0a97-8a67-41a3-a3d8-d8f792c35ab5',\n",
       "       '8383-e0582a4e-6498-4d91-bb29-2b6a363cc2e9',\n",
       "       '8731-67e86658-28ff-4cc6-b722-9620e3b3ce43',\n",
       "       '9784-7a67e88b-0416-4b55-8a72-9a0d99038c49',\n",
       "       '9808-e983d3b8-75c3-428a-8182-f57fd645abb1',\n",
       "       '9930-aa52e4be-e5e3-441a-9cb4-f1144d9e233f'], dtype=object)"
      ]
     },
     "execution_count": 31,
     "metadata": {},
     "output_type": "execute_result"
    }
   ],
   "source": [
    "bad_games"
   ]
  },
  {
   "cell_type": "code",
   "execution_count": 38,
   "metadata": {
    "execution": {
     "iopub.execute_input": "2021-06-04T18:01:05.378589Z",
     "iopub.status.busy": "2021-06-04T18:01:05.378321Z",
     "iopub.status.idle": "2021-06-04T18:01:05.434782Z",
     "shell.execute_reply": "2021-06-04T18:01:05.433767Z",
     "shell.execute_reply.started": "2021-06-04T18:01:05.378563Z"
    },
    "tags": []
   },
   "outputs": [
    {
     "name": "stdout",
     "output_type": "stream",
     "text": [
      "Excluding 900 rows for 9 games\n"
     ]
    }
   ],
   "source": [
    "print(\"Excluding {} rows for {} games\".format(sum(HD['gameID'].isin(bad_games)), len(bad_games)))\n",
    "HD = HD[~HD['gameID'].isin(bad_games)]"
   ]
  },
  {
   "cell_type": "markdown",
   "metadata": {},
   "source": [
    "### load model data"
   ]
  },
  {
   "cell_type": "code",
   "execution_count": 8,
   "metadata": {
    "execution": {
     "iopub.execute_input": "2021-06-04T17:54:52.561986Z",
     "iopub.status.busy": "2021-06-04T17:54:52.560931Z",
     "iopub.status.idle": "2021-06-04T17:54:52.575273Z",
     "shell.execute_reply": "2021-06-04T17:54:52.573136Z",
     "shell.execute_reply.started": "2021-06-04T17:54:52.561821Z"
    },
    "tags": []
   },
   "outputs": [],
   "source": [
    "## get paths to all model data\n",
    "model_data_paths = [os.path.join(csv_dir,'models',i) for i in os.listdir(os.path.join(csv_dir,'models'))]\n",
    "model_res_paths = [i for i in model_data_paths if i.split('.')[-1] == \"csv\"]"
   ]
  },
  {
   "cell_type": "code",
   "execution_count": 9,
   "metadata": {
    "execution": {
     "iopub.execute_input": "2021-06-04T17:54:52.581241Z",
     "iopub.status.busy": "2021-06-04T17:54:52.580238Z",
     "iopub.status.idle": "2021-06-04T17:54:56.459784Z",
     "shell.execute_reply": "2021-06-04T17:54:56.458705Z",
     "shell.execute_reply.started": "2021-06-04T17:54:52.581184Z"
    },
    "tags": []
   },
   "outputs": [
    {
     "name": "stderr",
     "output_type": "stream",
     "text": [
      "/Users/felixbinder/anaconda3/envs/tdw/lib/python3.9/site-packages/IPython/core/interactiveshell.py:3357: DtypeWarning: Columns (14,15,17,18,26,33,34,36) have mixed types.Specify dtype option on import or set low_memory=False.\n",
      "  if (await self.run_code(code, result,  async_=asy)):\n"
     ]
    },
    {
     "name": "stdout",
     "output_type": "stream",
     "text": [
      "Loaded 357355 rows\n"
     ]
    }
   ],
   "source": [
    "## load all model results into a single dataframe\n",
    "MD = pd.concat([pd.read_csv(p).assign(filename=p.split('/')[-1]) for p in model_res_paths])\n",
    "print(\"Loaded {} rows\".format(len(MD)))"
   ]
  },
  {
   "cell_type": "code",
   "execution_count": 10,
   "metadata": {
    "execution": {
     "iopub.execute_input": "2021-06-04T17:54:56.462397Z",
     "iopub.status.busy": "2021-06-04T17:54:56.461947Z",
     "iopub.status.idle": "2021-06-04T17:55:05.210380Z",
     "shell.execute_reply": "2021-06-04T17:55:05.209555Z",
     "shell.execute_reply.started": "2021-06-04T17:54:56.462354Z"
    },
    "tags": []
   },
   "outputs": [],
   "source": [
    "# a couple of import steps (restore original scenario names, add single prediction value, add correctness column)\n",
    "MD = h.process_model_dataframe(MD)"
   ]
  },
  {
   "cell_type": "code",
   "execution_count": 11,
   "metadata": {
    "execution": {
     "iopub.execute_input": "2021-06-04T10:33:32.165322Z",
     "iopub.status.busy": "2021-06-04T10:33:32.165148Z",
     "iopub.status.idle": "2021-06-04T10:33:33.030519Z",
     "shell.execute_reply": "2021-06-04T10:33:33.029522Z",
     "shell.execute_reply.started": "2021-06-04T10:33:32.165302Z"
    },
    "tags": []
   },
   "outputs": [
    {
     "name": "stdout",
     "output_type": "stream",
     "text": [
      "⚠️There are 0 duplicated rows!\n",
      "Removed duplicates, 157062 rows left\n"
     ]
    }
   ],
   "source": [
    "#check for duplicated rows\n",
    "if len(MD.duplicated()) > 0:\n",
    "    print(\"⚠️There are {} duplicated rows!\".format(np.sum(MD.duplicated())))\n",
    "    MD = MD[~MD.duplicated(h.MODEL_COLS+[\"Stimulus Name\"],keep=\"first\")]\n",
    "    print(\"Removed duplicates, {} rows left\".format(len(MD)))"
   ]
  },
  {
   "cell_type": "code",
   "execution_count": 12,
   "metadata": {
    "execution": {
     "iopub.execute_input": "2021-06-04T10:33:33.032306Z",
     "iopub.status.busy": "2021-06-04T10:33:33.032097Z",
     "iopub.status.idle": "2021-06-04T10:33:33.052773Z",
     "shell.execute_reply": "2021-06-04T10:33:33.051691Z",
     "shell.execute_reply.started": "2021-06-04T10:33:33.032282Z"
    },
    "tags": []
   },
   "outputs": [],
   "source": [
    "# save model kinds to variable\n",
    "MODELS = list(MD[\"Model Kind\"].unique())"
   ]
  },
  {
   "cell_type": "code",
   "execution_count": 13,
   "metadata": {
    "execution": {
     "iopub.execute_input": "2021-06-04T10:33:33.054349Z",
     "iopub.status.busy": "2021-06-04T10:33:33.053994Z",
     "iopub.status.idle": "2021-06-04T10:33:33.060957Z",
     "shell.execute_reply": "2021-06-04T10:33:33.059832Z",
     "shell.execute_reply.started": "2021-06-04T10:33:33.054287Z"
    },
    "tags": []
   },
   "outputs": [
    {
     "name": "stdout",
     "output_type": "stream",
     "text": [
      "We get the following kinds of models:\n"
     ]
    },
    {
     "data": {
      "text/plain": [
       "['VGGFrozenMLP_VGG_nan_nan_nan_L2 on latent_0_same',\n",
       " 'RPIN_R-CNN_1.0_L2 on 2D position_all_but_this_L2 on 2D position_1_same',\n",
       " 'RPIN_R-CNN_2.0_L2 on 2D position_all_but_this_L2 on 2D position_2_same',\n",
       " 'RPIN_R-CNN_1.0_L2 on 2D position_all_L2 on 2D position_1_same',\n",
       " 'RPIN_R-CNN_2.0_L2 on 2D position_all_L2 on 2D position_2_same',\n",
       " 'RPIN_R-CNN_1.0_L2 on 2D position_same_L2 on 2D position_1_same',\n",
       " 'RPIN_R-CNN_2.0_L2 on 2D position_same_L2 on 2D position_2_same',\n",
       " 'SVG_VGG_1.0_VAE_all_but_this_VAE_1_same',\n",
       " 'SVG_VGG_1.0_VAE_all_VAE_1_same',\n",
       " 'SVG_VGG_1.0_VAE_same_VAE_1_same',\n",
       " 'VGGFrozenLSTM_VGG_nan_nan_nan_L2 on latent_0_same',\n",
       " 'CSWM_CSWM encoder_0.0_Contrastive_all_but_this_Contrastive_0_same',\n",
       " 'CSWM_CSWM encoder_0.0_Contrastive_all_Contrastive_0_same',\n",
       " 'CSWM_CSWM encoder_0.0_Contrastive_same_Contrastive_0_same',\n",
       " 'DEITFrozenLSTM_DEIT_nan_nan_nan_L2 on latent_0_same',\n",
       " 'DEITFrozenMLP_DEIT_nan_nan_nan_L2 on latent_0_same',\n",
       " 'OP3_OP3 encoder_0.0_Image Reconstruction_all_but_this_Image Reconstruction_0_same',\n",
       " 'OP3_OP3 encoder_0.0_Image Reconstruction_all_Image Reconstruction_0_same',\n",
       " 'OP3_OP3 encoder_0.0_Image Reconstruction_same_Image Reconstruction_0_same']"
      ]
     },
     "metadata": {},
     "output_type": "display_data"
    }
   ],
   "source": [
    "print(\"We get the following kinds of models:\")\n",
    "display(MODELS)"
   ]
  },
  {
   "cell_type": "markdown",
   "metadata": {},
   "source": [
    "### generate labels for regression analysis\n",
    "* Comparison 1: Visual encoder architecture (ConvNet [SVG/VGGFrozenLSTM] vs. transformer [DEITFrozenLSTM] … DEITFrozenMLP vs. SVG/VGGFrozenMLP)\n",
    "* Comparison 2: Dynamics model RNN vs. MLP (LSTM vs. MLP for above)\n",
    "* Comparison 3: Among unsupervised models, object-centric vs. non-object-centric\n",
    "        * {CSWM, OP3} vs. {SVG}\n",
    "* Comparison 4: Latent vs. pixel reconstruction loss\n",
    "        * CSWM vs. OP3\n",
    "* Comparison 5: RPIN vs. CSWM/OP3 (“supervised explicit object-centric” vs. “unsupervised implicit object-centric”)\n",
    "\n",
    "Dimensions: \n",
    "* “Visual encoder architecture” : [“ConvNet” “Transformer” “Neither”]\n",
    "* “Dynamics model architecture” : [“LSTM”, “MLP”, “Neither”]\n",
    "* “ObjectCentric”: [TRUE, FALSE, NA]\n",
    "* “Supervised”: [TRUE, FALSE]\n",
    "* “SelfSupervisedLoss”: [“latent”, “pixel”, “NA”]\n"
   ]
  },
  {
   "cell_type": "code",
   "execution_count": 17,
   "metadata": {
    "execution": {
     "iopub.execute_input": "2021-06-04T10:33:33.382210Z",
     "iopub.status.busy": "2021-06-04T10:33:33.381945Z",
     "iopub.status.idle": "2021-06-04T10:33:33.713139Z",
     "shell.execute_reply": "2021-06-04T10:33:33.712484Z",
     "shell.execute_reply.started": "2021-06-04T10:33:33.382185Z"
    },
    "tags": []
   },
   "outputs": [],
   "source": [
    "#“Visual encoder architecture” : [“ConvNet” “Transformer” “Neither”]\n",
    "MD['Visual encoder architecture'] = \"Neither\"\n",
    "MD.loc[(MD['Model'].str.contains(\"SVG\")) | (MD['Model'].str.contains(\"VGG\")),'Visual encoder architecture'] = \"ConvNet\"\n",
    "MD.loc[(MD['Model'].str.contains(\"DEIT\")) | (MD['Model'].str.contains(\"VGG\")),'Visual encoder architecture'] = \"Transformer\""
   ]
  },
  {
   "cell_type": "code",
   "execution_count": 18,
   "metadata": {
    "execution": {
     "iopub.execute_input": "2021-06-04T10:33:33.715495Z",
     "iopub.status.busy": "2021-06-04T10:33:33.715158Z",
     "iopub.status.idle": "2021-06-04T10:33:33.952594Z",
     "shell.execute_reply": "2021-06-04T10:33:33.951512Z",
     "shell.execute_reply.started": "2021-06-04T10:33:33.715459Z"
    },
    "tags": []
   },
   "outputs": [],
   "source": [
    "# “Dynamics model architecture” : [“LSTM”, “MLP”, “Neither”]\n",
    "MD['Dynamics model architecture'] = \"Neither\"\n",
    "MD.loc[(MD['Model'].str.contains(\"LSTM\")),'Dynamics model architecture'] = \"LSTM\"\n",
    "MD.loc[(MD['Model'].str.contains(\"MLP\")),'Dynamics model architecture'] = \"MLP\""
   ]
  },
  {
   "cell_type": "code",
   "execution_count": 19,
   "metadata": {
    "execution": {
     "iopub.execute_input": "2021-06-04T10:33:33.954777Z",
     "iopub.status.busy": "2021-06-04T10:33:33.954329Z",
     "iopub.status.idle": "2021-06-04T10:33:34.236543Z",
     "shell.execute_reply": "2021-06-04T10:33:34.235828Z",
     "shell.execute_reply.started": "2021-06-04T10:33:33.954739Z"
    },
    "tags": []
   },
   "outputs": [],
   "source": [
    "# ObjectCentric”: [TRUE, FALSE, NA]\n",
    "MD['ObjectCentric'] = np.nan\n",
    "MD.loc[(MD['Model'].str.contains(\"CSWM\")) | (MD['Model'].str.contains(\"OP3\")),'ObjectCentric'] = True\n",
    "MD.loc[(MD['Model'].str.contains(\"SVG\")),'ObjectCentric'] = False\n",
    "# MD['ObjectCentric'] = MD['ObjectCentric'].astype(bool)"
   ]
  },
  {
   "cell_type": "code",
   "execution_count": 20,
   "metadata": {
    "execution": {
     "iopub.execute_input": "2021-06-04T10:33:34.238288Z",
     "iopub.status.busy": "2021-06-04T10:33:34.237917Z",
     "iopub.status.idle": "2021-06-04T10:33:34.594911Z",
     "shell.execute_reply": "2021-06-04T10:33:34.594153Z",
     "shell.execute_reply.started": "2021-06-04T10:33:34.238251Z"
    },
    "tags": []
   },
   "outputs": [],
   "source": [
    "# Supervised”: [TRUE, FALSE]\n",
    "MD['Supervised'] = np.nan\n",
    "MD.loc[(MD['Model'].str.contains(\"RPIN\")) | (MD['Model'].str.contains(\"DPI\")),'Supervised'] = True\n",
    "MD.loc[(MD['Model'].str.contains(\"CSWM\")) | (MD['Model'].str.contains(\"OP3\")) | (MD['Model'].str.contains(\"SVG\") | (MD['Model'].str.contains(\"VGG\"))),'Supervised'] = False\n",
    "# MD['Supervised'] = MD['Supervised'].astype(bool)"
   ]
  },
  {
   "cell_type": "code",
   "execution_count": 21,
   "metadata": {
    "execution": {
     "iopub.execute_input": "2021-06-04T10:33:34.596468Z",
     "iopub.status.busy": "2021-06-04T10:33:34.596070Z",
     "iopub.status.idle": "2021-06-04T10:33:34.895673Z",
     "shell.execute_reply": "2021-06-04T10:33:34.895057Z",
     "shell.execute_reply.started": "2021-06-04T10:33:34.596442Z"
    },
    "tags": []
   },
   "outputs": [],
   "source": [
    "# SelfSupervisedLoss”: [“latent”, “pixel”, “NA”]\n",
    "MD['SelfSupervisedLossSelfSupervisedLoss'] = \"NA\"\n",
    "MD.loc[(MD['Model'].str.contains(\"CSWM\")),'SelfSupervisedLoss'] = \"latent\"\n",
    "MD.loc[(MD['Model'].str.contains(\"OP3\")) | (MD['Model'].str.contains(\"VGG\")) | (MD['Model'].str.contains(\"SVG\") | (MD['Model'].str.contains(\"VGG\"))),'SelfSupervisedLoss'] = \"pixel\""
   ]
  },
  {
   "cell_type": "code",
   "execution_count": 22,
   "metadata": {
    "execution": {
     "iopub.execute_input": "2021-06-04T10:33:34.897056Z",
     "iopub.status.busy": "2021-06-04T10:33:34.896858Z",
     "iopub.status.idle": "2021-06-04T10:33:34.900743Z",
     "shell.execute_reply": "2021-06-04T10:33:34.899803Z",
     "shell.execute_reply.started": "2021-06-04T10:33:34.897030Z"
    },
    "tags": []
   },
   "outputs": [],
   "source": [
    "#save as model identifying column\n",
    "MODEL_COLS = h.MODEL_COLS + ['Visual encoder architecture','Dynamics model architecture','ObjectCentric','Supervised','SelfSupervisedLossSelfSupervisedLoss']"
   ]
  },
  {
   "cell_type": "code",
   "execution_count": 23,
   "metadata": {
    "execution": {
     "iopub.execute_input": "2021-06-04T10:33:34.902198Z",
     "iopub.status.busy": "2021-06-04T10:33:34.901991Z",
     "iopub.status.idle": "2021-06-04T10:33:38.252901Z",
     "shell.execute_reply": "2021-06-04T10:33:38.251609Z",
     "shell.execute_reply.started": "2021-06-04T10:33:34.902175Z"
    }
   },
   "outputs": [],
   "source": [
    "## save out \n",
    "MD.to_csv(os.path.join(csv_dir, 'models', 'allModels_results.csv'))"
   ]
  },
  {
   "cell_type": "code",
   "execution_count": null,
   "metadata": {},
   "outputs": [],
   "source": []
  },
  {
   "cell_type": "code",
   "execution_count": null,
   "metadata": {},
   "outputs": [],
   "source": []
  },
  {
   "cell_type": "markdown",
   "metadata": {},
   "source": [
    "### generate summary table of human 95% CIs for accuracy across all scenarios"
   ]
  },
  {
   "cell_type": "code",
   "execution_count": 24,
   "metadata": {
    "execution": {
     "iopub.execute_input": "2021-06-04T10:33:38.255420Z",
     "iopub.status.busy": "2021-06-04T10:33:38.254951Z",
     "iopub.status.idle": "2021-06-04T10:33:52.363252Z",
     "shell.execute_reply": "2021-06-04T10:33:52.362569Z",
     "shell.execute_reply.started": "2021-06-04T10:33:38.255376Z"
    },
    "tags": []
   },
   "outputs": [
    {
     "name": "stdout",
     "output_type": "stream",
     "text": [
      "Saved to file! Done.\n"
     ]
    }
   ],
   "source": [
    "## init human_bootstrapped_accuracy for plotting\n",
    "human_bootstrapped_accuracy = pd.DataFrame()\n",
    "\n",
    "for exp_ind, exp_name in enumerate(resp_paths):\n",
    "    \n",
    "    ## get path to response data\n",
    "    path_to_data = resp_paths[exp_ind]\n",
    "\n",
    "    ## load data and apply preprocessing\n",
    "    _D = h.load_and_preprocess_data(path_to_data)\n",
    "    scenarioName = _D.scenarioName.values[0]\n",
    "    print('Currently analyzing the {} experiment.'.format(_D.scenarioName.values[0]))\n",
    "    clear_output(wait=True)\n",
    "    \n",
    "    ## apply exclusion criteria\n",
    "    D = h.apply_exclusion_criteria(_D)\n",
    "\n",
    "    ## compute bootstrapped sampling distributions of accuracy\n",
    "    Dacc = D.groupby('prolificIDAnon').agg({'correct':np.mean})\n",
    "    bootmeans = h.bootstrap_mean(Dacc, col='correct', nIter=1000)\n",
    "\n",
    "    obsmean = np.mean(Dacc.correct.values)\n",
    "    bootmean = np.mean(bootmeans)\n",
    "    lb = np.percentile(bootmeans,2.5)\n",
    "    ub = np.percentile(bootmeans,97.5)\n",
    "    pct25 = np.percentile(Dacc,2.5)\n",
    "    pct975 = np.percentile(Dacc,97.5)\n",
    "    ## merge bootstrapped accuracy estimates\n",
    "    if len(human_bootstrapped_accuracy)==0:\n",
    "        human_bootstrapped_accuracy = pd.DataFrame(['human', scenarioName, obsmean,bootmean,lb,ub, pct25, pct975]).transpose()\n",
    "    else:\n",
    "        human_bootstrapped_accuracy = pd.concat([human_bootstrapped_accuracy, pd.DataFrame(['human', scenarioName, obsmean,bootmean,lb,ub, pct25, pct975]).transpose()],axis=0)\n",
    "        \n",
    "## add column names        \n",
    "human_bootstrapped_accuracy.columns=['agent','scenario','obs_mean', 'boot_mean', 'ci_lb', 'ci_ub', 'pct_2.5', 'pct_97.5']\n",
    "\n",
    "## save out human_bootstrapped_accuracy to re-plot in R\n",
    "if not os.path.exists(os.path.join(csv_dir, 'summary')):\n",
    "    os.makedirs(os.path.join(csv_dir, 'summary'))    \n",
    "human_bootstrapped_accuracy.to_csv(os.path.join(csv_dir, 'summary','human_accuracy_by_scenario.csv'), index=False)\n",
    "print('Saved to file! Done.')"
   ]
  },
  {
   "cell_type": "code",
   "execution_count": 25,
   "metadata": {
    "execution": {
     "iopub.execute_input": "2021-06-04T10:33:52.371061Z",
     "iopub.status.busy": "2021-06-04T10:33:52.370604Z",
     "iopub.status.idle": "2021-06-04T10:33:52.384319Z",
     "shell.execute_reply": "2021-06-04T10:33:52.383383Z",
     "shell.execute_reply.started": "2021-06-04T10:33:52.371000Z"
    },
    "tags": []
   },
   "outputs": [
    {
     "data": {
      "text/html": [
       "<div>\n",
       "<style scoped>\n",
       "    .dataframe tbody tr th:only-of-type {\n",
       "        vertical-align: middle;\n",
       "    }\n",
       "\n",
       "    .dataframe tbody tr th {\n",
       "        vertical-align: top;\n",
       "    }\n",
       "\n",
       "    .dataframe thead th {\n",
       "        text-align: right;\n",
       "    }\n",
       "</style>\n",
       "<table border=\"1\" class=\"dataframe\">\n",
       "  <thead>\n",
       "    <tr style=\"text-align: right;\">\n",
       "      <th></th>\n",
       "      <th>agent</th>\n",
       "      <th>scenario</th>\n",
       "      <th>obs_mean</th>\n",
       "      <th>boot_mean</th>\n",
       "      <th>ci_lb</th>\n",
       "      <th>ci_ub</th>\n",
       "      <th>pct_2.5</th>\n",
       "      <th>pct_97.5</th>\n",
       "    </tr>\n",
       "  </thead>\n",
       "  <tbody>\n",
       "    <tr>\n",
       "      <th>0</th>\n",
       "      <td>human</td>\n",
       "      <td>collision</td>\n",
       "      <td>0.808125</td>\n",
       "      <td>0.80806</td>\n",
       "      <td>0.798542</td>\n",
       "      <td>0.816668</td>\n",
       "      <td>0.705</td>\n",
       "      <td>0.88</td>\n",
       "    </tr>\n",
       "    <tr>\n",
       "      <th>0</th>\n",
       "      <td>human</td>\n",
       "      <td>rollingsliding</td>\n",
       "      <td>0.882986</td>\n",
       "      <td>0.882948</td>\n",
       "      <td>0.875411</td>\n",
       "      <td>0.890696</td>\n",
       "      <td>0.789167</td>\n",
       "      <td>0.94</td>\n",
       "    </tr>\n",
       "    <tr>\n",
       "      <th>0</th>\n",
       "      <td>human</td>\n",
       "      <td>dominoes</td>\n",
       "      <td>0.690989</td>\n",
       "      <td>0.690911</td>\n",
       "      <td>0.682634</td>\n",
       "      <td>0.699048</td>\n",
       "      <td>0.613333</td>\n",
       "      <td>0.76</td>\n",
       "    </tr>\n",
       "    <tr>\n",
       "      <th>0</th>\n",
       "      <td>human</td>\n",
       "      <td>drop</td>\n",
       "      <td>0.743656</td>\n",
       "      <td>0.743722</td>\n",
       "      <td>0.73541</td>\n",
       "      <td>0.751326</td>\n",
       "      <td>0.666667</td>\n",
       "      <td>0.804667</td>\n",
       "    </tr>\n",
       "    <tr>\n",
       "      <th>0</th>\n",
       "      <td>human</td>\n",
       "      <td>clothiness</td>\n",
       "      <td>0.679394</td>\n",
       "      <td>0.679202</td>\n",
       "      <td>0.663331</td>\n",
       "      <td>0.693639</td>\n",
       "      <td>0.543333</td>\n",
       "      <td>0.766667</td>\n",
       "    </tr>\n",
       "    <tr>\n",
       "      <th>0</th>\n",
       "      <td>human</td>\n",
       "      <td>linking</td>\n",
       "      <td>0.643182</td>\n",
       "      <td>0.643234</td>\n",
       "      <td>0.631968</td>\n",
       "      <td>0.654545</td>\n",
       "      <td>0.536833</td>\n",
       "      <td>0.744333</td>\n",
       "    </tr>\n",
       "    <tr>\n",
       "      <th>0</th>\n",
       "      <td>human</td>\n",
       "      <td>containment</td>\n",
       "      <td>0.766988</td>\n",
       "      <td>0.766892</td>\n",
       "      <td>0.758072</td>\n",
       "      <td>0.775026</td>\n",
       "      <td>0.686667</td>\n",
       "      <td>0.839667</td>\n",
       "    </tr>\n",
       "    <tr>\n",
       "      <th>0</th>\n",
       "      <td>human</td>\n",
       "      <td>towers</td>\n",
       "      <td>0.763137</td>\n",
       "      <td>0.763012</td>\n",
       "      <td>0.754975</td>\n",
       "      <td>0.770982</td>\n",
       "      <td>0.669333</td>\n",
       "      <td>0.826</td>\n",
       "    </tr>\n",
       "  </tbody>\n",
       "</table>\n",
       "</div>"
      ],
      "text/plain": [
       "   agent        scenario  obs_mean boot_mean     ci_lb     ci_ub   pct_2.5  \\\n",
       "0  human       collision  0.808125   0.80806  0.798542  0.816668     0.705   \n",
       "0  human  rollingsliding  0.882986  0.882948  0.875411  0.890696  0.789167   \n",
       "0  human        dominoes  0.690989  0.690911  0.682634  0.699048  0.613333   \n",
       "0  human            drop  0.743656  0.743722   0.73541  0.751326  0.666667   \n",
       "0  human      clothiness  0.679394  0.679202  0.663331  0.693639  0.543333   \n",
       "0  human         linking  0.643182  0.643234  0.631968  0.654545  0.536833   \n",
       "0  human     containment  0.766988  0.766892  0.758072  0.775026  0.686667   \n",
       "0  human          towers  0.763137  0.763012  0.754975  0.770982  0.669333   \n",
       "\n",
       "   pct_97.5  \n",
       "0      0.88  \n",
       "0      0.94  \n",
       "0      0.76  \n",
       "0  0.804667  \n",
       "0  0.766667  \n",
       "0  0.744333  \n",
       "0  0.839667  \n",
       "0     0.826  "
      ]
     },
     "execution_count": 25,
     "metadata": {},
     "output_type": "execute_result"
    }
   ],
   "source": [
    "human_bootstrapped_accuracy"
   ]
  },
  {
   "cell_type": "markdown",
   "metadata": {},
   "source": [
    "### Human-human consistency across stimuli (within scenario)\n",
    "We will analyze human-human consistency by computing the mean correlation between (binary) response vectors produced by each human participant across all stimuli within each scenario. \n",
    "\n"
   ]
  },
  {
   "cell_type": "markdown",
   "metadata": {},
   "source": [
    "#### Correlation"
   ]
  },
  {
   "cell_type": "code",
   "execution_count": 26,
   "metadata": {
    "execution": {
     "iopub.execute_input": "2021-06-04T10:33:52.388828Z",
     "iopub.status.busy": "2021-06-04T10:33:52.388471Z",
     "iopub.status.idle": "2021-06-04T10:33:59.643025Z",
     "shell.execute_reply": "2021-06-04T10:33:59.642383Z",
     "shell.execute_reply.started": "2021-06-04T10:33:52.388783Z"
    },
    "tags": []
   },
   "outputs": [
    {
     "name": "stdout",
     "output_type": "stream",
     "text": [
      "Saved to file! Done.\n"
     ]
    }
   ],
   "source": [
    "## init human_boot_corr for plotting\n",
    "human_boot_corr = pd.DataFrame()\n",
    "\n",
    "for exp_ind, exp_name in enumerate(resp_paths):\n",
    "    \n",
    "    ## get path to response data\n",
    "    path_to_data = resp_paths[exp_ind]\n",
    "\n",
    "    ## load data and apply preprocessing\n",
    "    _D = h.load_and_preprocess_data(path_to_data)\n",
    "    scenarioName = _D.scenarioName.values[0]\n",
    "    print('Currently analyzing the {} experiment.'.format(_D.scenarioName.values[0]))\n",
    "    clear_output(wait=True)\n",
    "\n",
    "    ## apply exclusion criteria\n",
    "    D = h.apply_exclusion_criteria(_D)\n",
    "    \n",
    "    ## create response feature matrix (numSubs x numTrialsPerSub)\n",
    "    D2 = D.sort_values(by=['prolificIDAnon','stim_ID']).reset_index(drop=True)\n",
    "    numSubs = len(np.unique(D['prolificIDAnon'].values))\n",
    "    numTrialsPerSub = int(len(D)/numSubs)\n",
    "    respMat = np.reshape(D2['responseBool'].values, (numSubs,numTrialsPerSub)) \n",
    "\n",
    "    ## sanity check that the reshape operation happened correctly\n",
    "    assert len([i for (i,j) in list(zip(respMat[0],D2[:150]['responseBool'].values)) if i!=j])==0    \n",
    "    \n",
    "    ## get pairwise correlations\n",
    "    dists = 1-scipy.spatial.distance.pdist(respMat, metric='correlation')\n",
    "    corrMat = scipy.spatial.distance.squareform(dists)\n",
    "    \n",
    "    ## get percentiles over pairwise corrs\n",
    "    pairwiseCorrs = corrMat[np.triu_indices(n=len(corrMat), k=1)]\n",
    "    lb = np.percentile(pairwiseCorrs, 2.5)\n",
    "    med = np.percentile(pairwiseCorrs, 50)\n",
    "    ub = np.percentile(pairwiseCorrs, 97.5)  \n",
    "        \n",
    "    if len(human_boot_corr)==0:\n",
    "        human_boot_corr = pd.DataFrame(['human', scenarioName, lb, med, ub]).transpose()\n",
    "    else:\n",
    "        human_boot_corr = pd.concat([human_boot_corr, pd.DataFrame(['human', scenarioName, lb, med, ub]).transpose()],axis=0)\n",
    "        \n",
    "## add column names        \n",
    "human_boot_corr.columns=['agent','scenario','corr_lb', 'corr_med', 'corr_ub']\n",
    "\n",
    "## save out human_boot_corr to re-plot in R\n",
    "if not os.path.exists(os.path.join(csv_dir, 'summary')):\n",
    "    os.makedirs(os.path.join(csv_dir, 'summary'))    \n",
    "human_boot_corr.to_csv(os.path.join(csv_dir, 'summary','human_pairwiseCorrs_by_scenario.csv'), index=False)\n",
    "print('Saved to file! Done.')"
   ]
  },
  {
   "cell_type": "code",
   "execution_count": 27,
   "metadata": {
    "execution": {
     "iopub.execute_input": "2021-06-04T10:33:59.644473Z",
     "iopub.status.busy": "2021-06-04T10:33:59.644232Z",
     "iopub.status.idle": "2021-06-04T10:33:59.654908Z",
     "shell.execute_reply": "2021-06-04T10:33:59.654076Z",
     "shell.execute_reply.started": "2021-06-04T10:33:59.644449Z"
    },
    "tags": []
   },
   "outputs": [
    {
     "data": {
      "text/html": [
       "<div>\n",
       "<style scoped>\n",
       "    .dataframe tbody tr th:only-of-type {\n",
       "        vertical-align: middle;\n",
       "    }\n",
       "\n",
       "    .dataframe tbody tr th {\n",
       "        vertical-align: top;\n",
       "    }\n",
       "\n",
       "    .dataframe thead th {\n",
       "        text-align: right;\n",
       "    }\n",
       "</style>\n",
       "<table border=\"1\" class=\"dataframe\">\n",
       "  <thead>\n",
       "    <tr style=\"text-align: right;\">\n",
       "      <th></th>\n",
       "      <th>agent</th>\n",
       "      <th>scenario</th>\n",
       "      <th>corr_lb</th>\n",
       "      <th>corr_med</th>\n",
       "      <th>corr_ub</th>\n",
       "    </tr>\n",
       "  </thead>\n",
       "  <tbody>\n",
       "    <tr>\n",
       "      <th>0</th>\n",
       "      <td>human</td>\n",
       "      <td>collision</td>\n",
       "      <td>0.388046</td>\n",
       "      <td>0.62822</td>\n",
       "      <td>0.776057</td>\n",
       "    </tr>\n",
       "    <tr>\n",
       "      <th>0</th>\n",
       "      <td>human</td>\n",
       "      <td>rollingsliding</td>\n",
       "      <td>0.506253</td>\n",
       "      <td>0.713836</td>\n",
       "      <td>0.851243</td>\n",
       "    </tr>\n",
       "    <tr>\n",
       "      <th>0</th>\n",
       "      <td>human</td>\n",
       "      <td>dominoes</td>\n",
       "      <td>0.231102</td>\n",
       "      <td>0.425943</td>\n",
       "      <td>0.591814</td>\n",
       "    </tr>\n",
       "    <tr>\n",
       "      <th>0</th>\n",
       "      <td>human</td>\n",
       "      <td>drop</td>\n",
       "      <td>0.266334</td>\n",
       "      <td>0.501544</td>\n",
       "      <td>0.681139</td>\n",
       "    </tr>\n",
       "    <tr>\n",
       "      <th>0</th>\n",
       "      <td>human</td>\n",
       "      <td>clothiness</td>\n",
       "      <td>0.065426</td>\n",
       "      <td>0.349287</td>\n",
       "      <td>0.549326</td>\n",
       "    </tr>\n",
       "    <tr>\n",
       "      <th>0</th>\n",
       "      <td>human</td>\n",
       "      <td>linking</td>\n",
       "      <td>0.114636</td>\n",
       "      <td>0.386807</td>\n",
       "      <td>0.569892</td>\n",
       "    </tr>\n",
       "    <tr>\n",
       "      <th>0</th>\n",
       "      <td>human</td>\n",
       "      <td>containment</td>\n",
       "      <td>0.306122</td>\n",
       "      <td>0.559038</td>\n",
       "      <td>0.725013</td>\n",
       "    </tr>\n",
       "    <tr>\n",
       "      <th>0</th>\n",
       "      <td>human</td>\n",
       "      <td>towers</td>\n",
       "      <td>0.299731</td>\n",
       "      <td>0.565581</td>\n",
       "      <td>0.725722</td>\n",
       "    </tr>\n",
       "  </tbody>\n",
       "</table>\n",
       "</div>"
      ],
      "text/plain": [
       "   agent        scenario   corr_lb  corr_med   corr_ub\n",
       "0  human       collision  0.388046   0.62822  0.776057\n",
       "0  human  rollingsliding  0.506253  0.713836  0.851243\n",
       "0  human        dominoes  0.231102  0.425943  0.591814\n",
       "0  human            drop  0.266334  0.501544  0.681139\n",
       "0  human      clothiness  0.065426  0.349287  0.549326\n",
       "0  human         linking  0.114636  0.386807  0.569892\n",
       "0  human     containment  0.306122  0.559038  0.725013\n",
       "0  human          towers  0.299731  0.565581  0.725722"
      ]
     },
     "execution_count": 27,
     "metadata": {},
     "output_type": "execute_result"
    }
   ],
   "source": [
    "human_boot_corr"
   ]
  },
  {
   "cell_type": "markdown",
   "metadata": {},
   "source": [
    "#### Cohen's $\\kappa$"
   ]
  },
  {
   "cell_type": "code",
   "execution_count": 28,
   "metadata": {
    "execution": {
     "iopub.execute_input": "2021-06-04T10:33:59.656448Z",
     "iopub.status.busy": "2021-06-04T10:33:59.656163Z",
     "iopub.status.idle": "2021-06-04T10:34:22.577724Z",
     "shell.execute_reply": "2021-06-04T10:34:22.576773Z",
     "shell.execute_reply.started": "2021-06-04T10:33:59.656426Z"
    },
    "tags": []
   },
   "outputs": [
    {
     "name": "stdout",
     "output_type": "stream",
     "text": [
      "Saved to file! Done.\n"
     ]
    }
   ],
   "source": [
    "## init human_boot_cohenk for plotting\n",
    "human_boot_cohenk = pd.DataFrame()\n",
    "\n",
    "for exp_ind, exp_name in enumerate(resp_paths):\n",
    "    \n",
    "    ## get path to response data\n",
    "    path_to_data = resp_paths[exp_ind]\n",
    "\n",
    "    ## load data and apply preprocessing\n",
    "    _D = h.load_and_preprocess_data(path_to_data)\n",
    "    scenarioName = _D.scenarioName.values[0]\n",
    "    print('Currently analyzing the {} experiment.'.format(_D.scenarioName.values[0]))\n",
    "    clear_output(wait=True)\n",
    "\n",
    "    ## apply exclusion criteria\n",
    "    D = h.apply_exclusion_criteria(_D)\n",
    "    \n",
    "    ## create response feature matrix (numSubs x numTrialsPerSub)\n",
    "    D2 = D.sort_values(by=['prolificIDAnon','stim_ID']).reset_index(drop=True)\n",
    "    numSubs = len(np.unique(D['prolificIDAnon'].values))\n",
    "    numTrialsPerSub = int(len(D)/numSubs)\n",
    "    respMat = np.reshape(D2['responseBool'].values, (numSubs,numTrialsPerSub)) \n",
    "\n",
    "    ## sanity check that the reshape operation happened correctly\n",
    "    assert len([i for (i,j) in list(zip(respMat[0],D2[:150]['responseBool'].values)) if i!=j])==0    \n",
    "      \n",
    "    ## compute Cohen's kappa\n",
    "    ## with a horrific double loop\n",
    "    kappas = []\n",
    "    for i in range(respMat.shape[0]): # for each participant\n",
    "        for j in range(i+1,respMat.shape[0]): # compare to every participant after them\n",
    "            assert i != j\n",
    "            kappa = sklearn.metrics.cohen_kappa_score(respMat[i],respMat[j])\n",
    "            kappas.append(kappa)\n",
    "    \n",
    "    ## get percentiles over pairwise corrs\n",
    "    lb = np.percentile(kappas, 2.5)\n",
    "    med = np.percentile(kappas, 50)\n",
    "    ub = np.percentile(kappas, 97.5)  \n",
    "        \n",
    "    if len(human_boot_cohenk)==0:\n",
    "        human_boot_cohenk = pd.DataFrame(['human', scenarioName, lb, med, ub]).transpose()\n",
    "    else:\n",
    "        human_boot_cohenk = pd.concat([human_boot_cohenk, pd.DataFrame(['human', scenarioName, lb, med, ub]).transpose()],axis=0)\n",
    "        \n",
    "## add column names        \n",
    "human_boot_cohenk.columns=['agent','scenario','corr_lb', 'corr_med', 'corr_ub']\n",
    "\n",
    "## save out human_boot_cohenk to re-plot in R\n",
    "if not os.path.exists(os.path.join(csv_dir, 'summary')):\n",
    "    os.makedirs(os.path.join(csv_dir, 'summary'))    \n",
    "human_boot_cohenk.to_csv(os.path.join(csv_dir, 'summary','human_pairwiseCohensKs_by_scenario.csv'), index=False)\n",
    "print('Saved to file! Done.')"
   ]
  },
  {
   "cell_type": "code",
   "execution_count": 29,
   "metadata": {
    "execution": {
     "iopub.execute_input": "2021-06-04T10:34:22.579868Z",
     "iopub.status.busy": "2021-06-04T10:34:22.579520Z",
     "iopub.status.idle": "2021-06-04T10:34:22.590394Z",
     "shell.execute_reply": "2021-06-04T10:34:22.589621Z",
     "shell.execute_reply.started": "2021-06-04T10:34:22.579842Z"
    },
    "tags": []
   },
   "outputs": [
    {
     "data": {
      "text/html": [
       "<div>\n",
       "<style scoped>\n",
       "    .dataframe tbody tr th:only-of-type {\n",
       "        vertical-align: middle;\n",
       "    }\n",
       "\n",
       "    .dataframe tbody tr th {\n",
       "        vertical-align: top;\n",
       "    }\n",
       "\n",
       "    .dataframe thead th {\n",
       "        text-align: right;\n",
       "    }\n",
       "</style>\n",
       "<table border=\"1\" class=\"dataframe\">\n",
       "  <thead>\n",
       "    <tr style=\"text-align: right;\">\n",
       "      <th></th>\n",
       "      <th>agent</th>\n",
       "      <th>scenario</th>\n",
       "      <th>corr_lb</th>\n",
       "      <th>corr_med</th>\n",
       "      <th>corr_ub</th>\n",
       "    </tr>\n",
       "  </thead>\n",
       "  <tbody>\n",
       "    <tr>\n",
       "      <th>0</th>\n",
       "      <td>human</td>\n",
       "      <td>collision</td>\n",
       "      <td>0.381969</td>\n",
       "      <td>0.621826</td>\n",
       "      <td>0.773353</td>\n",
       "    </tr>\n",
       "    <tr>\n",
       "      <th>0</th>\n",
       "      <td>human</td>\n",
       "      <td>rollingsliding</td>\n",
       "      <td>0.490152</td>\n",
       "      <td>0.707031</td>\n",
       "      <td>0.85095</td>\n",
       "    </tr>\n",
       "    <tr>\n",
       "      <th>0</th>\n",
       "      <td>human</td>\n",
       "      <td>dominoes</td>\n",
       "      <td>0.221083</td>\n",
       "      <td>0.417313</td>\n",
       "      <td>0.586667</td>\n",
       "    </tr>\n",
       "    <tr>\n",
       "      <th>0</th>\n",
       "      <td>human</td>\n",
       "      <td>drop</td>\n",
       "      <td>0.260437</td>\n",
       "      <td>0.494367</td>\n",
       "      <td>0.678875</td>\n",
       "    </tr>\n",
       "    <tr>\n",
       "      <th>0</th>\n",
       "      <td>human</td>\n",
       "      <td>clothiness</td>\n",
       "      <td>0.062416</td>\n",
       "      <td>0.340571</td>\n",
       "      <td>0.542955</td>\n",
       "    </tr>\n",
       "    <tr>\n",
       "      <th>0</th>\n",
       "      <td>human</td>\n",
       "      <td>linking</td>\n",
       "      <td>0.109512</td>\n",
       "      <td>0.369462</td>\n",
       "      <td>0.560538</td>\n",
       "    </tr>\n",
       "    <tr>\n",
       "      <th>0</th>\n",
       "      <td>human</td>\n",
       "      <td>containment</td>\n",
       "      <td>0.284806</td>\n",
       "      <td>0.546667</td>\n",
       "      <td>0.719987</td>\n",
       "    </tr>\n",
       "    <tr>\n",
       "      <th>0</th>\n",
       "      <td>human</td>\n",
       "      <td>towers</td>\n",
       "      <td>0.285117</td>\n",
       "      <td>0.549918</td>\n",
       "      <td>0.720673</td>\n",
       "    </tr>\n",
       "  </tbody>\n",
       "</table>\n",
       "</div>"
      ],
      "text/plain": [
       "   agent        scenario   corr_lb  corr_med   corr_ub\n",
       "0  human       collision  0.381969  0.621826  0.773353\n",
       "0  human  rollingsliding  0.490152  0.707031   0.85095\n",
       "0  human        dominoes  0.221083  0.417313  0.586667\n",
       "0  human            drop  0.260437  0.494367  0.678875\n",
       "0  human      clothiness  0.062416  0.340571  0.542955\n",
       "0  human         linking  0.109512  0.369462  0.560538\n",
       "0  human     containment  0.284806  0.546667  0.719987\n",
       "0  human          towers  0.285117  0.549918  0.720673"
      ]
     },
     "execution_count": 29,
     "metadata": {},
     "output_type": "execute_result"
    }
   ],
   "source": [
    "human_boot_cohenk"
   ]
  },
  {
   "cell_type": "markdown",
   "metadata": {},
   "source": [
    "## Visualize distribution of model physical judgments, by domain"
   ]
  },
  {
   "cell_type": "code",
   "execution_count": null,
   "metadata": {},
   "outputs": [],
   "source": []
  },
  {
   "cell_type": "markdown",
   "metadata": {},
   "source": [
    "## Compute summary statistics over model physical judgments, by domain"
   ]
  },
  {
   "cell_type": "code",
   "execution_count": 30,
   "metadata": {
    "execution": {
     "iopub.execute_input": "2021-06-04T10:34:22.592062Z",
     "iopub.status.busy": "2021-06-04T10:34:22.591840Z",
     "iopub.status.idle": "2021-06-04T10:34:22.863104Z",
     "shell.execute_reply": "2021-06-04T10:34:22.862503Z",
     "shell.execute_reply.started": "2021-06-04T10:34:22.592038Z"
    },
    "tags": []
   },
   "outputs": [
    {
     "data": {
      "image/png": "[encoded data removed]",
      "text/plain": [
       "<Figure size 432x288 with 1 Axes>"
      ]
     },
     "metadata": {},
     "output_type": "display_data"
    }
   ],
   "source": [
    "Dacc = D.groupby('stim_ID').agg({'correct':np.mean})\n",
    "p = sns.histplot(data=Dacc, x='correct', bins=30, stat='probability')\n",
    "t = plt.title('Accuracy distribution across stimuli')"
   ]
  },
  {
   "cell_type": "markdown",
   "metadata": {},
   "source": [
    "## Conduct human-model comparisons\n",
    "We will compare human and model behavior in two ways: **absolute performance** and **response pattern.**\n",
    "\n",
    "#### **Absolute Performance** \n",
    "We will compare the accuracy of each model to the mean accuracy of humans, for each scenario. \n",
    "To do this, we will first compute estimates of mean human accuracy for each scenario and construct 95% confidence intervals for each of these estimates. \n",
    "These confidence intervals will be constructed by bootstrapping: specifically, for an experiment with N participants, we will resample N participants with replacement and compute the proportion correct for that bootstrapped sample. We will take repeat this resampling procedure 1000 times to generate a sampling distribution for the mean proportion correct. The 2.5th and 97.5th percentile will be extracted from this sampling distribution to provide the lower and upper bounds of the 95% confidence interval.\n",
    "\n",
    "For each model, we will then compare their proportion correct (a point estimate) to the human confidence interval. "
   ]
  },
  {
   "cell_type": "code",
   "execution_count": 31,
   "metadata": {
    "execution": {
     "iopub.execute_input": "2021-06-04T10:34:22.864664Z",
     "iopub.status.busy": "2021-06-04T10:34:22.864444Z",
     "iopub.status.idle": "2021-06-04T10:34:23.047828Z",
     "shell.execute_reply": "2021-06-04T10:34:23.047110Z",
     "shell.execute_reply.started": "2021-06-04T10:34:22.864642Z"
    },
    "tags": []
   },
   "outputs": [],
   "source": [
    "# group model data by scenario\n",
    "MD_by_scenario = MD.groupby(['Readout Test Data','ModelID']).agg(\n",
    "        {**{ 'correct':'mean' },\n",
    "         **{ col:'first' for col in MODEL_COLS+h.DATASET_ABSTRACTED_COLS} #save model identifying data as well\n",
    "        })"
   ]
  },
  {
   "cell_type": "code",
   "execution_count": 32,
   "metadata": {
    "execution": {
     "iopub.execute_input": "2021-06-04T10:34:23.049692Z",
     "iopub.status.busy": "2021-06-04T10:34:23.049308Z",
     "iopub.status.idle": "2021-06-04T10:34:25.071591Z",
     "shell.execute_reply": "2021-06-04T10:34:25.070509Z",
     "shell.execute_reply.started": "2021-06-04T10:34:23.049650Z"
    },
    "tags": []
   },
   "outputs": [
    {
     "name": "stdout",
     "output_type": "stream",
     "text": [
      "Saved to file. Done!\n"
     ]
    }
   ],
   "source": [
    "accuracies = {}\n",
    "\n",
    "for scenario in sorted(MD['Readout Test Data'].unique()):\n",
    "    print(\"Now running scenario\",scenario)\n",
    "    _MD_by_scenario = MD_by_scenario.loc[[scenario]]\n",
    "    for _,model_row in list(_MD_by_scenario.iterrows()):\n",
    "        #each model is one row of MD\n",
    "        human_row = human_bootstrapped_accuracy.query(\"scenario == @scenario\")\n",
    "#         assert len(model_row) == len(human_row) == 1\n",
    "        correct_ratio = model_row['correct']/human_row['obs_mean']\n",
    "        correct_diff = model_row['correct'] - human_row['obs_mean']\n",
    "        accuracies[(scenario,model_row.name[1])] = {**{\n",
    "                                                    'scenario': scenario,\n",
    "                                                    'ratio': float(correct_ratio), \n",
    "                                                    'diff': float(correct_diff),\n",
    "                                                    'human_correct': float(human_row['obs_mean']),\n",
    "                                                    'model_correct': float(model_row['correct']),\n",
    "                                                    },**{col: model_row[col] for col in MODEL_COLS+h.DATASET_ABSTRACTED_COLS}} # save information for model identification\n",
    "    clear_output(wait=True)\n",
    "\n",
    "model_human_accuracies = pd.DataFrame(accuracies).transpose()  \n",
    "model_human_accuracies.to_csv(os.path.join(csv_dir, 'summary','model_human_accuracies.csv'), index=False)\n",
    "print('Saved to file. Done!')"
   ]
  },
  {
   "cell_type": "code",
   "execution_count": null,
   "metadata": {
    "tags": []
   },
   "outputs": [],
   "source": []
  },
  {
   "cell_type": "markdown",
   "metadata": {},
   "source": [
    "#### **Response Pattern**\n",
    "We will compare the pattern of predictions generated by each model to the pattern of predictions generated by humans. \n",
    "\n",
    "We will do this by using two standard inter-rater reliability metrics:\n",
    "\n",
    "##### **Correlation between average-human and model responses**\n",
    "For each stimulus, we will compute the proportion of \"hit\" responses by humans. \n",
    "For each stimulus, we will extract the hit probability generated by models.\n",
    "For each scenario (i.e., domain), we will compute the root-mean-squared-deviation between the human proportion-hit vector and the model probability-hit vector. \n",
    "To estimate variability across human samples, we will conduct bootstrap resampling (i.e., resampling data from individual participants with replacement), where for each bootstrap sample we will re-compute the correlation between the model probability-hit vector and the (bootstrapped) human proportion-hit vector.\n",
    "\n",
    "##### **Correlation** (DEPRECATED, SUPERSEDED BY COHEN's KAPPA BELOW, WHICH CORRECTS FOR CHANCE AGREEMENT RATE)\n",
    "For each pair of human participants, we will compute the correlation between their (binary) response vectors, yielding a distribution of pairwise human-human correlations. \n",
    "For each model, we will compute the correlation between its response vector and every human participant, as well as every other model. \n",
    "A model's response pattern will be considered more similar to humans' insofar as the mean model-human correlation (across humans) lies closer to the mean human-human correlation (for all pairs of humans).\n"
   ]
  },
  {
   "cell_type": "code",
   "execution_count": 33,
   "metadata": {
    "execution": {
     "iopub.execute_input": "2021-06-04T10:34:25.073499Z",
     "iopub.status.busy": "2021-06-04T10:34:25.073110Z",
     "iopub.status.idle": "2021-06-04T10:34:38.378774Z",
     "shell.execute_reply": "2021-06-04T10:34:38.377854Z",
     "shell.execute_reply.started": "2021-06-04T10:34:25.073457Z"
    }
   },
   "outputs": [
    {
     "name": "stdout",
     "output_type": "stream",
     "text": [
      "Saved to file. Done!\n"
     ]
    }
   ],
   "source": [
    "out_dict = {}\n",
    "\n",
    "\n",
    "for scenario in sorted(MD['Readout Test Data'].unique()):\n",
    "    print(\"Now running scenario\",scenario)\n",
    "    _MD = MD[MD['Readout Test Data'] == scenario]\n",
    "    _HD = HD[HD['scenarioName'] == scenario].sort_values('stim_ID')\n",
    "    for model in _MD['ModelID'].unique():\n",
    "        #get responses of model        \n",
    "        _MD_model = _MD[_MD['ModelID'] == model]\n",
    "        _MD_model = _MD_model.sort_values('Canon Stimulus Name') #ensure same stim order \n",
    "        \n",
    "        ## get average human response vector\n",
    "        _HD_resp = _HD.groupby('stim_ID')['responseBool'].mean().reset_index()\n",
    "        #in case the models have more or less responses compared to humans\n",
    "        human_stim_names = set(list(_HD['stim_ID']))\n",
    "        model_stim_names = set(list(_MD_model['Canon Stimulus Name']))\n",
    "        joint_stim_names = human_stim_names.intersection(model_stim_names)\n",
    "        if len(joint_stim_names) == 0:\n",
    "            print(\"⛔️ {} is missing all datapoints on {} human responses\".format(model, len(human_stim_names)),end=\"\\r\")\n",
    "            continue #ignore and move on\n",
    "        if len(human_stim_names) > len(joint_stim_names):\n",
    "            print(\"⚠️ {} is missing {} datapoints on {} human responses\".format(model,len(human_stim_names) - len(joint_stim_names), len(human_stim_names)),end=\"\\r\")\n",
    "\n",
    "        #subset both models to ensure only common stims are used\n",
    "        _MD_model = _MD_model[_MD_model['Canon Stimulus Name'].isin(joint_stim_names)]            \n",
    "        _HD_resp = _HD_resp[_HD_resp['stim_ID'].isin(joint_stim_names)]           \n",
    "        ## make sure order is exactly the same\n",
    "        assert len([i for (i,j) in zip(_MD_model['Canon Stimulus Name'].values, _HD_resp['stim_ID'].values) if i!=j])==0\n",
    "        \n",
    "        ## extract human & model responses as arrays\n",
    "        model_responses = _MD_model['Predicted Prob_true'].values\n",
    "        human_responses = _HD_resp['responseBool'].values\n",
    "\n",
    "        ## compute RMSE per stimulus\n",
    "        RMSE = scipy.spatial.distance.euclidean(model_responses, human_responses) / len(model_responses)\n",
    "        \n",
    "        out_dict[(scenario, model)] = {**{'scenario':scenario,\n",
    "                                          'modelID': model,\n",
    "                                          'RMSE':RMSE,\n",
    "                                          'num_datapoints':len(model_responses)},\n",
    "                                           **{col:_MD_model.head(1)[col].item() for col in MODEL_COLS+h.DATASET_ABSTRACTED_COLS} #save model ID info\n",
    "                                      }\n",
    "        clear_output(wait=True)        \n",
    "\n",
    "model_human_rmse = pd.DataFrame(out_dict).transpose()  \n",
    "model_human_rmse.columns = model_human_rmse.columns.get_level_values(0) ## flatten multi-level index\n",
    "model_human_rmse.reset_index(drop=True) ## get rid of multi-level index\n",
    "model_human_rmse = model_human_rmse.assign(RMSE = pd.to_numeric(model_human_rmse['RMSE']))\n",
    "model_human_rmse.to_csv(os.path.join(csv_dir, 'summary','model_human_rmse.csv'), index=False)\n",
    "print('Saved to file. Done!')        "
   ]
  },
  {
   "cell_type": "code",
   "execution_count": 34,
   "metadata": {
    "execution": {
     "iopub.execute_input": "2021-06-04T10:34:38.380730Z",
     "iopub.status.busy": "2021-06-04T10:34:38.380441Z",
     "iopub.status.idle": "2021-06-04T10:34:38.390889Z",
     "shell.execute_reply": "2021-06-04T10:34:38.390252Z",
     "shell.execute_reply.started": "2021-06-04T10:34:38.380673Z"
    }
   },
   "outputs": [],
   "source": [
    "nIter = 1000\n",
    "idx = np.random.randint(0,_HD.gameID.nunique(),size=(1000,_HD.gameID.nunique()))"
   ]
  },
  {
   "cell_type": "code",
   "execution_count": 35,
   "metadata": {
    "execution": {
     "iopub.execute_input": "2021-06-04T10:34:38.392512Z",
     "iopub.status.busy": "2021-06-04T10:34:38.392224Z",
     "iopub.status.idle": "2021-06-04T10:34:38.405558Z",
     "shell.execute_reply": "2021-06-04T10:34:38.404374Z",
     "shell.execute_reply.started": "2021-06-04T10:34:38.392475Z"
    }
   },
   "outputs": [
    {
     "data": {
      "text/plain": [
       "array(['3737-1c212b15-a4db-4ff9-b93f-8228abbe64ae',\n",
       "       '4282-0398a521-cadc-4673-8813-22f05d843c57',\n",
       "       '2259-38ba4a98-9389-41f2-b227-926c268b56b4',\n",
       "       '6140-ffb7b792-2193-4e63-9c00-ffa69a0f7464',\n",
       "       '4913-54914331-1ec5-4ce6-9588-cdbf62a0a011',\n",
       "       '1976-7e6661d3-4c2c-4cce-8db4-95349e6088da',\n",
       "       '5660-701e9c83-b9c5-4ae8-bf08-5dac3971ccca',\n",
       "       '9175-f3e13280-0ad9-447a-96d1-1a845b50200b',\n",
       "       '4288-7307e958-805b-4493-8e10-e67b43239610',\n",
       "       '2733-d81cdcf6-8381-4c26-9d4d-9c4082af5601',\n",
       "       '0959-b3c013e5-40a9-448d-b80b-0d4093280842',\n",
       "       '6126-97f9f88c-840d-47a2-802b-1de3a7ca9844',\n",
       "       '4791-f76cf9a1-1e89-4bb8-9ec6-8c6398b194a1',\n",
       "       '9469-7c293d19-38dd-4686-92bc-68b847f598b7',\n",
       "       '8026-ee6f4035-9622-46e2-b6f9-d3f74bdc3c47',\n",
       "       '3515-80733e2a-78ff-4bf5-8a74-52524f181cdd',\n",
       "       '9377-83b85bc5-3792-4b8e-8b6e-532c04d2a2b0',\n",
       "       '2259-38ba4a98-9389-41f2-b227-926c268b56b4',\n",
       "       '4669-8b988a08-45f1-432b-8aea-59c0a82ab19a',\n",
       "       '9211-5a9ffe70-2f8f-4e07-bdd7-f27d12f5d661',\n",
       "       '7353-9c0a4be4-cb74-4929-89d4-d311ba964147',\n",
       "       '9239-b643f8e1-4848-4248-8b5f-034f30d4acda',\n",
       "       '9402-7b3d41fa-3a69-4aae-b5fd-ec4141bc6924',\n",
       "       '4325-05bebc74-b6c8-42cf-9a9d-6994d349f081',\n",
       "       '3737-1c212b15-a4db-4ff9-b93f-8228abbe64ae',\n",
       "       '8591-201183a1-6887-46b1-b5e7-6cd7638576e6',\n",
       "       '1820-844b3010-871a-4155-b01e-efdfcbe28924',\n",
       "       '1976-7e6661d3-4c2c-4cce-8db4-95349e6088da',\n",
       "       '8591-201183a1-6887-46b1-b5e7-6cd7638576e6',\n",
       "       '5253-18669dfa-c0b6-48ed-8512-2d2d670bb165',\n",
       "       '1820-844b3010-871a-4155-b01e-efdfcbe28924',\n",
       "       '3226-c104d6cf-63f2-4a92-8c64-5a28522b7857',\n",
       "       '4669-8b988a08-45f1-432b-8aea-59c0a82ab19a',\n",
       "       '3974-fdab969f-8051-4a78-94fb-f9ca85c3d94c',\n",
       "       '7353-9c0a4be4-cb74-4929-89d4-d311ba964147',\n",
       "       '8086-fce10b91-14bd-4938-8fcb-df5d97408377',\n",
       "       '6140-ffb7b792-2193-4e63-9c00-ffa69a0f7464',\n",
       "       '8591-201183a1-6887-46b1-b5e7-6cd7638576e6',\n",
       "       '0959-b3c013e5-40a9-448d-b80b-0d4093280842',\n",
       "       '1318-a480f6d9-c49f-4521-9d49-a1bdbd033e16',\n",
       "       '8856-23a126ad-addb-47b3-bd8e-df98f1ad49a3',\n",
       "       '1524-086d2dbd-153f-4ae4-b7fb-0f10b107cbe5',\n",
       "       '7475-a939828d-8426-48e8-9f97-bd046499a1e7',\n",
       "       '7475-a939828d-8426-48e8-9f97-bd046499a1e7',\n",
       "       '4288-7307e958-805b-4493-8e10-e67b43239610',\n",
       "       '0460-ced10199-97af-453d-8f91-2740b364d40d',\n",
       "       '2259-38ba4a98-9389-41f2-b227-926c268b56b4',\n",
       "       '9706-69afe476-47f4-4845-ace1-4b4d9ada5ed7',\n",
       "       '1158-9555594e-1563-4b59-a666-88e1e0f65bb7',\n",
       "       '8856-23a126ad-addb-47b3-bd8e-df98f1ad49a3',\n",
       "       '3288-5b84b0b1-4866-4b99-98c8-ec8b5e7a4aae',\n",
       "       '3226-c104d6cf-63f2-4a92-8c64-5a28522b7857',\n",
       "       '1158-9555594e-1563-4b59-a666-88e1e0f65bb7',\n",
       "       '0502-8d8566fe-e046-4fb1-9681-5fe1c1a10c0f',\n",
       "       '1977-9a324852-dc87-4981-a029-f3e03f155ea0',\n",
       "       '1201-8767d6e0-2a72-4efb-9d49-36085d006ce8',\n",
       "       '0619-7eeb560e-0121-4494-a891-d94d8e9d77f3',\n",
       "       '9377-83b85bc5-3792-4b8e-8b6e-532c04d2a2b0',\n",
       "       '5668-4968cd75-65fd-4ae5-84d1-b75d7d1d49b3',\n",
       "       '2122-af197044-ea7c-4a9f-89ad-b97f202bcbb2',\n",
       "       '4791-f76cf9a1-1e89-4bb8-9ec6-8c6398b194a1',\n",
       "       '0460-ced10199-97af-453d-8f91-2740b364d40d',\n",
       "       '6126-97f9f88c-840d-47a2-802b-1de3a7ca9844',\n",
       "       '1614-08f497e3-e1af-457e-a2e3-444a0d84e6b3',\n",
       "       '5668-4968cd75-65fd-4ae5-84d1-b75d7d1d49b3',\n",
       "       '7274-5cc0824e-d3c8-4ea0-969c-3d8b5a1781bd',\n",
       "       '6583-c4b99fab-2fa8-4f74-ada7-245cc996bf7a',\n",
       "       '7192-1eb30845-f767-438f-9951-3cc1b7282784',\n",
       "       '4064-f66f8cc6-6375-45c8-9746-d689cbecf1b5',\n",
       "       '2733-d81cdcf6-8381-4c26-9d4d-9c4082af5601',\n",
       "       '0190-07d6b5e3-f86a-44de-9bc7-15b9c7d565e5',\n",
       "       '6583-c4b99fab-2fa8-4f74-ada7-245cc996bf7a',\n",
       "       '2122-af197044-ea7c-4a9f-89ad-b97f202bcbb2',\n",
       "       '5149-0bc164f2-8ffa-4b56-9da8-08555295fdf1',\n",
       "       '9469-7c293d19-38dd-4686-92bc-68b847f598b7',\n",
       "       '5660-701e9c83-b9c5-4ae8-bf08-5dac3971ccca',\n",
       "       '5149-0bc164f2-8ffa-4b56-9da8-08555295fdf1',\n",
       "       '5668-4968cd75-65fd-4ae5-84d1-b75d7d1d49b3',\n",
       "       '4288-7307e958-805b-4493-8e10-e67b43239610',\n",
       "       '1820-844b3010-871a-4155-b01e-efdfcbe28924',\n",
       "       '4282-0398a521-cadc-4673-8813-22f05d843c57',\n",
       "       '5843-62051155-28b9-418d-98ab-2e9d1832c0d6',\n",
       "       '2259-38ba4a98-9389-41f2-b227-926c268b56b4',\n",
       "       '8856-23a126ad-addb-47b3-bd8e-df98f1ad49a3',\n",
       "       '0689-21c416a8-e2b5-44bc-aa61-d8936d584acf'], dtype=object)"
      ]
     },
     "execution_count": 35,
     "metadata": {},
     "output_type": "execute_result"
    }
   ],
   "source": [
    "gameIDs = np.unique(_HD.gameID.values)\n",
    "gameIDs[idx[0]]"
   ]
  },
  {
   "cell_type": "code",
   "execution_count": 36,
   "metadata": {
    "execution": {
     "iopub.execute_input": "2021-06-04T10:34:38.407315Z",
     "iopub.status.busy": "2021-06-04T10:34:38.407022Z",
     "iopub.status.idle": "2021-06-04T10:34:38.597378Z",
     "shell.execute_reply": "2021-06-04T10:34:38.596717Z",
     "shell.execute_reply.started": "2021-06-04T10:34:38.407256Z"
    }
   },
   "outputs": [],
   "source": [
    "## precompute indices for bootstrap resampling\n",
    "nIter = 1000\n",
    "idx = np.random.RandomState(123).randint(0,_HD.gameID.nunique(),size=(1000,_HD.gameID.nunique()))\n",
    "\n",
    "currIter = 0\n",
    "boot_games = gameIDs[idx[currIter]]\n",
    "boot_data = []\n",
    "for game in boot_games:\n",
    "    boot_data.append(_HD[_HD['gameID']==game])\n",
    "boot_data = pd.concat(boot_data)    "
   ]
  },
  {
   "cell_type": "code",
   "execution_count": null,
   "metadata": {},
   "outputs": [],
   "source": []
  },
  {
   "cell_type": "markdown",
   "metadata": {},
   "source": [
    "#### Conduct bootstrapping on model-avgHuman distance"
   ]
  },
  {
   "cell_type": "code",
   "execution_count": 37,
   "metadata": {
    "execution": {
     "iopub.execute_input": "2021-06-04T10:34:38.599087Z",
     "iopub.status.busy": "2021-06-04T10:34:38.598715Z",
     "iopub.status.idle": "2021-06-04T14:59:38.550339Z",
     "shell.execute_reply": "2021-06-04T14:59:38.547712Z",
     "shell.execute_reply.started": "2021-06-04T10:34:38.599043Z"
    }
   },
   "outputs": [
    {
     "ename": "TypeError",
     "evalue": "incompatible index of inserted column with frame index",
     "output_type": "error",
     "traceback": [
      "\u001b[0;31m---------------------------------------------------------------------------\u001b[0m",
      "\u001b[0;31mValueError\u001b[0m                                Traceback (most recent call last)",
      "\u001b[0;32m~/anaconda3/envs/tdw/lib/python3.9/site-packages/pandas/core/frame.py\u001b[0m in \u001b[0;36mreindexer\u001b[0;34m(value)\u001b[0m\n\u001b[1;32m   3861\u001b[0m                 \u001b[0;32mtry\u001b[0m\u001b[0;34m:\u001b[0m\u001b[0;34m\u001b[0m\u001b[0;34m\u001b[0m\u001b[0m\n\u001b[0;32m-> 3862\u001b[0;31m                     \u001b[0mvalue\u001b[0m \u001b[0;34m=\u001b[0m \u001b[0mvalue\u001b[0m\u001b[0;34m.\u001b[0m\u001b[0mreindex\u001b[0m\u001b[0;34m(\u001b[0m\u001b[0mself\u001b[0m\u001b[0;34m.\u001b[0m\u001b[0mindex\u001b[0m\u001b[0;34m)\u001b[0m\u001b[0;34m.\u001b[0m\u001b[0m_values\u001b[0m\u001b[0;34m\u001b[0m\u001b[0;34m\u001b[0m\u001b[0m\n\u001b[0m\u001b[1;32m   3863\u001b[0m                 \u001b[0;32mexcept\u001b[0m \u001b[0mValueError\u001b[0m \u001b[0;32mas\u001b[0m \u001b[0merr\u001b[0m\u001b[0;34m:\u001b[0m\u001b[0;34m\u001b[0m\u001b[0;34m\u001b[0m\u001b[0m\n",
      "\u001b[0;32m~/anaconda3/envs/tdw/lib/python3.9/site-packages/pandas/core/series.py\u001b[0m in \u001b[0;36mreindex\u001b[0;34m(self, index, **kwargs)\u001b[0m\n\u001b[1;32m   4344\u001b[0m     \u001b[0;32mdef\u001b[0m \u001b[0mreindex\u001b[0m\u001b[0;34m(\u001b[0m\u001b[0mself\u001b[0m\u001b[0;34m,\u001b[0m \u001b[0mindex\u001b[0m\u001b[0;34m=\u001b[0m\u001b[0;32mNone\u001b[0m\u001b[0;34m,\u001b[0m \u001b[0;34m**\u001b[0m\u001b[0mkwargs\u001b[0m\u001b[0;34m)\u001b[0m\u001b[0;34m:\u001b[0m\u001b[0;34m\u001b[0m\u001b[0;34m\u001b[0m\u001b[0m\n\u001b[0;32m-> 4345\u001b[0;31m         \u001b[0;32mreturn\u001b[0m \u001b[0msuper\u001b[0m\u001b[0;34m(\u001b[0m\u001b[0;34m)\u001b[0m\u001b[0;34m.\u001b[0m\u001b[0mreindex\u001b[0m\u001b[0;34m(\u001b[0m\u001b[0mindex\u001b[0m\u001b[0;34m=\u001b[0m\u001b[0mindex\u001b[0m\u001b[0;34m,\u001b[0m \u001b[0;34m**\u001b[0m\u001b[0mkwargs\u001b[0m\u001b[0;34m)\u001b[0m\u001b[0;34m\u001b[0m\u001b[0;34m\u001b[0m\u001b[0m\n\u001b[0m\u001b[1;32m   4346\u001b[0m \u001b[0;34m\u001b[0m\u001b[0m\n",
      "\u001b[0;32m~/anaconda3/envs/tdw/lib/python3.9/site-packages/pandas/core/generic.py\u001b[0m in \u001b[0;36mreindex\u001b[0;34m(self, *args, **kwargs)\u001b[0m\n\u001b[1;32m   4810\u001b[0m         \u001b[0;31m# perform the reindex on the axes\u001b[0m\u001b[0;34m\u001b[0m\u001b[0;34m\u001b[0m\u001b[0;34m\u001b[0m\u001b[0m\n\u001b[0;32m-> 4811\u001b[0;31m         return self._reindex_axes(\n\u001b[0m\u001b[1;32m   4812\u001b[0m             \u001b[0maxes\u001b[0m\u001b[0;34m,\u001b[0m \u001b[0mlevel\u001b[0m\u001b[0;34m,\u001b[0m \u001b[0mlimit\u001b[0m\u001b[0;34m,\u001b[0m \u001b[0mtolerance\u001b[0m\u001b[0;34m,\u001b[0m \u001b[0mmethod\u001b[0m\u001b[0;34m,\u001b[0m \u001b[0mfill_value\u001b[0m\u001b[0;34m,\u001b[0m \u001b[0mcopy\u001b[0m\u001b[0;34m\u001b[0m\u001b[0;34m\u001b[0m\u001b[0m\n",
      "\u001b[0;32m~/anaconda3/envs/tdw/lib/python3.9/site-packages/pandas/core/generic.py\u001b[0m in \u001b[0;36m_reindex_axes\u001b[0;34m(self, axes, level, limit, tolerance, method, fill_value, copy)\u001b[0m\n\u001b[1;32m   4826\u001b[0m             \u001b[0max\u001b[0m \u001b[0;34m=\u001b[0m \u001b[0mself\u001b[0m\u001b[0;34m.\u001b[0m\u001b[0m_get_axis\u001b[0m\u001b[0;34m(\u001b[0m\u001b[0ma\u001b[0m\u001b[0;34m)\u001b[0m\u001b[0;34m\u001b[0m\u001b[0;34m\u001b[0m\u001b[0m\n\u001b[0;32m-> 4827\u001b[0;31m             new_index, indexer = ax.reindex(\n\u001b[0m\u001b[1;32m   4828\u001b[0m                 \u001b[0mlabels\u001b[0m\u001b[0;34m,\u001b[0m \u001b[0mlevel\u001b[0m\u001b[0;34m=\u001b[0m\u001b[0mlevel\u001b[0m\u001b[0;34m,\u001b[0m \u001b[0mlimit\u001b[0m\u001b[0;34m=\u001b[0m\u001b[0mlimit\u001b[0m\u001b[0;34m,\u001b[0m \u001b[0mtolerance\u001b[0m\u001b[0;34m=\u001b[0m\u001b[0mtolerance\u001b[0m\u001b[0;34m,\u001b[0m \u001b[0mmethod\u001b[0m\u001b[0;34m=\u001b[0m\u001b[0mmethod\u001b[0m\u001b[0;34m\u001b[0m\u001b[0;34m\u001b[0m\u001b[0m\n",
      "\u001b[0;32m~/anaconda3/envs/tdw/lib/python3.9/site-packages/pandas/core/indexes/multi.py\u001b[0m in \u001b[0;36mreindex\u001b[0;34m(self, target, method, level, limit, tolerance)\u001b[0m\n\u001b[1;32m   2491\u001b[0m                 \u001b[0;31m# hopefully?\u001b[0m\u001b[0;34m\u001b[0m\u001b[0;34m\u001b[0m\u001b[0;34m\u001b[0m\u001b[0m\n\u001b[0;32m-> 2492\u001b[0;31m                 \u001b[0mtarget\u001b[0m \u001b[0;34m=\u001b[0m \u001b[0mMultiIndex\u001b[0m\u001b[0;34m.\u001b[0m\u001b[0mfrom_tuples\u001b[0m\u001b[0;34m(\u001b[0m\u001b[0mtarget\u001b[0m\u001b[0;34m)\u001b[0m\u001b[0;34m\u001b[0m\u001b[0;34m\u001b[0m\u001b[0m\n\u001b[0m\u001b[1;32m   2493\u001b[0m \u001b[0;34m\u001b[0m\u001b[0m\n",
      "\u001b[0;32m~/anaconda3/envs/tdw/lib/python3.9/site-packages/pandas/core/indexes/multi.py\u001b[0m in \u001b[0;36mnew_meth\u001b[0;34m(self_or_cls, *args, **kwargs)\u001b[0m\n\u001b[1;32m    174\u001b[0m \u001b[0;34m\u001b[0m\u001b[0m\n\u001b[0;32m--> 175\u001b[0;31m         \u001b[0;32mreturn\u001b[0m \u001b[0mmeth\u001b[0m\u001b[0;34m(\u001b[0m\u001b[0mself_or_cls\u001b[0m\u001b[0;34m,\u001b[0m \u001b[0;34m*\u001b[0m\u001b[0margs\u001b[0m\u001b[0;34m,\u001b[0m \u001b[0;34m**\u001b[0m\u001b[0mkwargs\u001b[0m\u001b[0;34m)\u001b[0m\u001b[0;34m\u001b[0m\u001b[0;34m\u001b[0m\u001b[0m\n\u001b[0m\u001b[1;32m    176\u001b[0m \u001b[0;34m\u001b[0m\u001b[0m\n",
      "\u001b[0;32m~/anaconda3/envs/tdw/lib/python3.9/site-packages/pandas/core/indexes/multi.py\u001b[0m in \u001b[0;36mfrom_tuples\u001b[0;34m(cls, tuples, sortorder, names)\u001b[0m\n\u001b[1;32m    530\u001b[0m \u001b[0;34m\u001b[0m\u001b[0m\n\u001b[0;32m--> 531\u001b[0;31m             \u001b[0marrays\u001b[0m \u001b[0;34m=\u001b[0m \u001b[0mlist\u001b[0m\u001b[0;34m(\u001b[0m\u001b[0mlib\u001b[0m\u001b[0;34m.\u001b[0m\u001b[0mtuples_to_object_array\u001b[0m\u001b[0;34m(\u001b[0m\u001b[0mtuples\u001b[0m\u001b[0;34m)\u001b[0m\u001b[0;34m.\u001b[0m\u001b[0mT\u001b[0m\u001b[0;34m)\u001b[0m\u001b[0;34m\u001b[0m\u001b[0;34m\u001b[0m\u001b[0m\n\u001b[0m\u001b[1;32m    532\u001b[0m         \u001b[0;32melif\u001b[0m \u001b[0misinstance\u001b[0m\u001b[0;34m(\u001b[0m\u001b[0mtuples\u001b[0m\u001b[0;34m,\u001b[0m \u001b[0mlist\u001b[0m\u001b[0;34m)\u001b[0m\u001b[0;34m:\u001b[0m\u001b[0;34m\u001b[0m\u001b[0;34m\u001b[0m\u001b[0m\n",
      "\u001b[0;32mpandas/_libs/lib.pyx\u001b[0m in \u001b[0;36mpandas._libs.lib.tuples_to_object_array\u001b[0;34m()\u001b[0m\n",
      "\u001b[0;31mValueError\u001b[0m: Buffer dtype mismatch, expected 'Python object' but got 'long'",
      "\nThe above exception was the direct cause of the following exception:\n",
      "\u001b[0;31mTypeError\u001b[0m                                 Traceback (most recent call last)",
      "\u001b[0;32m<ipython-input-37-0943d7237c6b>\u001b[0m in \u001b[0;36m<module>\u001b[0;34m\u001b[0m\n\u001b[1;32m     64\u001b[0m \u001b[0mmodel_human_rmse_boot\u001b[0m\u001b[0;34m.\u001b[0m\u001b[0mcolumns\u001b[0m \u001b[0;34m=\u001b[0m \u001b[0mmodel_human_rmse_boot\u001b[0m\u001b[0;34m.\u001b[0m\u001b[0mcolumns\u001b[0m\u001b[0;34m.\u001b[0m\u001b[0mget_level_values\u001b[0m\u001b[0;34m(\u001b[0m\u001b[0;36m0\u001b[0m\u001b[0;34m)\u001b[0m \u001b[0;31m## flatten multi-level index\u001b[0m\u001b[0;34m\u001b[0m\u001b[0;34m\u001b[0m\u001b[0m\n\u001b[1;32m     65\u001b[0m \u001b[0mmodel_human_rmse_boot\u001b[0m \u001b[0;34m=\u001b[0m \u001b[0mmodel_human_rmse_boot\u001b[0m\u001b[0;34m.\u001b[0m\u001b[0mreset_index\u001b[0m\u001b[0;34m(\u001b[0m\u001b[0mdrop\u001b[0m\u001b[0;34m=\u001b[0m\u001b[0;32mTrue\u001b[0m\u001b[0;34m)\u001b[0m \u001b[0;31m## get rid of multi-level index\u001b[0m\u001b[0;34m\u001b[0m\u001b[0;34m\u001b[0m\u001b[0m\n\u001b[0;32m---> 66\u001b[0;31m \u001b[0mmodel_human_rmse_boot\u001b[0m \u001b[0;34m=\u001b[0m \u001b[0mmodel_human_rmse_boot\u001b[0m\u001b[0;34m.\u001b[0m\u001b[0massign\u001b[0m\u001b[0;34m(\u001b[0m\u001b[0mRMSE\u001b[0m \u001b[0;34m=\u001b[0m \u001b[0mpd\u001b[0m\u001b[0;34m.\u001b[0m\u001b[0mto_numeric\u001b[0m\u001b[0;34m(\u001b[0m\u001b[0mmodel_human_rmse\u001b[0m\u001b[0;34m[\u001b[0m\u001b[0;34m'RMSE'\u001b[0m\u001b[0;34m]\u001b[0m\u001b[0;34m)\u001b[0m\u001b[0;34m)\u001b[0m\u001b[0;34m\u001b[0m\u001b[0;34m\u001b[0m\u001b[0m\n\u001b[0m\u001b[1;32m     67\u001b[0m \u001b[0mmodel_human_rmse_boot\u001b[0m\u001b[0;34m.\u001b[0m\u001b[0mto_csv\u001b[0m\u001b[0;34m(\u001b[0m\u001b[0mos\u001b[0m\u001b[0;34m.\u001b[0m\u001b[0mpath\u001b[0m\u001b[0;34m.\u001b[0m\u001b[0mjoin\u001b[0m\u001b[0;34m(\u001b[0m\u001b[0mcsv_dir\u001b[0m\u001b[0;34m,\u001b[0m \u001b[0;34m'summary'\u001b[0m\u001b[0;34m,\u001b[0m\u001b[0;34m'model_human_rmse_bootstrapped.csv'\u001b[0m\u001b[0;34m)\u001b[0m\u001b[0;34m,\u001b[0m \u001b[0mindex\u001b[0m\u001b[0;34m=\u001b[0m\u001b[0;32mFalse\u001b[0m\u001b[0;34m)\u001b[0m\u001b[0;34m\u001b[0m\u001b[0;34m\u001b[0m\u001b[0m\n\u001b[1;32m     68\u001b[0m \u001b[0mprint\u001b[0m\u001b[0;34m(\u001b[0m\u001b[0;34m'Saved to file. Done!'\u001b[0m\u001b[0;34m)\u001b[0m\u001b[0;34m\u001b[0m\u001b[0;34m\u001b[0m\u001b[0m\n",
      "\u001b[0;32m~/anaconda3/envs/tdw/lib/python3.9/site-packages/pandas/core/frame.py\u001b[0m in \u001b[0;36massign\u001b[0;34m(self, **kwargs)\u001b[0m\n\u001b[1;32m   3828\u001b[0m \u001b[0;34m\u001b[0m\u001b[0m\n\u001b[1;32m   3829\u001b[0m         \u001b[0;32mfor\u001b[0m \u001b[0mk\u001b[0m\u001b[0;34m,\u001b[0m \u001b[0mv\u001b[0m \u001b[0;32min\u001b[0m \u001b[0mkwargs\u001b[0m\u001b[0;34m.\u001b[0m\u001b[0mitems\u001b[0m\u001b[0;34m(\u001b[0m\u001b[0;34m)\u001b[0m\u001b[0;34m:\u001b[0m\u001b[0;34m\u001b[0m\u001b[0;34m\u001b[0m\u001b[0m\n\u001b[0;32m-> 3830\u001b[0;31m             \u001b[0mdata\u001b[0m\u001b[0;34m[\u001b[0m\u001b[0mk\u001b[0m\u001b[0;34m]\u001b[0m \u001b[0;34m=\u001b[0m \u001b[0mcom\u001b[0m\u001b[0;34m.\u001b[0m\u001b[0mapply_if_callable\u001b[0m\u001b[0;34m(\u001b[0m\u001b[0mv\u001b[0m\u001b[0;34m,\u001b[0m \u001b[0mdata\u001b[0m\u001b[0;34m)\u001b[0m\u001b[0;34m\u001b[0m\u001b[0;34m\u001b[0m\u001b[0m\n\u001b[0m\u001b[1;32m   3831\u001b[0m         \u001b[0;32mreturn\u001b[0m \u001b[0mdata\u001b[0m\u001b[0;34m\u001b[0m\u001b[0;34m\u001b[0m\u001b[0m\n\u001b[1;32m   3832\u001b[0m \u001b[0;34m\u001b[0m\u001b[0m\n",
      "\u001b[0;32m~/anaconda3/envs/tdw/lib/python3.9/site-packages/pandas/core/frame.py\u001b[0m in \u001b[0;36m__setitem__\u001b[0;34m(self, key, value)\u001b[0m\n\u001b[1;32m   3161\u001b[0m         \u001b[0;32melse\u001b[0m\u001b[0;34m:\u001b[0m\u001b[0;34m\u001b[0m\u001b[0;34m\u001b[0m\u001b[0m\n\u001b[1;32m   3162\u001b[0m             \u001b[0;31m# set column\u001b[0m\u001b[0;34m\u001b[0m\u001b[0;34m\u001b[0m\u001b[0;34m\u001b[0m\u001b[0m\n\u001b[0;32m-> 3163\u001b[0;31m             \u001b[0mself\u001b[0m\u001b[0;34m.\u001b[0m\u001b[0m_set_item\u001b[0m\u001b[0;34m(\u001b[0m\u001b[0mkey\u001b[0m\u001b[0;34m,\u001b[0m \u001b[0mvalue\u001b[0m\u001b[0;34m)\u001b[0m\u001b[0;34m\u001b[0m\u001b[0;34m\u001b[0m\u001b[0m\n\u001b[0m\u001b[1;32m   3164\u001b[0m \u001b[0;34m\u001b[0m\u001b[0m\n\u001b[1;32m   3165\u001b[0m     \u001b[0;32mdef\u001b[0m \u001b[0m_setitem_slice\u001b[0m\u001b[0;34m(\u001b[0m\u001b[0mself\u001b[0m\u001b[0;34m,\u001b[0m \u001b[0mkey\u001b[0m\u001b[0;34m:\u001b[0m \u001b[0mslice\u001b[0m\u001b[0;34m,\u001b[0m \u001b[0mvalue\u001b[0m\u001b[0;34m)\u001b[0m\u001b[0;34m:\u001b[0m\u001b[0;34m\u001b[0m\u001b[0;34m\u001b[0m\u001b[0m\n",
      "\u001b[0;32m~/anaconda3/envs/tdw/lib/python3.9/site-packages/pandas/core/frame.py\u001b[0m in \u001b[0;36m_set_item\u001b[0;34m(self, key, value)\u001b[0m\n\u001b[1;32m   3240\u001b[0m         \"\"\"\n\u001b[1;32m   3241\u001b[0m         \u001b[0mself\u001b[0m\u001b[0;34m.\u001b[0m\u001b[0m_ensure_valid_index\u001b[0m\u001b[0;34m(\u001b[0m\u001b[0mvalue\u001b[0m\u001b[0;34m)\u001b[0m\u001b[0;34m\u001b[0m\u001b[0;34m\u001b[0m\u001b[0m\n\u001b[0;32m-> 3242\u001b[0;31m         \u001b[0mvalue\u001b[0m \u001b[0;34m=\u001b[0m \u001b[0mself\u001b[0m\u001b[0;34m.\u001b[0m\u001b[0m_sanitize_column\u001b[0m\u001b[0;34m(\u001b[0m\u001b[0mkey\u001b[0m\u001b[0;34m,\u001b[0m \u001b[0mvalue\u001b[0m\u001b[0;34m)\u001b[0m\u001b[0;34m\u001b[0m\u001b[0;34m\u001b[0m\u001b[0m\n\u001b[0m\u001b[1;32m   3243\u001b[0m         \u001b[0mNDFrame\u001b[0m\u001b[0;34m.\u001b[0m\u001b[0m_set_item\u001b[0m\u001b[0;34m(\u001b[0m\u001b[0mself\u001b[0m\u001b[0;34m,\u001b[0m \u001b[0mkey\u001b[0m\u001b[0;34m,\u001b[0m \u001b[0mvalue\u001b[0m\u001b[0;34m)\u001b[0m\u001b[0;34m\u001b[0m\u001b[0;34m\u001b[0m\u001b[0m\n\u001b[1;32m   3244\u001b[0m \u001b[0;34m\u001b[0m\u001b[0m\n",
      "\u001b[0;32m~/anaconda3/envs/tdw/lib/python3.9/site-packages/pandas/core/frame.py\u001b[0m in \u001b[0;36m_sanitize_column\u001b[0;34m(self, key, value, broadcast)\u001b[0m\n\u001b[1;32m   3874\u001b[0m \u001b[0;34m\u001b[0m\u001b[0m\n\u001b[1;32m   3875\u001b[0m         \u001b[0;32mif\u001b[0m \u001b[0misinstance\u001b[0m\u001b[0;34m(\u001b[0m\u001b[0mvalue\u001b[0m\u001b[0;34m,\u001b[0m \u001b[0mSeries\u001b[0m\u001b[0;34m)\u001b[0m\u001b[0;34m:\u001b[0m\u001b[0;34m\u001b[0m\u001b[0;34m\u001b[0m\u001b[0m\n\u001b[0;32m-> 3876\u001b[0;31m             \u001b[0mvalue\u001b[0m \u001b[0;34m=\u001b[0m \u001b[0mreindexer\u001b[0m\u001b[0;34m(\u001b[0m\u001b[0mvalue\u001b[0m\u001b[0;34m)\u001b[0m\u001b[0;34m\u001b[0m\u001b[0;34m\u001b[0m\u001b[0m\n\u001b[0m\u001b[1;32m   3877\u001b[0m \u001b[0;34m\u001b[0m\u001b[0m\n\u001b[1;32m   3878\u001b[0m         \u001b[0;32melif\u001b[0m \u001b[0misinstance\u001b[0m\u001b[0;34m(\u001b[0m\u001b[0mvalue\u001b[0m\u001b[0;34m,\u001b[0m \u001b[0mDataFrame\u001b[0m\u001b[0;34m)\u001b[0m\u001b[0;34m:\u001b[0m\u001b[0;34m\u001b[0m\u001b[0;34m\u001b[0m\u001b[0m\n",
      "\u001b[0;32m~/anaconda3/envs/tdw/lib/python3.9/site-packages/pandas/core/frame.py\u001b[0m in \u001b[0;36mreindexer\u001b[0;34m(value)\u001b[0m\n\u001b[1;32m   3868\u001b[0m \u001b[0;34m\u001b[0m\u001b[0m\n\u001b[1;32m   3869\u001b[0m                     \u001b[0;31m# other\u001b[0m\u001b[0;34m\u001b[0m\u001b[0;34m\u001b[0m\u001b[0;34m\u001b[0m\u001b[0m\n\u001b[0;32m-> 3870\u001b[0;31m                     raise TypeError(\n\u001b[0m\u001b[1;32m   3871\u001b[0m                         \u001b[0;34m\"incompatible index of inserted column with frame index\"\u001b[0m\u001b[0;34m\u001b[0m\u001b[0;34m\u001b[0m\u001b[0m\n\u001b[1;32m   3872\u001b[0m                     ) from err\n",
      "\u001b[0;31mTypeError\u001b[0m: incompatible index of inserted column with frame index"
     ]
    }
   ],
   "source": [
    "import time\n",
    "start_time = time.time()\n",
    "nIter = 100  ## num bootstrap iterations\n",
    "out_dict = {} ## initialize results dataframe\n",
    "\n",
    "for scenario_ind, scenario in enumerate(sorted(MD['Readout Test Data'].unique())):\n",
    "    \n",
    "    _MD = MD[MD['Readout Test Data'] == scenario]\n",
    "    _HD = HD[HD['scenarioName'] == scenario].sort_values('stim_ID')\n",
    "    \n",
    "    ## precompute indices for bootstrap resampling\n",
    "    gameIDs = np.unique(_HD.gameID.values)\n",
    "    idx = np.random.RandomState(123).randint(0,_HD.gameID.nunique(),size=(1000,_HD.gameID.nunique()))\n",
    "\n",
    "    for model_ind, model in enumerate(_MD['ModelID'].unique()):\n",
    "        #get responses of model        \n",
    "        _MD_model = _MD[_MD['ModelID'] == model]\n",
    "        _MD_model = _MD_model.sort_values('Canon Stimulus Name') #ensure same stim order \n",
    "        \n",
    "        for currIter in np.arange(nIter):\n",
    "            boot_games = gameIDs[idx[currIter]]\n",
    "            _HD_boot = []\n",
    "            for game in boot_games:\n",
    "                _HD_boot.append(_HD[_HD['gameID']==game])\n",
    "            _HD_boot = pd.concat(_HD_boot)            \n",
    "\n",
    "            ## get average human response vector (bootstrapped)\n",
    "            _HD_resp = _HD_boot.groupby('stim_ID')['responseBool'].mean().reset_index()\n",
    "            #in case the models have more or less responses compared to humans\n",
    "            human_stim_names = set(list(_HD['stim_ID']))\n",
    "            model_stim_names = set(list(_MD_model['Canon Stimulus Name']))\n",
    "            joint_stim_names = human_stim_names.intersection(model_stim_names)\n",
    "            if len(joint_stim_names) == 0:\n",
    "                print(\"⛔️ {} is missing all datapoints on {} human responses\".format(model, len(human_stim_names)),end=\"\\r\")\n",
    "                continue #ignore and move on\n",
    "            if len(human_stim_names) > len(joint_stim_names):\n",
    "                print(\"⚠️ {} is missing {} datapoints on {} human responses\".format(model,len(human_stim_names) - len(joint_stim_names), len(human_stim_names)),end=\"\\r\")\n",
    "\n",
    "            #subset both models to ensure only common stims are used\n",
    "            _MD_model = _MD_model[_MD_model['Canon Stimulus Name'].isin(joint_stim_names)]            \n",
    "            _HD_resp = _HD_resp[_HD_resp['stim_ID'].isin(joint_stim_names)]           \n",
    "            ## make sure order is exactly the same\n",
    "            assert len([i for (i,j) in zip(_MD_model['Canon Stimulus Name'].values, _HD_resp['stim_ID'].values) if i!=j])==0\n",
    "\n",
    "            ## extract human & model responses as arrays\n",
    "            model_responses = _MD_model['Predicted Prob_true'].values\n",
    "            human_responses = _HD_resp['responseBool'].values\n",
    "\n",
    "            ## compute RMSE per stimulus\n",
    "            RMSE = scipy.spatial.distance.euclidean(model_responses, human_responses) / len(model_responses)\n",
    "\n",
    "            out_dict[(scenario, model, currIter)] = {**{'scenario':scenario,\n",
    "                                                      'modelID': model,\n",
    "                                                      'bootstrap_ind': currIter,\n",
    "                                                      'RMSE':RMSE,\n",
    "                                                      'num_datapoints':len(model_responses)},\n",
    "                                                       **{col:_MD_model.head(1)[col].item() for col in MODEL_COLS+h.DATASET_ABSTRACTED_COLS} #save model ID info\n",
    "                                                  }\n",
    "            elapsed_time = np.round(time.time() - start_time,1)\n",
    "            print(\"Now running: scenario {} {} | model {} {}| iteration {} | elapsed time {} seconds\".format(scenario_ind, scenario, model_ind, model, currIter,elapsed_time))\n",
    "            clear_output(wait=True)        \n",
    "\n",
    "model_human_rmse_boot = pd.DataFrame(out_dict).transpose()  \n",
    "model_human_rmse_boot.columns = model_human_rmse_boot.columns.get_level_values(0) ## flatten multi-level index\n",
    "model_human_rmse_boot = model_human_rmse_boot.reset_index(drop=True) ## get rid of multi-level index\n",
    "model_human_rmse_boot = model_human_rmse_boot.assign(RMSE = pd.to_numeric(model_human_rmse['RMSE']))\n",
    "model_human_rmse_boot.to_csv(os.path.join(csv_dir, 'summary','model_human_rmse_bootstrapped.csv'), index=False)\n",
    "print('Saved to file. Done!')"
   ]
  },
  {
   "cell_type": "code",
   "execution_count": null,
   "metadata": {},
   "outputs": [],
   "source": []
  },
  {
   "cell_type": "markdown",
   "metadata": {},
   "source": [
    "##### **Cohen's kappa**"
   ]
  },
  {
   "cell_type": "code",
   "execution_count": null,
   "metadata": {
    "execution": {
     "iopub.status.busy": "2021-06-04T14:59:38.551514Z",
     "iopub.status.idle": "2021-06-04T14:59:38.551967Z",
     "shell.execute_reply": "2021-06-04T14:59:38.551794Z"
    },
    "scrolled": true,
    "tags": []
   },
   "outputs": [],
   "source": [
    "import time\n",
    "start_time = time.time()\n",
    "\n",
    "out_dict = {}\n",
    "\n",
    "for scenario in sorted(MD['Readout Test Data'].unique()):\n",
    "    _MD = MD[MD['Readout Test Data'] == scenario]\n",
    "    _HD = HD[HD['scenarioName'] == scenario]\n",
    "    for model in _MD['ModelID'].unique():\n",
    "        measures_for_model = []\n",
    "        #get responses of model        \n",
    "        _MD_model = _MD[_MD['ModelID'] == model]\n",
    "        _MD_model = _MD_model.sort_values('Canon Stimulus Name') #ensure same stim order\n",
    "        #iterate over the 100 or so participants\n",
    "        for gameID in _HD['gameID'].unique():\n",
    "            #get one game\n",
    "            _HD_game = _HD[_HD['gameID']==gameID]\n",
    "            #ensure stim order\n",
    "            _HD_game = _HD_game.sort_values('stim_ID')\n",
    "            #in case the models have more or less responses compared to humans\n",
    "            human_stim_names = list(_HD_game['stim_ID'])\n",
    "            model_stim_names = list(_MD_model['Canon Stimulus Name'])\n",
    "            joint_stim_names = set(human_stim_names).intersection(set(model_stim_names))\n",
    "            if len(joint_stim_names) == 0:\n",
    "                print(\"⛔️ {} is missing all datapoints on {} human responses\".format(model, len(human_stim_names)),end=\"\\r\")\n",
    "                continue #ignore and move on\n",
    "            if len(human_stim_names) > len(joint_stim_names):\n",
    "                print(\"⚠️ {} is missing {} datapoints on {} human responses\".format(model,len(human_stim_names) - len(joint_stim_names), len(human_stim_names)),end=\"\\r\")\n",
    "            #subset both models to ensure only common stims are used\n",
    "            _MD_model = _MD_model[_MD_model['Canon Stimulus Name'].isin(joint_stim_names)]            \n",
    "            _HD_game = _HD_game[_HD_game['stim_ID'].isin(joint_stim_names)]\n",
    "            #pull response vector\n",
    "            human_responses = np.array(_HD_game['responseBool'].astype(int)) #get human response and cast to int\n",
    "            model_responses = np.array(_MD_model['Predicted Outcome'])\n",
    "#             assert list(model_stim_names) == list(human_stim_names), \"experimental and test stims don't match\"\n",
    "            assert len(model_responses) == len(human_responses), \"More than 1 observation per stimulus\"\n",
    "            # compute Cohen's kappa\n",
    "            measure = sklearn.metrics.cohen_kappa_score(model_responses,human_responses)\n",
    "            measures_for_model.append(measure)\n",
    "        if len(measures_for_model) == 0:\n",
    "            print(\"⛔️ {} is missing all datapoints on human responses\".format(model))\n",
    "            continue\n",
    "        # get percentiles over the range of measures\n",
    "        lb = np.percentile(measures_for_model, 2.5)\n",
    "        med = np.percentile(measures_for_model, 50)\n",
    "        ub = np.percentile(measures_for_model, 97.5)\n",
    "        out_dict[(scenario, model)] = {**{'scenario':scenario,\n",
    "                                       'Cohens_k_lb':lb,\n",
    "                                       'Cohens_k_med':med,\n",
    "                                       'Cohens_k_ub':ub,\n",
    "                                        'num_datapoints':len(measures_for_model)},\n",
    "                                      **{col:_MD_model.head(1)[col].item() for col in MODEL_COLS+h.DATASET_ABSTRACTED_COLS} #save model ID info\n",
    "                                      }\n",
    "    \n",
    "    elapsed_time = np.round(time.time() - start_time,1)\n",
    "    print(\"Now running: scenario {} | model {}| elapsed time {} seconds\".format(scenario, model, elapsed_time))\n",
    "    clear_output(wait=True)        \n",
    "\n",
    "model_human_CohensK = pd.DataFrame(out_dict).transpose()    \n",
    "model_human_CohensK.to_csv(os.path.join(csv_dir, 'summary','model_human_CohensK.csv'), index=False)\n",
    "print('Saved to file. Done!')"
   ]
  },
  {
   "cell_type": "code",
   "execution_count": null,
   "metadata": {
    "execution": {
     "iopub.status.busy": "2021-06-04T14:59:38.553129Z",
     "iopub.status.idle": "2021-06-04T14:59:38.553656Z",
     "shell.execute_reply": "2021-06-04T14:59:38.553490Z"
    },
    "tags": []
   },
   "outputs": [],
   "source": [
    "model_human_CohensK"
   ]
  },
  {
   "cell_type": "markdown",
   "metadata": {},
   "source": [
    "## Figures"
   ]
  },
  {
   "cell_type": "markdown",
   "metadata": {},
   "source": [
    "### Model/human figure\n",
    "Results: Mega bar plot(s)/tables of model accuracies and human response correlations[Eli/Judy/Felix]. Models (~16) x Training (3) x Readout (3) x Target (2) x Scenarios (8) = 144 bars per model. That’s a lot! Needs careful thinking about how to display.\n",
    "\n",
    "Essentially outer y axis is scenario, outer x is measure (accuracy, correlation, Cohens kappa). Inner y for each square is the measure, inner x is models. Filled out dots are full procedure, not-filled out is without dynamics prediction. Humans are a zone"
   ]
  },
  {
   "cell_type": "markdown",
   "metadata": {},
   "source": [
    "===Very work in progress==="
   ]
  },
  {
   "cell_type": "code",
   "execution_count": null,
   "metadata": {
    "execution": {
     "iopub.status.busy": "2021-06-04T14:59:38.554730Z",
     "iopub.status.idle": "2021-06-04T14:59:38.555305Z",
     "shell.execute_reply": "2021-06-04T14:59:38.555092Z"
    },
    "tags": []
   },
   "outputs": [],
   "source": [
    "model_human_accuracies"
   ]
  },
  {
   "cell_type": "code",
   "execution_count": null,
   "metadata": {
    "execution": {
     "iopub.status.busy": "2021-06-04T14:59:38.556608Z",
     "iopub.status.idle": "2021-06-04T14:59:38.557303Z",
     "shell.execute_reply": "2021-06-04T14:59:38.557026Z"
    },
    "tags": []
   },
   "outputs": [],
   "source": [
    "MD['Dynamics Training Dataset Type'].unique()"
   ]
  },
  {
   "cell_type": "code",
   "execution_count": null,
   "metadata": {
    "execution": {
     "iopub.status.busy": "2021-06-04T14:59:38.559164Z",
     "iopub.status.idle": "2021-06-04T14:59:38.559549Z",
     "shell.execute_reply": "2021-06-04T14:59:38.559368Z"
    },
    "tags": []
   },
   "outputs": [],
   "source": [
    "READOUTS = [(\"C\",\"full\"),\n",
    "            (\"B\",\"none\")]\n",
    "\n",
    "TRAININGS = [\n",
    "    ('all_but_this',\"^\"),\n",
    "    ('all',\"s\"),\n",
    "    ('same',\"o\")\n",
    "]"
   ]
  },
  {
   "cell_type": "code",
   "execution_count": null,
   "metadata": {
    "execution": {
     "iopub.status.busy": "2021-06-04T14:59:38.560967Z",
     "iopub.status.idle": "2021-06-04T14:59:38.561553Z",
     "shell.execute_reply": "2021-06-04T14:59:38.561276Z"
    },
    "tags": []
   },
   "outputs": [],
   "source": [
    "#set up color map over models\n",
    "from matplotlib import cm\n",
    "\n",
    "#cmap = cm.tab20.colors ## not enough colors\n",
    "turbo = cm.get_cmap('turbo', 22)\n",
    "cmap = turbo(np.linspace(0, 1, 22))"
   ]
  },
  {
   "cell_type": "code",
   "execution_count": null,
   "metadata": {
    "execution": {
     "iopub.status.busy": "2021-06-04T14:59:38.562906Z",
     "iopub.status.idle": "2021-06-04T14:59:38.563517Z",
     "shell.execute_reply": "2021-06-04T14:59:38.563249Z"
    },
    "tags": []
   },
   "outputs": [],
   "source": [
    "fig, axes = plt.subplots(len(MD['Readout Test Data'].unique()),3, figsize=(40,40), sharex=True, sharey=False)\n",
    "\n",
    "models = sorted(MD['Model Kind'].unique())\n",
    "\n",
    "for outer_y, scenario in enumerate(sorted(MD['Readout Test Data'].unique())):\n",
    "    # ———accuracy plot———\n",
    "    axis = axes[outer_y,0]\n",
    "    axis.set_title(scenario + \" accuracy\")\n",
    "    #plot human zone\n",
    "    human_row = human_bootstrapped_accuracy[human_bootstrapped_accuracy['scenario'] == scenario]\n",
    "    lb = float(human_row['ci_lb'])\n",
    "    ub = float(human_row['ci_ub'])\n",
    "    mean = float(human_row['obs_mean'])\n",
    "    axis.axhspan(lb,ub,color=(.8,.9,1))\n",
    "    axis.set_xticks(np.arange(len(models)))\n",
    "    axis.set_xticklabels(models,rotation=90)\n",
    "    \n",
    "    #plot models\n",
    "    for x,model in enumerate(models):\n",
    "        #get relevant rows\n",
    "        rows = model_human_accuracies[(model_human_accuracies['Model Kind'] == model) & (model_human_accuracies['scenario'] == scenario)]\n",
    "        for readout,fill in READOUTS:\n",
    "            for i,(training,symbol) in enumerate(TRAININGS):\n",
    "                row = rows[(rows['Readout Type']==readout) & (rows['Dynamics Training Dataset Type'] == training)]\n",
    "                if len(row) > 0: #do we have something to plot?\n",
    "                    assert len(row) == 1, \"More than one entry for specific agent\"\n",
    "                    lb = row['model_correct']\n",
    "                    ub = row['model_correct']\n",
    "                    measure = row['model_correct']\n",
    "                    ub = abs(ub - measure)\n",
    "                    lb = abs(lb - measure)\n",
    "                    axis.errorbar(x+(i*.333)+(fill==\"none\")*.166,measure,(lb,ub),marker=symbol,fillstyle=fill,label=model,color=cmap[x])\n",
    "        axis.set_ybound([0,1])\n",
    "    \n",
    "    # ———correlation plot———\n",
    "#     axis = axes[outer_y,1]\n",
    "#     axis.set_title(scenario + \" correlation\")\n",
    "#     #plot human zone\n",
    "#     human_row = human_boot_corr[human_boot_corr['scenario'] == scenario]\n",
    "#     lb = float(human_row['corr_lb'])\n",
    "#     ub = float(human_row['corr_ub'])\n",
    "#     mean = float(human_row['corr_med'])\n",
    "#     axis.axhspan(lb,ub,color=(.8,.9,1))\n",
    "#     axis.set_xticks(np.arange(len(models)))\n",
    "#     axis.set_xticklabels(models,rotation=90)\n",
    "\n",
    "    #plot models\n",
    "#     for x,model in enumerate(models):\n",
    "#         #get relevant rows\n",
    "#         rows = model_human_rmse[(model_human_rmse['Model Kind'] == model) & (model_human_rmse['scenario'] == scenario)]\n",
    "#         for readout,fill in READOUTS:\n",
    "#             for i,(training,symbol) in enumerate(TRAININGS):\n",
    "#                 row = rows[(rows['Readout Type']==readout) & (rows['Dynamics Training Dataset Type'] == training)]\n",
    "#                 if len(row) > 0: #do we have something to plot?\n",
    "#                     assert len(row) == 1, \"More than one entry for specific agent\"\n",
    "#                     lb = row['corr_lb']\n",
    "#                     ub = row['corr_ub']\n",
    "#                     measure = row['corr_med']\n",
    "#                     ub = abs(ub - measure)\n",
    "#                     lb = abs(lb - measure)\n",
    "#                     axis.errorbar(x+(i*.333)+(fill==\"none\")*.166,measure,(lb,ub),marker=symbol,fillstyle=fill,label=model,color=cmap[x])\n",
    "#         axis.set_ybound([0,1])\n",
    "        \n",
    "    \n",
    "    # ———Cohens'k plot———\n",
    "    axis = axes[outer_y,2]\n",
    "    axis.set_title(scenario + \" Cohen's kappa\")\n",
    "    #plot human zone\n",
    "    human_row = human_boot_cohenk[human_boot_cohenk['scenario'] == scenario]\n",
    "    lb = float(human_row['corr_lb'])\n",
    "    ub = float(human_row['corr_ub'])\n",
    "    mean = float(human_row['corr_med'])\n",
    "    axis.axhspan(lb,ub,color=(.8,.9,1))\n",
    "    axis.set_xticks(np.arange(len(models)))\n",
    "    axis.set_xticklabels(models,rotation=90)\n",
    "\n",
    "    #plot models\n",
    "    for x,model in enumerate(models):\n",
    "        #get relevant rows\n",
    "        rows = model_human_CohensK[(model_human_CohensK['Model Kind'] == model) & (model_human_CohensK['scenario'] == scenario)]\n",
    "        for readout,fill in READOUTS:\n",
    "            for i,(training,symbol) in enumerate(TRAININGS):\n",
    "                row = rows[(rows['Readout Type']==readout) & (rows['Dynamics Training Dataset Type'] == training)]\n",
    "                if len(row) > 0: #do we have something to plot?\n",
    "                    assert len(row) == 1, \"More than one entry for specific agent\"\n",
    "                    lb = row['Cohens_k_lb']\n",
    "                    ub = row['Cohens_k_ub']\n",
    "                    measure = row['Cohens_k_med']\n",
    "                    ub = abs(ub - measure)\n",
    "                    lb = abs(lb - measure)\n",
    "                    axis.errorbar(x+(i*.333)+(fill==\"none\")*.166,measure,(lb,ub),marker=symbol,fillstyle=fill,color=cmap[x])\n",
    "        axis.set_ybound([-.25\n",
    "                         ,1])"
   ]
  },
  {
   "cell_type": "code",
   "execution_count": null,
   "metadata": {
    "execution": {
     "iopub.status.busy": "2021-06-04T14:59:38.565004Z",
     "iopub.status.idle": "2021-06-04T14:59:38.565562Z",
     "shell.execute_reply": "2021-06-04T14:59:38.565241Z"
    }
   },
   "outputs": [],
   "source": [
    "human_bootstrapped_accuracy"
   ]
  },
  {
   "cell_type": "code",
   "execution_count": null,
   "metadata": {
    "execution": {
     "iopub.status.busy": "2021-06-04T14:59:38.567056Z",
     "iopub.status.idle": "2021-06-04T14:59:38.567402Z",
     "shell.execute_reply": "2021-06-04T14:59:38.567237Z"
    }
   },
   "outputs": [],
   "source": [
    "model_human_rmse"
   ]
  },
  {
   "cell_type": "code",
   "execution_count": null,
   "metadata": {},
   "outputs": [],
   "source": []
  }
 ],
 "metadata": {
  "kernelspec": {
   "display_name": "Python [conda env:tdw]",
   "language": "python",
   "name": "conda-env-tdw-py"
  },
  "language_info": {
   "codemirror_mode": {
    "name": "ipython",
    "version": 3
   },
   "file_extension": ".py",
   "mimetype": "text/x-python",
   "name": "python",
   "nbconvert_exporter": "python",
   "pygments_lexer": "ipython3",
   "version": "3.9.2"
  },
  "widgets": {
   "application/vnd.jupyter.widget-state+json": {
    "state": {},
    "version_major": 2,
    "version_minor": 0
   }
  }
 },
 "nbformat": 4,
 "nbformat_minor": 4
}
