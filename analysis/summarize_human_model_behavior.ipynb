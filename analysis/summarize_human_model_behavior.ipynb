{
 "cells": [
  {
   "cell_type": "markdown",
   "metadata": {},
   "source": [
    "# Analysis of human and model behavior across physical domains"
   ]
  },
  {
   "cell_type": "markdown",
   "metadata": {},
   "source": [
    "**The purpose of this notebook is to:** \n",
    "* Apply preprocessing to human behavioral data\n",
    "* Visualize distribution and compute summary statistics over **human** physical judgments\n",
    "* Visualize distribution and compute summary statistics over **model** physical judgments\n",
    "* Conduct human-model comparisons\n",
    "* Output CSV that can be re-loaded into R notebook for statistical modeling & fancy visualizations\n",
    "\n",
    "**This notebook depends on:**\n",
    "* Running `./generate_dataframes.py` (INTERNAL USE ONLY)\n",
    "* Running `./upload_results.py` (INTERNAL USE ONLY)\n",
    "* Running `./download_results.py` (PUBLIC USE)"
   ]
  },
  {
   "cell_type": "markdown",
   "metadata": {},
   "source": [
    "## setup"
   ]
  },
  {
   "cell_type": "markdown",
   "metadata": {},
   "source": [
    "#### Load packages"
   ]
  },
  {
   "cell_type": "code",
   "execution_count": 103,
   "metadata": {
    "execution": {
     "iopub.execute_input": "2021-06-05T23:21:27.594710Z",
     "iopub.status.busy": "2021-06-05T23:21:27.592515Z",
     "iopub.status.idle": "2021-06-05T23:21:27.763924Z",
     "shell.execute_reply": "2021-06-05T23:21:27.762851Z",
     "shell.execute_reply.started": "2021-06-05T23:21:27.594628Z"
    },
    "tags": []
   },
   "outputs": [],
   "source": [
    "import os\n",
    "import sys\n",
    "import urllib, io\n",
    "\n",
    "sys.path.append('./analysis_helpers')\n",
    "from importlib import reload\n",
    "\n",
    "import numpy as np\n",
    "import scipy.stats as stats\n",
    "import pandas as pd\n",
    "\n",
    "import analysis_helpers as h\n",
    "\n",
    "import pymongo as pm\n",
    "from collections import Counter\n",
    "import json\n",
    "import re\n",
    "import ast\n",
    "\n",
    "from PIL import Image, ImageOps, ImageDraw, ImageFont \n",
    "\n",
    "from io import BytesIO\n",
    "import base64\n",
    "\n",
    "from tqdm.notebook import tqdm\n",
    "\n",
    "import  matplotlib\n",
    "from matplotlib import pylab, mlab, pyplot\n",
    "import matplotlib.pyplot as plt\n",
    "%matplotlib inline\n",
    "from IPython.core.pylabtools import figsize, getfigs\n",
    "plt = pyplot\n",
    "import matplotlib as mpl\n",
    "mpl.rcParams['pdf.fonttype'] = 42\n",
    "plt.style.use('seaborn-white')\n",
    "\n",
    "import seaborn as sns\n",
    "\n",
    "%matplotlib inline\n",
    "import scipy.stats\n",
    "import sklearn.metrics\n",
    "import random\n",
    "\n",
    "from IPython.display import clear_output\n",
    "\n",
    "import warnings\n",
    "warnings.filterwarnings(\"ignore\", category=DeprecationWarning)\n",
    "warnings.filterwarnings(\"ignore\", message=\"numpy.dtype size changed\")\n",
    "warnings.filterwarnings(\"ignore\", message=\"numpy.ufunc size changed\")"
   ]
  },
  {
   "cell_type": "markdown",
   "metadata": {},
   "source": [
    "#### options"
   ]
  },
  {
   "cell_type": "code",
   "execution_count": 104,
   "metadata": {
    "execution": {
     "iopub.execute_input": "2021-06-05T23:21:27.873929Z",
     "iopub.status.busy": "2021-06-05T23:21:27.873685Z",
     "iopub.status.idle": "2021-06-05T23:21:27.894228Z",
     "shell.execute_reply": "2021-06-05T23:21:27.893545Z",
     "shell.execute_reply.started": "2021-06-05T23:21:27.873906Z"
    },
    "tags": []
   },
   "outputs": [],
   "source": [
    "# display all columns\n",
    "pd.set_option('display.max_columns', None)\n",
    "\n",
    "# seaborn plotting themes\n",
    "sns.set_context('talk')\n",
    "sns.set_style(\"whitegrid\")"
   ]
  },
  {
   "cell_type": "markdown",
   "metadata": {},
   "source": [
    "#### set up paths and directories"
   ]
  },
  {
   "cell_type": "code",
   "execution_count": 105,
   "metadata": {
    "execution": {
     "iopub.execute_input": "2021-06-05T23:21:28.205264Z",
     "iopub.status.busy": "2021-06-05T23:21:28.205019Z",
     "iopub.status.idle": "2021-06-05T23:21:28.227365Z",
     "shell.execute_reply": "2021-06-05T23:21:28.226701Z",
     "shell.execute_reply.started": "2021-06-05T23:21:28.205241Z"
    },
    "tags": []
   },
   "outputs": [],
   "source": [
    "## directory & file hierarchy\n",
    "proj_dir = os.path.abspath('..')\n",
    "datavol_dir = os.path.join(proj_dir,'data')\n",
    "analysis_dir =  os.path.abspath('.')\n",
    "results_dir = os.path.join(proj_dir,'results')\n",
    "plot_dir = os.path.join(results_dir,'plots')\n",
    "csv_dir = os.path.join(results_dir,'csv')\n",
    "json_dir = os.path.join(results_dir,'json')\n",
    "exp_dir = os.path.abspath(os.path.join(proj_dir,'behavioral_experiments'))\n",
    "png_dir = os.path.abspath(os.path.join(datavol_dir,'png'))\n",
    "\n",
    "## add helpers to python path\n",
    "if os.path.join(proj_dir,'stimuli') not in sys.path:\n",
    "    sys.path.append(os.path.join(proj_dir,'stimuli'))\n",
    "    \n",
    "if not os.path.exists(results_dir):\n",
    "    os.makedirs(results_dir)\n",
    "    \n",
    "if not os.path.exists(plot_dir):\n",
    "    os.makedirs(plot_dir)   \n",
    "    \n",
    "if not os.path.exists(csv_dir):\n",
    "    os.makedirs(csv_dir)       \n",
    "    \n",
    "## add helpers to python path\n",
    "if os.path.join(analysis_dir,'utils') not in sys.path:\n",
    "    sys.path.append(os.path.join(analysis_dir,'utils'))   \n",
    "\n",
    "def make_dir_if_not_exists(dir_name):   \n",
    "    if not os.path.exists(dir_name):\n",
    "        os.makedirs(dir_name)\n",
    "    return dir_name\n",
    "\n",
    "## create directories that don't already exist        \n",
    "result = [make_dir_if_not_exists(x) for x in [results_dir,plot_dir,csv_dir]]"
   ]
  },
  {
   "cell_type": "markdown",
   "metadata": {},
   "source": [
    "### load human data"
   ]
  },
  {
   "cell_type": "code",
   "execution_count": 106,
   "metadata": {
    "execution": {
     "iopub.execute_input": "2021-06-05T23:21:28.501929Z",
     "iopub.status.busy": "2021-06-05T23:21:28.501686Z",
     "iopub.status.idle": "2021-06-05T23:21:28.575665Z",
     "shell.execute_reply": "2021-06-05T23:21:28.574682Z",
     "shell.execute_reply.started": "2021-06-05T23:21:28.501907Z"
    },
    "tags": []
   },
   "outputs": [
    {
     "data": {
      "text/html": [
       "<div>\n",
       "<style scoped>\n",
       "    .dataframe tbody tr th:only-of-type {\n",
       "        vertical-align: middle;\n",
       "    }\n",
       "\n",
       "    .dataframe tbody tr th {\n",
       "        vertical-align: top;\n",
       "    }\n",
       "\n",
       "    .dataframe thead th {\n",
       "        text-align: right;\n",
       "    }\n",
       "</style>\n",
       "<table border=\"1\" class=\"dataframe\">\n",
       "  <thead>\n",
       "    <tr style=\"text-align: right;\">\n",
       "      <th></th>\n",
       "      <th>study</th>\n",
       "      <th>bucket_name</th>\n",
       "      <th>stim_version</th>\n",
       "      <th>iterationName</th>\n",
       "    </tr>\n",
       "  </thead>\n",
       "  <tbody>\n",
       "    <tr>\n",
       "      <th>0</th>\n",
       "      <td>dominoes_pilot</td>\n",
       "      <td>human-physics-benchmarking-dominoes-pilot</td>\n",
       "      <td>production_1</td>\n",
       "      <td>production_1_testing</td>\n",
       "    </tr>\n",
       "    <tr>\n",
       "      <th>1</th>\n",
       "      <td>collision_pilot</td>\n",
       "      <td>human-physics-benchmarking-collision-pilot</td>\n",
       "      <td>production_2</td>\n",
       "      <td>production_2_testing</td>\n",
       "    </tr>\n",
       "    <tr>\n",
       "      <th>2</th>\n",
       "      <td>towers_pilot</td>\n",
       "      <td>human-physics-benchmarking-towers-pilot</td>\n",
       "      <td>production_2</td>\n",
       "      <td>production_2_testing</td>\n",
       "    </tr>\n",
       "    <tr>\n",
       "      <th>3</th>\n",
       "      <td>linking_pilot</td>\n",
       "      <td>human-physics-benchmarking-linking-pilot</td>\n",
       "      <td>production_2</td>\n",
       "      <td>production_2_testing</td>\n",
       "    </tr>\n",
       "    <tr>\n",
       "      <th>4</th>\n",
       "      <td>containment_pilot</td>\n",
       "      <td>human-physics-benchmarking-containment-pilot</td>\n",
       "      <td>production_2</td>\n",
       "      <td>production_2_testing</td>\n",
       "    </tr>\n",
       "    <tr>\n",
       "      <th>5</th>\n",
       "      <td>rollingsliding_pilot</td>\n",
       "      <td>human-physics-benchmarking-rollingsliding-pilot</td>\n",
       "      <td>production_2</td>\n",
       "      <td>production_2_testing</td>\n",
       "    </tr>\n",
       "    <tr>\n",
       "      <th>6</th>\n",
       "      <td>drop_pilot</td>\n",
       "      <td>human-physics-benchmarking-drop-pilot</td>\n",
       "      <td>production_2</td>\n",
       "      <td>production_2_testing</td>\n",
       "    </tr>\n",
       "    <tr>\n",
       "      <th>7</th>\n",
       "      <td>clothiness_pilot</td>\n",
       "      <td>human-physics-benchmarking-clothiness-pilot</td>\n",
       "      <td>production_2</td>\n",
       "      <td>production_2_testing</td>\n",
       "    </tr>\n",
       "  </tbody>\n",
       "</table>\n",
       "</div>"
      ],
      "text/plain": [
       "                  study                                      bucket_name  \\\n",
       "0        dominoes_pilot        human-physics-benchmarking-dominoes-pilot   \n",
       "1       collision_pilot       human-physics-benchmarking-collision-pilot   \n",
       "2          towers_pilot          human-physics-benchmarking-towers-pilot   \n",
       "3         linking_pilot         human-physics-benchmarking-linking-pilot   \n",
       "4     containment_pilot     human-physics-benchmarking-containment-pilot   \n",
       "5  rollingsliding_pilot  human-physics-benchmarking-rollingsliding-pilot   \n",
       "6            drop_pilot            human-physics-benchmarking-drop-pilot   \n",
       "7      clothiness_pilot      human-physics-benchmarking-clothiness-pilot   \n",
       "\n",
       "   stim_version         iterationName  \n",
       "0  production_1  production_1_testing  \n",
       "1  production_2  production_2_testing  \n",
       "2  production_2  production_2_testing  \n",
       "3  production_2  production_2_testing  \n",
       "4  production_2  production_2_testing  \n",
       "5  production_2  production_2_testing  \n",
       "6  production_2  production_2_testing  \n",
       "7  production_2  production_2_testing  "
      ]
     },
     "execution_count": 106,
     "metadata": {},
     "output_type": "execute_result"
    }
   ],
   "source": [
    "from experiment_meta import *\n",
    "HEM = pd.DataFrame(NEURIPS2021_EXPS) # HEM = \"human experiment metadata\"\n",
    "HEM"
   ]
  },
  {
   "cell_type": "code",
   "execution_count": 107,
   "metadata": {
    "execution": {
     "iopub.execute_input": "2021-06-05T23:21:28.655215Z",
     "iopub.status.busy": "2021-06-05T23:21:28.654891Z",
     "iopub.status.idle": "2021-06-05T23:21:28.662173Z",
     "shell.execute_reply": "2021-06-05T23:21:28.661178Z",
     "shell.execute_reply.started": "2021-06-05T23:21:28.655181Z"
    },
    "tags": []
   },
   "outputs": [],
   "source": [
    "SCENARIOS = sorted([n.split(\"_\")[0] for n in HEM['study'].unique()])"
   ]
  },
  {
   "cell_type": "code",
   "execution_count": 108,
   "metadata": {
    "execution": {
     "iopub.execute_input": "2021-06-05T23:21:28.782608Z",
     "iopub.status.busy": "2021-06-05T23:21:28.782372Z",
     "iopub.status.idle": "2021-06-05T23:21:28.793971Z",
     "shell.execute_reply": "2021-06-05T23:21:28.792969Z",
     "shell.execute_reply.started": "2021-06-05T23:21:28.782585Z"
    },
    "tags": []
   },
   "outputs": [],
   "source": [
    "## get paths to all human response data\n",
    "data_paths = [os.path.join(csv_dir,'humans',i) for i in os.listdir(os.path.join(csv_dir,'humans'))]\n",
    "resp_paths = [i for i in data_paths if i.split('/')[-1].split('-')[0]=='human_responses']\n",
    "assert len(resp_paths)==8"
   ]
  },
  {
   "cell_type": "code",
   "execution_count": 109,
   "metadata": {
    "execution": {
     "iopub.execute_input": "2021-06-05T23:21:28.941910Z",
     "iopub.status.busy": "2021-06-05T23:21:28.941677Z",
     "iopub.status.idle": "2021-06-05T23:21:36.715384Z",
     "shell.execute_reply": "2021-06-05T23:21:36.714572Z",
     "shell.execute_reply.started": "2021-06-05T23:21:28.941888Z"
    },
    "tags": []
   },
   "outputs": [
    {
     "name": "stdout",
     "output_type": "stream",
     "text": [
      "Loaded 105000 lines\n"
     ]
    }
   ],
   "source": [
    "## also load all human data into a big dataframe\n",
    "HD = pd.concat([h.apply_exclusion_criteria(h.load_and_preprocess_data(p)) for p in resp_paths])\n",
    "print(\"Loaded {} lines\".format(len(HD)))"
   ]
  },
  {
   "cell_type": "markdown",
   "metadata": {
    "tags": []
   },
   "source": [
    "#### exclude subjects from familiarization\n",
    "Run `familiariarization_exclusion.ipynb` to generate `excluded_games.csv`"
   ]
  },
  {
   "cell_type": "code",
   "execution_count": 110,
   "metadata": {
    "execution": {
     "iopub.execute_input": "2021-06-05T23:21:36.717629Z",
     "iopub.status.busy": "2021-06-05T23:21:36.717376Z",
     "iopub.status.idle": "2021-06-05T23:21:36.726743Z",
     "shell.execute_reply": "2021-06-05T23:21:36.726052Z",
     "shell.execute_reply.started": "2021-06-05T23:21:36.717602Z"
    },
    "tags": []
   },
   "outputs": [],
   "source": [
    "bad_games = pd.read_csv(os.path.join(csv_dir,\"humans/excluded_games.csv\")).values[:,1]"
   ]
  },
  {
   "cell_type": "code",
   "execution_count": 111,
   "metadata": {
    "execution": {
     "iopub.execute_input": "2021-06-05T23:21:36.729219Z",
     "iopub.status.busy": "2021-06-05T23:21:36.729014Z",
     "iopub.status.idle": "2021-06-05T23:21:36.737067Z",
     "shell.execute_reply": "2021-06-05T23:21:36.735284Z",
     "shell.execute_reply.started": "2021-06-05T23:21:36.729197Z"
    },
    "tags": []
   },
   "outputs": [
    {
     "data": {
      "text/plain": [
       "array(['0720-d5f527dc-d86a-4d88-af8f-b70ac9264fef',\n",
       "       '1685-8963fea0-0d21-454b-8bbe-e9cbc792aa11',\n",
       "       '4917-538725a5-383f-462b-9ab7-43b9473c9dcc',\n",
       "       '7411-987b0a97-8a67-41a3-a3d8-d8f792c35ab5',\n",
       "       '8383-e0582a4e-6498-4d91-bb29-2b6a363cc2e9',\n",
       "       '8731-67e86658-28ff-4cc6-b722-9620e3b3ce43',\n",
       "       '9784-7a67e88b-0416-4b55-8a72-9a0d99038c49',\n",
       "       '9808-e983d3b8-75c3-428a-8182-f57fd645abb1',\n",
       "       '9930-aa52e4be-e5e3-441a-9cb4-f1144d9e233f'], dtype=object)"
      ]
     },
     "execution_count": 111,
     "metadata": {},
     "output_type": "execute_result"
    }
   ],
   "source": [
    "bad_games"
   ]
  },
  {
   "cell_type": "code",
   "execution_count": 112,
   "metadata": {
    "execution": {
     "iopub.execute_input": "2021-06-05T23:21:36.739404Z",
     "iopub.status.busy": "2021-06-05T23:21:36.739206Z",
     "iopub.status.idle": "2021-06-05T23:21:36.820052Z",
     "shell.execute_reply": "2021-06-05T23:21:36.819430Z",
     "shell.execute_reply.started": "2021-06-05T23:21:36.739383Z"
    },
    "tags": []
   },
   "outputs": [
    {
     "name": "stdout",
     "output_type": "stream",
     "text": [
      "Excluding 900 rows for 9 games\n"
     ]
    }
   ],
   "source": [
    "print(\"Excluding {} rows for {} games\".format(sum(HD['gameID'].isin(bad_games)), len(bad_games)))\n",
    "HD = HD[~HD['gameID'].isin(bad_games)]"
   ]
  },
  {
   "cell_type": "markdown",
   "metadata": {},
   "source": [
    "### load model data"
   ]
  },
  {
   "cell_type": "code",
   "execution_count": 113,
   "metadata": {
    "execution": {
     "iopub.execute_input": "2021-06-05T23:21:36.821843Z",
     "iopub.status.busy": "2021-06-05T23:21:36.821608Z",
     "iopub.status.idle": "2021-06-05T23:21:36.828926Z",
     "shell.execute_reply": "2021-06-05T23:21:36.828221Z",
     "shell.execute_reply.started": "2021-06-05T23:21:36.821808Z"
    },
    "tags": []
   },
   "outputs": [],
   "source": [
    "## get paths to all model data\n",
    "model_data_paths = [os.path.join(csv_dir,'models',i) for i in os.listdir(os.path.join(csv_dir,'models'))]\n",
    "model_res_paths = [i for i in model_data_paths if i.split('.')[-1] == \"csv\"]"
   ]
  },
  {
   "cell_type": "code",
   "execution_count": 114,
   "metadata": {
    "execution": {
     "iopub.execute_input": "2021-06-05T23:21:36.830451Z",
     "iopub.status.busy": "2021-06-05T23:21:36.830050Z",
     "iopub.status.idle": "2021-06-05T23:21:42.442052Z",
     "shell.execute_reply": "2021-06-05T23:21:42.441276Z",
     "shell.execute_reply.started": "2021-06-05T23:21:36.830407Z"
    },
    "tags": []
   },
   "outputs": [
    {
     "name": "stderr",
     "output_type": "stream",
     "text": [
      "/Users/felixbinder/anaconda3/envs/tdw/lib/python3.9/site-packages/IPython/core/interactiveshell.py:3357: DtypeWarning: Columns (12,14,15,17,18,28,35,36,38) have mixed types.Specify dtype option on import or set low_memory=False.\n",
      "  if (await self.run_code(code, result,  async_=asy)):\n"
     ]
    },
    {
     "name": "stdout",
     "output_type": "stream",
     "text": [
      "Loaded 712595 rows\n"
     ]
    }
   ],
   "source": [
    "## load all model results into a single dataframe\n",
    "MD = pd.concat([pd.read_csv(p).assign(filename=p.split('/')[-1]) for p in model_res_paths])\n",
    "print(\"Loaded {} rows\".format(len(MD)))"
   ]
  },
  {
   "cell_type": "code",
   "execution_count": 115,
   "metadata": {
    "execution": {
     "iopub.execute_input": "2021-06-05T23:21:42.443487Z",
     "iopub.status.busy": "2021-06-05T23:21:42.443280Z",
     "iopub.status.idle": "2021-06-05T23:21:54.972871Z",
     "shell.execute_reply": "2021-06-05T23:21:54.971936Z",
     "shell.execute_reply.started": "2021-06-05T23:21:42.443464Z"
    },
    "tags": []
   },
   "outputs": [],
   "source": [
    "# a couple of import steps (restore original scenario names, add single prediction value, add correctness column)\n",
    "MD = h.process_model_dataframe(MD)"
   ]
  },
  {
   "cell_type": "code",
   "execution_count": 116,
   "metadata": {
    "execution": {
     "iopub.execute_input": "2021-06-05T23:21:54.976519Z",
     "iopub.status.busy": "2021-06-05T23:21:54.976246Z",
     "iopub.status.idle": "2021-06-05T23:21:59.899869Z",
     "shell.execute_reply": "2021-06-05T23:21:59.899149Z",
     "shell.execute_reply.started": "2021-06-05T23:21:54.976489Z"
    },
    "tags": []
   },
   "outputs": [
    {
     "name": "stdout",
     "output_type": "stream",
     "text": [
      "⚠️There are 0 duplicated rows!\n",
      "Removed duplicates, 474217 rows left\n"
     ]
    }
   ],
   "source": [
    "#check for duplicated rows\n",
    "if len(MD.duplicated()) > 0:\n",
    "    print(\"⚠️There are {} duplicated rows!\".format(np.sum(MD.duplicated())))\n",
    "    MD = MD[~MD.duplicated(h.MODEL_COLS+[\"Stimulus Name\"],keep=\"first\")]\n",
    "    print(\"Removed duplicates, {} rows left\".format(len(MD)))"
   ]
  },
  {
   "cell_type": "code",
   "execution_count": 117,
   "metadata": {
    "execution": {
     "iopub.execute_input": "2021-06-05T23:21:59.903434Z",
     "iopub.status.busy": "2021-06-05T23:21:59.903030Z",
     "iopub.status.idle": "2021-06-05T23:21:59.962086Z",
     "shell.execute_reply": "2021-06-05T23:21:59.961278Z",
     "shell.execute_reply.started": "2021-06-05T23:21:59.903379Z"
    },
    "tags": []
   },
   "outputs": [],
   "source": [
    "# save model kinds to variable\n",
    "MODELS = list(MD[\"Model Kind\"].unique())"
   ]
  },
  {
   "cell_type": "code",
   "execution_count": 118,
   "metadata": {
    "execution": {
     "iopub.execute_input": "2021-06-05T23:21:59.964020Z",
     "iopub.status.busy": "2021-06-05T23:21:59.963685Z",
     "iopub.status.idle": "2021-06-05T23:21:59.970917Z",
     "shell.execute_reply": "2021-06-05T23:21:59.969505Z",
     "shell.execute_reply.started": "2021-06-05T23:21:59.963996Z"
    },
    "tags": []
   },
   "outputs": [
    {
     "name": "stdout",
     "output_type": "stream",
     "text": [
      "We get the following kinds of models:\n"
     ]
    },
    {
     "data": {
      "text/plain": [
       "['VGGFrozenMLP_VGG_nan_nan_nan_L2 on latent_0_same',\n",
       " 'RPIN_R-CNN_0.0_L2 on 2D position_all_but_this_L2 on 2D position_0_same',\n",
       " 'RPIN_R-CNN_0.0_L2 on 2D position_all_L2 on 2D position_0_same',\n",
       " 'RPIN_R-CNN_0.0_L2 on 2D position_same_L2 on 2D position_0_same',\n",
       " 'RPIN_R-CNN_1.0_L2 on 2D position_all_but_this_L2 on 2D position_1_same',\n",
       " 'RPIN_R-CNN_2.0_L2 on 2D position_all_but_this_L2 on 2D position_2_same',\n",
       " 'RPIN_R-CNN_1.0_L2 on 2D position_all_L2 on 2D position_1_same',\n",
       " 'RPIN_R-CNN_2.0_L2 on 2D position_all_L2 on 2D position_2_same',\n",
       " 'RPIN_R-CNN_1.0_L2 on 2D position_same_L2 on 2D position_1_same',\n",
       " 'RPIN_R-CNN_2.0_L2 on 2D position_same_L2 on 2D position_2_same',\n",
       " 'SVG_VGG_1.0_VAE_all_but_this_VAE_1_same',\n",
       " 'SVG_VGG_1.0_VAE_all_VAE_1_same',\n",
       " 'SVG_VGG_1.0_VAE_same_VAE_1_same',\n",
       " 'VGGFrozenLSTM_VGG_nan_nan_nan_L2 on latent_0_same',\n",
       " 'SVG_VGG_2.0_VAE_all_but_this_VAE_2_same',\n",
       " 'SVG_VGG_0.0_VAE_all_but_this_VAE_0_same',\n",
       " 'SVG_VGG_2.0_VAE_all_VAE_2_same',\n",
       " 'SVG_VGG_0.0_VAE_all_VAE_0_same',\n",
       " 'SVG_VGG_2.0_VAE_same_VAE_2_same',\n",
       " 'SVG_VGG_0.0_VAE_same_VAE_0_same',\n",
       " 'CSWM_CSWM encoder_0.0_Contrastive_all_but_this_Contrastive_0_same',\n",
       " 'CSWM_CSWM encoder_0.0_Contrastive_all_Contrastive_0_same',\n",
       " 'CSWM_CSWM encoder_0.0_Contrastive_same_Contrastive_0_same',\n",
       " 'DEITFrozenLSTM_DEIT_nan_nan_nan_L2 on latent_0_same',\n",
       " 'DEITFrozenMLP_DEIT_nan_nan_nan_L2 on latent_0_same',\n",
       " 'OP3_OP3 encoder_0.0_Image Reconstruction_all_but_this_Image Reconstruction_0_same',\n",
       " 'OP3_OP3 encoder_0.0_Image Reconstruction_all_Image Reconstruction_0_same',\n",
       " 'OP3_OP3 encoder_0.0_Image Reconstruction_same_Image Reconstruction_0_same',\n",
       " 'GNS-ransac_nan_nan_nan_nan_L2 on particle 3D positions_1_same',\n",
       " 'GNS_nan_nan_nan_nan_L2 on particle 3D positions_1_same',\n",
       " 'DPI_nan_nan_nan_nan_L2 on particle 3D positions_1_same']"
      ]
     },
     "metadata": {},
     "output_type": "display_data"
    }
   ],
   "source": [
    "print(\"We get the following kinds of models:\")\n",
    "display(MODELS)"
   ]
  },
  {
   "cell_type": "markdown",
   "metadata": {},
   "source": [
    "#### exclude bad stims (where model/human stims mismatched)"
   ]
  },
  {
   "cell_type": "code",
   "execution_count": 119,
   "metadata": {
    "execution": {
     "iopub.execute_input": "2021-06-05T23:21:59.973063Z",
     "iopub.status.busy": "2021-06-05T23:21:59.972736Z",
     "iopub.status.idle": "2021-06-05T23:22:00.084109Z",
     "shell.execute_reply": "2021-06-05T23:22:00.082719Z",
     "shell.execute_reply.started": "2021-06-05T23:21:59.973030Z"
    }
   },
   "outputs": [
    {
     "name": "stdout",
     "output_type": "stream",
     "text": [
      "There are 37 bad stims\n"
     ]
    }
   ],
   "source": [
    "stim_comparision = pd.merge(pd.DataFrame(MD.groupby('Canon Stimulus Name')['Actual Outcome'].first()).reset_index(),pd.DataFrame(HD.groupby('stim_ID')['target_hit_zone_label'].first()).reset_index(),left_on='Canon Stimulus Name',right_on='stim_ID')\n",
    "\n",
    "bad_stims = stim_comparision[stim_comparision['Actual Outcome'] != stim_comparision['target_hit_zone_label']]['Canon Stimulus Name']\n",
    "print(\"There are {} bad stims\".format(len(bad_stims)))"
   ]
  },
  {
   "cell_type": "code",
   "execution_count": 120,
   "metadata": {
    "execution": {
     "iopub.execute_input": "2021-06-05T23:22:00.086157Z",
     "iopub.status.busy": "2021-06-05T23:22:00.085832Z",
     "iopub.status.idle": "2021-06-05T23:22:00.393620Z",
     "shell.execute_reply": "2021-06-05T23:22:00.392771Z",
     "shell.execute_reply.started": "2021-06-05T23:22:00.086126Z"
    }
   },
   "outputs": [],
   "source": [
    "#Exclude bad stims\n",
    "HD = HD[~HD['stim_ID'].isin(bad_stims)]\n",
    "MD = MD[~MD['Canon Stimulus Name'].isin(bad_stims)]"
   ]
  },
  {
   "cell_type": "code",
   "execution_count": 121,
   "metadata": {
    "execution": {
     "iopub.execute_input": "2021-06-05T23:22:00.395430Z",
     "iopub.status.busy": "2021-06-05T23:22:00.395138Z",
     "iopub.status.idle": "2021-06-05T23:22:00.897452Z",
     "shell.execute_reply": "2021-06-05T23:22:00.896628Z",
     "shell.execute_reply.started": "2021-06-05T23:22:00.395398Z"
    }
   },
   "outputs": [],
   "source": [
    "#Also exclude stims from the rollingsliding ledge subset\n",
    "HD = HD[~HD['stim_ID'].str.contains(\"rollingSliding_simple_ledge\")]\n",
    "MD = MD[~MD['Canon Stimulus Name'].str.contains(\"rollingSliding_simple_ledge\")]"
   ]
  },
  {
   "cell_type": "markdown",
   "metadata": {},
   "source": [
    "### generate labels for regression analysis\n",
    "* Comparison 1: Visual encoder architecture (ConvNet [SVG/VGGFrozenLSTM] vs. transformer [DEITFrozenLSTM] … DEITFrozenMLP vs. SVG/VGGFrozenMLP)\n",
    "* Comparison 2: Dynamics model RNN vs. MLP (LSTM vs. MLP for above)\n",
    "* Comparison 3: Among unsupervised models, object-centric vs. non-object-centric\n",
    "        * {CSWM, OP3} vs. {SVG}\n",
    "* Comparison 4: Latent vs. pixel reconstruction loss\n",
    "        * CSWM vs. OP3\n",
    "* Comparison 5: RPIN vs. CSWM/OP3 (“supervised explicit object-centric” vs. “unsupervised implicit object-centric”)\n",
    "\n",
    "Dimensions: \n",
    "* “Visual encoder architecture” : [“ConvNet” “Transformer” “Neither”]\n",
    "* “Dynamics model architecture” : [“LSTM”, “MLP”, “Neither”]\n",
    "* “ObjectCentric”: [TRUE, FALSE, NA]\n",
    "* “Supervised”: [TRUE, FALSE]\n",
    "* “SelfSupervisedLoss”: [“latent”, “pixel”, “NA”]\n"
   ]
  },
  {
   "cell_type": "code",
   "execution_count": 122,
   "metadata": {
    "execution": {
     "iopub.execute_input": "2021-06-05T23:22:00.898801Z",
     "iopub.status.busy": "2021-06-05T23:22:00.898474Z",
     "iopub.status.idle": "2021-06-05T23:22:01.636868Z",
     "shell.execute_reply": "2021-06-05T23:22:01.636139Z",
     "shell.execute_reply.started": "2021-06-05T23:22:00.898777Z"
    },
    "tags": []
   },
   "outputs": [],
   "source": [
    "#“Visual encoder architecture” : [“ConvNet” “Transformer” “Neither”]\n",
    "MD['Visual encoder architecture'] = \"Neither\"\n",
    "MD.loc[(MD['Model'].str.contains(\"SVG\")) | (MD['Model'].str.contains(\"VGG\")),'Visual encoder architecture'] = \"ConvNet\"\n",
    "MD.loc[(MD['Model'].str.contains(\"DEIT\")) | (MD['Model'].str.contains(\"VGG\")),'Visual encoder architecture'] = \"Transformer\""
   ]
  },
  {
   "cell_type": "code",
   "execution_count": 123,
   "metadata": {
    "execution": {
     "iopub.execute_input": "2021-06-05T23:22:01.638330Z",
     "iopub.status.busy": "2021-06-05T23:22:01.637992Z",
     "iopub.status.idle": "2021-06-05T23:22:02.035519Z",
     "shell.execute_reply": "2021-06-05T23:22:02.034701Z",
     "shell.execute_reply.started": "2021-06-05T23:22:01.638308Z"
    },
    "tags": []
   },
   "outputs": [],
   "source": [
    "# “Dynamics model architecture” : [“LSTM”, “MLP”, “Neither”]\n",
    "MD['Dynamics model architecture'] = \"Neither\"\n",
    "MD.loc[(MD['Model'].str.contains(\"LSTM\")),'Dynamics model architecture'] = \"LSTM\"\n",
    "MD.loc[(MD['Model'].str.contains(\"MLP\")),'Dynamics model architecture'] = \"MLP\""
   ]
  },
  {
   "cell_type": "code",
   "execution_count": 124,
   "metadata": {
    "execution": {
     "iopub.execute_input": "2021-06-05T23:22:02.036907Z",
     "iopub.status.busy": "2021-06-05T23:22:02.036617Z",
     "iopub.status.idle": "2021-06-05T23:22:02.907670Z",
     "shell.execute_reply": "2021-06-05T23:22:02.906883Z",
     "shell.execute_reply.started": "2021-06-05T23:22:02.036861Z"
    },
    "tags": []
   },
   "outputs": [],
   "source": [
    "# ObjectCentric”: [TRUE, FALSE, NA]\n",
    "MD['ObjectCentric'] = np.nan\n",
    "MD.loc[(MD['Model'].str.contains(\"CSWM\")) | (MD['Model'].str.contains(\"OP3\")) | (MD['Model'].str.contains(\"DPI\")),'ObjectCentric'] = True\n",
    "MD.loc[(MD['Model'].str.contains(\"SVG\")),'ObjectCentric'] = False\n",
    "# MD['ObjectCentric'] = MD['ObjectCentric'].astype(bool)"
   ]
  },
  {
   "cell_type": "code",
   "execution_count": 125,
   "metadata": {
    "execution": {
     "iopub.execute_input": "2021-06-05T23:22:02.909016Z",
     "iopub.status.busy": "2021-06-05T23:22:02.908724Z",
     "iopub.status.idle": "2021-06-05T23:22:04.189426Z",
     "shell.execute_reply": "2021-06-05T23:22:04.188670Z",
     "shell.execute_reply.started": "2021-06-05T23:22:02.908991Z"
    },
    "tags": []
   },
   "outputs": [],
   "source": [
    "# Supervised”: [TRUE, FALSE]\n",
    "MD['Supervised'] = np.nan\n",
    "MD.loc[(MD['Model'].str.contains(\"RPIN\")) | (MD['Model'].str.contains(\"DPI\")),'Supervised'] = True\n",
    "MD.loc[(MD['Model'].str.contains(\"CSWM\")) | (MD['Model'].str.contains(\"OP3\")) | (MD['Model'].str.contains(\"SVG\") | (MD['Model'].str.contains(\"VGG\"))),'Supervised'] = False\n",
    "# MD['Supervised'] = MD['Supervised'].astype(bool)"
   ]
  },
  {
   "cell_type": "code",
   "execution_count": 126,
   "metadata": {
    "execution": {
     "iopub.execute_input": "2021-06-05T23:22:04.190703Z",
     "iopub.status.busy": "2021-06-05T23:22:04.190413Z",
     "iopub.status.idle": "2021-06-05T23:22:05.117888Z",
     "shell.execute_reply": "2021-06-05T23:22:05.117257Z",
     "shell.execute_reply.started": "2021-06-05T23:22:04.190678Z"
    },
    "tags": []
   },
   "outputs": [],
   "source": [
    "# SelfSupervisedLoss”: [“latent”, “pixel”, “NA”]\n",
    "MD['SelfSupervisedLossSelfSupervisedLoss'] = \"NA\"\n",
    "MD.loc[(MD['Model'].str.contains(\"CSWM\")),'SelfSupervisedLoss'] = \"latent\"\n",
    "MD.loc[(MD['Model'].str.contains(\"OP3\")) | (MD['Model'].str.contains(\"VGG\")) | (MD['Model'].str.contains(\"SVG\") | (MD['Model'].str.contains(\"VGG\"))),'SelfSupervisedLoss'] = \"pixel\""
   ]
  },
  {
   "cell_type": "code",
   "execution_count": 127,
   "metadata": {
    "execution": {
     "iopub.execute_input": "2021-06-05T23:22:05.119227Z",
     "iopub.status.busy": "2021-06-05T23:22:05.118917Z",
     "iopub.status.idle": "2021-06-05T23:22:05.124961Z",
     "shell.execute_reply": "2021-06-05T23:22:05.124194Z",
     "shell.execute_reply.started": "2021-06-05T23:22:05.119191Z"
    },
    "tags": []
   },
   "outputs": [],
   "source": [
    "#save as model identifying column\n",
    "MODEL_COLS = h.MODEL_COLS + ['Visual encoder architecture','Dynamics model architecture','ObjectCentric','Supervised','SelfSupervisedLossSelfSupervisedLoss']"
   ]
  },
  {
   "cell_type": "code",
   "execution_count": 128,
   "metadata": {
    "execution": {
     "iopub.execute_input": "2021-06-05T23:22:05.126616Z",
     "iopub.status.busy": "2021-06-05T23:22:05.126391Z",
     "iopub.status.idle": "2021-06-05T23:22:14.406128Z",
     "shell.execute_reply": "2021-06-05T23:22:14.405402Z",
     "shell.execute_reply.started": "2021-06-05T23:22:05.126564Z"
    },
    "tags": []
   },
   "outputs": [],
   "source": [
    "## save out \n",
    "MD.to_csv(os.path.join(csv_dir, 'models', 'allModels_results.csv'))"
   ]
  },
  {
   "cell_type": "code",
   "execution_count": null,
   "metadata": {},
   "outputs": [],
   "source": []
  },
  {
   "cell_type": "markdown",
   "metadata": {},
   "source": [
    "### generate summary table of human 95% CIs for accuracy across all scenarios"
   ]
  },
  {
   "cell_type": "code",
   "execution_count": 129,
   "metadata": {
    "execution": {
     "iopub.execute_input": "2021-06-05T23:22:14.407554Z",
     "iopub.status.busy": "2021-06-05T23:22:14.407278Z",
     "iopub.status.idle": "2021-06-05T23:22:25.748439Z",
     "shell.execute_reply": "2021-06-05T23:22:25.747663Z",
     "shell.execute_reply.started": "2021-06-05T23:22:14.407522Z"
    },
    "tags": []
   },
   "outputs": [
    {
     "name": "stdout",
     "output_type": "stream",
     "text": [
      "Saved to file! Done.\n"
     ]
    }
   ],
   "source": [
    "## init human_bootstrapped_accuracy for plotting\n",
    "human_bootstrapped_accuracy = pd.DataFrame()\n",
    "\n",
    "for exp_ind, exp_name in enumerate(resp_paths):\n",
    "    \n",
    "    ## get path to response data\n",
    "    path_to_data = resp_paths[exp_ind]\n",
    "\n",
    "    ## load data and apply preprocessing\n",
    "    _D = h.load_and_preprocess_data(path_to_data)\n",
    "    scenarioName = _D.scenarioName.values[0]\n",
    "    print('Currently analyzing the {} experiment.'.format(_D.scenarioName.values[0]))\n",
    "    clear_output(wait=True)\n",
    "    \n",
    "    ## apply exclusion criteria\n",
    "    D = h.apply_exclusion_criteria(_D)\n",
    "\n",
    "    ## compute bootstrapped sampling distributions of accuracy\n",
    "    Dacc = D.groupby('prolificIDAnon').agg({'correct':np.mean})\n",
    "    bootmeans = h.bootstrap_mean(Dacc, col='correct', nIter=1000)\n",
    "\n",
    "    obsmean = np.mean(Dacc.correct.values)\n",
    "    bootmean = np.mean(bootmeans)\n",
    "    lb = np.percentile(bootmeans,2.5)\n",
    "    ub = np.percentile(bootmeans,97.5)\n",
    "    pct25 = np.percentile(Dacc,2.5)\n",
    "    pct975 = np.percentile(Dacc,97.5)\n",
    "    ## merge bootstrapped accuracy estimates\n",
    "    if len(human_bootstrapped_accuracy)==0:\n",
    "        human_bootstrapped_accuracy = pd.DataFrame(['human', scenarioName, obsmean,bootmean,lb,ub, pct25, pct975]).transpose()\n",
    "    else:\n",
    "        human_bootstrapped_accuracy = pd.concat([human_bootstrapped_accuracy, pd.DataFrame(['human', scenarioName, obsmean,bootmean,lb,ub, pct25, pct975]).transpose()],axis=0)\n",
    "        \n",
    "## add column names        \n",
    "human_bootstrapped_accuracy.columns=['agent','scenario','obs_mean', 'boot_mean', 'ci_lb', 'ci_ub', 'pct_2.5', 'pct_97.5']\n",
    "\n",
    "## save out human_bootstrapped_accuracy to re-plot in R\n",
    "if not os.path.exists(os.path.join(csv_dir, 'summary')):\n",
    "    os.makedirs(os.path.join(csv_dir, 'summary'))    \n",
    "human_bootstrapped_accuracy.to_csv(os.path.join(csv_dir, 'summary','human_accuracy_by_scenario.csv'), index=False)\n",
    "print('Saved to file! Done.')"
   ]
  },
  {
   "cell_type": "code",
   "execution_count": 130,
   "metadata": {
    "execution": {
     "iopub.execute_input": "2021-06-05T23:22:25.750075Z",
     "iopub.status.busy": "2021-06-05T23:22:25.749862Z",
     "iopub.status.idle": "2021-06-05T23:22:25.764781Z",
     "shell.execute_reply": "2021-06-05T23:22:25.763861Z",
     "shell.execute_reply.started": "2021-06-05T23:22:25.750053Z"
    },
    "tags": []
   },
   "outputs": [
    {
     "data": {
      "text/html": [
       "<div>\n",
       "<style scoped>\n",
       "    .dataframe tbody tr th:only-of-type {\n",
       "        vertical-align: middle;\n",
       "    }\n",
       "\n",
       "    .dataframe tbody tr th {\n",
       "        vertical-align: top;\n",
       "    }\n",
       "\n",
       "    .dataframe thead th {\n",
       "        text-align: right;\n",
       "    }\n",
       "</style>\n",
       "<table border=\"1\" class=\"dataframe\">\n",
       "  <thead>\n",
       "    <tr style=\"text-align: right;\">\n",
       "      <th></th>\n",
       "      <th>agent</th>\n",
       "      <th>scenario</th>\n",
       "      <th>obs_mean</th>\n",
       "      <th>boot_mean</th>\n",
       "      <th>ci_lb</th>\n",
       "      <th>ci_ub</th>\n",
       "      <th>pct_2.5</th>\n",
       "      <th>pct_97.5</th>\n",
       "    </tr>\n",
       "  </thead>\n",
       "  <tbody>\n",
       "    <tr>\n",
       "      <th>0</th>\n",
       "      <td>human</td>\n",
       "      <td>collision</td>\n",
       "      <td>0.808511</td>\n",
       "      <td>0.808485</td>\n",
       "      <td>0.798793</td>\n",
       "      <td>0.81766</td>\n",
       "      <td>0.704333</td>\n",
       "      <td>0.88</td>\n",
       "    </tr>\n",
       "    <tr>\n",
       "      <th>0</th>\n",
       "      <td>human</td>\n",
       "      <td>rollingsliding</td>\n",
       "      <td>0.882986</td>\n",
       "      <td>0.882948</td>\n",
       "      <td>0.875411</td>\n",
       "      <td>0.890696</td>\n",
       "      <td>0.789167</td>\n",
       "      <td>0.94</td>\n",
       "    </tr>\n",
       "    <tr>\n",
       "      <th>0</th>\n",
       "      <td>human</td>\n",
       "      <td>dominoes</td>\n",
       "      <td>0.692791</td>\n",
       "      <td>0.6927</td>\n",
       "      <td>0.684341</td>\n",
       "      <td>0.701163</td>\n",
       "      <td>0.614167</td>\n",
       "      <td>0.76</td>\n",
       "    </tr>\n",
       "    <tr>\n",
       "      <th>0</th>\n",
       "      <td>human</td>\n",
       "      <td>drop</td>\n",
       "      <td>0.743656</td>\n",
       "      <td>0.743722</td>\n",
       "      <td>0.73541</td>\n",
       "      <td>0.751326</td>\n",
       "      <td>0.666667</td>\n",
       "      <td>0.804667</td>\n",
       "    </tr>\n",
       "    <tr>\n",
       "      <th>0</th>\n",
       "      <td>human</td>\n",
       "      <td>clothiness</td>\n",
       "      <td>0.678133</td>\n",
       "      <td>0.678222</td>\n",
       "      <td>0.663729</td>\n",
       "      <td>0.692269</td>\n",
       "      <td>0.543667</td>\n",
       "      <td>0.771667</td>\n",
       "    </tr>\n",
       "    <tr>\n",
       "      <th>0</th>\n",
       "      <td>human</td>\n",
       "      <td>linking</td>\n",
       "      <td>0.643182</td>\n",
       "      <td>0.643234</td>\n",
       "      <td>0.631968</td>\n",
       "      <td>0.654545</td>\n",
       "      <td>0.536833</td>\n",
       "      <td>0.744333</td>\n",
       "    </tr>\n",
       "    <tr>\n",
       "      <th>0</th>\n",
       "      <td>human</td>\n",
       "      <td>containment</td>\n",
       "      <td>0.766988</td>\n",
       "      <td>0.766892</td>\n",
       "      <td>0.758072</td>\n",
       "      <td>0.775026</td>\n",
       "      <td>0.686667</td>\n",
       "      <td>0.839667</td>\n",
       "    </tr>\n",
       "    <tr>\n",
       "      <th>0</th>\n",
       "      <td>human</td>\n",
       "      <td>towers</td>\n",
       "      <td>0.763137</td>\n",
       "      <td>0.763012</td>\n",
       "      <td>0.754975</td>\n",
       "      <td>0.770982</td>\n",
       "      <td>0.669333</td>\n",
       "      <td>0.826</td>\n",
       "    </tr>\n",
       "  </tbody>\n",
       "</table>\n",
       "</div>"
      ],
      "text/plain": [
       "   agent        scenario  obs_mean boot_mean     ci_lb     ci_ub   pct_2.5  \\\n",
       "0  human       collision  0.808511  0.808485  0.798793   0.81766  0.704333   \n",
       "0  human  rollingsliding  0.882986  0.882948  0.875411  0.890696  0.789167   \n",
       "0  human        dominoes  0.692791    0.6927  0.684341  0.701163  0.614167   \n",
       "0  human            drop  0.743656  0.743722   0.73541  0.751326  0.666667   \n",
       "0  human      clothiness  0.678133  0.678222  0.663729  0.692269  0.543667   \n",
       "0  human         linking  0.643182  0.643234  0.631968  0.654545  0.536833   \n",
       "0  human     containment  0.766988  0.766892  0.758072  0.775026  0.686667   \n",
       "0  human          towers  0.763137  0.763012  0.754975  0.770982  0.669333   \n",
       "\n",
       "   pct_97.5  \n",
       "0      0.88  \n",
       "0      0.94  \n",
       "0      0.76  \n",
       "0  0.804667  \n",
       "0  0.771667  \n",
       "0  0.744333  \n",
       "0  0.839667  \n",
       "0     0.826  "
      ]
     },
     "execution_count": 130,
     "metadata": {},
     "output_type": "execute_result"
    }
   ],
   "source": [
    "human_bootstrapped_accuracy"
   ]
  },
  {
   "cell_type": "markdown",
   "metadata": {},
   "source": [
    "### Human-human consistency across stimuli (within scenario)\n",
    "We will analyze human-human consistency by computing the mean correlation between (binary) response vectors produced by each human participant across all stimuli within each scenario. \n",
    "\n"
   ]
  },
  {
   "cell_type": "markdown",
   "metadata": {},
   "source": [
    "#### Correlation"
   ]
  },
  {
   "cell_type": "code",
   "execution_count": 160,
   "metadata": {
    "execution": {
     "iopub.execute_input": "2021-06-06T00:03:57.874519Z",
     "iopub.status.busy": "2021-06-06T00:03:57.874208Z",
     "iopub.status.idle": "2021-06-06T00:03:57.883270Z",
     "shell.execute_reply": "2021-06-06T00:03:57.882406Z",
     "shell.execute_reply.started": "2021-06-06T00:03:57.874494Z"
    },
    "tags": []
   },
   "outputs": [
    {
     "data": {
      "text/plain": [
       "0       1.0\n",
       "1       1.0\n",
       "2       1.0\n",
       "3       1.0\n",
       "4       1.0\n",
       "       ... \n",
       "5242    1.0\n",
       "5243    1.0\n",
       "5244    1.0\n",
       "5245    1.0\n",
       "5246    1.0\n",
       "Name: Predicted Prob_true, Length: 464584, dtype: float64"
      ]
     },
     "execution_count": 160,
     "metadata": {},
     "output_type": "execute_result"
    }
   ],
   "source": [
    "MD['Predicted Prob_true']"
   ]
  },
  {
   "cell_type": "code",
   "execution_count": 167,
   "metadata": {
    "execution": {
     "iopub.execute_input": "2021-06-06T00:12:25.104228Z",
     "iopub.status.busy": "2021-06-06T00:12:25.104008Z",
     "iopub.status.idle": "2021-06-06T00:12:30.151176Z",
     "shell.execute_reply": "2021-06-06T00:12:30.150290Z",
     "shell.execute_reply.started": "2021-06-06T00:12:25.104206Z"
    },
    "tags": []
   },
   "outputs": [
    {
     "data": {
      "text/plain": [
       "<seaborn.axisgrid.FacetGrid at 0x7fe2290be2b0>"
      ]
     },
     "execution_count": 167,
     "metadata": {},
     "output_type": "execute_result"
    },
    {
     "data": {
      "image/png": "[encoded data removed]",
      "text/plain": [
       "<Figure size 7920x720 with 11 Axes>"
      ]
     },
     "metadata": {},
     "output_type": "display_data"
    }
   ],
   "source": [
    "g = sns.FacetGrid(MD,col=\"Model\",height=10)\n",
    "g.map(sns.histplot, \"Predicted Prob_true\",stat=\"probability\")"
   ]
  },
  {
   "cell_type": "code",
   "execution_count": 131,
   "metadata": {
    "execution": {
     "iopub.execute_input": "2021-06-05T23:22:25.771438Z",
     "iopub.status.busy": "2021-06-05T23:22:25.771203Z",
     "iopub.status.idle": "2021-06-05T23:22:32.636715Z",
     "shell.execute_reply": "2021-06-05T23:22:32.636031Z",
     "shell.execute_reply.started": "2021-06-05T23:22:25.771416Z"
    },
    "tags": []
   },
   "outputs": [
    {
     "name": "stdout",
     "output_type": "stream",
     "text": [
      "Saved to file! Done.\n"
     ]
    }
   ],
   "source": [
    "## init human_boot_corr for plotting\n",
    "human_boot_corr = pd.DataFrame()\n",
    "\n",
    "for exp_ind, exp_name in enumerate(resp_paths):\n",
    "    \n",
    "    ## get path to response data\n",
    "    path_to_data = resp_paths[exp_ind]\n",
    "\n",
    "    ## load data and apply preprocessing\n",
    "    _D = h.load_and_preprocess_data(path_to_data)\n",
    "    scenarioName = _D.scenarioName.values[0]\n",
    "    print('Currently analyzing the {} experiment.'.format(_D.scenarioName.values[0]))\n",
    "    clear_output(wait=True)\n",
    "\n",
    "    ## apply exclusion criteria\n",
    "    D = h.apply_exclusion_criteria(_D)\n",
    "    \n",
    "    ## create response feature matrix (numSubs x numTrialsPerSub)\n",
    "    D2 = D.sort_values(by=['prolificIDAnon','stim_ID']).reset_index(drop=True)\n",
    "    numSubs = len(np.unique(D['prolificIDAnon'].values))\n",
    "    numTrialsPerSub = int(len(D)/numSubs)\n",
    "    respMat = np.reshape(D2['responseBool'].values, (numSubs,numTrialsPerSub)) \n",
    "\n",
    "    ## sanity check that the reshape operation happened correctly\n",
    "    assert len([i for (i,j) in list(zip(respMat[0],D2[:150]['responseBool'].values)) if i!=j])==0    \n",
    "    \n",
    "    ## get pairwise correlations\n",
    "    dists = 1-scipy.spatial.distance.pdist(respMat, metric='correlation')\n",
    "    corrMat = scipy.spatial.distance.squareform(dists)\n",
    "    \n",
    "    ## get percentiles over pairwise corrs\n",
    "    pairwiseCorrs = corrMat[np.triu_indices(n=len(corrMat), k=1)]\n",
    "    lb = np.percentile(pairwiseCorrs, 2.5)\n",
    "    med = np.percentile(pairwiseCorrs, 50)\n",
    "    ub = np.percentile(pairwiseCorrs, 97.5)  \n",
    "        \n",
    "    if len(human_boot_corr)==0:\n",
    "        human_boot_corr = pd.DataFrame(['human', scenarioName, lb, med, ub]).transpose()\n",
    "    else:\n",
    "        human_boot_corr = pd.concat([human_boot_corr, pd.DataFrame(['human', scenarioName, lb, med, ub]).transpose()],axis=0)\n",
    "        \n",
    "## add column names        \n",
    "human_boot_corr.columns=['agent','scenario','corr_lb', 'corr_med', 'corr_ub']\n",
    "\n",
    "## save out human_boot_corr to re-plot in R\n",
    "if not os.path.exists(os.path.join(csv_dir, 'summary')):\n",
    "    os.makedirs(os.path.join(csv_dir, 'summary'))    \n",
    "human_boot_corr.to_csv(os.path.join(csv_dir, 'summary','human_pairwiseCorrs_by_scenario.csv'), index=False)\n",
    "print('Saved to file! Done.')"
   ]
  },
  {
   "cell_type": "code",
   "execution_count": 132,
   "metadata": {
    "execution": {
     "iopub.execute_input": "2021-06-05T23:22:32.639632Z",
     "iopub.status.busy": "2021-06-05T23:22:32.639251Z",
     "iopub.status.idle": "2021-06-05T23:22:32.652405Z",
     "shell.execute_reply": "2021-06-05T23:22:32.650782Z",
     "shell.execute_reply.started": "2021-06-05T23:22:32.639601Z"
    },
    "tags": []
   },
   "outputs": [
    {
     "data": {
      "text/html": [
       "<div>\n",
       "<style scoped>\n",
       "    .dataframe tbody tr th:only-of-type {\n",
       "        vertical-align: middle;\n",
       "    }\n",
       "\n",
       "    .dataframe tbody tr th {\n",
       "        vertical-align: top;\n",
       "    }\n",
       "\n",
       "    .dataframe thead th {\n",
       "        text-align: right;\n",
       "    }\n",
       "</style>\n",
       "<table border=\"1\" class=\"dataframe\">\n",
       "  <thead>\n",
       "    <tr style=\"text-align: right;\">\n",
       "      <th></th>\n",
       "      <th>agent</th>\n",
       "      <th>scenario</th>\n",
       "      <th>corr_lb</th>\n",
       "      <th>corr_med</th>\n",
       "      <th>corr_ub</th>\n",
       "    </tr>\n",
       "  </thead>\n",
       "  <tbody>\n",
       "    <tr>\n",
       "      <th>0</th>\n",
       "      <td>human</td>\n",
       "      <td>collision</td>\n",
       "      <td>0.388046</td>\n",
       "      <td>0.62822</td>\n",
       "      <td>0.776057</td>\n",
       "    </tr>\n",
       "    <tr>\n",
       "      <th>0</th>\n",
       "      <td>human</td>\n",
       "      <td>rollingsliding</td>\n",
       "      <td>0.506253</td>\n",
       "      <td>0.713836</td>\n",
       "      <td>0.851243</td>\n",
       "    </tr>\n",
       "    <tr>\n",
       "      <th>0</th>\n",
       "      <td>human</td>\n",
       "      <td>dominoes</td>\n",
       "      <td>0.231102</td>\n",
       "      <td>0.425943</td>\n",
       "      <td>0.591814</td>\n",
       "    </tr>\n",
       "    <tr>\n",
       "      <th>0</th>\n",
       "      <td>human</td>\n",
       "      <td>drop</td>\n",
       "      <td>0.266334</td>\n",
       "      <td>0.501544</td>\n",
       "      <td>0.681139</td>\n",
       "    </tr>\n",
       "    <tr>\n",
       "      <th>0</th>\n",
       "      <td>human</td>\n",
       "      <td>clothiness</td>\n",
       "      <td>0.065426</td>\n",
       "      <td>0.349287</td>\n",
       "      <td>0.549326</td>\n",
       "    </tr>\n",
       "    <tr>\n",
       "      <th>0</th>\n",
       "      <td>human</td>\n",
       "      <td>linking</td>\n",
       "      <td>0.114636</td>\n",
       "      <td>0.386807</td>\n",
       "      <td>0.569892</td>\n",
       "    </tr>\n",
       "    <tr>\n",
       "      <th>0</th>\n",
       "      <td>human</td>\n",
       "      <td>containment</td>\n",
       "      <td>0.306122</td>\n",
       "      <td>0.559038</td>\n",
       "      <td>0.725013</td>\n",
       "    </tr>\n",
       "    <tr>\n",
       "      <th>0</th>\n",
       "      <td>human</td>\n",
       "      <td>towers</td>\n",
       "      <td>0.299731</td>\n",
       "      <td>0.565581</td>\n",
       "      <td>0.725722</td>\n",
       "    </tr>\n",
       "  </tbody>\n",
       "</table>\n",
       "</div>"
      ],
      "text/plain": [
       "   agent        scenario   corr_lb  corr_med   corr_ub\n",
       "0  human       collision  0.388046   0.62822  0.776057\n",
       "0  human  rollingsliding  0.506253  0.713836  0.851243\n",
       "0  human        dominoes  0.231102  0.425943  0.591814\n",
       "0  human            drop  0.266334  0.501544  0.681139\n",
       "0  human      clothiness  0.065426  0.349287  0.549326\n",
       "0  human         linking  0.114636  0.386807  0.569892\n",
       "0  human     containment  0.306122  0.559038  0.725013\n",
       "0  human          towers  0.299731  0.565581  0.725722"
      ]
     },
     "execution_count": 132,
     "metadata": {},
     "output_type": "execute_result"
    }
   ],
   "source": [
    "human_boot_corr"
   ]
  },
  {
   "cell_type": "markdown",
   "metadata": {},
   "source": [
    "#### Cohen's $\\kappa$"
   ]
  },
  {
   "cell_type": "code",
   "execution_count": 133,
   "metadata": {
    "execution": {
     "iopub.execute_input": "2021-06-05T23:22:32.655080Z",
     "iopub.status.busy": "2021-06-05T23:22:32.654666Z",
     "iopub.status.idle": "2021-06-05T23:22:59.313378Z",
     "shell.execute_reply": "2021-06-05T23:22:59.312397Z",
     "shell.execute_reply.started": "2021-06-05T23:22:32.655051Z"
    },
    "tags": []
   },
   "outputs": [
    {
     "name": "stdout",
     "output_type": "stream",
     "text": [
      "Saved to file! Done.\n"
     ]
    }
   ],
   "source": [
    "## init human_boot_cohenk for plotting\n",
    "human_boot_cohenk = pd.DataFrame()\n",
    "\n",
    "for exp_ind, exp_name in enumerate(resp_paths):\n",
    "    \n",
    "    ## get path to response data\n",
    "    path_to_data = resp_paths[exp_ind]\n",
    "\n",
    "    ## load data and apply preprocessing\n",
    "    _D = h.load_and_preprocess_data(path_to_data)\n",
    "    scenarioName = _D.scenarioName.values[0]\n",
    "    print('Currently analyzing the {} experiment.'.format(_D.scenarioName.values[0]))\n",
    "    clear_output(wait=True)\n",
    "\n",
    "    ## apply exclusion criteria\n",
    "    D = h.apply_exclusion_criteria(_D)\n",
    "    \n",
    "    ## create response feature matrix (numSubs x numTrialsPerSub)\n",
    "    D2 = D.sort_values(by=['prolificIDAnon','stim_ID']).reset_index(drop=True)\n",
    "    numSubs = len(np.unique(D['prolificIDAnon'].values))\n",
    "    numTrialsPerSub = int(len(D)/numSubs)\n",
    "    respMat = np.reshape(D2['responseBool'].values, (numSubs,numTrialsPerSub)) \n",
    "\n",
    "    ## sanity check that the reshape operation happened correctly\n",
    "    assert len([i for (i,j) in list(zip(respMat[0],D2[:150]['responseBool'].values)) if i!=j])==0    \n",
    "      \n",
    "    ## compute Cohen's kappa\n",
    "    ## with a horrific double loop\n",
    "    kappas = []\n",
    "    for i in range(respMat.shape[0]): # for each participant\n",
    "        for j in range(i+1,respMat.shape[0]): # compare to every participant after them\n",
    "            assert i != j\n",
    "            kappa = sklearn.metrics.cohen_kappa_score(respMat[i],respMat[j])\n",
    "            kappas.append(kappa)\n",
    "    \n",
    "    ## get percentiles over pairwise corrs\n",
    "    lb = np.percentile(kappas, 2.5)\n",
    "    med = np.percentile(kappas, 50)\n",
    "    ub = np.percentile(kappas, 97.5)  \n",
    "        \n",
    "    if len(human_boot_cohenk)==0:\n",
    "        human_boot_cohenk = pd.DataFrame(['human', scenarioName, lb, med, ub]).transpose()\n",
    "    else:\n",
    "        human_boot_cohenk = pd.concat([human_boot_cohenk, pd.DataFrame(['human', scenarioName, lb, med, ub]).transpose()],axis=0)\n",
    "        \n",
    "## add column names        \n",
    "human_boot_cohenk.columns=['agent','scenario','corr_lb', 'corr_med', 'corr_ub']\n",
    "\n",
    "## save out human_boot_cohenk to re-plot in R\n",
    "if not os.path.exists(os.path.join(csv_dir, 'summary')):\n",
    "    os.makedirs(os.path.join(csv_dir, 'summary'))    \n",
    "human_boot_cohenk.to_csv(os.path.join(csv_dir, 'summary','human_pairwiseCohensKs_by_scenario.csv'), index=False)\n",
    "print('Saved to file! Done.')"
   ]
  },
  {
   "cell_type": "code",
   "execution_count": 134,
   "metadata": {
    "execution": {
     "iopub.execute_input": "2021-06-05T23:22:59.315258Z",
     "iopub.status.busy": "2021-06-05T23:22:59.314929Z",
     "iopub.status.idle": "2021-06-05T23:22:59.325618Z",
     "shell.execute_reply": "2021-06-05T23:22:59.324747Z",
     "shell.execute_reply.started": "2021-06-05T23:22:59.315226Z"
    },
    "tags": []
   },
   "outputs": [
    {
     "data": {
      "text/html": [
       "<div>\n",
       "<style scoped>\n",
       "    .dataframe tbody tr th:only-of-type {\n",
       "        vertical-align: middle;\n",
       "    }\n",
       "\n",
       "    .dataframe tbody tr th {\n",
       "        vertical-align: top;\n",
       "    }\n",
       "\n",
       "    .dataframe thead th {\n",
       "        text-align: right;\n",
       "    }\n",
       "</style>\n",
       "<table border=\"1\" class=\"dataframe\">\n",
       "  <thead>\n",
       "    <tr style=\"text-align: right;\">\n",
       "      <th></th>\n",
       "      <th>agent</th>\n",
       "      <th>scenario</th>\n",
       "      <th>corr_lb</th>\n",
       "      <th>corr_med</th>\n",
       "      <th>corr_ub</th>\n",
       "    </tr>\n",
       "  </thead>\n",
       "  <tbody>\n",
       "    <tr>\n",
       "      <th>0</th>\n",
       "      <td>human</td>\n",
       "      <td>collision</td>\n",
       "      <td>0.381969</td>\n",
       "      <td>0.621826</td>\n",
       "      <td>0.773353</td>\n",
       "    </tr>\n",
       "    <tr>\n",
       "      <th>0</th>\n",
       "      <td>human</td>\n",
       "      <td>rollingsliding</td>\n",
       "      <td>0.490152</td>\n",
       "      <td>0.707031</td>\n",
       "      <td>0.85095</td>\n",
       "    </tr>\n",
       "    <tr>\n",
       "      <th>0</th>\n",
       "      <td>human</td>\n",
       "      <td>dominoes</td>\n",
       "      <td>0.210147</td>\n",
       "      <td>0.410819</td>\n",
       "      <td>0.585372</td>\n",
       "    </tr>\n",
       "    <tr>\n",
       "      <th>0</th>\n",
       "      <td>human</td>\n",
       "      <td>drop</td>\n",
       "      <td>0.260437</td>\n",
       "      <td>0.494367</td>\n",
       "      <td>0.678875</td>\n",
       "    </tr>\n",
       "    <tr>\n",
       "      <th>0</th>\n",
       "      <td>human</td>\n",
       "      <td>clothiness</td>\n",
       "      <td>0.062416</td>\n",
       "      <td>0.340571</td>\n",
       "      <td>0.542955</td>\n",
       "    </tr>\n",
       "    <tr>\n",
       "      <th>0</th>\n",
       "      <td>human</td>\n",
       "      <td>linking</td>\n",
       "      <td>0.109512</td>\n",
       "      <td>0.369462</td>\n",
       "      <td>0.560538</td>\n",
       "    </tr>\n",
       "    <tr>\n",
       "      <th>0</th>\n",
       "      <td>human</td>\n",
       "      <td>containment</td>\n",
       "      <td>0.284806</td>\n",
       "      <td>0.546667</td>\n",
       "      <td>0.719987</td>\n",
       "    </tr>\n",
       "    <tr>\n",
       "      <th>0</th>\n",
       "      <td>human</td>\n",
       "      <td>towers</td>\n",
       "      <td>0.285117</td>\n",
       "      <td>0.549918</td>\n",
       "      <td>0.720673</td>\n",
       "    </tr>\n",
       "  </tbody>\n",
       "</table>\n",
       "</div>"
      ],
      "text/plain": [
       "   agent        scenario   corr_lb  corr_med   corr_ub\n",
       "0  human       collision  0.381969  0.621826  0.773353\n",
       "0  human  rollingsliding  0.490152  0.707031   0.85095\n",
       "0  human        dominoes  0.210147  0.410819  0.585372\n",
       "0  human            drop  0.260437  0.494367  0.678875\n",
       "0  human      clothiness  0.062416  0.340571  0.542955\n",
       "0  human         linking  0.109512  0.369462  0.560538\n",
       "0  human     containment  0.284806  0.546667  0.719987\n",
       "0  human          towers  0.285117  0.549918  0.720673"
      ]
     },
     "execution_count": 134,
     "metadata": {},
     "output_type": "execute_result"
    }
   ],
   "source": [
    "human_boot_cohenk"
   ]
  },
  {
   "cell_type": "markdown",
   "metadata": {},
   "source": [
    "## Visualize distribution of model physical judgments, by domain"
   ]
  },
  {
   "cell_type": "code",
   "execution_count": null,
   "metadata": {},
   "outputs": [],
   "source": []
  },
  {
   "cell_type": "markdown",
   "metadata": {},
   "source": [
    "## Compute summary statistics over model physical judgments, by domain"
   ]
  },
  {
   "cell_type": "code",
   "execution_count": 135,
   "metadata": {
    "execution": {
     "iopub.execute_input": "2021-06-05T23:22:59.327355Z",
     "iopub.status.busy": "2021-06-05T23:22:59.327057Z",
     "iopub.status.idle": "2021-06-05T23:22:59.654707Z",
     "shell.execute_reply": "2021-06-05T23:22:59.653963Z",
     "shell.execute_reply.started": "2021-06-05T23:22:59.327313Z"
    },
    "tags": []
   },
   "outputs": [
    {
     "data": {
      "image/png": "[encoded data removed]",
      "text/plain": [
       "<Figure size 432x288 with 1 Axes>"
      ]
     },
     "metadata": {},
     "output_type": "display_data"
    }
   ],
   "source": [
    "Dacc = D.groupby('stim_ID').agg({'correct':np.mean})\n",
    "p = sns.histplot(data=Dacc, x='correct', bins=30, stat='probability')\n",
    "t = plt.title('Accuracy distribution across stimuli')"
   ]
  },
  {
   "cell_type": "markdown",
   "metadata": {},
   "source": [
    "## Conduct human-model comparisons\n",
    "We will compare human and model behavior in two ways: **absolute performance** and **response pattern.**\n",
    "\n",
    "#### **Absolute Performance** \n",
    "We will compare the accuracy of each model to the mean accuracy of humans, for each scenario. \n",
    "To do this, we will first compute estimates of mean human accuracy for each scenario and construct 95% confidence intervals for each of these estimates. \n",
    "These confidence intervals will be constructed by bootstrapping: specifically, for an experiment with N participants, we will resample N participants with replacement and compute the proportion correct for that bootstrapped sample. We will take repeat this resampling procedure 1000 times to generate a sampling distribution for the mean proportion correct. The 2.5th and 97.5th percentile will be extracted from this sampling distribution to provide the lower and upper bounds of the 95% confidence interval.\n",
    "\n",
    "For each model, we will then compare their proportion correct (a point estimate) to the human confidence interval. "
   ]
  },
  {
   "cell_type": "code",
   "execution_count": 136,
   "metadata": {
    "execution": {
     "iopub.execute_input": "2021-06-05T23:22:59.656269Z",
     "iopub.status.busy": "2021-06-05T23:22:59.655969Z",
     "iopub.status.idle": "2021-06-05T23:23:00.188992Z",
     "shell.execute_reply": "2021-06-05T23:23:00.188188Z",
     "shell.execute_reply.started": "2021-06-05T23:22:59.656246Z"
    },
    "tags": []
   },
   "outputs": [],
   "source": [
    "# group model data by scenario\n",
    "MD_by_scenario = MD.groupby(['Readout Test Data','ModelID']).agg(\n",
    "        {**{ 'correct':'mean' },\n",
    "         **{ col:'first' for col in MODEL_COLS+h.DATASET_ABSTRACTED_COLS} #save model identifying data as well\n",
    "        })"
   ]
  },
  {
   "cell_type": "code",
   "execution_count": 137,
   "metadata": {
    "execution": {
     "iopub.execute_input": "2021-06-05T23:23:00.190326Z",
     "iopub.status.busy": "2021-06-05T23:23:00.190011Z",
     "iopub.status.idle": "2021-06-05T23:23:06.041596Z",
     "shell.execute_reply": "2021-06-05T23:23:06.040921Z",
     "shell.execute_reply.started": "2021-06-05T23:23:00.190267Z"
    },
    "tags": []
   },
   "outputs": [
    {
     "name": "stdout",
     "output_type": "stream",
     "text": [
      "Saved to file. Done!\n"
     ]
    }
   ],
   "source": [
    "accuracies = {}\n",
    "\n",
    "for scenario in sorted(MD['Readout Test Data'].unique()):\n",
    "    print(\"Now running scenario\",scenario)\n",
    "    _MD_by_scenario = MD_by_scenario.loc[[scenario]]\n",
    "    for _,model_row in list(_MD_by_scenario.iterrows()):\n",
    "        #each model is one row of MD\n",
    "        human_row = human_bootstrapped_accuracy.query(\"scenario == @scenario\")\n",
    "#         assert len(model_row) == len(human_row) == 1\n",
    "        correct_ratio = model_row['correct']/human_row['obs_mean']\n",
    "        correct_diff = model_row['correct'] - human_row['obs_mean']\n",
    "        accuracies[(scenario,model_row.name[1])] = {**{\n",
    "                                                    'scenario': scenario,\n",
    "                                                    'ratio': float(correct_ratio), \n",
    "                                                    'diff': float(correct_diff),\n",
    "                                                    'human_correct': float(human_row['obs_mean']),\n",
    "                                                    'model_correct': float(model_row['correct']),\n",
    "                                                    },**{col: model_row[col] for col in MODEL_COLS+h.DATASET_ABSTRACTED_COLS}} # save information for model identification\n",
    "    clear_output(wait=True)\n",
    "\n",
    "model_human_accuracies = pd.DataFrame(accuracies).transpose()  \n",
    "model_human_accuracies.to_csv(os.path.join(csv_dir, 'summary','model_human_accuracies.csv'), index=False)\n",
    "print('Saved to file. Done!')"
   ]
  },
  {
   "cell_type": "code",
   "execution_count": null,
   "metadata": {
    "tags": []
   },
   "outputs": [],
   "source": []
  },
  {
   "cell_type": "markdown",
   "metadata": {},
   "source": [
    "#### **Response Pattern**\n",
    "We will compare the pattern of predictions generated by each model to the pattern of predictions generated by humans. \n",
    "\n",
    "We will do this by using two standard inter-rater reliability metrics:\n",
    "\n",
    "##### **Correlation between average-human and model responses**\n",
    "For each stimulus, we will compute the proportion of \"hit\" responses by humans. \n",
    "For each stimulus, we will extract the hit probability generated by models.\n",
    "For each scenario (i.e., domain), we will compute the root-mean-squared-deviation between the human proportion-hit vector and the model probability-hit vector. \n",
    "To estimate variability across human samples, we will conduct bootstrap resampling (i.e., resampling data from individual participants with replacement), where for each bootstrap sample we will re-compute the correlation between the model probability-hit vector and the (bootstrapped) human proportion-hit vector.\n",
    "\n",
    "##### **Correlation** (DEPRECATED, SUPERSEDED BY COHEN's KAPPA BELOW, WHICH CORRECTS FOR CHANCE AGREEMENT RATE)\n",
    "For each pair of human participants, we will compute the correlation between their (binary) response vectors, yielding a distribution of pairwise human-human correlations. \n",
    "For each model, we will compute the correlation between its response vector and every human participant, as well as every other model. \n",
    "A model's response pattern will be considered more similar to humans' insofar as the mean model-human correlation (across humans) lies closer to the mean human-human correlation (for all pairs of humans).\n"
   ]
  },
  {
   "cell_type": "markdown",
   "metadata": {},
   "source": [
    "#### Correlation"
   ]
  },
  {
   "cell_type": "code",
   "execution_count": 170,
   "metadata": {
    "execution": {
     "iopub.execute_input": "2021-06-06T00:15:59.242432Z",
     "iopub.status.busy": "2021-06-06T00:15:59.242197Z",
     "iopub.status.idle": "2021-06-06T00:17:09.217190Z",
     "shell.execute_reply": "2021-06-06T00:17:09.214617Z",
     "shell.execute_reply.started": "2021-06-06T00:15:59.242410Z"
    },
    "tags": []
   },
   "outputs": [
    {
     "name": "stdout",
     "output_type": "stream",
     "text": [
      "Saved to file. Done!\n"
     ]
    }
   ],
   "source": [
    "out_dict = {}\n",
    "\n",
    "\n",
    "for scenario in sorted(MD['Readout Test Data'].unique()):\n",
    "    print(\"Now running scenario\",scenario)\n",
    "    _MD = MD[MD['Readout Test Data'] == scenario]\n",
    "    _HD = HD[HD['scenarioName'] == scenario].sort_values('stim_ID')\n",
    "    for model in _MD['ModelID'].unique():\n",
    "        #get responses of model        \n",
    "        _MD_model = _MD[_MD['ModelID'] == model]\n",
    "        _MD_model = _MD_model.sort_values('Canon Stimulus Name') #ensure same stim order \n",
    "        \n",
    "        ## get average human response vector\n",
    "        _HD_resp = _HD.groupby('stim_ID')['responseBool'].mean().reset_index()\n",
    "        #in case the models have more or less responses compared to humans\n",
    "        human_stim_names = set(list(_HD['stim_ID']))\n",
    "        model_stim_names = set(list(_MD_model['Canon Stimulus Name']))\n",
    "        joint_stim_names = human_stim_names.intersection(model_stim_names)\n",
    "        if len(joint_stim_names) == 0:\n",
    "            print(\"⛔️ {} is missing all datapoints on {} human responses\".format(model, len(human_stim_names)),end=\"\\r\")\n",
    "            continue #ignore and move on\n",
    "        if len(human_stim_names) > len(joint_stim_names):\n",
    "            print(\"⚠️ {} is missing {} datapoints on {} human responses\".format(model,len(human_stim_names) - len(joint_stim_names), len(human_stim_names)),end=\"\\r\")\n",
    "\n",
    "        #subset both models to ensure only common stims are used\n",
    "        _MD_model = _MD_model[_MD_model['Canon Stimulus Name'].isin(joint_stim_names)]            \n",
    "        _HD_resp = _HD_resp[_HD_resp['stim_ID'].isin(joint_stim_names)]           \n",
    "        ## make sure order is exactly the same\n",
    "        assert len([i for (i,j) in zip(_MD_model['Canon Stimulus Name'].values, _HD_resp['stim_ID'].values) if i!=j])==0\n",
    "        \n",
    "        ## extract human & model responses as arrays\n",
    "        model_responses = _MD_model['Predicted Prob_true'].values\n",
    "        human_responses = _HD_resp['responseBool'].values\n",
    "\n",
    "        ## compute RMSE per stimulus\n",
    "        RMSE = scipy.spatial.distance.euclidean(model_responses, human_responses) / len(model_responses)\n",
    "        correlation,p = scipy.stats.pearsonr(model_responses, human_responses)\n",
    "        \n",
    "        out_dict[(scenario, model)] = {**{'scenario':scenario,\n",
    "                                          'modelID': model,\n",
    "                                          'RMSE':RMSE,\n",
    "                                          'pearsons_r':correlation,\n",
    "                                          'p_pearsons_r':p,\n",
    "                                          'num_datapoints':len(model_responses)},\n",
    "                                           **{col:_MD_model.head(1)[col].item() for col in MODEL_COLS+h.DATASET_ABSTRACTED_COLS} #save model ID info\n",
    "                                      }\n",
    "        clear_output(wait=True)        \n",
    "\n",
    "model_human_rmse = pd.DataFrame(out_dict).transpose()  \n",
    "model_human_rmse.columns = model_human_rmse.columns.get_level_values(0) ## flatten multi-level index\n",
    "model_human_rmse.reset_index(drop=True) ## get rid of multi-level index\n",
    "model_human_rmse = model_human_rmse.assign(RMSE = pd.to_numeric(model_human_rmse['RMSE']))\n",
    "model_human_rmse.to_csv(os.path.join(csv_dir, 'summary','model_human_pearsonsr_rmse.csv'), index=False)\n",
    "print('Saved to file. Done!')        "
   ]
  },
  {
   "cell_type": "code",
   "execution_count": 153,
   "metadata": {
    "execution": {
     "iopub.execute_input": "2021-06-05T23:38:40.827437Z",
     "iopub.status.busy": "2021-06-05T23:38:40.826898Z",
     "iopub.status.idle": "2021-06-05T23:38:40.872101Z",
     "shell.execute_reply": "2021-06-05T23:38:40.870360Z",
     "shell.execute_reply.started": "2021-06-05T23:38:40.827402Z"
    },
    "tags": []
   },
   "outputs": [
    {
     "data": {
      "text/html": [
       "<div>\n",
       "<style scoped>\n",
       "    .dataframe tbody tr th:only-of-type {\n",
       "        vertical-align: middle;\n",
       "    }\n",
       "\n",
       "    .dataframe tbody tr th {\n",
       "        vertical-align: top;\n",
       "    }\n",
       "\n",
       "    .dataframe thead th {\n",
       "        text-align: right;\n",
       "    }\n",
       "</style>\n",
       "<table border=\"1\" class=\"dataframe\">\n",
       "  <thead>\n",
       "    <tr style=\"text-align: right;\">\n",
       "      <th></th>\n",
       "      <th></th>\n",
       "      <th>scenario</th>\n",
       "      <th>modelID</th>\n",
       "      <th>RMSE</th>\n",
       "      <th>pearsons_r</th>\n",
       "      <th>num_datapoints</th>\n",
       "      <th>Model</th>\n",
       "      <th>Readout Train Data</th>\n",
       "      <th>Readout Type</th>\n",
       "      <th>Encoder Type</th>\n",
       "      <th>Dynamics Type</th>\n",
       "      <th>Encoder Pre-training Task</th>\n",
       "      <th>Encoder Pre-training Dataset</th>\n",
       "      <th>Encoder Pre-training Seed</th>\n",
       "      <th>Encoder Training Task</th>\n",
       "      <th>Encoder Training Dataset</th>\n",
       "      <th>Encoder Training Seed</th>\n",
       "      <th>Dynamics Training Task</th>\n",
       "      <th>Dynamics Training Dataset</th>\n",
       "      <th>Dynamics Training Seed</th>\n",
       "      <th>ModelID</th>\n",
       "      <th>Model Kind</th>\n",
       "      <th>Visual encoder architecture</th>\n",
       "      <th>Dynamics model architecture</th>\n",
       "      <th>ObjectCentric</th>\n",
       "      <th>Supervised</th>\n",
       "      <th>SelfSupervisedLossSelfSupervisedLoss</th>\n",
       "      <th>Encoder Training Dataset Type</th>\n",
       "      <th>Dynamics Training Dataset Type</th>\n",
       "      <th>Readout Train Data Type</th>\n",
       "    </tr>\n",
       "  </thead>\n",
       "  <tbody>\n",
       "    <tr>\n",
       "      <th rowspan=\"5\" valign=\"top\">clothiness</th>\n",
       "      <th>VGGFrozenMLP_VGG_nan_nan_nan_L2 on latent_0_all_readout_A_clothiness_VGGFrozenMLP_results.csv</th>\n",
       "      <td>clothiness</td>\n",
       "      <td>VGGFrozenMLP_VGG_nan_nan_nan_L2 on latent_0_al...</td>\n",
       "      <td>0.048329</td>\n",
       "      <td>0.199084</td>\n",
       "      <td>149</td>\n",
       "      <td>VGGFrozenMLP</td>\n",
       "      <td>clothiness</td>\n",
       "      <td>A</td>\n",
       "      <td>VGG</td>\n",
       "      <td>MLP</td>\n",
       "      <td>ImageNet classification</td>\n",
       "      <td>ImageNet</td>\n",
       "      <td>NaN</td>\n",
       "      <td>NaN</td>\n",
       "      <td>NaN</td>\n",
       "      <td>NaN</td>\n",
       "      <td>L2 on latent</td>\n",
       "      <td>all</td>\n",
       "      <td>0</td>\n",
       "      <td>VGGFrozenMLP_VGG_nan_nan_nan_L2 on latent_0_al...</td>\n",
       "      <td>VGGFrozenMLP_VGG_nan_nan_nan_L2 on latent_0_same</td>\n",
       "      <td>Transformer</td>\n",
       "      <td>MLP</td>\n",
       "      <td>NaN</td>\n",
       "      <td>False</td>\n",
       "      <td>NA</td>\n",
       "      <td>NaN</td>\n",
       "      <td>all</td>\n",
       "      <td>same</td>\n",
       "    </tr>\n",
       "    <tr>\n",
       "      <th>VGGFrozenMLP_VGG_nan_nan_nan_L2 on latent_0_all_readout_B_clothiness_VGGFrozenMLP_results.csv</th>\n",
       "      <td>clothiness</td>\n",
       "      <td>VGGFrozenMLP_VGG_nan_nan_nan_L2 on latent_0_al...</td>\n",
       "      <td>0.045388</td>\n",
       "      <td>0.272968</td>\n",
       "      <td>149</td>\n",
       "      <td>VGGFrozenMLP</td>\n",
       "      <td>clothiness</td>\n",
       "      <td>B</td>\n",
       "      <td>VGG</td>\n",
       "      <td>MLP</td>\n",
       "      <td>ImageNet classification</td>\n",
       "      <td>ImageNet</td>\n",
       "      <td>NaN</td>\n",
       "      <td>NaN</td>\n",
       "      <td>NaN</td>\n",
       "      <td>NaN</td>\n",
       "      <td>L2 on latent</td>\n",
       "      <td>all</td>\n",
       "      <td>0</td>\n",
       "      <td>VGGFrozenMLP_VGG_nan_nan_nan_L2 on latent_0_al...</td>\n",
       "      <td>VGGFrozenMLP_VGG_nan_nan_nan_L2 on latent_0_same</td>\n",
       "      <td>Transformer</td>\n",
       "      <td>MLP</td>\n",
       "      <td>NaN</td>\n",
       "      <td>False</td>\n",
       "      <td>NA</td>\n",
       "      <td>NaN</td>\n",
       "      <td>all</td>\n",
       "      <td>same</td>\n",
       "    </tr>\n",
       "    <tr>\n",
       "      <th>VGGFrozenMLP_VGG_nan_nan_nan_L2 on latent_0_all_readout_C_clothiness_VGGFrozenMLP_results.csv</th>\n",
       "      <td>clothiness</td>\n",
       "      <td>VGGFrozenMLP_VGG_nan_nan_nan_L2 on latent_0_al...</td>\n",
       "      <td>0.045448</td>\n",
       "      <td>0.274033</td>\n",
       "      <td>149</td>\n",
       "      <td>VGGFrozenMLP</td>\n",
       "      <td>clothiness</td>\n",
       "      <td>C</td>\n",
       "      <td>VGG</td>\n",
       "      <td>MLP</td>\n",
       "      <td>ImageNet classification</td>\n",
       "      <td>ImageNet</td>\n",
       "      <td>NaN</td>\n",
       "      <td>NaN</td>\n",
       "      <td>NaN</td>\n",
       "      <td>NaN</td>\n",
       "      <td>L2 on latent</td>\n",
       "      <td>all</td>\n",
       "      <td>0</td>\n",
       "      <td>VGGFrozenMLP_VGG_nan_nan_nan_L2 on latent_0_al...</td>\n",
       "      <td>VGGFrozenMLP_VGG_nan_nan_nan_L2 on latent_0_same</td>\n",
       "      <td>Transformer</td>\n",
       "      <td>MLP</td>\n",
       "      <td>NaN</td>\n",
       "      <td>False</td>\n",
       "      <td>NA</td>\n",
       "      <td>NaN</td>\n",
       "      <td>all</td>\n",
       "      <td>same</td>\n",
       "    </tr>\n",
       "    <tr>\n",
       "      <th>VGGFrozenMLP_VGG_nan_nan_nan_L2 on latent_0_no_clothiness_readout_A_clothiness_VGGFrozenMLP_results.csv</th>\n",
       "      <td>clothiness</td>\n",
       "      <td>VGGFrozenMLP_VGG_nan_nan_nan_L2 on latent_0_no...</td>\n",
       "      <td>0.047984</td>\n",
       "      <td>0.206373</td>\n",
       "      <td>149</td>\n",
       "      <td>VGGFrozenMLP</td>\n",
       "      <td>clothiness</td>\n",
       "      <td>A</td>\n",
       "      <td>VGG</td>\n",
       "      <td>MLP</td>\n",
       "      <td>ImageNet classification</td>\n",
       "      <td>ImageNet</td>\n",
       "      <td>NaN</td>\n",
       "      <td>NaN</td>\n",
       "      <td>NaN</td>\n",
       "      <td>NaN</td>\n",
       "      <td>L2 on latent</td>\n",
       "      <td>no_clothiness</td>\n",
       "      <td>0</td>\n",
       "      <td>VGGFrozenMLP_VGG_nan_nan_nan_L2 on latent_0_no...</td>\n",
       "      <td>VGGFrozenMLP_VGG_nan_nan_nan_L2 on latent_0_same</td>\n",
       "      <td>Transformer</td>\n",
       "      <td>MLP</td>\n",
       "      <td>NaN</td>\n",
       "      <td>False</td>\n",
       "      <td>NA</td>\n",
       "      <td>NaN</td>\n",
       "      <td>all_but_this</td>\n",
       "      <td>same</td>\n",
       "    </tr>\n",
       "    <tr>\n",
       "      <th>VGGFrozenMLP_VGG_nan_nan_nan_L2 on latent_0_no_clothiness_readout_B_clothiness_VGGFrozenMLP_results.csv</th>\n",
       "      <td>clothiness</td>\n",
       "      <td>VGGFrozenMLP_VGG_nan_nan_nan_L2 on latent_0_no...</td>\n",
       "      <td>0.047749</td>\n",
       "      <td>0.283875</td>\n",
       "      <td>149</td>\n",
       "      <td>VGGFrozenMLP</td>\n",
       "      <td>clothiness</td>\n",
       "      <td>B</td>\n",
       "      <td>VGG</td>\n",
       "      <td>MLP</td>\n",
       "      <td>ImageNet classification</td>\n",
       "      <td>ImageNet</td>\n",
       "      <td>NaN</td>\n",
       "      <td>NaN</td>\n",
       "      <td>NaN</td>\n",
       "      <td>NaN</td>\n",
       "      <td>L2 on latent</td>\n",
       "      <td>no_clothiness</td>\n",
       "      <td>0</td>\n",
       "      <td>VGGFrozenMLP_VGG_nan_nan_nan_L2 on latent_0_no...</td>\n",
       "      <td>VGGFrozenMLP_VGG_nan_nan_nan_L2 on latent_0_same</td>\n",
       "      <td>Transformer</td>\n",
       "      <td>MLP</td>\n",
       "      <td>NaN</td>\n",
       "      <td>False</td>\n",
       "      <td>NA</td>\n",
       "      <td>NaN</td>\n",
       "      <td>all_but_this</td>\n",
       "      <td>same</td>\n",
       "    </tr>\n",
       "    <tr>\n",
       "      <th>...</th>\n",
       "      <th>...</th>\n",
       "      <td>...</td>\n",
       "      <td>...</td>\n",
       "      <td>...</td>\n",
       "      <td>...</td>\n",
       "      <td>...</td>\n",
       "      <td>...</td>\n",
       "      <td>...</td>\n",
       "      <td>...</td>\n",
       "      <td>...</td>\n",
       "      <td>...</td>\n",
       "      <td>...</td>\n",
       "      <td>...</td>\n",
       "      <td>...</td>\n",
       "      <td>...</td>\n",
       "      <td>...</td>\n",
       "      <td>...</td>\n",
       "      <td>...</td>\n",
       "      <td>...</td>\n",
       "      <td>...</td>\n",
       "      <td>...</td>\n",
       "      <td>...</td>\n",
       "      <td>...</td>\n",
       "      <td>...</td>\n",
       "      <td>...</td>\n",
       "      <td>...</td>\n",
       "      <td>...</td>\n",
       "      <td>...</td>\n",
       "      <td>...</td>\n",
       "      <td>...</td>\n",
       "    </tr>\n",
       "    <tr>\n",
       "      <th rowspan=\"5\" valign=\"top\">towers</th>\n",
       "      <th>GNS_nan_nan_nan_nan_L2 on particle 3D positions_1_all_readout_B_towers_GNS_results.csv</th>\n",
       "      <td>towers</td>\n",
       "      <td>GNS_nan_nan_nan_nan_L2 on particle 3D position...</td>\n",
       "      <td>0.040133</td>\n",
       "      <td>0.316469</td>\n",
       "      <td>149</td>\n",
       "      <td>GNS</td>\n",
       "      <td>towers</td>\n",
       "      <td>B</td>\n",
       "      <td>NaN</td>\n",
       "      <td>graph-networks</td>\n",
       "      <td>NaN</td>\n",
       "      <td>NaN</td>\n",
       "      <td>NaN</td>\n",
       "      <td>NaN</td>\n",
       "      <td>NaN</td>\n",
       "      <td>NaN</td>\n",
       "      <td>L2 on particle 3D positions</td>\n",
       "      <td>all</td>\n",
       "      <td>1</td>\n",
       "      <td>GNS_nan_nan_nan_nan_L2 on particle 3D position...</td>\n",
       "      <td>GNS_nan_nan_nan_nan_L2 on particle 3D position...</td>\n",
       "      <td>Neither</td>\n",
       "      <td>Neither</td>\n",
       "      <td>NaN</td>\n",
       "      <td>NaN</td>\n",
       "      <td>NA</td>\n",
       "      <td>NaN</td>\n",
       "      <td>all</td>\n",
       "      <td>same</td>\n",
       "    </tr>\n",
       "    <tr>\n",
       "      <th>GNS_nan_nan_nan_nan_L2 on particle 3D positions_1_no_towers_readout_B_towers_GNS_results.csv</th>\n",
       "      <td>towers</td>\n",
       "      <td>GNS_nan_nan_nan_nan_L2 on particle 3D position...</td>\n",
       "      <td>0.035984</td>\n",
       "      <td>0.215187</td>\n",
       "      <td>149</td>\n",
       "      <td>GNS</td>\n",
       "      <td>towers</td>\n",
       "      <td>B</td>\n",
       "      <td>NaN</td>\n",
       "      <td>graph-networks</td>\n",
       "      <td>NaN</td>\n",
       "      <td>NaN</td>\n",
       "      <td>NaN</td>\n",
       "      <td>NaN</td>\n",
       "      <td>NaN</td>\n",
       "      <td>NaN</td>\n",
       "      <td>L2 on particle 3D positions</td>\n",
       "      <td>no_towers</td>\n",
       "      <td>1</td>\n",
       "      <td>GNS_nan_nan_nan_nan_L2 on particle 3D position...</td>\n",
       "      <td>GNS_nan_nan_nan_nan_L2 on particle 3D position...</td>\n",
       "      <td>Neither</td>\n",
       "      <td>Neither</td>\n",
       "      <td>NaN</td>\n",
       "      <td>NaN</td>\n",
       "      <td>NA</td>\n",
       "      <td>NaN</td>\n",
       "      <td>all_but_this</td>\n",
       "      <td>same</td>\n",
       "    </tr>\n",
       "    <tr>\n",
       "      <th>DPI_nan_nan_nan_nan_L2 on particle 3D positions_1_towers_readout_B_towers_DPI_results.csv</th>\n",
       "      <td>towers</td>\n",
       "      <td>DPI_nan_nan_nan_nan_L2 on particle 3D position...</td>\n",
       "      <td>0.037983</td>\n",
       "      <td>0.285459</td>\n",
       "      <td>149</td>\n",
       "      <td>DPI</td>\n",
       "      <td>towers</td>\n",
       "      <td>B</td>\n",
       "      <td>NaN</td>\n",
       "      <td>graph-networks</td>\n",
       "      <td>NaN</td>\n",
       "      <td>NaN</td>\n",
       "      <td>NaN</td>\n",
       "      <td>NaN</td>\n",
       "      <td>NaN</td>\n",
       "      <td>NaN</td>\n",
       "      <td>L2 on particle 3D positions</td>\n",
       "      <td>towers</td>\n",
       "      <td>1</td>\n",
       "      <td>DPI_nan_nan_nan_nan_L2 on particle 3D position...</td>\n",
       "      <td>DPI_nan_nan_nan_nan_L2 on particle 3D position...</td>\n",
       "      <td>Neither</td>\n",
       "      <td>Neither</td>\n",
       "      <td>True</td>\n",
       "      <td>True</td>\n",
       "      <td>NA</td>\n",
       "      <td>NaN</td>\n",
       "      <td>same</td>\n",
       "      <td>same</td>\n",
       "    </tr>\n",
       "    <tr>\n",
       "      <th>DPI_nan_nan_nan_nan_L2 on particle 3D positions_1_all_readout_B_towers_DPI_results.csv</th>\n",
       "      <td>towers</td>\n",
       "      <td>DPI_nan_nan_nan_nan_L2 on particle 3D position...</td>\n",
       "      <td>0.035420</td>\n",
       "      <td>0.201271</td>\n",
       "      <td>149</td>\n",
       "      <td>DPI</td>\n",
       "      <td>towers</td>\n",
       "      <td>B</td>\n",
       "      <td>NaN</td>\n",
       "      <td>graph-networks</td>\n",
       "      <td>NaN</td>\n",
       "      <td>NaN</td>\n",
       "      <td>NaN</td>\n",
       "      <td>NaN</td>\n",
       "      <td>NaN</td>\n",
       "      <td>NaN</td>\n",
       "      <td>L2 on particle 3D positions</td>\n",
       "      <td>all</td>\n",
       "      <td>1</td>\n",
       "      <td>DPI_nan_nan_nan_nan_L2 on particle 3D position...</td>\n",
       "      <td>DPI_nan_nan_nan_nan_L2 on particle 3D position...</td>\n",
       "      <td>Neither</td>\n",
       "      <td>Neither</td>\n",
       "      <td>True</td>\n",
       "      <td>True</td>\n",
       "      <td>NA</td>\n",
       "      <td>NaN</td>\n",
       "      <td>all</td>\n",
       "      <td>same</td>\n",
       "    </tr>\n",
       "    <tr>\n",
       "      <th>DPI_nan_nan_nan_nan_L2 on particle 3D positions_1_no_towers_readout_B_towers_DPI_results.csv</th>\n",
       "      <td>towers</td>\n",
       "      <td>DPI_nan_nan_nan_nan_L2 on particle 3D position...</td>\n",
       "      <td>0.051518</td>\n",
       "      <td>0.452209</td>\n",
       "      <td>149</td>\n",
       "      <td>DPI</td>\n",
       "      <td>towers</td>\n",
       "      <td>B</td>\n",
       "      <td>NaN</td>\n",
       "      <td>graph-networks</td>\n",
       "      <td>NaN</td>\n",
       "      <td>NaN</td>\n",
       "      <td>NaN</td>\n",
       "      <td>NaN</td>\n",
       "      <td>NaN</td>\n",
       "      <td>NaN</td>\n",
       "      <td>L2 on particle 3D positions</td>\n",
       "      <td>no_towers</td>\n",
       "      <td>1</td>\n",
       "      <td>DPI_nan_nan_nan_nan_L2 on particle 3D position...</td>\n",
       "      <td>DPI_nan_nan_nan_nan_L2 on particle 3D position...</td>\n",
       "      <td>Neither</td>\n",
       "      <td>Neither</td>\n",
       "      <td>True</td>\n",
       "      <td>True</td>\n",
       "      <td>NA</td>\n",
       "      <td>NaN</td>\n",
       "      <td>all_but_this</td>\n",
       "      <td>same</td>\n",
       "    </tr>\n",
       "  </tbody>\n",
       "</table>\n",
       "<p>2256 rows × 29 columns</p>\n",
       "</div>"
      ],
      "text/plain": [
       "                                                                 scenario  \\\n",
       "clothiness VGGFrozenMLP_VGG_nan_nan_nan_L2 on latent_0_all...  clothiness   \n",
       "           VGGFrozenMLP_VGG_nan_nan_nan_L2 on latent_0_all...  clothiness   \n",
       "           VGGFrozenMLP_VGG_nan_nan_nan_L2 on latent_0_all...  clothiness   \n",
       "           VGGFrozenMLP_VGG_nan_nan_nan_L2 on latent_0_no_...  clothiness   \n",
       "           VGGFrozenMLP_VGG_nan_nan_nan_L2 on latent_0_no_...  clothiness   \n",
       "...                                                                   ...   \n",
       "towers     GNS_nan_nan_nan_nan_L2 on particle 3D positions...      towers   \n",
       "           GNS_nan_nan_nan_nan_L2 on particle 3D positions...      towers   \n",
       "           DPI_nan_nan_nan_nan_L2 on particle 3D positions...      towers   \n",
       "           DPI_nan_nan_nan_nan_L2 on particle 3D positions...      towers   \n",
       "           DPI_nan_nan_nan_nan_L2 on particle 3D positions...      towers   \n",
       "\n",
       "                                                                                                         modelID  \\\n",
       "clothiness VGGFrozenMLP_VGG_nan_nan_nan_L2 on latent_0_all...  VGGFrozenMLP_VGG_nan_nan_nan_L2 on latent_0_al...   \n",
       "           VGGFrozenMLP_VGG_nan_nan_nan_L2 on latent_0_all...  VGGFrozenMLP_VGG_nan_nan_nan_L2 on latent_0_al...   \n",
       "           VGGFrozenMLP_VGG_nan_nan_nan_L2 on latent_0_all...  VGGFrozenMLP_VGG_nan_nan_nan_L2 on latent_0_al...   \n",
       "           VGGFrozenMLP_VGG_nan_nan_nan_L2 on latent_0_no_...  VGGFrozenMLP_VGG_nan_nan_nan_L2 on latent_0_no...   \n",
       "           VGGFrozenMLP_VGG_nan_nan_nan_L2 on latent_0_no_...  VGGFrozenMLP_VGG_nan_nan_nan_L2 on latent_0_no...   \n",
       "...                                                                                                          ...   \n",
       "towers     GNS_nan_nan_nan_nan_L2 on particle 3D positions...  GNS_nan_nan_nan_nan_L2 on particle 3D position...   \n",
       "           GNS_nan_nan_nan_nan_L2 on particle 3D positions...  GNS_nan_nan_nan_nan_L2 on particle 3D position...   \n",
       "           DPI_nan_nan_nan_nan_L2 on particle 3D positions...  DPI_nan_nan_nan_nan_L2 on particle 3D position...   \n",
       "           DPI_nan_nan_nan_nan_L2 on particle 3D positions...  DPI_nan_nan_nan_nan_L2 on particle 3D position...   \n",
       "           DPI_nan_nan_nan_nan_L2 on particle 3D positions...  DPI_nan_nan_nan_nan_L2 on particle 3D position...   \n",
       "\n",
       "                                                                   RMSE  \\\n",
       "clothiness VGGFrozenMLP_VGG_nan_nan_nan_L2 on latent_0_all...  0.048329   \n",
       "           VGGFrozenMLP_VGG_nan_nan_nan_L2 on latent_0_all...  0.045388   \n",
       "           VGGFrozenMLP_VGG_nan_nan_nan_L2 on latent_0_all...  0.045448   \n",
       "           VGGFrozenMLP_VGG_nan_nan_nan_L2 on latent_0_no_...  0.047984   \n",
       "           VGGFrozenMLP_VGG_nan_nan_nan_L2 on latent_0_no_...  0.047749   \n",
       "...                                                                 ...   \n",
       "towers     GNS_nan_nan_nan_nan_L2 on particle 3D positions...  0.040133   \n",
       "           GNS_nan_nan_nan_nan_L2 on particle 3D positions...  0.035984   \n",
       "           DPI_nan_nan_nan_nan_L2 on particle 3D positions...  0.037983   \n",
       "           DPI_nan_nan_nan_nan_L2 on particle 3D positions...  0.035420   \n",
       "           DPI_nan_nan_nan_nan_L2 on particle 3D positions...  0.051518   \n",
       "\n",
       "                                                              pearsons_r  \\\n",
       "clothiness VGGFrozenMLP_VGG_nan_nan_nan_L2 on latent_0_all...   0.199084   \n",
       "           VGGFrozenMLP_VGG_nan_nan_nan_L2 on latent_0_all...   0.272968   \n",
       "           VGGFrozenMLP_VGG_nan_nan_nan_L2 on latent_0_all...   0.274033   \n",
       "           VGGFrozenMLP_VGG_nan_nan_nan_L2 on latent_0_no_...   0.206373   \n",
       "           VGGFrozenMLP_VGG_nan_nan_nan_L2 on latent_0_no_...   0.283875   \n",
       "...                                                                  ...   \n",
       "towers     GNS_nan_nan_nan_nan_L2 on particle 3D positions...   0.316469   \n",
       "           GNS_nan_nan_nan_nan_L2 on particle 3D positions...   0.215187   \n",
       "           DPI_nan_nan_nan_nan_L2 on particle 3D positions...   0.285459   \n",
       "           DPI_nan_nan_nan_nan_L2 on particle 3D positions...   0.201271   \n",
       "           DPI_nan_nan_nan_nan_L2 on particle 3D positions...   0.452209   \n",
       "\n",
       "                                                              num_datapoints  \\\n",
       "clothiness VGGFrozenMLP_VGG_nan_nan_nan_L2 on latent_0_all...            149   \n",
       "           VGGFrozenMLP_VGG_nan_nan_nan_L2 on latent_0_all...            149   \n",
       "           VGGFrozenMLP_VGG_nan_nan_nan_L2 on latent_0_all...            149   \n",
       "           VGGFrozenMLP_VGG_nan_nan_nan_L2 on latent_0_no_...            149   \n",
       "           VGGFrozenMLP_VGG_nan_nan_nan_L2 on latent_0_no_...            149   \n",
       "...                                                                      ...   \n",
       "towers     GNS_nan_nan_nan_nan_L2 on particle 3D positions...            149   \n",
       "           GNS_nan_nan_nan_nan_L2 on particle 3D positions...            149   \n",
       "           DPI_nan_nan_nan_nan_L2 on particle 3D positions...            149   \n",
       "           DPI_nan_nan_nan_nan_L2 on particle 3D positions...            149   \n",
       "           DPI_nan_nan_nan_nan_L2 on particle 3D positions...            149   \n",
       "\n",
       "                                                                      Model  \\\n",
       "clothiness VGGFrozenMLP_VGG_nan_nan_nan_L2 on latent_0_all...  VGGFrozenMLP   \n",
       "           VGGFrozenMLP_VGG_nan_nan_nan_L2 on latent_0_all...  VGGFrozenMLP   \n",
       "           VGGFrozenMLP_VGG_nan_nan_nan_L2 on latent_0_all...  VGGFrozenMLP   \n",
       "           VGGFrozenMLP_VGG_nan_nan_nan_L2 on latent_0_no_...  VGGFrozenMLP   \n",
       "           VGGFrozenMLP_VGG_nan_nan_nan_L2 on latent_0_no_...  VGGFrozenMLP   \n",
       "...                                                                     ...   \n",
       "towers     GNS_nan_nan_nan_nan_L2 on particle 3D positions...           GNS   \n",
       "           GNS_nan_nan_nan_nan_L2 on particle 3D positions...           GNS   \n",
       "           DPI_nan_nan_nan_nan_L2 on particle 3D positions...           DPI   \n",
       "           DPI_nan_nan_nan_nan_L2 on particle 3D positions...           DPI   \n",
       "           DPI_nan_nan_nan_nan_L2 on particle 3D positions...           DPI   \n",
       "\n",
       "                                                              Readout Train Data  \\\n",
       "clothiness VGGFrozenMLP_VGG_nan_nan_nan_L2 on latent_0_all...         clothiness   \n",
       "           VGGFrozenMLP_VGG_nan_nan_nan_L2 on latent_0_all...         clothiness   \n",
       "           VGGFrozenMLP_VGG_nan_nan_nan_L2 on latent_0_all...         clothiness   \n",
       "           VGGFrozenMLP_VGG_nan_nan_nan_L2 on latent_0_no_...         clothiness   \n",
       "           VGGFrozenMLP_VGG_nan_nan_nan_L2 on latent_0_no_...         clothiness   \n",
       "...                                                                          ...   \n",
       "towers     GNS_nan_nan_nan_nan_L2 on particle 3D positions...             towers   \n",
       "           GNS_nan_nan_nan_nan_L2 on particle 3D positions...             towers   \n",
       "           DPI_nan_nan_nan_nan_L2 on particle 3D positions...             towers   \n",
       "           DPI_nan_nan_nan_nan_L2 on particle 3D positions...             towers   \n",
       "           DPI_nan_nan_nan_nan_L2 on particle 3D positions...             towers   \n",
       "\n",
       "                                                              Readout Type  \\\n",
       "clothiness VGGFrozenMLP_VGG_nan_nan_nan_L2 on latent_0_all...            A   \n",
       "           VGGFrozenMLP_VGG_nan_nan_nan_L2 on latent_0_all...            B   \n",
       "           VGGFrozenMLP_VGG_nan_nan_nan_L2 on latent_0_all...            C   \n",
       "           VGGFrozenMLP_VGG_nan_nan_nan_L2 on latent_0_no_...            A   \n",
       "           VGGFrozenMLP_VGG_nan_nan_nan_L2 on latent_0_no_...            B   \n",
       "...                                                                    ...   \n",
       "towers     GNS_nan_nan_nan_nan_L2 on particle 3D positions...            B   \n",
       "           GNS_nan_nan_nan_nan_L2 on particle 3D positions...            B   \n",
       "           DPI_nan_nan_nan_nan_L2 on particle 3D positions...            B   \n",
       "           DPI_nan_nan_nan_nan_L2 on particle 3D positions...            B   \n",
       "           DPI_nan_nan_nan_nan_L2 on particle 3D positions...            B   \n",
       "\n",
       "                                                              Encoder Type  \\\n",
       "clothiness VGGFrozenMLP_VGG_nan_nan_nan_L2 on latent_0_all...          VGG   \n",
       "           VGGFrozenMLP_VGG_nan_nan_nan_L2 on latent_0_all...          VGG   \n",
       "           VGGFrozenMLP_VGG_nan_nan_nan_L2 on latent_0_all...          VGG   \n",
       "           VGGFrozenMLP_VGG_nan_nan_nan_L2 on latent_0_no_...          VGG   \n",
       "           VGGFrozenMLP_VGG_nan_nan_nan_L2 on latent_0_no_...          VGG   \n",
       "...                                                                    ...   \n",
       "towers     GNS_nan_nan_nan_nan_L2 on particle 3D positions...          NaN   \n",
       "           GNS_nan_nan_nan_nan_L2 on particle 3D positions...          NaN   \n",
       "           DPI_nan_nan_nan_nan_L2 on particle 3D positions...          NaN   \n",
       "           DPI_nan_nan_nan_nan_L2 on particle 3D positions...          NaN   \n",
       "           DPI_nan_nan_nan_nan_L2 on particle 3D positions...          NaN   \n",
       "\n",
       "                                                                Dynamics Type  \\\n",
       "clothiness VGGFrozenMLP_VGG_nan_nan_nan_L2 on latent_0_all...             MLP   \n",
       "           VGGFrozenMLP_VGG_nan_nan_nan_L2 on latent_0_all...             MLP   \n",
       "           VGGFrozenMLP_VGG_nan_nan_nan_L2 on latent_0_all...             MLP   \n",
       "           VGGFrozenMLP_VGG_nan_nan_nan_L2 on latent_0_no_...             MLP   \n",
       "           VGGFrozenMLP_VGG_nan_nan_nan_L2 on latent_0_no_...             MLP   \n",
       "...                                                                       ...   \n",
       "towers     GNS_nan_nan_nan_nan_L2 on particle 3D positions...  graph-networks   \n",
       "           GNS_nan_nan_nan_nan_L2 on particle 3D positions...  graph-networks   \n",
       "           DPI_nan_nan_nan_nan_L2 on particle 3D positions...  graph-networks   \n",
       "           DPI_nan_nan_nan_nan_L2 on particle 3D positions...  graph-networks   \n",
       "           DPI_nan_nan_nan_nan_L2 on particle 3D positions...  graph-networks   \n",
       "\n",
       "                                                              Encoder Pre-training Task  \\\n",
       "clothiness VGGFrozenMLP_VGG_nan_nan_nan_L2 on latent_0_all...   ImageNet classification   \n",
       "           VGGFrozenMLP_VGG_nan_nan_nan_L2 on latent_0_all...   ImageNet classification   \n",
       "           VGGFrozenMLP_VGG_nan_nan_nan_L2 on latent_0_all...   ImageNet classification   \n",
       "           VGGFrozenMLP_VGG_nan_nan_nan_L2 on latent_0_no_...   ImageNet classification   \n",
       "           VGGFrozenMLP_VGG_nan_nan_nan_L2 on latent_0_no_...   ImageNet classification   \n",
       "...                                                                                 ...   \n",
       "towers     GNS_nan_nan_nan_nan_L2 on particle 3D positions...                       NaN   \n",
       "           GNS_nan_nan_nan_nan_L2 on particle 3D positions...                       NaN   \n",
       "           DPI_nan_nan_nan_nan_L2 on particle 3D positions...                       NaN   \n",
       "           DPI_nan_nan_nan_nan_L2 on particle 3D positions...                       NaN   \n",
       "           DPI_nan_nan_nan_nan_L2 on particle 3D positions...                       NaN   \n",
       "\n",
       "                                                              Encoder Pre-training Dataset  \\\n",
       "clothiness VGGFrozenMLP_VGG_nan_nan_nan_L2 on latent_0_all...                     ImageNet   \n",
       "           VGGFrozenMLP_VGG_nan_nan_nan_L2 on latent_0_all...                     ImageNet   \n",
       "           VGGFrozenMLP_VGG_nan_nan_nan_L2 on latent_0_all...                     ImageNet   \n",
       "           VGGFrozenMLP_VGG_nan_nan_nan_L2 on latent_0_no_...                     ImageNet   \n",
       "           VGGFrozenMLP_VGG_nan_nan_nan_L2 on latent_0_no_...                     ImageNet   \n",
       "...                                                                                    ...   \n",
       "towers     GNS_nan_nan_nan_nan_L2 on particle 3D positions...                          NaN   \n",
       "           GNS_nan_nan_nan_nan_L2 on particle 3D positions...                          NaN   \n",
       "           DPI_nan_nan_nan_nan_L2 on particle 3D positions...                          NaN   \n",
       "           DPI_nan_nan_nan_nan_L2 on particle 3D positions...                          NaN   \n",
       "           DPI_nan_nan_nan_nan_L2 on particle 3D positions...                          NaN   \n",
       "\n",
       "                                                              Encoder Pre-training Seed  \\\n",
       "clothiness VGGFrozenMLP_VGG_nan_nan_nan_L2 on latent_0_all...                       NaN   \n",
       "           VGGFrozenMLP_VGG_nan_nan_nan_L2 on latent_0_all...                       NaN   \n",
       "           VGGFrozenMLP_VGG_nan_nan_nan_L2 on latent_0_all...                       NaN   \n",
       "           VGGFrozenMLP_VGG_nan_nan_nan_L2 on latent_0_no_...                       NaN   \n",
       "           VGGFrozenMLP_VGG_nan_nan_nan_L2 on latent_0_no_...                       NaN   \n",
       "...                                                                                 ...   \n",
       "towers     GNS_nan_nan_nan_nan_L2 on particle 3D positions...                       NaN   \n",
       "           GNS_nan_nan_nan_nan_L2 on particle 3D positions...                       NaN   \n",
       "           DPI_nan_nan_nan_nan_L2 on particle 3D positions...                       NaN   \n",
       "           DPI_nan_nan_nan_nan_L2 on particle 3D positions...                       NaN   \n",
       "           DPI_nan_nan_nan_nan_L2 on particle 3D positions...                       NaN   \n",
       "\n",
       "                                                              Encoder Training Task  \\\n",
       "clothiness VGGFrozenMLP_VGG_nan_nan_nan_L2 on latent_0_all...                   NaN   \n",
       "           VGGFrozenMLP_VGG_nan_nan_nan_L2 on latent_0_all...                   NaN   \n",
       "           VGGFrozenMLP_VGG_nan_nan_nan_L2 on latent_0_all...                   NaN   \n",
       "           VGGFrozenMLP_VGG_nan_nan_nan_L2 on latent_0_no_...                   NaN   \n",
       "           VGGFrozenMLP_VGG_nan_nan_nan_L2 on latent_0_no_...                   NaN   \n",
       "...                                                                             ...   \n",
       "towers     GNS_nan_nan_nan_nan_L2 on particle 3D positions...                   NaN   \n",
       "           GNS_nan_nan_nan_nan_L2 on particle 3D positions...                   NaN   \n",
       "           DPI_nan_nan_nan_nan_L2 on particle 3D positions...                   NaN   \n",
       "           DPI_nan_nan_nan_nan_L2 on particle 3D positions...                   NaN   \n",
       "           DPI_nan_nan_nan_nan_L2 on particle 3D positions...                   NaN   \n",
       "\n",
       "                                                              Encoder Training Dataset  \\\n",
       "clothiness VGGFrozenMLP_VGG_nan_nan_nan_L2 on latent_0_all...                      NaN   \n",
       "           VGGFrozenMLP_VGG_nan_nan_nan_L2 on latent_0_all...                      NaN   \n",
       "           VGGFrozenMLP_VGG_nan_nan_nan_L2 on latent_0_all...                      NaN   \n",
       "           VGGFrozenMLP_VGG_nan_nan_nan_L2 on latent_0_no_...                      NaN   \n",
       "           VGGFrozenMLP_VGG_nan_nan_nan_L2 on latent_0_no_...                      NaN   \n",
       "...                                                                                ...   \n",
       "towers     GNS_nan_nan_nan_nan_L2 on particle 3D positions...                      NaN   \n",
       "           GNS_nan_nan_nan_nan_L2 on particle 3D positions...                      NaN   \n",
       "           DPI_nan_nan_nan_nan_L2 on particle 3D positions...                      NaN   \n",
       "           DPI_nan_nan_nan_nan_L2 on particle 3D positions...                      NaN   \n",
       "           DPI_nan_nan_nan_nan_L2 on particle 3D positions...                      NaN   \n",
       "\n",
       "                                                              Encoder Training Seed  \\\n",
       "clothiness VGGFrozenMLP_VGG_nan_nan_nan_L2 on latent_0_all...                   NaN   \n",
       "           VGGFrozenMLP_VGG_nan_nan_nan_L2 on latent_0_all...                   NaN   \n",
       "           VGGFrozenMLP_VGG_nan_nan_nan_L2 on latent_0_all...                   NaN   \n",
       "           VGGFrozenMLP_VGG_nan_nan_nan_L2 on latent_0_no_...                   NaN   \n",
       "           VGGFrozenMLP_VGG_nan_nan_nan_L2 on latent_0_no_...                   NaN   \n",
       "...                                                                             ...   \n",
       "towers     GNS_nan_nan_nan_nan_L2 on particle 3D positions...                   NaN   \n",
       "           GNS_nan_nan_nan_nan_L2 on particle 3D positions...                   NaN   \n",
       "           DPI_nan_nan_nan_nan_L2 on particle 3D positions...                   NaN   \n",
       "           DPI_nan_nan_nan_nan_L2 on particle 3D positions...                   NaN   \n",
       "           DPI_nan_nan_nan_nan_L2 on particle 3D positions...                   NaN   \n",
       "\n",
       "                                                                    Dynamics Training Task  \\\n",
       "clothiness VGGFrozenMLP_VGG_nan_nan_nan_L2 on latent_0_all...                 L2 on latent   \n",
       "           VGGFrozenMLP_VGG_nan_nan_nan_L2 on latent_0_all...                 L2 on latent   \n",
       "           VGGFrozenMLP_VGG_nan_nan_nan_L2 on latent_0_all...                 L2 on latent   \n",
       "           VGGFrozenMLP_VGG_nan_nan_nan_L2 on latent_0_no_...                 L2 on latent   \n",
       "           VGGFrozenMLP_VGG_nan_nan_nan_L2 on latent_0_no_...                 L2 on latent   \n",
       "...                                                                                    ...   \n",
       "towers     GNS_nan_nan_nan_nan_L2 on particle 3D positions...  L2 on particle 3D positions   \n",
       "           GNS_nan_nan_nan_nan_L2 on particle 3D positions...  L2 on particle 3D positions   \n",
       "           DPI_nan_nan_nan_nan_L2 on particle 3D positions...  L2 on particle 3D positions   \n",
       "           DPI_nan_nan_nan_nan_L2 on particle 3D positions...  L2 on particle 3D positions   \n",
       "           DPI_nan_nan_nan_nan_L2 on particle 3D positions...  L2 on particle 3D positions   \n",
       "\n",
       "                                                              Dynamics Training Dataset  \\\n",
       "clothiness VGGFrozenMLP_VGG_nan_nan_nan_L2 on latent_0_all...                       all   \n",
       "           VGGFrozenMLP_VGG_nan_nan_nan_L2 on latent_0_all...                       all   \n",
       "           VGGFrozenMLP_VGG_nan_nan_nan_L2 on latent_0_all...                       all   \n",
       "           VGGFrozenMLP_VGG_nan_nan_nan_L2 on latent_0_no_...             no_clothiness   \n",
       "           VGGFrozenMLP_VGG_nan_nan_nan_L2 on latent_0_no_...             no_clothiness   \n",
       "...                                                                                 ...   \n",
       "towers     GNS_nan_nan_nan_nan_L2 on particle 3D positions...                       all   \n",
       "           GNS_nan_nan_nan_nan_L2 on particle 3D positions...                 no_towers   \n",
       "           DPI_nan_nan_nan_nan_L2 on particle 3D positions...                    towers   \n",
       "           DPI_nan_nan_nan_nan_L2 on particle 3D positions...                       all   \n",
       "           DPI_nan_nan_nan_nan_L2 on particle 3D positions...                 no_towers   \n",
       "\n",
       "                                                              Dynamics Training Seed  \\\n",
       "clothiness VGGFrozenMLP_VGG_nan_nan_nan_L2 on latent_0_all...                      0   \n",
       "           VGGFrozenMLP_VGG_nan_nan_nan_L2 on latent_0_all...                      0   \n",
       "           VGGFrozenMLP_VGG_nan_nan_nan_L2 on latent_0_all...                      0   \n",
       "           VGGFrozenMLP_VGG_nan_nan_nan_L2 on latent_0_no_...                      0   \n",
       "           VGGFrozenMLP_VGG_nan_nan_nan_L2 on latent_0_no_...                      0   \n",
       "...                                                                              ...   \n",
       "towers     GNS_nan_nan_nan_nan_L2 on particle 3D positions...                      1   \n",
       "           GNS_nan_nan_nan_nan_L2 on particle 3D positions...                      1   \n",
       "           DPI_nan_nan_nan_nan_L2 on particle 3D positions...                      1   \n",
       "           DPI_nan_nan_nan_nan_L2 on particle 3D positions...                      1   \n",
       "           DPI_nan_nan_nan_nan_L2 on particle 3D positions...                      1   \n",
       "\n",
       "                                                                                                         ModelID  \\\n",
       "clothiness VGGFrozenMLP_VGG_nan_nan_nan_L2 on latent_0_all...  VGGFrozenMLP_VGG_nan_nan_nan_L2 on latent_0_al...   \n",
       "           VGGFrozenMLP_VGG_nan_nan_nan_L2 on latent_0_all...  VGGFrozenMLP_VGG_nan_nan_nan_L2 on latent_0_al...   \n",
       "           VGGFrozenMLP_VGG_nan_nan_nan_L2 on latent_0_all...  VGGFrozenMLP_VGG_nan_nan_nan_L2 on latent_0_al...   \n",
       "           VGGFrozenMLP_VGG_nan_nan_nan_L2 on latent_0_no_...  VGGFrozenMLP_VGG_nan_nan_nan_L2 on latent_0_no...   \n",
       "           VGGFrozenMLP_VGG_nan_nan_nan_L2 on latent_0_no_...  VGGFrozenMLP_VGG_nan_nan_nan_L2 on latent_0_no...   \n",
       "...                                                                                                          ...   \n",
       "towers     GNS_nan_nan_nan_nan_L2 on particle 3D positions...  GNS_nan_nan_nan_nan_L2 on particle 3D position...   \n",
       "           GNS_nan_nan_nan_nan_L2 on particle 3D positions...  GNS_nan_nan_nan_nan_L2 on particle 3D position...   \n",
       "           DPI_nan_nan_nan_nan_L2 on particle 3D positions...  DPI_nan_nan_nan_nan_L2 on particle 3D position...   \n",
       "           DPI_nan_nan_nan_nan_L2 on particle 3D positions...  DPI_nan_nan_nan_nan_L2 on particle 3D position...   \n",
       "           DPI_nan_nan_nan_nan_L2 on particle 3D positions...  DPI_nan_nan_nan_nan_L2 on particle 3D position...   \n",
       "\n",
       "                                                                                                      Model Kind  \\\n",
       "clothiness VGGFrozenMLP_VGG_nan_nan_nan_L2 on latent_0_all...   VGGFrozenMLP_VGG_nan_nan_nan_L2 on latent_0_same   \n",
       "           VGGFrozenMLP_VGG_nan_nan_nan_L2 on latent_0_all...   VGGFrozenMLP_VGG_nan_nan_nan_L2 on latent_0_same   \n",
       "           VGGFrozenMLP_VGG_nan_nan_nan_L2 on latent_0_all...   VGGFrozenMLP_VGG_nan_nan_nan_L2 on latent_0_same   \n",
       "           VGGFrozenMLP_VGG_nan_nan_nan_L2 on latent_0_no_...   VGGFrozenMLP_VGG_nan_nan_nan_L2 on latent_0_same   \n",
       "           VGGFrozenMLP_VGG_nan_nan_nan_L2 on latent_0_no_...   VGGFrozenMLP_VGG_nan_nan_nan_L2 on latent_0_same   \n",
       "...                                                                                                          ...   \n",
       "towers     GNS_nan_nan_nan_nan_L2 on particle 3D positions...  GNS_nan_nan_nan_nan_L2 on particle 3D position...   \n",
       "           GNS_nan_nan_nan_nan_L2 on particle 3D positions...  GNS_nan_nan_nan_nan_L2 on particle 3D position...   \n",
       "           DPI_nan_nan_nan_nan_L2 on particle 3D positions...  DPI_nan_nan_nan_nan_L2 on particle 3D position...   \n",
       "           DPI_nan_nan_nan_nan_L2 on particle 3D positions...  DPI_nan_nan_nan_nan_L2 on particle 3D position...   \n",
       "           DPI_nan_nan_nan_nan_L2 on particle 3D positions...  DPI_nan_nan_nan_nan_L2 on particle 3D position...   \n",
       "\n",
       "                                                              Visual encoder architecture  \\\n",
       "clothiness VGGFrozenMLP_VGG_nan_nan_nan_L2 on latent_0_all...                 Transformer   \n",
       "           VGGFrozenMLP_VGG_nan_nan_nan_L2 on latent_0_all...                 Transformer   \n",
       "           VGGFrozenMLP_VGG_nan_nan_nan_L2 on latent_0_all...                 Transformer   \n",
       "           VGGFrozenMLP_VGG_nan_nan_nan_L2 on latent_0_no_...                 Transformer   \n",
       "           VGGFrozenMLP_VGG_nan_nan_nan_L2 on latent_0_no_...                 Transformer   \n",
       "...                                                                                   ...   \n",
       "towers     GNS_nan_nan_nan_nan_L2 on particle 3D positions...                     Neither   \n",
       "           GNS_nan_nan_nan_nan_L2 on particle 3D positions...                     Neither   \n",
       "           DPI_nan_nan_nan_nan_L2 on particle 3D positions...                     Neither   \n",
       "           DPI_nan_nan_nan_nan_L2 on particle 3D positions...                     Neither   \n",
       "           DPI_nan_nan_nan_nan_L2 on particle 3D positions...                     Neither   \n",
       "\n",
       "                                                              Dynamics model architecture  \\\n",
       "clothiness VGGFrozenMLP_VGG_nan_nan_nan_L2 on latent_0_all...                         MLP   \n",
       "           VGGFrozenMLP_VGG_nan_nan_nan_L2 on latent_0_all...                         MLP   \n",
       "           VGGFrozenMLP_VGG_nan_nan_nan_L2 on latent_0_all...                         MLP   \n",
       "           VGGFrozenMLP_VGG_nan_nan_nan_L2 on latent_0_no_...                         MLP   \n",
       "           VGGFrozenMLP_VGG_nan_nan_nan_L2 on latent_0_no_...                         MLP   \n",
       "...                                                                                   ...   \n",
       "towers     GNS_nan_nan_nan_nan_L2 on particle 3D positions...                     Neither   \n",
       "           GNS_nan_nan_nan_nan_L2 on particle 3D positions...                     Neither   \n",
       "           DPI_nan_nan_nan_nan_L2 on particle 3D positions...                     Neither   \n",
       "           DPI_nan_nan_nan_nan_L2 on particle 3D positions...                     Neither   \n",
       "           DPI_nan_nan_nan_nan_L2 on particle 3D positions...                     Neither   \n",
       "\n",
       "                                                              ObjectCentric  \\\n",
       "clothiness VGGFrozenMLP_VGG_nan_nan_nan_L2 on latent_0_all...           NaN   \n",
       "           VGGFrozenMLP_VGG_nan_nan_nan_L2 on latent_0_all...           NaN   \n",
       "           VGGFrozenMLP_VGG_nan_nan_nan_L2 on latent_0_all...           NaN   \n",
       "           VGGFrozenMLP_VGG_nan_nan_nan_L2 on latent_0_no_...           NaN   \n",
       "           VGGFrozenMLP_VGG_nan_nan_nan_L2 on latent_0_no_...           NaN   \n",
       "...                                                                     ...   \n",
       "towers     GNS_nan_nan_nan_nan_L2 on particle 3D positions...           NaN   \n",
       "           GNS_nan_nan_nan_nan_L2 on particle 3D positions...           NaN   \n",
       "           DPI_nan_nan_nan_nan_L2 on particle 3D positions...          True   \n",
       "           DPI_nan_nan_nan_nan_L2 on particle 3D positions...          True   \n",
       "           DPI_nan_nan_nan_nan_L2 on particle 3D positions...          True   \n",
       "\n",
       "                                                              Supervised  \\\n",
       "clothiness VGGFrozenMLP_VGG_nan_nan_nan_L2 on latent_0_all...      False   \n",
       "           VGGFrozenMLP_VGG_nan_nan_nan_L2 on latent_0_all...      False   \n",
       "           VGGFrozenMLP_VGG_nan_nan_nan_L2 on latent_0_all...      False   \n",
       "           VGGFrozenMLP_VGG_nan_nan_nan_L2 on latent_0_no_...      False   \n",
       "           VGGFrozenMLP_VGG_nan_nan_nan_L2 on latent_0_no_...      False   \n",
       "...                                                                  ...   \n",
       "towers     GNS_nan_nan_nan_nan_L2 on particle 3D positions...        NaN   \n",
       "           GNS_nan_nan_nan_nan_L2 on particle 3D positions...        NaN   \n",
       "           DPI_nan_nan_nan_nan_L2 on particle 3D positions...       True   \n",
       "           DPI_nan_nan_nan_nan_L2 on particle 3D positions...       True   \n",
       "           DPI_nan_nan_nan_nan_L2 on particle 3D positions...       True   \n",
       "\n",
       "                                                              SelfSupervisedLossSelfSupervisedLoss  \\\n",
       "clothiness VGGFrozenMLP_VGG_nan_nan_nan_L2 on latent_0_all...                                   NA   \n",
       "           VGGFrozenMLP_VGG_nan_nan_nan_L2 on latent_0_all...                                   NA   \n",
       "           VGGFrozenMLP_VGG_nan_nan_nan_L2 on latent_0_all...                                   NA   \n",
       "           VGGFrozenMLP_VGG_nan_nan_nan_L2 on latent_0_no_...                                   NA   \n",
       "           VGGFrozenMLP_VGG_nan_nan_nan_L2 on latent_0_no_...                                   NA   \n",
       "...                                                                                            ...   \n",
       "towers     GNS_nan_nan_nan_nan_L2 on particle 3D positions...                                   NA   \n",
       "           GNS_nan_nan_nan_nan_L2 on particle 3D positions...                                   NA   \n",
       "           DPI_nan_nan_nan_nan_L2 on particle 3D positions...                                   NA   \n",
       "           DPI_nan_nan_nan_nan_L2 on particle 3D positions...                                   NA   \n",
       "           DPI_nan_nan_nan_nan_L2 on particle 3D positions...                                   NA   \n",
       "\n",
       "                                                              Encoder Training Dataset Type  \\\n",
       "clothiness VGGFrozenMLP_VGG_nan_nan_nan_L2 on latent_0_all...                           NaN   \n",
       "           VGGFrozenMLP_VGG_nan_nan_nan_L2 on latent_0_all...                           NaN   \n",
       "           VGGFrozenMLP_VGG_nan_nan_nan_L2 on latent_0_all...                           NaN   \n",
       "           VGGFrozenMLP_VGG_nan_nan_nan_L2 on latent_0_no_...                           NaN   \n",
       "           VGGFrozenMLP_VGG_nan_nan_nan_L2 on latent_0_no_...                           NaN   \n",
       "...                                                                                     ...   \n",
       "towers     GNS_nan_nan_nan_nan_L2 on particle 3D positions...                           NaN   \n",
       "           GNS_nan_nan_nan_nan_L2 on particle 3D positions...                           NaN   \n",
       "           DPI_nan_nan_nan_nan_L2 on particle 3D positions...                           NaN   \n",
       "           DPI_nan_nan_nan_nan_L2 on particle 3D positions...                           NaN   \n",
       "           DPI_nan_nan_nan_nan_L2 on particle 3D positions...                           NaN   \n",
       "\n",
       "                                                              Dynamics Training Dataset Type  \\\n",
       "clothiness VGGFrozenMLP_VGG_nan_nan_nan_L2 on latent_0_all...                            all   \n",
       "           VGGFrozenMLP_VGG_nan_nan_nan_L2 on latent_0_all...                            all   \n",
       "           VGGFrozenMLP_VGG_nan_nan_nan_L2 on latent_0_all...                            all   \n",
       "           VGGFrozenMLP_VGG_nan_nan_nan_L2 on latent_0_no_...                   all_but_this   \n",
       "           VGGFrozenMLP_VGG_nan_nan_nan_L2 on latent_0_no_...                   all_but_this   \n",
       "...                                                                                      ...   \n",
       "towers     GNS_nan_nan_nan_nan_L2 on particle 3D positions...                            all   \n",
       "           GNS_nan_nan_nan_nan_L2 on particle 3D positions...                   all_but_this   \n",
       "           DPI_nan_nan_nan_nan_L2 on particle 3D positions...                           same   \n",
       "           DPI_nan_nan_nan_nan_L2 on particle 3D positions...                            all   \n",
       "           DPI_nan_nan_nan_nan_L2 on particle 3D positions...                   all_but_this   \n",
       "\n",
       "                                                              Readout Train Data Type  \n",
       "clothiness VGGFrozenMLP_VGG_nan_nan_nan_L2 on latent_0_all...                    same  \n",
       "           VGGFrozenMLP_VGG_nan_nan_nan_L2 on latent_0_all...                    same  \n",
       "           VGGFrozenMLP_VGG_nan_nan_nan_L2 on latent_0_all...                    same  \n",
       "           VGGFrozenMLP_VGG_nan_nan_nan_L2 on latent_0_no_...                    same  \n",
       "           VGGFrozenMLP_VGG_nan_nan_nan_L2 on latent_0_no_...                    same  \n",
       "...                                                                               ...  \n",
       "towers     GNS_nan_nan_nan_nan_L2 on particle 3D positions...                    same  \n",
       "           GNS_nan_nan_nan_nan_L2 on particle 3D positions...                    same  \n",
       "           DPI_nan_nan_nan_nan_L2 on particle 3D positions...                    same  \n",
       "           DPI_nan_nan_nan_nan_L2 on particle 3D positions...                    same  \n",
       "           DPI_nan_nan_nan_nan_L2 on particle 3D positions...                    same  \n",
       "\n",
       "[2256 rows x 29 columns]"
      ]
     },
     "execution_count": 153,
     "metadata": {},
     "output_type": "execute_result"
    }
   ],
   "source": [
    "model_human_rmse"
   ]
  },
  {
   "cell_type": "code",
   "execution_count": 139,
   "metadata": {
    "execution": {
     "iopub.execute_input": "2021-06-05T23:23:47.947005Z",
     "iopub.status.busy": "2021-06-05T23:23:47.946752Z",
     "iopub.status.idle": "2021-06-05T23:23:47.957684Z",
     "shell.execute_reply": "2021-06-05T23:23:47.956661Z",
     "shell.execute_reply.started": "2021-06-05T23:23:47.946976Z"
    },
    "tags": []
   },
   "outputs": [],
   "source": [
    "nIter = 1000\n",
    "idx = np.random.randint(0,_HD.gameID.nunique(),size=(1000,_HD.gameID.nunique()))"
   ]
  },
  {
   "cell_type": "code",
   "execution_count": 140,
   "metadata": {
    "execution": {
     "iopub.execute_input": "2021-06-05T23:23:47.959570Z",
     "iopub.status.busy": "2021-06-05T23:23:47.959188Z",
     "iopub.status.idle": "2021-06-05T23:23:47.973701Z",
     "shell.execute_reply": "2021-06-05T23:23:47.972940Z",
     "shell.execute_reply.started": "2021-06-05T23:23:47.959516Z"
    },
    "tags": []
   },
   "outputs": [
    {
     "data": {
      "text/plain": [
       "array(['0983-09c16d06-8c42-4a02-87a8-0baa0a943083',\n",
       "       '4754-a07e2521-50b0-4384-9944-6a2c0b77de95',\n",
       "       '3515-80733e2a-78ff-4bf5-8a74-52524f181cdd',\n",
       "       '0460-ced10199-97af-453d-8f91-2740b364d40d',\n",
       "       '9211-5a9ffe70-2f8f-4e07-bdd7-f27d12f5d661',\n",
       "       '0983-09c16d06-8c42-4a02-87a8-0baa0a943083',\n",
       "       '8996-bc43a5de-028c-4dca-a935-4915d8153b9f',\n",
       "       '9377-83b85bc5-3792-4b8e-8b6e-532c04d2a2b0',\n",
       "       '1614-08f497e3-e1af-457e-a2e3-444a0d84e6b3',\n",
       "       '7192-1eb30845-f767-438f-9951-3cc1b7282784',\n",
       "       '1977-9a324852-dc87-4981-a029-f3e03f155ea0',\n",
       "       '5149-0bc164f2-8ffa-4b56-9da8-08555295fdf1',\n",
       "       '7192-1eb30845-f767-438f-9951-3cc1b7282784',\n",
       "       '8153-6b47ecfb-9099-4308-b59c-d3901484b24a',\n",
       "       '9903-054b471f-9dfb-4fbf-9ed7-f35285e24ebd',\n",
       "       '2122-af197044-ea7c-4a9f-89ad-b97f202bcbb2',\n",
       "       '2259-38ba4a98-9389-41f2-b227-926c268b56b4',\n",
       "       '6780-8f68b96d-f206-44fe-a5ca-453f3871bfe5',\n",
       "       '9469-7c293d19-38dd-4686-92bc-68b847f598b7',\n",
       "       '9903-054b471f-9dfb-4fbf-9ed7-f35285e24ebd',\n",
       "       '0190-07d6b5e3-f86a-44de-9bc7-15b9c7d565e5',\n",
       "       '0689-21c416a8-e2b5-44bc-aa61-d8936d584acf',\n",
       "       '1521-22de10a2-2abe-4a25-a7d8-09e839dff393',\n",
       "       '4282-0398a521-cadc-4673-8813-22f05d843c57',\n",
       "       '9175-f3e13280-0ad9-447a-96d1-1a845b50200b',\n",
       "       '6126-97f9f88c-840d-47a2-802b-1de3a7ca9844',\n",
       "       '8591-201183a1-6887-46b1-b5e7-6cd7638576e6',\n",
       "       '5501-ec7a963f-8329-48a3-a815-5596e7317065',\n",
       "       '4458-b1e09357-b9f5-4c67-9411-89d2c6eaba2c',\n",
       "       '3974-fdab969f-8051-4a78-94fb-f9ca85c3d94c',\n",
       "       '0689-21c416a8-e2b5-44bc-aa61-d8936d584acf',\n",
       "       '0959-b3c013e5-40a9-448d-b80b-0d4093280842',\n",
       "       '1452-f8809e7f-cc53-471a-9a12-1330aea2b6dd',\n",
       "       '4325-05bebc74-b6c8-42cf-9a9d-6994d349f081',\n",
       "       '2122-af197044-ea7c-4a9f-89ad-b97f202bcbb2',\n",
       "       '4064-f66f8cc6-6375-45c8-9746-d689cbecf1b5',\n",
       "       '5253-18669dfa-c0b6-48ed-8512-2d2d670bb165',\n",
       "       '4669-8b988a08-45f1-432b-8aea-59c0a82ab19a',\n",
       "       '8856-23a126ad-addb-47b3-bd8e-df98f1ad49a3',\n",
       "       '9238-60fbfe0e-fb2e-4b49-bb1a-71d88ca5473c',\n",
       "       '1977-9a324852-dc87-4981-a029-f3e03f155ea0',\n",
       "       '0619-7eeb560e-0121-4494-a891-d94d8e9d77f3',\n",
       "       '3737-1c212b15-a4db-4ff9-b93f-8228abbe64ae',\n",
       "       '7944-abeb7f70-a62d-4741-b67d-77b6d024f13a',\n",
       "       '7274-5cc0824e-d3c8-4ea0-969c-3d8b5a1781bd',\n",
       "       '6583-c4b99fab-2fa8-4f74-ada7-245cc996bf7a',\n",
       "       '4064-f66f8cc6-6375-45c8-9746-d689cbecf1b5',\n",
       "       '4238-50eaed00-325b-428e-a28a-182d6ac138f0',\n",
       "       '7086-ea12a1d1-3784-4c7f-a495-7eea6663d2cb',\n",
       "       '5843-62051155-28b9-418d-98ab-2e9d1832c0d6',\n",
       "       '0130-035e7165-205f-45ce-bbf5-278cd0ae1062',\n",
       "       '7086-ea12a1d1-3784-4c7f-a495-7eea6663d2cb',\n",
       "       '4669-8b988a08-45f1-432b-8aea-59c0a82ab19a',\n",
       "       '5501-ec7a963f-8329-48a3-a815-5596e7317065',\n",
       "       '0689-21c416a8-e2b5-44bc-aa61-d8936d584acf',\n",
       "       '0619-7eeb560e-0121-4494-a891-d94d8e9d77f3',\n",
       "       '0130-035e7165-205f-45ce-bbf5-278cd0ae1062',\n",
       "       '4913-54914331-1ec5-4ce6-9588-cdbf62a0a011',\n",
       "       '4913-54914331-1ec5-4ce6-9588-cdbf62a0a011',\n",
       "       '0983-09c16d06-8c42-4a02-87a8-0baa0a943083',\n",
       "       '6126-97f9f88c-840d-47a2-802b-1de3a7ca9844',\n",
       "       '2259-38ba4a98-9389-41f2-b227-926c268b56b4',\n",
       "       '0959-b3c013e5-40a9-448d-b80b-0d4093280842',\n",
       "       '6780-8f68b96d-f206-44fe-a5ca-453f3871bfe5',\n",
       "       '8996-bc43a5de-028c-4dca-a935-4915d8153b9f',\n",
       "       '7086-ea12a1d1-3784-4c7f-a495-7eea6663d2cb',\n",
       "       '3317-2cb77810-cb85-4225-8e4c-65a140e65412',\n",
       "       '5843-62051155-28b9-418d-98ab-2e9d1832c0d6',\n",
       "       '0959-b3c013e5-40a9-448d-b80b-0d4093280842',\n",
       "       '5668-4968cd75-65fd-4ae5-84d1-b75d7d1d49b3',\n",
       "       '8856-23a126ad-addb-47b3-bd8e-df98f1ad49a3',\n",
       "       '7086-ea12a1d1-3784-4c7f-a495-7eea6663d2cb',\n",
       "       '9903-054b471f-9dfb-4fbf-9ed7-f35285e24ebd',\n",
       "       '0079-c5d6b258-1168-4049-90e0-f7914f95c0ec',\n",
       "       '6252-f72bbf58-1a87-4534-97f3-24b65c06e75b',\n",
       "       '1158-9555594e-1563-4b59-a666-88e1e0f65bb7',\n",
       "       '1976-7e6661d3-4c2c-4cce-8db4-95349e6088da',\n",
       "       '3973-2eb5158f-1d32-483f-93f6-3a3297dda644',\n",
       "       '3737-1c212b15-a4db-4ff9-b93f-8228abbe64ae',\n",
       "       '9238-60fbfe0e-fb2e-4b49-bb1a-71d88ca5473c',\n",
       "       '4791-f76cf9a1-1e89-4bb8-9ec6-8c6398b194a1',\n",
       "       '3274-c1283452-d56c-4afe-9172-32cbf7810355',\n",
       "       '7353-9c0a4be4-cb74-4929-89d4-d311ba964147',\n",
       "       '9377-83b85bc5-3792-4b8e-8b6e-532c04d2a2b0',\n",
       "       '4282-0398a521-cadc-4673-8813-22f05d843c57'], dtype=object)"
      ]
     },
     "execution_count": 140,
     "metadata": {},
     "output_type": "execute_result"
    }
   ],
   "source": [
    "gameIDs = np.unique(_HD.gameID.values)\n",
    "gameIDs[idx[0]]"
   ]
  },
  {
   "cell_type": "code",
   "execution_count": 141,
   "metadata": {
    "execution": {
     "iopub.execute_input": "2021-06-05T23:23:47.975053Z",
     "iopub.status.busy": "2021-06-05T23:23:47.974860Z",
     "iopub.status.idle": "2021-06-05T23:23:48.162772Z",
     "shell.execute_reply": "2021-06-05T23:23:48.161983Z",
     "shell.execute_reply.started": "2021-06-05T23:23:47.975032Z"
    },
    "tags": []
   },
   "outputs": [],
   "source": [
    "## precompute indices for bootstrap resampling\n",
    "nIter = 1000\n",
    "idx = np.random.RandomState(123).randint(0,_HD.gameID.nunique(),size=(1000,_HD.gameID.nunique()))\n",
    "\n",
    "currIter = 0\n",
    "boot_games = gameIDs[idx[currIter]]\n",
    "boot_data = []\n",
    "for game in boot_games:\n",
    "    boot_data.append(_HD[_HD['gameID']==game])\n",
    "boot_data = pd.concat(boot_data)    "
   ]
  },
  {
   "cell_type": "code",
   "execution_count": null,
   "metadata": {},
   "outputs": [],
   "source": []
  },
  {
   "cell_type": "markdown",
   "metadata": {},
   "source": [
    "#### Conduct bootstrapping on model-avgHuman distance"
   ]
  },
  {
   "cell_type": "code",
   "execution_count": null,
   "metadata": {},
   "outputs": [],
   "source": [
    "## TODO: add correlation metric in addition to RMSE ..."
   ]
  },
  {
   "cell_type": "code",
   "execution_count": null,
   "metadata": {
    "execution": {
     "iopub.execute_input": "2021-06-04T10:34:38.599087Z",
     "iopub.status.busy": "2021-06-04T10:34:38.598715Z",
     "iopub.status.idle": "2021-06-04T14:59:38.550339Z",
     "shell.execute_reply": "2021-06-04T14:59:38.547712Z",
     "shell.execute_reply.started": "2021-06-04T10:34:38.599043Z"
    }
   },
   "outputs": [
    {
     "name": "stdout",
     "output_type": "stream",
     "text": [
      "Now running: scenario 3 dominoes | model 212 CSWM_CSWM encoder_0.0_Contrastive_no_dominoes_Contrastive_0_no_dominoes_readout_C_dominoes_CSWM_results.csv| iteration 22 | elapsed time 48062.4 seconds\n"
     ]
    }
   ],
   "source": [
    "import time\n",
    "start_time = time.time()\n",
    "nIter = 100  ## num bootstrap iterations\n",
    "out_dict = {} ## initialize results dataframe\n",
    "\n",
    "for scenario_ind, scenario in enumerate(sorted(MD['Readout Test Data'].unique())):\n",
    "    \n",
    "    _MD = MD[MD['Readout Test Data'] == scenario]\n",
    "    _HD = HD[HD['scenarioName'] == scenario].sort_values('stim_ID')\n",
    "    \n",
    "    ## precompute indices for bootstrap resampling\n",
    "    gameIDs = np.unique(_HD.gameID.values)\n",
    "    idx = np.random.RandomState(123).randint(0,_HD.gameID.nunique(),size=(1000,_HD.gameID.nunique()))\n",
    "\n",
    "    for model_ind, model in enumerate(_MD['ModelID'].unique()):\n",
    "        #get responses of model        \n",
    "        _MD_model = _MD[_MD['ModelID'] == model]\n",
    "        _MD_model = _MD_model.sort_values('Canon Stimulus Name') #ensure same stim order \n",
    "        \n",
    "        for currIter in np.arange(nIter):\n",
    "            boot_games = gameIDs[idx[currIter]]\n",
    "            _HD_boot = []\n",
    "            for game in boot_games:\n",
    "                _HD_boot.append(_HD[_HD['gameID']==game])\n",
    "            _HD_boot = pd.concat(_HD_boot)            \n",
    "\n",
    "            ## get average human response vector (bootstrapped)\n",
    "            _HD_resp = _HD_boot.groupby('stim_ID')['responseBool'].mean().reset_index()\n",
    "            #in case the models have more or less responses compared to humans\n",
    "            human_stim_names = set(list(_HD['stim_ID']))\n",
    "            model_stim_names = set(list(_MD_model['Canon Stimulus Name']))\n",
    "            joint_stim_names = human_stim_names.intersection(model_stim_names)\n",
    "            if len(joint_stim_names) == 0:\n",
    "                print(\"⛔️ {} is missing all datapoints on {} human responses\".format(model, len(human_stim_names)),end=\"\\r\")\n",
    "                continue #ignore and move on\n",
    "            if len(human_stim_names) > len(joint_stim_names):\n",
    "                print(\"⚠️ {} is missing {} datapoints on {} human responses\".format(model,len(human_stim_names) - len(joint_stim_names), len(human_stim_names)),end=\"\\r\")\n",
    "\n",
    "            #subset both models to ensure only common stims are used\n",
    "            _MD_model = _MD_model[_MD_model['Canon Stimulus Name'].isin(joint_stim_names)]            \n",
    "            _HD_resp = _HD_resp[_HD_resp['stim_ID'].isin(joint_stim_names)]           \n",
    "            ## make sure order is exactly the same\n",
    "            assert len([i for (i,j) in zip(_MD_model['Canon Stimulus Name'].values, _HD_resp['stim_ID'].values) if i!=j])==0\n",
    "\n",
    "            ## extract human & model responses as arrays\n",
    "            model_responses = _MD_model['Predicted Prob_true'].values\n",
    "            human_responses = _HD_resp['responseBool'].values\n",
    "\n",
    "            ## compute RMSE per stimulus\n",
    "            RMSE = scipy.spatial.distance.euclidean(model_responses, human_responses) / len(model_responses)\n",
    "\n",
    "            out_dict[(scenario, model, currIter)] = {**{'scenario':scenario,\n",
    "                                                      'modelID': model,\n",
    "                                                      'bootstrap_ind': currIter,\n",
    "                                                      'RMSE':RMSE,\n",
    "                                                      'num_datapoints':len(model_responses)},\n",
    "                                                       **{col:_MD_model.head(1)[col].item() for col in MODEL_COLS+h.DATASET_ABSTRACTED_COLS} #save model ID info\n",
    "                                                  }\n",
    "            elapsed_time = np.round(time.time() - start_time,1)\n",
    "            print(\"Now running: scenario {} {} | model {} {}| iteration {} | elapsed time {} seconds\".format(scenario_ind, scenario, model_ind, model, currIter,elapsed_time))\n",
    "            clear_output(wait=True)        \n",
    "\n",
    "model_human_rmse_boot = pd.DataFrame(out_dict).transpose()  \n",
    "model_human_rmse_boot.columns = model_human_rmse_boot.columns.get_level_values(0) ## flatten multi-level index\n",
    "model_human_rmse_boot = model_human_rmse_boot.reset_index(drop=True) ## get rid of multi-level index\n",
    "model_human_rmse_boot = model_human_rmse_boot.assign(RMSE = pd.to_numeric(model_human_rmse_boot['RMSE']))\n",
    "model_human_rmse_boot.to_csv(os.path.join(csv_dir, 'summary','model_human_rmse_bootstrapped.csv'), index=False)\n",
    "print('Saved to file. Done!')"
   ]
  },
  {
   "cell_type": "code",
   "execution_count": null,
   "metadata": {},
   "outputs": [],
   "source": []
  },
  {
   "cell_type": "markdown",
   "metadata": {},
   "source": [
    "##### **Cohen's kappa**"
   ]
  },
  {
   "cell_type": "code",
   "execution_count": null,
   "metadata": {
    "execution": {
     "iopub.status.busy": "2021-06-04T14:59:38.551514Z",
     "iopub.status.idle": "2021-06-04T14:59:38.551967Z",
     "shell.execute_reply": "2021-06-04T14:59:38.551794Z"
    },
    "scrolled": true,
    "tags": []
   },
   "outputs": [],
   "source": [
    "import time\n",
    "start_time = time.time()\n",
    "\n",
    "out_dict = {}\n",
    "\n",
    "for scenario in sorted(MD['Readout Test Data'].unique()):\n",
    "    _MD = MD[MD['Readout Test Data'] == scenario]\n",
    "    _HD = HD[HD['scenarioName'] == scenario]\n",
    "    for model in _MD['ModelID'].unique():\n",
    "        measures_for_model = []\n",
    "        #get responses of model        \n",
    "        _MD_model = _MD[_MD['ModelID'] == model]\n",
    "        _MD_model = _MD_model.sort_values('Canon Stimulus Name') #ensure same stim order\n",
    "        #iterate over the 100 or so participants\n",
    "        for gameID in _HD['gameID'].unique():\n",
    "            #get one game\n",
    "            _HD_game = _HD[_HD['gameID']==gameID]\n",
    "            #ensure stim order\n",
    "            _HD_game = _HD_game.sort_values('stim_ID')\n",
    "            #in case the models have more or less responses compared to humans\n",
    "            human_stim_names = list(_HD_game['stim_ID'])\n",
    "            model_stim_names = list(_MD_model['Canon Stimulus Name'])\n",
    "            joint_stim_names = set(human_stim_names).intersection(set(model_stim_names))\n",
    "            if len(joint_stim_names) == 0:\n",
    "                print(\"⛔️ {} is missing all datapoints on {} human responses\".format(model, len(human_stim_names)),end=\"\\r\")\n",
    "                continue #ignore and move on\n",
    "            if len(human_stim_names) > len(joint_stim_names):\n",
    "                print(\"⚠️ {} is missing {} datapoints on {} human responses\".format(model,len(human_stim_names) - len(joint_stim_names), len(human_stim_names)),end=\"\\r\")\n",
    "            #subset both models to ensure only common stims are used\n",
    "            _MD_model = _MD_model[_MD_model['Canon Stimulus Name'].isin(joint_stim_names)]            \n",
    "            _HD_game = _HD_game[_HD_game['stim_ID'].isin(joint_stim_names)]\n",
    "            #pull response vector\n",
    "            human_responses = np.array(_HD_game['responseBool'].astype(int)) #get human response and cast to int\n",
    "            model_responses = np.array(_MD_model['Predicted Outcome'])\n",
    "#             assert list(model_stim_names) == list(human_stim_names), \"experimental and test stims don't match\"\n",
    "            assert len(model_responses) == len(human_responses), \"More than 1 observation per stimulus\"\n",
    "            # compute Cohen's kappa\n",
    "            measure = sklearn.metrics.cohen_kappa_score(model_responses,human_responses)\n",
    "            measures_for_model.append(measure)\n",
    "        if len(measures_for_model) == 0:\n",
    "            print(\"⛔️ {} is missing all datapoints on human responses\".format(model))\n",
    "            continue\n",
    "        # get percentiles over the range of measures\n",
    "        lb = np.percentile(measures_for_model, 2.5)\n",
    "        med = np.percentile(measures_for_model, 50)\n",
    "        ub = np.percentile(measures_for_model, 97.5)\n",
    "        out_dict[(scenario, model)] = {**{'scenario':scenario,\n",
    "                                       'Cohens_k_lb':lb,\n",
    "                                       'Cohens_k_med':med,\n",
    "                                       'Cohens_k_ub':ub,\n",
    "                                        'num_datapoints':len(measures_for_model)},\n",
    "                                      **{col:_MD_model.head(1)[col].item() for col in MODEL_COLS+h.DATASET_ABSTRACTED_COLS} #save model ID info\n",
    "                                      }\n",
    "    \n",
    "    elapsed_time = np.round(time.time() - start_time,1)\n",
    "    print(\"Now running: scenario {} | model {}| elapsed time {} seconds\".format(scenario, model, elapsed_time))\n",
    "    clear_output(wait=True)        \n",
    "\n",
    "model_human_CohensK = pd.DataFrame(out_dict).transpose()    \n",
    "model_human_CohensK.to_csv(os.path.join(csv_dir, 'summary','model_human_CohensK.csv'), index=False)\n",
    "print('Saved to file. Done!')"
   ]
  },
  {
   "cell_type": "code",
   "execution_count": null,
   "metadata": {
    "execution": {
     "iopub.status.busy": "2021-06-04T14:59:38.553129Z",
     "iopub.status.idle": "2021-06-04T14:59:38.553656Z",
     "shell.execute_reply": "2021-06-04T14:59:38.553490Z"
    },
    "tags": []
   },
   "outputs": [],
   "source": [
    "model_human_CohensK"
   ]
  },
  {
   "cell_type": "markdown",
   "metadata": {},
   "source": [
    "## Figures"
   ]
  },
  {
   "cell_type": "markdown",
   "metadata": {},
   "source": [
    "### Model/human figure\n",
    "Results: Mega bar plot(s)/tables of model accuracies and human response correlations[Eli/Judy/Felix]. Models (~16) x Training (3) x Readout (3) x Target (2) x Scenarios (8) = 144 bars per model. That’s a lot! Needs careful thinking about how to display.\n",
    "\n",
    "Essentially outer y axis is scenario, outer x is measure (accuracy, correlation, Cohens kappa). Inner y for each square is the measure, inner x is models. Filled out dots are full procedure, not-filled out is without dynamics prediction. Humans are a zone"
   ]
  },
  {
   "cell_type": "markdown",
   "metadata": {},
   "source": [
    "===Very work in progress==="
   ]
  },
  {
   "cell_type": "code",
   "execution_count": null,
   "metadata": {
    "execution": {
     "iopub.status.busy": "2021-06-04T14:59:38.554730Z",
     "iopub.status.idle": "2021-06-04T14:59:38.555305Z",
     "shell.execute_reply": "2021-06-04T14:59:38.555092Z"
    },
    "tags": []
   },
   "outputs": [],
   "source": [
    "model_human_accuracies"
   ]
  },
  {
   "cell_type": "code",
   "execution_count": null,
   "metadata": {
    "execution": {
     "iopub.status.busy": "2021-06-04T14:59:38.556608Z",
     "iopub.status.idle": "2021-06-04T14:59:38.557303Z",
     "shell.execute_reply": "2021-06-04T14:59:38.557026Z"
    },
    "tags": []
   },
   "outputs": [],
   "source": [
    "MD['Dynamics Training Dataset Type'].unique()"
   ]
  },
  {
   "cell_type": "code",
   "execution_count": null,
   "metadata": {
    "execution": {
     "iopub.status.busy": "2021-06-04T14:59:38.559164Z",
     "iopub.status.idle": "2021-06-04T14:59:38.559549Z",
     "shell.execute_reply": "2021-06-04T14:59:38.559368Z"
    },
    "tags": []
   },
   "outputs": [],
   "source": [
    "READOUTS = [(\"C\",\"full\"),\n",
    "            (\"B\",\"none\")]\n",
    "\n",
    "TRAININGS = [\n",
    "    ('all_but_this',\"^\"),\n",
    "    ('all',\"s\"),\n",
    "    ('same',\"o\")\n",
    "]"
   ]
  },
  {
   "cell_type": "code",
   "execution_count": null,
   "metadata": {
    "execution": {
     "iopub.status.busy": "2021-06-04T14:59:38.560967Z",
     "iopub.status.idle": "2021-06-04T14:59:38.561553Z",
     "shell.execute_reply": "2021-06-04T14:59:38.561276Z"
    },
    "tags": []
   },
   "outputs": [],
   "source": [
    "#set up color map over models\n",
    "from matplotlib import cm\n",
    "\n",
    "#cmap = cm.tab20.colors ## not enough colors\n",
    "turbo = cm.get_cmap('turbo', 22)\n",
    "cmap = turbo(np.linspace(0, 1, 22))"
   ]
  },
  {
   "cell_type": "code",
   "execution_count": null,
   "metadata": {
    "execution": {
     "iopub.status.busy": "2021-06-04T14:59:38.562906Z",
     "iopub.status.idle": "2021-06-04T14:59:38.563517Z",
     "shell.execute_reply": "2021-06-04T14:59:38.563249Z"
    },
    "tags": []
   },
   "outputs": [],
   "source": [
    "fig, axes = plt.subplots(len(MD['Readout Test Data'].unique()),3, figsize=(40,40), sharex=True, sharey=False)\n",
    "\n",
    "models = sorted(MD['Model Kind'].unique())\n",
    "\n",
    "for outer_y, scenario in enumerate(sorted(MD['Readout Test Data'].unique())):\n",
    "    # ———accuracy plot———\n",
    "    axis = axes[outer_y,0]\n",
    "    axis.set_title(scenario + \" accuracy\")\n",
    "    #plot human zone\n",
    "    human_row = human_bootstrapped_accuracy[human_bootstrapped_accuracy['scenario'] == scenario]\n",
    "    lb = float(human_row['ci_lb'])\n",
    "    ub = float(human_row['ci_ub'])\n",
    "    mean = float(human_row['obs_mean'])\n",
    "    axis.axhspan(lb,ub,color=(.8,.9,1))\n",
    "    axis.set_xticks(np.arange(len(models)))\n",
    "    axis.set_xticklabels(models,rotation=90)\n",
    "    \n",
    "    #plot models\n",
    "    for x,model in enumerate(models):\n",
    "        #get relevant rows\n",
    "        rows = model_human_accuracies[(model_human_accuracies['Model Kind'] == model) & (model_human_accuracies['scenario'] == scenario)]\n",
    "        for readout,fill in READOUTS:\n",
    "            for i,(training,symbol) in enumerate(TRAININGS):\n",
    "                row = rows[(rows['Readout Type']==readout) & (rows['Dynamics Training Dataset Type'] == training)]\n",
    "                if len(row) > 0: #do we have something to plot?\n",
    "                    assert len(row) == 1, \"More than one entry for specific agent\"\n",
    "                    lb = row['model_correct']\n",
    "                    ub = row['model_correct']\n",
    "                    measure = row['model_correct']\n",
    "                    ub = abs(ub - measure)\n",
    "                    lb = abs(lb - measure)\n",
    "                    axis.errorbar(x+(i*.333)+(fill==\"none\")*.166,measure,(lb,ub),marker=symbol,fillstyle=fill,label=model,color=cmap[x])\n",
    "        axis.set_ybound([0,1])\n",
    "    \n",
    "    # ———correlation plot———\n",
    "#     axis = axes[outer_y,1]\n",
    "#     axis.set_title(scenario + \" correlation\")\n",
    "#     #plot human zone\n",
    "#     human_row = human_boot_corr[human_boot_corr['scenario'] == scenario]\n",
    "#     lb = float(human_row['corr_lb'])\n",
    "#     ub = float(human_row['corr_ub'])\n",
    "#     mean = float(human_row['corr_med'])\n",
    "#     axis.axhspan(lb,ub,color=(.8,.9,1))\n",
    "#     axis.set_xticks(np.arange(len(models)))\n",
    "#     axis.set_xticklabels(models,rotation=90)\n",
    "\n",
    "    #plot models\n",
    "#     for x,model in enumerate(models):\n",
    "#         #get relevant rows\n",
    "#         rows = model_human_rmse[(model_human_rmse['Model Kind'] == model) & (model_human_rmse['scenario'] == scenario)]\n",
    "#         for readout,fill in READOUTS:\n",
    "#             for i,(training,symbol) in enumerate(TRAININGS):\n",
    "#                 row = rows[(rows['Readout Type']==readout) & (rows['Dynamics Training Dataset Type'] == training)]\n",
    "#                 if len(row) > 0: #do we have something to plot?\n",
    "#                     assert len(row) == 1, \"More than one entry for specific agent\"\n",
    "#                     lb = row['corr_lb']\n",
    "#                     ub = row['corr_ub']\n",
    "#                     measure = row['corr_med']\n",
    "#                     ub = abs(ub - measure)\n",
    "#                     lb = abs(lb - measure)\n",
    "#                     axis.errorbar(x+(i*.333)+(fill==\"none\")*.166,measure,(lb,ub),marker=symbol,fillstyle=fill,label=model,color=cmap[x])\n",
    "#         axis.set_ybound([0,1])\n",
    "        \n",
    "    \n",
    "    # ———Cohens'k plot———\n",
    "    axis = axes[outer_y,2]\n",
    "    axis.set_title(scenario + \" Cohen's kappa\")\n",
    "    #plot human zone\n",
    "    human_row = human_boot_cohenk[human_boot_cohenk['scenario'] == scenario]\n",
    "    lb = float(human_row['corr_lb'])\n",
    "    ub = float(human_row['corr_ub'])\n",
    "    mean = float(human_row['corr_med'])\n",
    "    axis.axhspan(lb,ub,color=(.8,.9,1))\n",
    "    axis.set_xticks(np.arange(len(models)))\n",
    "    axis.set_xticklabels(models,rotation=90)\n",
    "\n",
    "    #plot models\n",
    "    for x,model in enumerate(models):\n",
    "        #get relevant rows\n",
    "        rows = model_human_CohensK[(model_human_CohensK['Model Kind'] == model) & (model_human_CohensK['scenario'] == scenario)]\n",
    "        for readout,fill in READOUTS:\n",
    "            for i,(training,symbol) in enumerate(TRAININGS):\n",
    "                row = rows[(rows['Readout Type']==readout) & (rows['Dynamics Training Dataset Type'] == training)]\n",
    "                if len(row) > 0: #do we have something to plot?\n",
    "                    assert len(row) == 1, \"More than one entry for specific agent\"\n",
    "                    lb = row['Cohens_k_lb']\n",
    "                    ub = row['Cohens_k_ub']\n",
    "                    measure = row['Cohens_k_med']\n",
    "                    ub = abs(ub - measure)\n",
    "                    lb = abs(lb - measure)\n",
    "                    axis.errorbar(x+(i*.333)+(fill==\"none\")*.166,measure,(lb,ub),marker=symbol,fillstyle=fill,color=cmap[x])\n",
    "        axis.set_ybound([-.25\n",
    "                         ,1])"
   ]
  },
  {
   "cell_type": "code",
   "execution_count": null,
   "metadata": {
    "execution": {
     "iopub.status.busy": "2021-06-04T14:59:38.565004Z",
     "iopub.status.idle": "2021-06-04T14:59:38.565562Z",
     "shell.execute_reply": "2021-06-04T14:59:38.565241Z"
    }
   },
   "outputs": [],
   "source": [
    "human_bootstrapped_accuracy"
   ]
  },
  {
   "cell_type": "code",
   "execution_count": null,
   "metadata": {
    "execution": {
     "iopub.status.busy": "2021-06-04T14:59:38.567056Z",
     "iopub.status.idle": "2021-06-04T14:59:38.567402Z",
     "shell.execute_reply": "2021-06-04T14:59:38.567237Z"
    }
   },
   "outputs": [],
   "source": [
    "model_human_rmse"
   ]
  },
  {
   "cell_type": "code",
   "execution_count": null,
   "metadata": {},
   "outputs": [],
   "source": []
  }
 ],
 "metadata": {
  "kernelspec": {
   "display_name": "Python [conda env:tdw]",
   "language": "python",
   "name": "conda-env-tdw-py"
  },
  "language_info": {
   "codemirror_mode": {
    "name": "ipython",
    "version": 3
   },
   "file_extension": ".py",
   "mimetype": "text/x-python",
   "name": "python",
   "nbconvert_exporter": "python",
   "pygments_lexer": "ipython3",
   "version": "3.9.2"
  },
  "widgets": {
   "application/vnd.jupyter.widget-state+json": {
    "state": {},
    "version_major": 2,
    "version_minor": 0
   }
  }
 },
 "nbformat": 4,
 "nbformat_minor": 4
}
