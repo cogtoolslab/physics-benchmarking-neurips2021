{
 "cells": [
  {
   "cell_type": "markdown",
   "id": "eff2255d-94ee-4c28-8eff-ba73fa95cf0d",
   "metadata": {},
   "source": [
    "# Demographics\n",
    "We use demographic data exported from prolific, cross-referenced with the sessionIDs from `analysis_plots.ipynb`"
   ]
  },
  {
   "cell_type": "code",
   "execution_count": null,
   "id": "8c4f5ffd-9a4c-420d-bccd-3af5b5c9ad1b",
   "metadata": {
    "tags": []
   },
   "outputs": [],
   "source": [
    "import os\n",
    "import sys\n",
    "import urllib, io\n",
    "os.getcwd()\n",
    "sys.path.append(\"..\")\n",
    "sys.path.append(\"../utils\")\n",
    "sys.path.append(\"../analysis/utils\")\n",
    "\n",
    "\n",
    "import numpy as np\n",
    "import scipy.stats as stats\n",
    "import pandas as pd\n",
    "\n",
    "import pymongo as pm\n",
    "from collections import Counter\n",
    "import json\n",
    "import re\n",
    "import ast\n",
    "\n",
    "from PIL import Image, ImageOps, ImageDraw, ImageFont \n",
    "\n",
    "from io import BytesIO\n",
    "import base64\n",
    "\n",
    "from tqdm.notebook import tqdm\n",
    "\n",
    "import  matplotlib\n",
    "from matplotlib import pylab, mlab, pyplot\n",
    "import matplotlib.pyplot as plt\n",
    "%matplotlib inline\n",
    "from IPython.core.pylabtools import figsize, getfigs\n",
    "plt = pyplot\n",
    "import matplotlib as mpl\n",
    "mpl.rcParams['pdf.fonttype'] = 42\n",
    "plt.style.use('seaborn-white')\n",
    "\n",
    "import seaborn as sns\n",
    "sns.set_context('talk')\n",
    "sns.set_style('darkgrid')\n",
    "%matplotlib inline\n",
    "\n",
    "import scipy.stats\n",
    "import random\n",
    "\n",
    "from IPython.display import clear_output\n",
    "\n",
    "import warnings\n",
    "warnings.filterwarnings(\"ignore\", category=DeprecationWarning)\n",
    "warnings.filterwarnings(\"ignore\", message=\"numpy.dtype size changed\")\n",
    "warnings.filterwarnings(\"ignore\", message=\"numpy.ufunc size changed\")"
   ]
  },
  {
   "cell_type": "code",
   "execution_count": null,
   "id": "e278f9e9-d373-4209-b9af-ba7a70b00769",
   "metadata": {
    "tags": []
   },
   "outputs": [],
   "source": [
    "#display all columns\n",
    "pd.set_option('display.max_columns', None)"
   ]
  },
  {
   "cell_type": "markdown",
   "id": "34f32c9c-d8fc-4e9f-a8ec-c6244fd267c1",
   "metadata": {},
   "source": [
    "## Theming"
   ]
  },
  {
   "cell_type": "code",
   "execution_count": null,
   "id": "30bf78a8-5f43-4488-b6ed-5b405bd2803f",
   "metadata": {
    "tags": []
   },
   "outputs": [],
   "source": [
    "sns.set_style(\"white\")"
   ]
  },
  {
   "cell_type": "markdown",
   "id": "bca5308f-313d-4026-8f15-5d04f4e745aa",
   "metadata": {},
   "source": [
    "### Helper functions"
   ]
  },
  {
   "cell_type": "code",
   "execution_count": null,
   "id": "0a49d19e-97c7-42b7-8ae2-34547a786c84",
   "metadata": {
    "tags": []
   },
   "outputs": [],
   "source": [
    "#helper function for pd.agg\n",
    "def item(x):\n",
    "    \"\"\"Returns representative single item\"\"\"\n",
    "    return x.tail(1).item()"
   ]
  },
  {
   "cell_type": "markdown",
   "id": "e2565ff2-a537-4bc2-bd44-28b666c34627",
   "metadata": {},
   "source": [
    "### Set up directory paths to plots and data"
   ]
  },
  {
   "cell_type": "code",
   "execution_count": null,
   "id": "c88ffb4e-2910-4dc2-8e24-4f0f8e4ace48",
   "metadata": {
    "tags": []
   },
   "outputs": [],
   "source": [
    "## directory & file hierarchy\n",
    "proj_dir = os.path.abspath('..')\n",
    "datavol_dir = os.path.join(proj_dir,'data')\n",
    "analysis_dir =  os.path.abspath('.')\n",
    "results_dir = os.path.join(proj_dir,'results')\n",
    "plot_dir = os.path.join(results_dir,'plots')\n",
    "csv_dir = os.path.join(results_dir,'csv')\n",
    "json_dir = os.path.join(results_dir,'json')\n",
    "exp_dir = os.path.abspath(os.path.join(proj_dir,'behavioral_experiments'))\n",
    "png_dir = os.path.abspath(os.path.join(datavol_dir,'png'))\n",
    "\n",
    "## add helpers to python path\n",
    "if os.path.join(proj_dir,'stimuli') not in sys.path:\n",
    "    sys.path.append(os.path.join(proj_dir,'stimuli'))\n",
    "    \n",
    "if not os.path.exists(results_dir):\n",
    "    os.makedirs(results_dir)\n",
    "    \n",
    "if not os.path.exists(plot_dir):\n",
    "    os.makedirs(plot_dir)   \n",
    "    \n",
    "if not os.path.exists(csv_dir):\n",
    "    os.makedirs(csv_dir)       \n",
    "    \n",
    "## add helpers to python path\n",
    "if os.path.join(proj_dir,'utils') not in sys.path:\n",
    "    sys.path.append(os.path.join(proj_dir,'utils'))   \n",
    "\n",
    "def make_dir_if_not_exists(dir_name):   \n",
    "    if not os.path.exists(dir_name):\n",
    "        os.makedirs(dir_name)\n",
    "    return dir_name\n",
    "\n",
    "## create directories that don't already exist        \n",
    "result = [make_dir_if_not_exists(x) for x in [results_dir,plot_dir,csv_dir]]"
   ]
  },
  {
   "cell_type": "markdown",
   "id": "f12cc6b0-ee7e-4b9c-bdf6-8d9bfe365349",
   "metadata": {},
   "source": [
    "## Loading data"
   ]
  },
  {
   "cell_type": "code",
   "execution_count": null,
   "id": "2d56e49a-c1ab-47a7-ae7c-324d47930656",
   "metadata": {},
   "outputs": [],
   "source": [
    "files = [\n",
    "\"prolific_export_clothiness.csv\",\n",
    "\"prolific_export_collision.csv\",\n",
    "\"prolific_export_containment.csv\",\n",
    "\"prolific_export_dominoes.csv\",\n",
    "\"prolific_export_drop.csv\",\n",
    "\"prolific_export_linking.csv\",\n",
    "\"prolific_export_rollingsliding.csv\",\n",
    "\"prolific_export_towers.csv\"\n",
    "]"
   ]
  },
  {
   "cell_type": "code",
   "execution_count": null,
   "id": "89907552-720e-42b0-aacb-a8ccfe641ffa",
   "metadata": {
    "tags": []
   },
   "outputs": [],
   "source": [
    "#load all experiments as one dataframe\n",
    "df = pd.concat([pd.read_csv(os.path.join(csv_dir,f)) for f in files])\n",
    "print(\"Loaded dataframes.\",len(df),\"entries\")"
   ]
  },
  {
   "cell_type": "markdown",
   "id": "8c16d5ac-07f6-4aab-9bff-7bbec0f8e29a",
   "metadata": {
    "execution": {
     "iopub.execute_input": "2021-05-29T16:55:02.376244Z",
     "iopub.status.busy": "2021-05-29T16:55:02.375940Z",
     "iopub.status.idle": "2021-05-29T16:55:02.422920Z",
     "shell.execute_reply": "2021-05-29T16:55:02.422262Z",
     "shell.execute_reply.started": "2021-05-29T16:55:02.376210Z"
    },
    "tags": []
   },
   "source": [
    "Cross-reference with good sessionIDs"
   ]
  },
  {
   "cell_type": "code",
   "execution_count": null,
   "id": "5e994c60-d312-45f9-aa1a-03e3c94ced7f",
   "metadata": {
    "tags": []
   },
   "outputs": [],
   "source": [
    "sessionIDs = pd.read_csv(os.path.join(csv_dir,\"sessionIDs.csv\"))['0']"
   ]
  },
  {
   "cell_type": "code",
   "execution_count": null,
   "id": "f39f9814-1651-4041-807b-0c5e1f9ebba1",
   "metadata": {
    "tags": []
   },
   "outputs": [],
   "source": [
    "df = df[df['session_id'].isin(sessionIDs)]\n",
    "print(len(df),\"entries left\")"
   ]
  },
  {
   "cell_type": "markdown",
   "id": "69eab71f-d537-4383-a143-a32ccd869059",
   "metadata": {},
   "source": [
    "## Analysis"
   ]
  },
  {
   "cell_type": "code",
   "execution_count": null,
   "id": "6a34788c-34ae-457e-95f9-23f1dc049c4f",
   "metadata": {
    "tags": []
   },
   "outputs": [],
   "source": [
    "list(df.columns)"
   ]
  },
  {
   "cell_type": "code",
   "execution_count": null,
   "id": "6ffe47db-f12b-452e-b5b4-05ca22c237d6",
   "metadata": {
    "tags": []
   },
   "outputs": [],
   "source": [
    "df"
   ]
  },
  {
   "cell_type": "code",
   "execution_count": null,
   "id": "f932df1d-d767-42ec-89d0-9b5f37d5bb78",
   "metadata": {
    "tags": []
   },
   "outputs": [],
   "source": [
    "df['age'].mean()"
   ]
  },
  {
   "cell_type": "code",
   "execution_count": null,
   "id": "1d28af9a-2650-4ff4-af1f-7099b0a4dee5",
   "metadata": {
    "tags": []
   },
   "outputs": [],
   "source": [
    "df['Sex'].value_counts()"
   ]
  },
  {
   "cell_type": "code",
   "execution_count": null,
   "id": "1324d2d9-e67b-44d2-b5aa-64fcd2651e27",
   "metadata": {
    "tags": []
   },
   "outputs": [],
   "source": [
    "df['Current Country of Residence'].value_counts()"
   ]
  },
  {
   "cell_type": "code",
   "execution_count": null,
   "id": "187fbc72-114e-4615-ae9f-5990a4e7deb8",
   "metadata": {
    "tags": []
   },
   "outputs": [],
   "source": [
    "df['Country of Birth'].value_counts()"
   ]
  },
  {
   "cell_type": "code",
   "execution_count": null,
   "id": "14e59fe9-6d5e-4ad1-b6f4-1bd8b5be1e28",
   "metadata": {
    "tags": []
   },
   "outputs": [],
   "source": [
    "df['Student Status'].value_counts()"
   ]
  }
 ],
 "metadata": {
  "kernelspec": {
   "display_name": "Python [conda env:tools_bc]",
   "language": "python",
   "name": "conda-env-tools_bc-py"
  },
  "language_info": {
   "codemirror_mode": {
    "name": "ipython",
    "version": 3
   },
   "file_extension": ".py",
   "mimetype": "text/x-python",
   "name": "python",
   "nbconvert_exporter": "python",
   "pygments_lexer": "ipython3",
   "version": "3.6.9"
  },
  "widgets": {
   "application/vnd.jupyter.widget-state+json": {
    "state": {},
    "version_major": 2,
    "version_minor": 0
   }
  }
 },
 "nbformat": 4,
 "nbformat_minor": 5
}
