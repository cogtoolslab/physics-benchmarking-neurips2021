{
 "cells": [
  {
   "cell_type": "markdown",
   "id": "8a8658a9-23eb-415b-a90e-6c67cbfd18ee",
   "metadata": {},
   "source": [
    "# Excluding familiarization trials\n",
    "Use this notebook to generate a list of excluded game IDs\n",
    "\n",
    "**Criteria**:\n",
    "* are correct for fewer than 4 out of 10 familiarization trials (i.e., 30% correct or lower)"
   ]
  },
  {
   "cell_type": "markdown",
   "id": "31f0f2d0-7559-4936-8a8a-e353382225a9",
   "metadata": {},
   "source": [
    "## setup"
   ]
  },
  {
   "cell_type": "markdown",
   "id": "7b09133a-ae4b-403f-a32a-5c3ac3f5c6e4",
   "metadata": {},
   "source": [
    "#### Load packages"
   ]
  },
  {
   "cell_type": "code",
   "execution_count": 1,
   "id": "98b1c157-13df-463a-ab0d-ec1e2322815b",
   "metadata": {
    "execution": {
     "iopub.execute_input": "2021-06-04T00:10:57.297321Z",
     "iopub.status.busy": "2021-06-04T00:10:57.296986Z",
     "iopub.status.idle": "2021-06-04T00:10:59.089668Z",
     "shell.execute_reply": "2021-06-04T00:10:59.088755Z",
     "shell.execute_reply.started": "2021-06-04T00:10:57.297229Z"
    },
    "tags": []
   },
   "outputs": [],
   "source": [
    "import os\n",
    "import sys\n",
    "import urllib, io\n",
    "\n",
    "sys.path.append('./analysis_helpers')\n",
    "from importlib import reload\n",
    "\n",
    "import numpy as np\n",
    "import scipy.stats as stats\n",
    "import pandas as pd\n",
    "\n",
    "import analysis_helpers as h\n",
    "\n",
    "import pymongo as pm\n",
    "from collections import Counter\n",
    "import json\n",
    "import re\n",
    "import ast\n",
    "\n",
    "from PIL import Image, ImageOps, ImageDraw, ImageFont \n",
    "\n",
    "from io import BytesIO\n",
    "import base64\n",
    "\n",
    "from tqdm.notebook import tqdm\n",
    "\n",
    "import  matplotlib\n",
    "from matplotlib import pylab, mlab, pyplot\n",
    "import matplotlib.pyplot as plt\n",
    "%matplotlib inline\n",
    "from IPython.core.pylabtools import figsize, getfigs\n",
    "plt = pyplot\n",
    "import matplotlib as mpl\n",
    "mpl.rcParams['pdf.fonttype'] = 42\n",
    "plt.style.use('seaborn-white')\n",
    "\n",
    "import seaborn as sns\n",
    "\n",
    "%matplotlib inline\n",
    "import scipy.stats\n",
    "import sklearn.metrics\n",
    "import random\n",
    "\n",
    "from IPython.display import clear_output\n",
    "\n",
    "import warnings\n",
    "warnings.filterwarnings(\"ignore\", category=DeprecationWarning)\n",
    "warnings.filterwarnings(\"ignore\", message=\"numpy.dtype size changed\")\n",
    "warnings.filterwarnings(\"ignore\", message=\"numpy.ufunc size changed\")"
   ]
  },
  {
   "cell_type": "markdown",
   "id": "9fa0cd28-ccd7-49b6-bbf8-3024b34aa0b9",
   "metadata": {},
   "source": [
    "#### options"
   ]
  },
  {
   "cell_type": "code",
   "execution_count": 2,
   "id": "9b405178-55b4-4a33-98fb-f9af28d62706",
   "metadata": {
    "execution": {
     "iopub.execute_input": "2021-06-04T00:10:59.091315Z",
     "iopub.status.busy": "2021-06-04T00:10:59.091075Z",
     "iopub.status.idle": "2021-06-04T00:10:59.095922Z",
     "shell.execute_reply": "2021-06-04T00:10:59.094810Z",
     "shell.execute_reply.started": "2021-06-04T00:10:59.091292Z"
    },
    "tags": []
   },
   "outputs": [],
   "source": [
    "# display all columns\n",
    "pd.set_option('display.max_columns', None)\n",
    "\n",
    "# seaborn plotting themes\n",
    "sns.set_context('talk')\n",
    "sns.set_style(\"whitegrid\")"
   ]
  },
  {
   "cell_type": "markdown",
   "id": "68c51ff4-02a6-4a64-b1cd-419ca0fb0bb6",
   "metadata": {},
   "source": [
    "#### set up paths and directories"
   ]
  },
  {
   "cell_type": "code",
   "execution_count": 3,
   "id": "97e064d4-9d41-44f2-a087-8560355db1ed",
   "metadata": {
    "execution": {
     "iopub.execute_input": "2021-06-04T00:10:59.098874Z",
     "iopub.status.busy": "2021-06-04T00:10:59.098640Z",
     "iopub.status.idle": "2021-06-04T00:10:59.108074Z",
     "shell.execute_reply": "2021-06-04T00:10:59.107464Z",
     "shell.execute_reply.started": "2021-06-04T00:10:59.098852Z"
    },
    "tags": []
   },
   "outputs": [],
   "source": [
    "## directory & file hierarchy\n",
    "proj_dir = os.path.abspath('..')\n",
    "datavol_dir = os.path.join(proj_dir,'data')\n",
    "analysis_dir =  os.path.abspath('.')\n",
    "results_dir = os.path.join(proj_dir,'results')\n",
    "plot_dir = os.path.join(results_dir,'plots')\n",
    "csv_dir = os.path.join(results_dir,'csv')\n",
    "json_dir = os.path.join(results_dir,'json')\n",
    "exp_dir = os.path.abspath(os.path.join(proj_dir,'behavioral_experiments'))\n",
    "png_dir = os.path.abspath(os.path.join(datavol_dir,'png'))\n",
    "\n",
    "## add helpers to python path\n",
    "if os.path.join(proj_dir,'stimuli') not in sys.path:\n",
    "    sys.path.append(os.path.join(proj_dir,'stimuli'))\n",
    "    \n",
    "if not os.path.exists(results_dir):\n",
    "    os.makedirs(results_dir)\n",
    "    \n",
    "if not os.path.exists(plot_dir):\n",
    "    os.makedirs(plot_dir)   \n",
    "    \n",
    "if not os.path.exists(csv_dir):\n",
    "    os.makedirs(csv_dir)       \n",
    "    \n",
    "## add helpers to python path\n",
    "if os.path.join(analysis_dir,'utils') not in sys.path:\n",
    "    sys.path.append(os.path.join(analysis_dir,'utils'))   \n",
    "\n",
    "def make_dir_if_not_exists(dir_name):   \n",
    "    if not os.path.exists(dir_name):\n",
    "        os.makedirs(dir_name)\n",
    "    return dir_name\n",
    "\n",
    "## create directories that don't already exist        \n",
    "result = [make_dir_if_not_exists(x) for x in [results_dir,plot_dir,csv_dir]]"
   ]
  },
  {
   "cell_type": "markdown",
   "id": "7dd7a82e-504a-462b-9be4-3c5e7ae88e5a",
   "metadata": {},
   "source": [
    "### load human data"
   ]
  },
  {
   "cell_type": "code",
   "execution_count": 4,
   "id": "78d15245-ab8a-4385-a220-11b9b1f2acdf",
   "metadata": {
    "execution": {
     "iopub.execute_input": "2021-06-04T00:11:07.321187Z",
     "iopub.status.busy": "2021-06-04T00:11:07.320942Z",
     "iopub.status.idle": "2021-06-04T00:11:07.337108Z",
     "shell.execute_reply": "2021-06-04T00:11:07.336165Z",
     "shell.execute_reply.started": "2021-06-04T00:11:07.321165Z"
    },
    "tags": []
   },
   "outputs": [
    {
     "data": {
      "text/html": [
       "<div>\n",
       "<style scoped>\n",
       "    .dataframe tbody tr th:only-of-type {\n",
       "        vertical-align: middle;\n",
       "    }\n",
       "\n",
       "    .dataframe tbody tr th {\n",
       "        vertical-align: top;\n",
       "    }\n",
       "\n",
       "    .dataframe thead th {\n",
       "        text-align: right;\n",
       "    }\n",
       "</style>\n",
       "<table border=\"1\" class=\"dataframe\">\n",
       "  <thead>\n",
       "    <tr style=\"text-align: right;\">\n",
       "      <th></th>\n",
       "      <th>study</th>\n",
       "      <th>bucket_name</th>\n",
       "      <th>stim_version</th>\n",
       "      <th>iterationName</th>\n",
       "    </tr>\n",
       "  </thead>\n",
       "  <tbody>\n",
       "    <tr>\n",
       "      <th>0</th>\n",
       "      <td>dominoes_pilot</td>\n",
       "      <td>human-physics-benchmarking-dominoes-pilot</td>\n",
       "      <td>production_1</td>\n",
       "      <td>production_1_testing</td>\n",
       "    </tr>\n",
       "    <tr>\n",
       "      <th>1</th>\n",
       "      <td>collision_pilot</td>\n",
       "      <td>human-physics-benchmarking-collision-pilot</td>\n",
       "      <td>production_2</td>\n",
       "      <td>production_2_testing</td>\n",
       "    </tr>\n",
       "    <tr>\n",
       "      <th>2</th>\n",
       "      <td>towers_pilot</td>\n",
       "      <td>human-physics-benchmarking-towers-pilot</td>\n",
       "      <td>production_2</td>\n",
       "      <td>production_2_testing</td>\n",
       "    </tr>\n",
       "    <tr>\n",
       "      <th>3</th>\n",
       "      <td>linking_pilot</td>\n",
       "      <td>human-physics-benchmarking-linking-pilot</td>\n",
       "      <td>production_2</td>\n",
       "      <td>production_2_testing</td>\n",
       "    </tr>\n",
       "    <tr>\n",
       "      <th>4</th>\n",
       "      <td>containment_pilot</td>\n",
       "      <td>human-physics-benchmarking-containment-pilot</td>\n",
       "      <td>production_2</td>\n",
       "      <td>production_2_testing</td>\n",
       "    </tr>\n",
       "    <tr>\n",
       "      <th>5</th>\n",
       "      <td>rollingsliding_pilot</td>\n",
       "      <td>human-physics-benchmarking-rollingsliding-pilot</td>\n",
       "      <td>production_2</td>\n",
       "      <td>production_2_testing</td>\n",
       "    </tr>\n",
       "    <tr>\n",
       "      <th>6</th>\n",
       "      <td>drop_pilot</td>\n",
       "      <td>human-physics-benchmarking-drop-pilot</td>\n",
       "      <td>production_2</td>\n",
       "      <td>production_2_testing</td>\n",
       "    </tr>\n",
       "    <tr>\n",
       "      <th>7</th>\n",
       "      <td>clothiness_pilot</td>\n",
       "      <td>human-physics-benchmarking-clothiness-pilot</td>\n",
       "      <td>production_2</td>\n",
       "      <td>production_2_testing</td>\n",
       "    </tr>\n",
       "  </tbody>\n",
       "</table>\n",
       "</div>"
      ],
      "text/plain": [
       "                  study                                      bucket_name  \\\n",
       "0        dominoes_pilot        human-physics-benchmarking-dominoes-pilot   \n",
       "1       collision_pilot       human-physics-benchmarking-collision-pilot   \n",
       "2          towers_pilot          human-physics-benchmarking-towers-pilot   \n",
       "3         linking_pilot         human-physics-benchmarking-linking-pilot   \n",
       "4     containment_pilot     human-physics-benchmarking-containment-pilot   \n",
       "5  rollingsliding_pilot  human-physics-benchmarking-rollingsliding-pilot   \n",
       "6            drop_pilot            human-physics-benchmarking-drop-pilot   \n",
       "7      clothiness_pilot      human-physics-benchmarking-clothiness-pilot   \n",
       "\n",
       "   stim_version         iterationName  \n",
       "0  production_1  production_1_testing  \n",
       "1  production_2  production_2_testing  \n",
       "2  production_2  production_2_testing  \n",
       "3  production_2  production_2_testing  \n",
       "4  production_2  production_2_testing  \n",
       "5  production_2  production_2_testing  \n",
       "6  production_2  production_2_testing  \n",
       "7  production_2  production_2_testing  "
      ]
     },
     "execution_count": 4,
     "metadata": {},
     "output_type": "execute_result"
    }
   ],
   "source": [
    "from experiment_meta import *\n",
    "HEM = pd.DataFrame(NEURIPS2021_EXPS) # HEM = \"human experiment metadata\"\n",
    "HEM"
   ]
  },
  {
   "cell_type": "code",
   "execution_count": 5,
   "id": "f02b5a85-2fc0-4ef3-aea3-08445818e32a",
   "metadata": {
    "execution": {
     "iopub.execute_input": "2021-06-04T00:11:07.475975Z",
     "iopub.status.busy": "2021-06-04T00:11:07.475750Z",
     "iopub.status.idle": "2021-06-04T00:11:07.480831Z",
     "shell.execute_reply": "2021-06-04T00:11:07.479817Z",
     "shell.execute_reply.started": "2021-06-04T00:11:07.475954Z"
    },
    "tags": []
   },
   "outputs": [],
   "source": [
    "SCENARIOS = sorted([n.split(\"_\")[0] for n in HEM['study'].unique()])"
   ]
  },
  {
   "cell_type": "code",
   "execution_count": 7,
   "id": "92dd875c-9882-44ee-a11c-02e1f19f430f",
   "metadata": {
    "execution": {
     "iopub.execute_input": "2021-06-04T00:11:45.582973Z",
     "iopub.status.busy": "2021-06-04T00:11:45.582726Z",
     "iopub.status.idle": "2021-06-04T00:11:45.588544Z",
     "shell.execute_reply": "2021-06-04T00:11:45.587598Z",
     "shell.execute_reply.started": "2021-06-04T00:11:45.582943Z"
    },
    "tags": []
   },
   "outputs": [],
   "source": [
    "## get paths to all human response data\n",
    "data_paths = [os.path.join(csv_dir,'humans',i) for i in os.listdir(os.path.join(csv_dir,'humans'))]\n",
    "resp_paths = [i for i in data_paths if i.split('/')[-1].split('-')[0]=='familiarization_human_responses']\n",
    "assert len(resp_paths)==8"
   ]
  },
  {
   "cell_type": "code",
   "execution_count": 9,
   "id": "b790277b-6452-4368-855c-984f46ac150d",
   "metadata": {
    "execution": {
     "iopub.execute_input": "2021-06-04T00:12:09.931192Z",
     "iopub.status.busy": "2021-06-04T00:12:09.930860Z",
     "iopub.status.idle": "2021-06-04T00:12:10.323443Z",
     "shell.execute_reply": "2021-06-04T00:12:10.322480Z",
     "shell.execute_reply.started": "2021-06-04T00:12:09.931166Z"
    },
    "tags": []
   },
   "outputs": [
    {
     "name": "stdout",
     "output_type": "stream",
     "text": [
      "Loaded 8030 lines\n"
     ]
    }
   ],
   "source": [
    "## also load all human data into a big dataframe\n",
    "HD = pd.concat([pd.read_csv(p) for p in resp_paths])\n",
    "print(\"Loaded {} lines\".format(len(HD)))"
   ]
  },
  {
   "cell_type": "code",
   "execution_count": 15,
   "id": "9b1761cb-189f-4a27-9086-09c94a01d186",
   "metadata": {
    "execution": {
     "iopub.execute_input": "2021-06-04T00:15:10.749100Z",
     "iopub.status.busy": "2021-06-04T00:15:10.748794Z",
     "iopub.status.idle": "2021-06-04T00:15:10.762112Z",
     "shell.execute_reply": "2021-06-04T00:15:10.760992Z",
     "shell.execute_reply.started": "2021-06-04T00:15:10.749061Z"
    },
    "tags": []
   },
   "outputs": [],
   "source": [
    "C_df = HD.groupby('gameID').agg({'correct':['sum','count']})"
   ]
  },
  {
   "cell_type": "code",
   "execution_count": 21,
   "id": "9a73f101-cb64-404b-90f1-8304e7aecc78",
   "metadata": {
    "execution": {
     "iopub.execute_input": "2021-06-04T00:16:15.643984Z",
     "iopub.status.busy": "2021-06-04T00:16:15.643732Z",
     "iopub.status.idle": "2021-06-04T00:16:15.657913Z",
     "shell.execute_reply": "2021-06-04T00:16:15.657322Z",
     "shell.execute_reply.started": "2021-06-04T00:16:15.643960Z"
    },
    "tags": []
   },
   "outputs": [
    {
     "data": {
      "text/html": [
       "<div>\n",
       "<style scoped>\n",
       "    .dataframe tbody tr th:only-of-type {\n",
       "        vertical-align: middle;\n",
       "    }\n",
       "\n",
       "    .dataframe tbody tr th {\n",
       "        vertical-align: top;\n",
       "    }\n",
       "\n",
       "    .dataframe thead tr th {\n",
       "        text-align: left;\n",
       "    }\n",
       "\n",
       "    .dataframe thead tr:last-of-type th {\n",
       "        text-align: right;\n",
       "    }\n",
       "</style>\n",
       "<table border=\"1\" class=\"dataframe\">\n",
       "  <thead>\n",
       "    <tr>\n",
       "      <th></th>\n",
       "      <th colspan=\"2\" halign=\"left\">correct</th>\n",
       "      <th>ratio</th>\n",
       "    </tr>\n",
       "    <tr>\n",
       "      <th></th>\n",
       "      <th>sum</th>\n",
       "      <th>count</th>\n",
       "      <th></th>\n",
       "    </tr>\n",
       "    <tr>\n",
       "      <th>gameID</th>\n",
       "      <th></th>\n",
       "      <th></th>\n",
       "      <th></th>\n",
       "    </tr>\n",
       "  </thead>\n",
       "  <tbody>\n",
       "    <tr>\n",
       "      <th>0021-59322aef-429f-466c-b197-b375d995838e</th>\n",
       "      <td>9</td>\n",
       "      <td>10</td>\n",
       "      <td>0.9</td>\n",
       "    </tr>\n",
       "    <tr>\n",
       "      <th>0038-fa81321d-c085-4fcb-b2d3-4ae44aa6e826</th>\n",
       "      <td>8</td>\n",
       "      <td>10</td>\n",
       "      <td>0.8</td>\n",
       "    </tr>\n",
       "    <tr>\n",
       "      <th>0051-3828078d-e14d-4b92-8afa-d09b68614808</th>\n",
       "      <td>6</td>\n",
       "      <td>10</td>\n",
       "      <td>0.6</td>\n",
       "    </tr>\n",
       "    <tr>\n",
       "      <th>0079-c5d6b258-1168-4049-90e0-f7914f95c0ec</th>\n",
       "      <td>9</td>\n",
       "      <td>10</td>\n",
       "      <td>0.9</td>\n",
       "    </tr>\n",
       "    <tr>\n",
       "      <th>0095-611005d8-0573-437d-9023-485d2bb67302</th>\n",
       "      <td>4</td>\n",
       "      <td>10</td>\n",
       "      <td>0.4</td>\n",
       "    </tr>\n",
       "    <tr>\n",
       "      <th>...</th>\n",
       "      <td>...</td>\n",
       "      <td>...</td>\n",
       "      <td>...</td>\n",
       "    </tr>\n",
       "    <tr>\n",
       "      <th>9930-aa52e4be-e5e3-441a-9cb4-f1144d9e233f</th>\n",
       "      <td>3</td>\n",
       "      <td>10</td>\n",
       "      <td>0.3</td>\n",
       "    </tr>\n",
       "    <tr>\n",
       "      <th>9933-ddaf8eeb-da07-4846-8465-dbdd503bff92</th>\n",
       "      <td>8</td>\n",
       "      <td>10</td>\n",
       "      <td>0.8</td>\n",
       "    </tr>\n",
       "    <tr>\n",
       "      <th>9963-41baa68c-458f-49de-9b53-32286efdcf76</th>\n",
       "      <td>7</td>\n",
       "      <td>10</td>\n",
       "      <td>0.7</td>\n",
       "    </tr>\n",
       "    <tr>\n",
       "      <th>9972-65980fc4-2376-4d8b-b66d-d879796fbaad</th>\n",
       "      <td>9</td>\n",
       "      <td>10</td>\n",
       "      <td>0.9</td>\n",
       "    </tr>\n",
       "    <tr>\n",
       "      <th>9989-1183e00e-22c2-4441-b896-5cd8e8853704</th>\n",
       "      <td>8</td>\n",
       "      <td>10</td>\n",
       "      <td>0.8</td>\n",
       "    </tr>\n",
       "  </tbody>\n",
       "</table>\n",
       "<p>803 rows × 3 columns</p>\n",
       "</div>"
      ],
      "text/plain": [
       "                                          correct       ratio\n",
       "                                              sum count      \n",
       "gameID                                                       \n",
       "0021-59322aef-429f-466c-b197-b375d995838e       9    10   0.9\n",
       "0038-fa81321d-c085-4fcb-b2d3-4ae44aa6e826       8    10   0.8\n",
       "0051-3828078d-e14d-4b92-8afa-d09b68614808       6    10   0.6\n",
       "0079-c5d6b258-1168-4049-90e0-f7914f95c0ec       9    10   0.9\n",
       "0095-611005d8-0573-437d-9023-485d2bb67302       4    10   0.4\n",
       "...                                           ...   ...   ...\n",
       "9930-aa52e4be-e5e3-441a-9cb4-f1144d9e233f       3    10   0.3\n",
       "9933-ddaf8eeb-da07-4846-8465-dbdd503bff92       8    10   0.8\n",
       "9963-41baa68c-458f-49de-9b53-32286efdcf76       7    10   0.7\n",
       "9972-65980fc4-2376-4d8b-b66d-d879796fbaad       9    10   0.9\n",
       "9989-1183e00e-22c2-4441-b896-5cd8e8853704       8    10   0.8\n",
       "\n",
       "[803 rows x 3 columns]"
      ]
     },
     "execution_count": 21,
     "metadata": {},
     "output_type": "execute_result"
    }
   ],
   "source": [
    "C_df"
   ]
  },
  {
   "cell_type": "code",
   "execution_count": 35,
   "id": "2cb7b23a-eb32-4f3d-a9a4-90b19070298a",
   "metadata": {
    "execution": {
     "iopub.execute_input": "2021-06-04T00:22:20.664272Z",
     "iopub.status.busy": "2021-06-04T00:22:20.664025Z",
     "iopub.status.idle": "2021-06-04T00:22:20.670383Z",
     "shell.execute_reply": "2021-06-04T00:22:20.669432Z",
     "shell.execute_reply.started": "2021-06-04T00:22:20.664250Z"
    },
    "tags": []
   },
   "outputs": [],
   "source": [
    "# get ratio\n",
    "C_df['ratio'] = C_df[('correct','sum')]/C_df[('correct','count')]"
   ]
  },
  {
   "cell_type": "code",
   "execution_count": 37,
   "id": "cbd1a397-8a63-4e0e-a103-5bbd5af3edf6",
   "metadata": {
    "execution": {
     "iopub.execute_input": "2021-06-04T00:25:19.090307Z",
     "iopub.status.busy": "2021-06-04T00:25:19.089923Z",
     "iopub.status.idle": "2021-06-04T00:25:19.097706Z",
     "shell.execute_reply": "2021-06-04T00:25:19.096766Z",
     "shell.execute_reply.started": "2021-06-04T00:25:19.090273Z"
    },
    "tags": []
   },
   "outputs": [],
   "source": [
    "C_df_excluded = C_df[C_df['ratio'] <= .3]"
   ]
  },
  {
   "cell_type": "code",
   "execution_count": 38,
   "id": "dbc18004-5e07-4e2d-8b61-6bad68e0056f",
   "metadata": {
    "execution": {
     "iopub.execute_input": "2021-06-04T00:25:19.570538Z",
     "iopub.status.busy": "2021-06-04T00:25:19.570191Z",
     "iopub.status.idle": "2021-06-04T00:25:19.577568Z",
     "shell.execute_reply": "2021-06-04T00:25:19.576323Z",
     "shell.execute_reply.started": "2021-06-04T00:25:19.570507Z"
    },
    "tags": []
   },
   "outputs": [
    {
     "name": "stdout",
     "output_type": "stream",
     "text": [
      "We exclude 9 games\n"
     ]
    }
   ],
   "source": [
    "print(\"We exclude {} games\".format(len(C_df_excluded)))"
   ]
  },
  {
   "cell_type": "code",
   "execution_count": 45,
   "id": "1d98a441-b7ee-495f-82a6-1acccf6e73fa",
   "metadata": {
    "execution": {
     "iopub.execute_input": "2021-06-04T00:27:29.062957Z",
     "iopub.status.busy": "2021-06-04T00:27:29.062688Z",
     "iopub.status.idle": "2021-06-04T00:27:29.074806Z",
     "shell.execute_reply": "2021-06-04T00:27:29.073691Z",
     "shell.execute_reply.started": "2021-06-04T00:27:29.062934Z"
    },
    "tags": []
   },
   "outputs": [
    {
     "data": {
      "text/html": [
       "<div>\n",
       "<style scoped>\n",
       "    .dataframe tbody tr th:only-of-type {\n",
       "        vertical-align: middle;\n",
       "    }\n",
       "\n",
       "    .dataframe tbody tr th {\n",
       "        vertical-align: top;\n",
       "    }\n",
       "\n",
       "    .dataframe thead tr th {\n",
       "        text-align: left;\n",
       "    }\n",
       "\n",
       "    .dataframe thead tr:last-of-type th {\n",
       "        text-align: right;\n",
       "    }\n",
       "</style>\n",
       "<table border=\"1\" class=\"dataframe\">\n",
       "  <thead>\n",
       "    <tr>\n",
       "      <th></th>\n",
       "      <th colspan=\"2\" halign=\"left\">correct</th>\n",
       "      <th>ratio</th>\n",
       "    </tr>\n",
       "    <tr>\n",
       "      <th></th>\n",
       "      <th>sum</th>\n",
       "      <th>count</th>\n",
       "      <th></th>\n",
       "    </tr>\n",
       "    <tr>\n",
       "      <th>gameID</th>\n",
       "      <th></th>\n",
       "      <th></th>\n",
       "      <th></th>\n",
       "    </tr>\n",
       "  </thead>\n",
       "  <tbody>\n",
       "    <tr>\n",
       "      <th>0720-d5f527dc-d86a-4d88-af8f-b70ac9264fef</th>\n",
       "      <td>3</td>\n",
       "      <td>10</td>\n",
       "      <td>0.3</td>\n",
       "    </tr>\n",
       "    <tr>\n",
       "      <th>1685-8963fea0-0d21-454b-8bbe-e9cbc792aa11</th>\n",
       "      <td>3</td>\n",
       "      <td>10</td>\n",
       "      <td>0.3</td>\n",
       "    </tr>\n",
       "    <tr>\n",
       "      <th>4917-538725a5-383f-462b-9ab7-43b9473c9dcc</th>\n",
       "      <td>3</td>\n",
       "      <td>10</td>\n",
       "      <td>0.3</td>\n",
       "    </tr>\n",
       "    <tr>\n",
       "      <th>7411-987b0a97-8a67-41a3-a3d8-d8f792c35ab5</th>\n",
       "      <td>3</td>\n",
       "      <td>10</td>\n",
       "      <td>0.3</td>\n",
       "    </tr>\n",
       "    <tr>\n",
       "      <th>8383-e0582a4e-6498-4d91-bb29-2b6a363cc2e9</th>\n",
       "      <td>3</td>\n",
       "      <td>10</td>\n",
       "      <td>0.3</td>\n",
       "    </tr>\n",
       "    <tr>\n",
       "      <th>8731-67e86658-28ff-4cc6-b722-9620e3b3ce43</th>\n",
       "      <td>3</td>\n",
       "      <td>10</td>\n",
       "      <td>0.3</td>\n",
       "    </tr>\n",
       "    <tr>\n",
       "      <th>9784-7a67e88b-0416-4b55-8a72-9a0d99038c49</th>\n",
       "      <td>3</td>\n",
       "      <td>10</td>\n",
       "      <td>0.3</td>\n",
       "    </tr>\n",
       "    <tr>\n",
       "      <th>9808-e983d3b8-75c3-428a-8182-f57fd645abb1</th>\n",
       "      <td>3</td>\n",
       "      <td>10</td>\n",
       "      <td>0.3</td>\n",
       "    </tr>\n",
       "    <tr>\n",
       "      <th>9930-aa52e4be-e5e3-441a-9cb4-f1144d9e233f</th>\n",
       "      <td>3</td>\n",
       "      <td>10</td>\n",
       "      <td>0.3</td>\n",
       "    </tr>\n",
       "  </tbody>\n",
       "</table>\n",
       "</div>"
      ],
      "text/plain": [
       "                                          correct       ratio\n",
       "                                              sum count      \n",
       "gameID                                                       \n",
       "0720-d5f527dc-d86a-4d88-af8f-b70ac9264fef       3    10   0.3\n",
       "1685-8963fea0-0d21-454b-8bbe-e9cbc792aa11       3    10   0.3\n",
       "4917-538725a5-383f-462b-9ab7-43b9473c9dcc       3    10   0.3\n",
       "7411-987b0a97-8a67-41a3-a3d8-d8f792c35ab5       3    10   0.3\n",
       "8383-e0582a4e-6498-4d91-bb29-2b6a363cc2e9       3    10   0.3\n",
       "8731-67e86658-28ff-4cc6-b722-9620e3b3ce43       3    10   0.3\n",
       "9784-7a67e88b-0416-4b55-8a72-9a0d99038c49       3    10   0.3\n",
       "9808-e983d3b8-75c3-428a-8182-f57fd645abb1       3    10   0.3\n",
       "9930-aa52e4be-e5e3-441a-9cb4-f1144d9e233f       3    10   0.3"
      ]
     },
     "execution_count": 45,
     "metadata": {},
     "output_type": "execute_result"
    }
   ],
   "source": [
    "C_df_excluded"
   ]
  },
  {
   "cell_type": "code",
   "execution_count": 44,
   "id": "4606b083-a0cf-4c3a-9c30-13ce60d0e7eb",
   "metadata": {
    "execution": {
     "iopub.execute_input": "2021-06-04T00:27:11.108023Z",
     "iopub.status.busy": "2021-06-04T00:27:11.107755Z",
     "iopub.status.idle": "2021-06-04T00:27:11.113487Z",
     "shell.execute_reply": "2021-06-04T00:27:11.112707Z",
     "shell.execute_reply.started": "2021-06-04T00:27:11.108001Z"
    },
    "tags": []
   },
   "outputs": [],
   "source": [
    "# Save out to file\n",
    "pd.DataFrame(C_df_excluded.index).to_csv(os.path.join(csv_dir,\"humans/excluded_games.csv\"))"
   ]
  },
  {
   "cell_type": "code",
   "execution_count": null,
   "id": "19c628c1-3033-40d4-901c-524ced2fcdd9",
   "metadata": {},
   "outputs": [],
   "source": []
  }
 ],
 "metadata": {
  "kernelspec": {
   "display_name": "Python [conda env:tdw]",
   "language": "python",
   "name": "conda-env-tdw-py"
  },
  "language_info": {
   "codemirror_mode": {
    "name": "ipython",
    "version": 3
   },
   "file_extension": ".py",
   "mimetype": "text/x-python",
   "name": "python",
   "nbconvert_exporter": "python",
   "pygments_lexer": "ipython3",
   "version": "3.9.2"
  },
  "widgets": {
   "application/vnd.jupyter.widget-state+json": {
    "state": {},
    "version_major": 2,
    "version_minor": 0
   }
  }
 },
 "nbformat": 4,
 "nbformat_minor": 5
}
