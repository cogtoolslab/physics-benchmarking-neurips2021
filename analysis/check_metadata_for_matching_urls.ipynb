{
 "cells": [
  {
   "cell_type": "markdown",
   "id": "ecf3b8f8-e11f-4e26-8ca0-df6f3460d121",
   "metadata": {},
   "source": [
    "# Check experiments for mismatching stims\n",
    "Ensure that all urls match each other. Pass in an `*_experiment.json` file."
   ]
  },
  {
   "cell_type": "code",
   "execution_count": null,
   "id": "2d7f6eed-f905-4f1e-97ce-b12b430c492c",
   "metadata": {
    "tags": []
   },
   "outputs": [],
   "source": [
    "import pandas as pd"
   ]
  },
  {
   "cell_type": "code",
   "execution_count": null,
   "id": "ee35203f-4a70-41a4-9199-05d1c7ee369a",
   "metadata": {
    "tags": []
   },
   "outputs": [],
   "source": [
    "def name_from_url(name: str,end = -1):\n",
    "    return \"_\".join(name.split(\"/\")[-1].split(\"_\")[:end])"
   ]
  },
  {
   "cell_type": "code",
   "execution_count": null,
   "id": "62b6a39b-4a40-42ce-a840-adc8a68471c5",
   "metadata": {
    "tags": []
   },
   "outputs": [],
   "source": [
    "def check_entry(e: dict):\n",
    "    name = \"_\".join(e['stim_ID'].split(\"_\")[:-1])\n",
    "    return name == name_from_url(e['stim_url']) == name_from_url(e['map_url'])"
   ]
  },
  {
   "cell_type": "code",
   "execution_count": null,
   "id": "093e2b64-fc33-4bd0-ab2c-076d47117741",
   "metadata": {
    "tags": []
   },
   "outputs": [],
   "source": [
    "dfe = pd.read_json(\"XXX\")"
   ]
  },
  {
   "cell_type": "code",
   "execution_count": null,
   "id": "9a8005ab-0a81-4665-9f4b-1e1d8179204a",
   "metadata": {
    "tags": []
   },
   "outputs": [],
   "source": [
    "all_good = True\n",
    "for row, content in dfe.items():\n",
    "    for entry in content:\n",
    "        if not check_entry(entry):\n",
    "            all_good = False\n",
    "            print(\"Mismatch in\",row)\n",
    "            \n",
    "if all_good: print(\"All urls are matching\")\n",
    "else: print(\"Not all urls are matching!\")"
   ]
  }
 ],
 "metadata": {
  "kernelspec": {
   "display_name": "Python [conda env:root] *",
   "language": "python",
   "name": "conda-root-py"
  },
  "language_info": {
   "codemirror_mode": {
    "name": "ipython",
    "version": 3
   },
   "file_extension": ".py",
   "mimetype": "text/x-python",
   "name": "python",
   "nbconvert_exporter": "python",
   "pygments_lexer": "ipython3",
   "version": "3.7.7"
  },
  "widgets": {
   "application/vnd.jupyter.widget-state+json": {
    "state": {
     "011979e42d684187be6eeaffdf538b0d": {
      "model_module": "@jupyter-widgets/base",
      "model_module_version": "1.2.0",
      "model_name": "LayoutModel",
      "state": {}
     },
     "0a9b2a6c3ab44443b4a3769fc4102bda": {
      "model_module": "@jupyter-widgets/controls",
      "model_module_version": "1.5.0",
      "model_name": "DescriptionStyleModel",
      "state": {
       "description_width": ""
      }
     },
     "0b98a2582e544f5c8248ca16739fd33d": {
      "model_module": "@jupyter-widgets/controls",
      "model_module_version": "1.5.0",
      "model_name": "FloatProgressModel",
      "state": {
       "bar_style": "success",
       "layout": "IPY_MODEL_7d305f623cb848b78857ed812de47610",
       "max": 1,
       "style": "IPY_MODEL_9f28c140232b4ba6893b84cfcefe88b0",
       "value": 1
      }
     },
     "0ca1d4a495054840bad88504b8796d9a": {
      "model_module": "@jupyter-widgets/controls",
      "model_module_version": "1.5.0",
      "model_name": "DescriptionStyleModel",
      "state": {
       "description_width": ""
      }
     },
     "0cf0ead9e0cc473bb51761ab362e5882": {
      "model_module": "@jupyter-widgets/controls",
      "model_module_version": "1.5.0",
      "model_name": "HTMLModel",
      "state": {
       "layout": "IPY_MODEL_26bf2d74eaf2476c82795943de265354",
       "style": "IPY_MODEL_c944ffbd288242afb67bdae4d050cf3a"
      }
     },
     "1b22f26817994964959aff328d801798": {
      "model_module": "@jupyter-widgets/base",
      "model_module_version": "1.2.0",
      "model_name": "LayoutModel",
      "state": {}
     },
     "22ac76fe4e5240bf930727883df4633f": {
      "model_module": "@jupyter-widgets/base",
      "model_module_version": "1.2.0",
      "model_name": "LayoutModel",
      "state": {
       "width": "20px"
      }
     },
     "26bf2d74eaf2476c82795943de265354": {
      "model_module": "@jupyter-widgets/base",
      "model_module_version": "1.2.0",
      "model_name": "LayoutModel",
      "state": {}
     },
     "27a332ac55d5490888f017c27b1d6772": {
      "model_module": "@jupyter-widgets/controls",
      "model_module_version": "1.5.0",
      "model_name": "HBoxModel",
      "state": {
       "children": [
        "IPY_MODEL_6b660eababf54efd9be60a8f655918d5",
        "IPY_MODEL_0b98a2582e544f5c8248ca16739fd33d",
        "IPY_MODEL_e258e066b18749c8a0bdc414ae0e71f3"
       ],
       "layout": "IPY_MODEL_64f8e511d15846dba57796fa32eb2dca"
      }
     },
     "2b6fd5b26bf94450a2da820d713e8fcc": {
      "model_module": "@jupyter-widgets/base",
      "model_module_version": "1.2.0",
      "model_name": "LayoutModel",
      "state": {}
     },
     "3cbd8b8261a1434588597a63c1bb2645": {
      "model_module": "@jupyter-widgets/base",
      "model_module_version": "1.2.0",
      "model_name": "LayoutModel",
      "state": {}
     },
     "3eaf640d30034f1082dbb2369f5f8b20": {
      "model_module": "@jupyter-widgets/base",
      "model_module_version": "1.2.0",
      "model_name": "LayoutModel",
      "state": {}
     },
     "47e455f2ab444bdd8de436c9c4d2b838": {
      "model_module": "@jupyter-widgets/base",
      "model_module_version": "1.2.0",
      "model_name": "LayoutModel",
      "state": {}
     },
     "528938522f7c4e48b560a0c622394eeb": {
      "model_module": "@jupyter-widgets/controls",
      "model_module_version": "1.5.0",
      "model_name": "HTMLModel",
      "state": {
       "layout": "IPY_MODEL_1b22f26817994964959aff328d801798",
       "style": "IPY_MODEL_0ca1d4a495054840bad88504b8796d9a",
       "value": " 150/? [00:00&lt;00:00, 3754.03it/s]"
      }
     },
     "5d92db798e504d6eb27fd891071970c8": {
      "model_module": "@jupyter-widgets/controls",
      "model_module_version": "1.5.0",
      "model_name": "HTMLModel",
      "state": {
       "layout": "IPY_MODEL_47e455f2ab444bdd8de436c9c4d2b838",
       "style": "IPY_MODEL_cfec53a20704489d9e345c8a964ccb5a"
      }
     },
     "64f8e511d15846dba57796fa32eb2dca": {
      "model_module": "@jupyter-widgets/base",
      "model_module_version": "1.2.0",
      "model_name": "LayoutModel",
      "state": {}
     },
     "6612b56a616e4d858b65920b3a06a00c": {
      "model_module": "@jupyter-widgets/base",
      "model_module_version": "1.2.0",
      "model_name": "LayoutModel",
      "state": {}
     },
     "6b660eababf54efd9be60a8f655918d5": {
      "model_module": "@jupyter-widgets/controls",
      "model_module_version": "1.5.0",
      "model_name": "HTMLModel",
      "state": {
       "layout": "IPY_MODEL_2b6fd5b26bf94450a2da820d713e8fcc",
       "style": "IPY_MODEL_963f9d3bc005499a86626bd863a17c3c"
      }
     },
     "768abb1585f54ab9bbdc67eaf826d3b2": {
      "model_module": "@jupyter-widgets/controls",
      "model_module_version": "1.5.0",
      "model_name": "FloatProgressModel",
      "state": {
       "bar_style": "success",
       "layout": "IPY_MODEL_a08345632c9a4feb8737f2c15e8957b2",
       "max": 1,
       "style": "IPY_MODEL_eef6efb252ab4ee1b16b8d6b1355bef0",
       "value": 1
      }
     },
     "7d305f623cb848b78857ed812de47610": {
      "model_module": "@jupyter-widgets/base",
      "model_module_version": "1.2.0",
      "model_name": "LayoutModel",
      "state": {
       "width": "20px"
      }
     },
     "807e8f7855d64939abd76c28c9033067": {
      "model_module": "@jupyter-widgets/controls",
      "model_module_version": "1.5.0",
      "model_name": "HBoxModel",
      "state": {
       "children": [
        "IPY_MODEL_0cf0ead9e0cc473bb51761ab362e5882",
        "IPY_MODEL_ca2609d352684088bf84d4431bbf74d5",
        "IPY_MODEL_c31a375477e54b5b9110436fa71a96ae"
       ],
       "layout": "IPY_MODEL_011979e42d684187be6eeaffdf538b0d"
      }
     },
     "81cd7a045d4c4fa28a5d7cdb68f4d499": {
      "model_module": "@jupyter-widgets/base",
      "model_module_version": "1.2.0",
      "model_name": "LayoutModel",
      "state": {}
     },
     "886472fce94c477b9c4e0ee87ecb25c2": {
      "model_module": "@jupyter-widgets/base",
      "model_module_version": "1.2.0",
      "model_name": "LayoutModel",
      "state": {}
     },
     "8ac6816732da4b8fae586f6fc663672a": {
      "model_module": "@jupyter-widgets/base",
      "model_module_version": "1.2.0",
      "model_name": "LayoutModel",
      "state": {}
     },
     "8b32fa106cbc4e57a997ea61823416c8": {
      "model_module": "@jupyter-widgets/controls",
      "model_module_version": "1.5.0",
      "model_name": "DescriptionStyleModel",
      "state": {
       "description_width": ""
      }
     },
     "963f9d3bc005499a86626bd863a17c3c": {
      "model_module": "@jupyter-widgets/controls",
      "model_module_version": "1.5.0",
      "model_name": "DescriptionStyleModel",
      "state": {
       "description_width": ""
      }
     },
     "9c0ec81385954ff2a5c7c19b650ae9eb": {
      "model_module": "@jupyter-widgets/controls",
      "model_module_version": "1.5.0",
      "model_name": "FloatProgressModel",
      "state": {
       "bar_style": "success",
       "layout": "IPY_MODEL_dda0d6240a4148449aafad9b18380778",
       "max": 1,
       "style": "IPY_MODEL_b8fac8ff30244743bafdd939879c1c08",
       "value": 1
      }
     },
     "9f28c140232b4ba6893b84cfcefe88b0": {
      "model_module": "@jupyter-widgets/controls",
      "model_module_version": "1.5.0",
      "model_name": "ProgressStyleModel",
      "state": {
       "description_width": ""
      }
     },
     "a08345632c9a4feb8737f2c15e8957b2": {
      "model_module": "@jupyter-widgets/base",
      "model_module_version": "1.2.0",
      "model_name": "LayoutModel",
      "state": {
       "width": "20px"
      }
     },
     "a973d7952cd344e38e2ba57e39610add": {
      "model_module": "@jupyter-widgets/controls",
      "model_module_version": "1.5.0",
      "model_name": "HTMLModel",
      "state": {
       "layout": "IPY_MODEL_8ac6816732da4b8fae586f6fc663672a",
       "style": "IPY_MODEL_8b32fa106cbc4e57a997ea61823416c8"
      }
     },
     "b8fac8ff30244743bafdd939879c1c08": {
      "model_module": "@jupyter-widgets/controls",
      "model_module_version": "1.5.0",
      "model_name": "ProgressStyleModel",
      "state": {
       "description_width": ""
      }
     },
     "c1733280f5e44a7e80c49fb266a51662": {
      "model_module": "@jupyter-widgets/controls",
      "model_module_version": "1.5.0",
      "model_name": "HTMLModel",
      "state": {
       "layout": "IPY_MODEL_886472fce94c477b9c4e0ee87ecb25c2",
       "style": "IPY_MODEL_0a9b2a6c3ab44443b4a3769fc4102bda",
       "value": " 150/? [00:00&lt;00:00, 155.22it/s]"
      }
     },
     "c31a375477e54b5b9110436fa71a96ae": {
      "model_module": "@jupyter-widgets/controls",
      "model_module_version": "1.5.0",
      "model_name": "HTMLModel",
      "state": {
       "layout": "IPY_MODEL_3cbd8b8261a1434588597a63c1bb2645",
       "style": "IPY_MODEL_cbc4f4328c604c62814f757f36c2f3f7",
       "value": " 150/? [00:00&lt;00:00, 1088.02it/s]"
      }
     },
     "c944ffbd288242afb67bdae4d050cf3a": {
      "model_module": "@jupyter-widgets/controls",
      "model_module_version": "1.5.0",
      "model_name": "DescriptionStyleModel",
      "state": {
       "description_width": ""
      }
     },
     "ca2609d352684088bf84d4431bbf74d5": {
      "model_module": "@jupyter-widgets/controls",
      "model_module_version": "1.5.0",
      "model_name": "FloatProgressModel",
      "state": {
       "bar_style": "success",
       "layout": "IPY_MODEL_22ac76fe4e5240bf930727883df4633f",
       "max": 1,
       "style": "IPY_MODEL_d046c8a97df0429b9e3cd5269fdadeaa",
       "value": 1
      }
     },
     "cbc4f4328c604c62814f757f36c2f3f7": {
      "model_module": "@jupyter-widgets/controls",
      "model_module_version": "1.5.0",
      "model_name": "DescriptionStyleModel",
      "state": {
       "description_width": ""
      }
     },
     "cdc8ad8c3b204d07911199114c361705": {
      "model_module": "@jupyter-widgets/controls",
      "model_module_version": "1.5.0",
      "model_name": "DescriptionStyleModel",
      "state": {
       "description_width": ""
      }
     },
     "cfec53a20704489d9e345c8a964ccb5a": {
      "model_module": "@jupyter-widgets/controls",
      "model_module_version": "1.5.0",
      "model_name": "DescriptionStyleModel",
      "state": {
       "description_width": ""
      }
     },
     "d046c8a97df0429b9e3cd5269fdadeaa": {
      "model_module": "@jupyter-widgets/controls",
      "model_module_version": "1.5.0",
      "model_name": "ProgressStyleModel",
      "state": {
       "description_width": ""
      }
     },
     "dd4d99d5807544929dbea33515646745": {
      "model_module": "@jupyter-widgets/controls",
      "model_module_version": "1.5.0",
      "model_name": "HBoxModel",
      "state": {
       "children": [
        "IPY_MODEL_a973d7952cd344e38e2ba57e39610add",
        "IPY_MODEL_768abb1585f54ab9bbdc67eaf826d3b2",
        "IPY_MODEL_c1733280f5e44a7e80c49fb266a51662"
       ],
       "layout": "IPY_MODEL_6612b56a616e4d858b65920b3a06a00c"
      }
     },
     "dda0d6240a4148449aafad9b18380778": {
      "model_module": "@jupyter-widgets/base",
      "model_module_version": "1.2.0",
      "model_name": "LayoutModel",
      "state": {
       "width": "20px"
      }
     },
     "e185b1b2533144b4b3c5739215460de4": {
      "model_module": "@jupyter-widgets/controls",
      "model_module_version": "1.5.0",
      "model_name": "HBoxModel",
      "state": {
       "children": [
        "IPY_MODEL_5d92db798e504d6eb27fd891071970c8",
        "IPY_MODEL_9c0ec81385954ff2a5c7c19b650ae9eb",
        "IPY_MODEL_528938522f7c4e48b560a0c622394eeb"
       ],
       "layout": "IPY_MODEL_3eaf640d30034f1082dbb2369f5f8b20"
      }
     },
     "e258e066b18749c8a0bdc414ae0e71f3": {
      "model_module": "@jupyter-widgets/controls",
      "model_module_version": "1.5.0",
      "model_name": "HTMLModel",
      "state": {
       "layout": "IPY_MODEL_81cd7a045d4c4fa28a5d7cdb68f4d499",
       "style": "IPY_MODEL_cdc8ad8c3b204d07911199114c361705",
       "value": " 150/? [00:00&lt;00:00, 448.74it/s]"
      }
     },
     "eef6efb252ab4ee1b16b8d6b1355bef0": {
      "model_module": "@jupyter-widgets/controls",
      "model_module_version": "1.5.0",
      "model_name": "ProgressStyleModel",
      "state": {
       "description_width": ""
      }
     }
    },
    "version_major": 2,
    "version_minor": 0
   }
  }
 },
 "nbformat": 4,
 "nbformat_minor": 5
}
