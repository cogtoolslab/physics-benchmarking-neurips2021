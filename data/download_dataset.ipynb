{
 "cells": [
  {
   "cell_type": "markdown",
   "metadata": {},
   "source": [
    "## Use this notebook to customize and monitor your dataset download"
   ]
  },
  {
   "cell_type": "markdown",
   "metadata": {},
   "source": [
    "8 possible scenarios are: \n",
    "- 'Dominoes'\n",
    "- 'Support'\n",
    "- 'Collide'\n",
    "- 'Contain'\n",
    "- 'Drop'\n",
    "- 'Link'\n",
    "- 'Roll'\n",
    "- 'Drape'\n",
    "\n",
    "Each scenario has 3 dataset types \n",
    "1. Dynamics Training Set\n",
    "2. Readout Training Set\n",
    "3. Readout Testing Set\n",
    "\n",
    "\n",
    "All the downloads will be saved in this `./data` folder, following this structure:\n",
    "- physion_train\n",
    "    - dynamics_training\n",
    "      - Dominoes\n",
    "        - Individual hdf5s for each example\n",
    "      - Drop\n",
    "      - ...\n",
    "  - readout_training\n",
    "  - readout_test\n"
   ]
  },
  {
   "cell_type": "code",
   "execution_count": null,
   "metadata": {},
   "outputs": [],
   "source": [
    "from download_helper import download_file"
   ]
  },
  {
   "cell_type": "code",
   "execution_count": null,
   "metadata": {},
   "outputs": [],
   "source": [
    "# choose scenarios in ['Dominoes', 'Support', 'Collide', 'Contain', 'Drop', 'Link', 'Roll', 'Drape']\n",
    "# choose dataset types in [' dynamics_training', 'readout_training','readout_test']\n",
    "\n",
    "# example\n",
    "download_file(scenarios=['Dominoes', 'Support'], types=[\n",
    "              'dynamics_training', 'readout_test']) \n"
   ]
  },
  {
   "cell_type": "code",
   "execution_count": null,
   "metadata": {},
   "outputs": [],
   "source": []
  }
 ],
 "metadata": {
  "interpreter": {
   "hash": "51451fb965bca5ca736f6eb36642b31b5a5ecde49a9b52fab42c7c140c00e449"
  },
  "kernelspec": {
   "display_name": "Python 3.10.4 64-bit",
   "language": "python",
   "name": "python3"
  },
  "language_info": {
   "codemirror_mode": {
    "name": "ipython",
    "version": 3
   },
   "file_extension": ".py",
   "mimetype": "text/x-python",
   "name": "python",
   "nbconvert_exporter": "python",
   "pygments_lexer": "ipython3",
   "version": "3.10.4"
  },
  "orig_nbformat": 4
 },
 "nbformat": 4,
 "nbformat_minor": 2
}
