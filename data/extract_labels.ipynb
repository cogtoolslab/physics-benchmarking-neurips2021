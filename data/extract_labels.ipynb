{
 "cells": [
  {
   "cell_type": "markdown",
   "id": "f7f18e2a-5999-4865-9adc-b7c36c18ce32",
   "metadata": {
    "tags": []
   },
   "source": [
    "### Extracts ground truth labels from HDF5 files"
   ]
  },
  {
   "cell_type": "code",
   "execution_count": null,
   "id": "d78202dd-a677-4dfc-87cd-4f25dc409793",
   "metadata": {},
   "outputs": [],
   "source": [
    "import os\n",
    "import csv\n",
    "import h5py\n",
    "from glob import glob\n",
    "from tqdm import tqdm"
   ]
  },
  {
   "cell_type": "code",
   "execution_count": null,
   "id": "a9f51853-a53b-4556-9c82-a28a97eff783",
   "metadata": {},
   "outputs": [],
   "source": [
    "DATA_PATH = '/data5/eliwang/physion_data/readout_train_redyellow' # change this to appropriate local dir \n",
    "FILE_PATTERN = '*/*.hdf5' # corresponds to file structure: [DATA_PATH]/[SCENARIO]/[STIM_NAME].hdf5\n",
    "OUTPUT_FILENAME = 'readout_labels.csv'\n",
    "HEADER = [None, 'ground truth outcome']"
   ]
  },
  {
   "cell_type": "code",
   "execution_count": null,
   "id": "914df0c9-d1f7-4b4b-a2dc-ac87b4762684",
   "metadata": {
    "tags": []
   },
   "outputs": [],
   "source": [
    "with open(OUTPUT_FILENAME, 'w', newline='') as csvfile:\n",
    "    writer = csv.writer(csvfile)\n",
    "    writer.writerow(HEADER)\n",
    "    \n",
    "    files = sorted(glob(os.path.join(DATA_PATH, FILE_PATTERN))) # readout training hdf5 filepaths\n",
    "    for file in tqdm(files, desc='Extracting labels: '):\n",
    "        stim_name = os.path.splitext(os.path.basename(file))[0] # extract filename without extension\n",
    "        with h5py.File(file, 'r') as f:\n",
    "            label = any([frame['labels']['target_contacting_zone'][()] for frame in f['frames'].values()])\n",
    "            \n",
    "        writer.writerow([stim_name, label])"
   ]
  },
  {
   "cell_type": "code",
   "execution_count": null,
   "id": "111e5bad-4985-48f9-8614-13f3623ba108",
   "metadata": {},
   "outputs": [],
   "source": []
  }
 ],
 "metadata": {
  "kernelspec": {
   "display_name": "Python 3 (ipykernel)",
   "language": "python",
   "name": "python3"
  },
  "language_info": {
   "codemirror_mode": {
    "name": "ipython",
    "version": 3
   },
   "file_extension": ".py",
   "mimetype": "text/x-python",
   "name": "python",
   "nbconvert_exporter": "python",
   "pygments_lexer": "ipython3",
   "version": "3.7.5"
  }
 },
 "nbformat": 4,
 "nbformat_minor": 5
}
